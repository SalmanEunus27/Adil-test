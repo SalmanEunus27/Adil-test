{
  "nbformat": 4,
  "nbformat_minor": 0,
  "metadata": {
    "kernelspec": {
      "language": "python",
      "display_name": "Python 3",
      "name": "python3"
    },
    "language_info": {
      "name": "python",
      "version": "3.7.10",
      "mimetype": "text/x-python",
      "codemirror_mode": {
        "name": "ipython",
        "version": 3
      },
      "pygments_lexer": "ipython3",
      "nbconvert_exporter": "python",
      "file_extension": ".py"
    },
    "colab": {
      "name": "bangla-news-article-classification-v2.ipynb",
      "provenance": [],
      "include_colab_link": true
    }
  },
  "cells": [
    {
      "cell_type": "markdown",
      "metadata": {
        "id": "view-in-github",
        "colab_type": "text"
      },
      "source": [
        "<a href=\"https://colab.research.google.com/github/SalmanEunus27/Adil-test/blob/master/bangla_news_article_classification_v2.ipynb\" target=\"_parent\"><img src=\"https://colab.research.google.com/assets/colab-badge.svg\" alt=\"Open In Colab\"/></a>"
      ]
    },
    {
      "cell_type": "markdown",
      "metadata": {
        "id": "Og7ifeZR5hs-"
      },
      "source": [
        "# Exploratory Data Analysis"
      ]
    },
    {
      "cell_type": "code",
      "metadata": {
        "colab": {
          "base_uri": "https://localhost:8080/"
        },
        "id": "59KY8djb5xVT",
        "outputId": "e7855aa6-8f2d-4d43-96d6-c5d6466fd6c9"
      },
      "source": [
        "{\"username\":\"Your username\",\"key\":\"2f4997fa1d8e4f56ad8eb7659aaf1c31\"}"
      ],
      "execution_count": 1,
      "outputs": [
        {
          "output_type": "execute_result",
          "data": {
            "text/plain": [
              "{'key': '2f4997fa1d8e4f56ad8eb7659aaf1c31', 'username': 'Your username'}"
            ]
          },
          "metadata": {},
          "execution_count": 1
        }
      ]
    },
    {
      "cell_type": "code",
      "metadata": {
        "colab": {
          "base_uri": "https://localhost:8080/"
        },
        "id": "VbH1JvGQ7CJn",
        "outputId": "3269212c-f745-4707-82ad-0992e1eacdb1"
      },
      "source": [
        "!pip install kaggle"
      ],
      "execution_count": 2,
      "outputs": [
        {
          "output_type": "stream",
          "name": "stdout",
          "text": [
            "Requirement already satisfied: kaggle in /usr/local/lib/python3.7/dist-packages (1.5.12)\n",
            "Requirement already satisfied: certifi in /usr/local/lib/python3.7/dist-packages (from kaggle) (2021.5.30)\n",
            "Requirement already satisfied: requests in /usr/local/lib/python3.7/dist-packages (from kaggle) (2.23.0)\n",
            "Requirement already satisfied: six>=1.10 in /usr/local/lib/python3.7/dist-packages (from kaggle) (1.15.0)\n",
            "Requirement already satisfied: tqdm in /usr/local/lib/python3.7/dist-packages (from kaggle) (4.62.3)\n",
            "Requirement already satisfied: urllib3 in /usr/local/lib/python3.7/dist-packages (from kaggle) (1.24.3)\n",
            "Requirement already satisfied: python-dateutil in /usr/local/lib/python3.7/dist-packages (from kaggle) (2.8.2)\n",
            "Requirement already satisfied: python-slugify in /usr/local/lib/python3.7/dist-packages (from kaggle) (5.0.2)\n",
            "Requirement already satisfied: text-unidecode>=1.3 in /usr/local/lib/python3.7/dist-packages (from python-slugify->kaggle) (1.3)\n",
            "Requirement already satisfied: chardet<4,>=3.0.2 in /usr/local/lib/python3.7/dist-packages (from requests->kaggle) (3.0.4)\n",
            "Requirement already satisfied: idna<3,>=2.5 in /usr/local/lib/python3.7/dist-packages (from requests->kaggle) (2.10)\n"
          ]
        }
      ]
    },
    {
      "cell_type": "code",
      "metadata": {
        "id": "ikeNl3RZ7Ys9"
      },
      "source": [
        "!mkdir -p ~/.kaggle\n",
        "!cp kaggle.json ~/.kaggle/\n",
        "# change the permission of the file\n",
        "!chmod 600 ~/.kaggle/kaggle.json"
      ],
      "execution_count": 3,
      "outputs": []
    },
    {
      "cell_type": "code",
      "metadata": {
        "colab": {
          "base_uri": "https://localhost:8080/"
        },
        "id": "fs8CmMIg7ns6",
        "outputId": "9a7441a6-44af-4c78-e70d-cf57a5b50238"
      },
      "source": [
        "!kaggle datasets download -d gakowsher/banglamct7-bangla-multiclass-text-dataset-7-tags"
      ],
      "execution_count": 4,
      "outputs": [
        {
          "output_type": "stream",
          "name": "stdout",
          "text": [
            "banglamct7-bangla-multiclass-text-dataset-7-tags.zip: Skipping, found more recently modified local copy (use --force to force download)\n"
          ]
        }
      ]
    },
    {
      "cell_type": "code",
      "metadata": {
        "id": "YUm2TQJd8oDG"
      },
      "source": [
        "import zipfile\n",
        "with zipfile.ZipFile(\"/content/banglamct7-bangla-multiclass-text-dataset-7-tags.zip\", 'r') as zip_ref:\n",
        "    zip_ref.extractall(\"/content/sample_data\")"
      ],
      "execution_count": 5,
      "outputs": []
    },
    {
      "cell_type": "code",
      "metadata": {
        "execution": {
          "iopub.status.busy": "2021-10-19T16:59:18.931492Z",
          "iopub.execute_input": "2021-10-19T16:59:18.932192Z",
          "iopub.status.idle": "2021-10-19T16:59:19.229078Z",
          "shell.execute_reply.started": "2021-10-19T16:59:18.932093Z",
          "shell.execute_reply": "2021-10-19T16:59:19.228391Z"
        },
        "trusted": true,
        "id": "oRGXXdSt5htJ"
      },
      "source": [
        "import pandas as pd\n",
        "import numpy as np\n",
        "import matplotlib.pyplot as plt\n",
        "%matplotlib inline\n",
        "import seaborn as sns"
      ],
      "execution_count": 6,
      "outputs": []
    },
    {
      "cell_type": "code",
      "metadata": {
        "execution": {
          "iopub.status.busy": "2021-10-19T16:59:19.233575Z",
          "iopub.execute_input": "2021-10-19T16:59:19.234211Z",
          "iopub.status.idle": "2021-10-19T16:59:41.013633Z",
          "shell.execute_reply.started": "2021-10-19T16:59:19.234171Z",
          "shell.execute_reply": "2021-10-19T16:59:41.012693Z"
        },
        "trusted": true,
        "id": "smirjdLb5htM"
      },
      "source": [
        "bangla_train = pd.read_csv(\"/content/sample_data/BanglaMCT7/train.csv\")\n",
        "bangla_test = pd.read_csv(\"/content/sample_data/BanglaMCT7/test.csv\")"
      ],
      "execution_count": 7,
      "outputs": []
    },
    {
      "cell_type": "code",
      "metadata": {
        "execution": {
          "iopub.status.busy": "2021-10-19T16:59:41.014926Z",
          "iopub.execute_input": "2021-10-19T16:59:41.015240Z",
          "iopub.status.idle": "2021-10-19T16:59:41.035153Z",
          "shell.execute_reply.started": "2021-10-19T16:59:41.015200Z",
          "shell.execute_reply": "2021-10-19T16:59:41.034235Z"
        },
        "trusted": true,
        "colab": {
          "base_uri": "https://localhost:8080/",
          "height": 677
        },
        "id": "3qll9UZk5htN",
        "outputId": "237bdd8e-ec70-4e1b-9f37-5c7680fd3f6c"
      },
      "source": [
        "bangla_train.head(20)"
      ],
      "execution_count": 8,
      "outputs": [
        {
          "output_type": "execute_result",
          "data": {
            "text/html": [
              "<div>\n",
              "<style scoped>\n",
              "    .dataframe tbody tr th:only-of-type {\n",
              "        vertical-align: middle;\n",
              "    }\n",
              "\n",
              "    .dataframe tbody tr th {\n",
              "        vertical-align: top;\n",
              "    }\n",
              "\n",
              "    .dataframe thead th {\n",
              "        text-align: right;\n",
              "    }\n",
              "</style>\n",
              "<table border=\"1\" class=\"dataframe\">\n",
              "  <thead>\n",
              "    <tr style=\"text-align: right;\">\n",
              "      <th></th>\n",
              "      <th>category</th>\n",
              "      <th>text</th>\n",
              "      <th>cleanText</th>\n",
              "    </tr>\n",
              "  </thead>\n",
              "  <tbody>\n",
              "    <tr>\n",
              "      <th>0</th>\n",
              "      <td>economy</td>\n",
              "      <td>বাংলাদেশে সফররত বিশ্ব বাণিজ্য সংস্থা (ডব্লিউট...</td>\n",
              "      <td>বাংলাদেশে    সফররত    বিশ্ব    বাণিজ্য    সং...</td>\n",
              "    </tr>\n",
              "    <tr>\n",
              "      <th>1</th>\n",
              "      <td>sports</td>\n",
              "      <td>ইউরোপিয়ান ফুটবলে আজ ঝড় বয়ে যাচ্ছে। একদিকে সংবা...</td>\n",
              "      <td>ইউরোপিয়ান    ফুটবলে    বয়ে    একদিকে    সংবা...</td>\n",
              "    </tr>\n",
              "    <tr>\n",
              "      <th>2</th>\n",
              "      <td>international</td>\n",
              "      <td>বিজেপির নেতৃত্বে ভারতের উত্তর প্রদেশ থেকে শুরু...</td>\n",
              "      <td>বিজেপির    নেতৃত্বে    ভারতের    উত্তর    প্...</td>\n",
              "    </tr>\n",
              "    <tr>\n",
              "      <th>3</th>\n",
              "      <td>state</td>\n",
              "      <td>নারায়ণগঞ্জের সোনারগাঁ উপজেলার একটি সরকারি প্র...</td>\n",
              "      <td>নারায়ণগঞ্জের    সোনারগাঁ    উপজেলার    সরকা...</td>\n",
              "    </tr>\n",
              "    <tr>\n",
              "      <th>4</th>\n",
              "      <td>sports</td>\n",
              "      <td>‘ছাই থেকে ছাই, ধুলো থেকে ধুলো...’ আধ্যাত্মিক ক...</td>\n",
              "      <td>ছাই    ছাই    ধুলো    ধুলো    আধ্যাত্মিক    ...</td>\n",
              "    </tr>\n",
              "    <tr>\n",
              "      <th>5</th>\n",
              "      <td>technology</td>\n",
              "      <td>খুদে ব্লগ লেখার জনপ্রিয় সাইট টুইটার এখন বাংলা ...</td>\n",
              "      <td>খুদে    ব্লগ    লেখার    জনপ্রিয়    সাইট    ...</td>\n",
              "    </tr>\n",
              "    <tr>\n",
              "      <th>6</th>\n",
              "      <td>entertainment</td>\n",
              "      <td>মুক্তির প্রথম দিনেই অক্ষয় কুমার অভিনীত ‘কেশরি’...</td>\n",
              "      <td>মুক্তির    প্রথম    দিনেই    অক্ষয়    কুমার ...</td>\n",
              "    </tr>\n",
              "    <tr>\n",
              "      <th>7</th>\n",
              "      <td>entertainment</td>\n",
              "      <td>আজমেরী আশা ও পিয়া বিপাশা দুজনে সম্পর্কে বোন। ব...</td>\n",
              "      <td>আজমেরী    আশা    পিয়া    বিপাশা    দুজনে    ...</td>\n",
              "    </tr>\n",
              "    <tr>\n",
              "      <th>8</th>\n",
              "      <td>international</td>\n",
              "      <td>ভেনেজুয়েলার সুপ্রিম কোর্টের বিচারপতি ক্রিস্টিয়...</td>\n",
              "      <td>ভেনেজুয়েলার    সুপ্রিম    কোর্টের    বিচারপত...</td>\n",
              "    </tr>\n",
              "    <tr>\n",
              "      <th>9</th>\n",
              "      <td>education</td>\n",
              "      <td>বহুনির্বাচনি প্রশ্নোত্তরপ্রিয় পরীক্ষার্থী, আজ ...</td>\n",
              "      <td>বহুনির্বাচনি    প্রশ্নোত্তরপ্রিয়    পরীক্ষার...</td>\n",
              "    </tr>\n",
              "    <tr>\n",
              "      <th>10</th>\n",
              "      <td>entertainment</td>\n",
              "      <td>শফিক তুহিনের সুর ও সংগীত পরিচালনায় চলচ্চিত্রের...</td>\n",
              "      <td>শফিক    তুহিনের    সুর    সংগীত    পরিচালনায়...</td>\n",
              "    </tr>\n",
              "    <tr>\n",
              "      <th>11</th>\n",
              "      <td>technology</td>\n",
              "      <td>বহুল আলোচিত গ্যালাক্সি এম১০ নিয়ে এসেছে স্যামস...</td>\n",
              "      <td>বহুল    আলোচিত    গ্যালাক্সি    এসেছে    স্য...</td>\n",
              "    </tr>\n",
              "    <tr>\n",
              "      <th>12</th>\n",
              "      <td>international</td>\n",
              "      <td>সিরিয়ার আলেপ্পোয় সরকারি বাহিনীর অবরোধ ভাঙতে সচ...</td>\n",
              "      <td>সিরিয়ার    আলেপ্পোয়    সরকারি    বাহিনীর    ...</td>\n",
              "    </tr>\n",
              "    <tr>\n",
              "      <th>13</th>\n",
              "      <td>technology</td>\n",
              "      <td>ঢাকার প্রযুক্তি বাজারে ক্রেতাদের আনাগোনা এখন অ...</td>\n",
              "      <td>ঢাকার    প্রযুক্তি    বাজারে    ক্রেতাদের   ...</td>\n",
              "    </tr>\n",
              "    <tr>\n",
              "      <th>14</th>\n",
              "      <td>international</td>\n",
              "      <td>দার্জিলিংয়ে গোর্খা জনমুক্তি মোর্চার ডাকে পৃথক ...</td>\n",
              "      <td>দার্জিলিংয়ে    গোর্খা    জনমুক্তি    মোর্চার...</td>\n",
              "    </tr>\n",
              "    <tr>\n",
              "      <th>15</th>\n",
              "      <td>economy</td>\n",
              "      <td>নাকুগাঁও স্থলবন্দরকে সম্ভাবনাময় উল্লেখ করেছেন ...</td>\n",
              "      <td>নাকুগাঁও    স্থলবন্দরকে    সম্ভাবনাময়    উল্...</td>\n",
              "    </tr>\n",
              "    <tr>\n",
              "      <th>16</th>\n",
              "      <td>state</td>\n",
              "      <td>এবার হজ পালন করতে বাংলাদেশ থেকে ১ লাখ ২৭ হাজার...</td>\n",
              "      <td>পালন    বাংলাদেশ    লাখ    হাজার    হজযাত্রী...</td>\n",
              "    </tr>\n",
              "    <tr>\n",
              "      <th>17</th>\n",
              "      <td>education</td>\n",
              "      <td>প্রিয় শিক্ষার্থী বন্ধুরা, তোমাদের হাতে আঁকা র...</td>\n",
              "      <td>প্রিয়    শিক্ষার্থী    বন্ধুরা    তোমাদের   ...</td>\n",
              "    </tr>\n",
              "    <tr>\n",
              "      <th>18</th>\n",
              "      <td>education</td>\n",
              "      <td>জাহাঙ্গীরনগর বিশ্ববিদ্যালয়ে ২০১৭-১৮ শিক্ষাবর...</td>\n",
              "      <td>জাহাঙ্গীরনগর    বিশ্ববিদ্যালয়ে    শিক্ষাবর্ষ...</td>\n",
              "    </tr>\n",
              "    <tr>\n",
              "      <th>19</th>\n",
              "      <td>state</td>\n",
              "      <td>বহুতল ভবনের ছাদ থেকে নাশকতা করা হলে ওই ভবনের ম...</td>\n",
              "      <td>বহুতল    ভবনের    ছাদ    নাশকতা    ভবনের    ...</td>\n",
              "    </tr>\n",
              "  </tbody>\n",
              "</table>\n",
              "</div>"
            ],
            "text/plain": [
              "         category  ...                                          cleanText\n",
              "0         economy  ...    বাংলাদেশে    সফররত    বিশ্ব    বাণিজ্য    সং...\n",
              "1          sports  ...    ইউরোপিয়ান    ফুটবলে    বয়ে    একদিকে    সংবা...\n",
              "2   international  ...    বিজেপির    নেতৃত্বে    ভারতের    উত্তর    প্...\n",
              "3           state  ...    নারায়ণগঞ্জের    সোনারগাঁ    উপজেলার    সরকা...\n",
              "4          sports  ...    ছাই    ছাই    ধুলো    ধুলো    আধ্যাত্মিক    ...\n",
              "5      technology  ...    খুদে    ব্লগ    লেখার    জনপ্রিয়    সাইট    ...\n",
              "6   entertainment  ...    মুক্তির    প্রথম    দিনেই    অক্ষয়    কুমার ...\n",
              "7   entertainment  ...    আজমেরী    আশা    পিয়া    বিপাশা    দুজনে    ...\n",
              "8   international  ...    ভেনেজুয়েলার    সুপ্রিম    কোর্টের    বিচারপত...\n",
              "9       education  ...    বহুনির্বাচনি    প্রশ্নোত্তরপ্রিয়    পরীক্ষার...\n",
              "10  entertainment  ...    শফিক    তুহিনের    সুর    সংগীত    পরিচালনায়...\n",
              "11     technology  ...    বহুল    আলোচিত    গ্যালাক্সি    এসেছে    স্য...\n",
              "12  international  ...    সিরিয়ার    আলেপ্পোয়    সরকারি    বাহিনীর    ...\n",
              "13     technology  ...    ঢাকার    প্রযুক্তি    বাজারে    ক্রেতাদের   ...\n",
              "14  international  ...    দার্জিলিংয়ে    গোর্খা    জনমুক্তি    মোর্চার...\n",
              "15        economy  ...    নাকুগাঁও    স্থলবন্দরকে    সম্ভাবনাময়    উল্...\n",
              "16          state  ...    পালন    বাংলাদেশ    লাখ    হাজার    হজযাত্রী...\n",
              "17      education  ...    প্রিয়    শিক্ষার্থী    বন্ধুরা    তোমাদের   ...\n",
              "18      education  ...    জাহাঙ্গীরনগর    বিশ্ববিদ্যালয়ে    শিক্ষাবর্ষ...\n",
              "19          state  ...    বহুতল    ভবনের    ছাদ    নাশকতা    ভবনের    ...\n",
              "\n",
              "[20 rows x 3 columns]"
            ]
          },
          "metadata": {},
          "execution_count": 8
        }
      ]
    },
    {
      "cell_type": "code",
      "metadata": {
        "execution": {
          "iopub.status.busy": "2021-10-19T16:59:41.037900Z",
          "iopub.execute_input": "2021-10-19T16:59:41.038739Z",
          "iopub.status.idle": "2021-10-19T16:59:41.052224Z",
          "shell.execute_reply.started": "2021-10-19T16:59:41.038698Z",
          "shell.execute_reply": "2021-10-19T16:59:41.051280Z"
        },
        "trusted": true,
        "colab": {
          "base_uri": "https://localhost:8080/",
          "height": 424
        },
        "id": "lnbfcqLo5htN",
        "outputId": "affc8c49-1165-4fe8-b502-08a64ef45096"
      },
      "source": [
        "bangla_train.tail(-20)"
      ],
      "execution_count": 9,
      "outputs": [
        {
          "output_type": "execute_result",
          "data": {
            "text/html": [
              "<div>\n",
              "<style scoped>\n",
              "    .dataframe tbody tr th:only-of-type {\n",
              "        vertical-align: middle;\n",
              "    }\n",
              "\n",
              "    .dataframe tbody tr th {\n",
              "        vertical-align: top;\n",
              "    }\n",
              "\n",
              "    .dataframe thead th {\n",
              "        text-align: right;\n",
              "    }\n",
              "</style>\n",
              "<table border=\"1\" class=\"dataframe\">\n",
              "  <thead>\n",
              "    <tr style=\"text-align: right;\">\n",
              "      <th></th>\n",
              "      <th>category</th>\n",
              "      <th>text</th>\n",
              "      <th>cleanText</th>\n",
              "    </tr>\n",
              "  </thead>\n",
              "  <tbody>\n",
              "    <tr>\n",
              "      <th>20</th>\n",
              "      <td>state</td>\n",
              "      <td>রাজধানীর মিরপুরের ১৩ নম্বর সেকশনে শ্যামলপল্লি ...</td>\n",
              "      <td>রাজধানীর    মিরপুরের    নম্বর    সেকশনে    শ...</td>\n",
              "    </tr>\n",
              "    <tr>\n",
              "      <th>21</th>\n",
              "      <td>technology</td>\n",
              "      <td>তথ্যপ্রযুক্তির ব্যবহার বাড়ছে দ্রুত। দেশের বিভি...</td>\n",
              "      <td>তথ্যপ্রযুক্তির    বাড়ছে    দ্রুত    দেশের   ...</td>\n",
              "    </tr>\n",
              "    <tr>\n",
              "      <th>22</th>\n",
              "      <td>education</td>\n",
              "      <td>হোটেল ও পর্যটনশিল্পে প্রতিষ্ঠিত হওয়ার জন্য প্...</td>\n",
              "      <td>হোটেল    পর্যটনশিল্পে    প্রতিষ্ঠিত    প্রাত...</td>\n",
              "    </tr>\n",
              "    <tr>\n",
              "      <th>23</th>\n",
              "      <td>international</td>\n",
              "      <td>উত্তর কোরিয়া আরও ক্ষেপণাস্ত্র উৎক্ষেপণের প্রস্...</td>\n",
              "      <td>উত্তর    কোরিয়া    ক্ষেপণাস্ত্র    উৎক্ষেপণে...</td>\n",
              "    </tr>\n",
              "    <tr>\n",
              "      <th>24</th>\n",
              "      <td>state</td>\n",
              "      <td>এবারের পবিত্র ঈদুল ফিতর কাটতে পারে শ্রাবণের বর...</td>\n",
              "      <td>এবারের    পবিত্র    ঈদুল    ফিতর    কাটতে   ...</td>\n",
              "    </tr>\n",
              "    <tr>\n",
              "      <th>...</th>\n",
              "      <td>...</td>\n",
              "      <td>...</td>\n",
              "      <td>...</td>\n",
              "    </tr>\n",
              "    <tr>\n",
              "      <th>98878</th>\n",
              "      <td>education</td>\n",
              "      <td>সহকারী অধ্যাপক  টিচার্স ট্রেনিং কলেজ (মহিলা)...</td>\n",
              "      <td>সহকারী    অধ্যাপক    টিচার্স    ট্রেনিং    ক...</td>\n",
              "    </tr>\n",
              "    <tr>\n",
              "      <th>98879</th>\n",
              "      <td>entertainment</td>\n",
              "      <td>অক্টোবরের ১১ তারিখে ৭৫ বছর পূর্ণ করবেন অমিতাভ ...</td>\n",
              "      <td>অক্টোবরের    তারিখে    বছর    পূর্ণ    অমিতা...</td>\n",
              "    </tr>\n",
              "    <tr>\n",
              "      <th>98880</th>\n",
              "      <td>technology</td>\n",
              "      <td>কাজী নাঈম আল রশিদ। সফটওয়্যার প্রকৌশলী। কাজ করে...</td>\n",
              "      <td>কাজী    নাঈম    রশিদ    সফটওয়্যার    প্রকৌশল...</td>\n",
              "    </tr>\n",
              "    <tr>\n",
              "      <th>98881</th>\n",
              "      <td>technology</td>\n",
              "      <td>ইয়াহুকে মার্কিন টেলিকম প্রতিষ্ঠান ভেরাইজন কিনে...</td>\n",
              "      <td>ইয়াহুকে    মার্কিন    টেলিকম    প্রতিষ্ঠান  ...</td>\n",
              "    </tr>\n",
              "    <tr>\n",
              "      <th>98882</th>\n",
              "      <td>education</td>\n",
              "      <td>অধ্যায়-১১প্রিয় শিক্ষার্থী, আজ ফিন্যান্স ও ব্যা...</td>\n",
              "      <td>অধ্যায়    প্রিয়    শিক্ষার্থী    ফিন্যান্স  ...</td>\n",
              "    </tr>\n",
              "  </tbody>\n",
              "</table>\n",
              "<p>98863 rows × 3 columns</p>\n",
              "</div>"
            ],
            "text/plain": [
              "            category  ...                                          cleanText\n",
              "20             state  ...    রাজধানীর    মিরপুরের    নম্বর    সেকশনে    শ...\n",
              "21        technology  ...    তথ্যপ্রযুক্তির    বাড়ছে    দ্রুত    দেশের   ...\n",
              "22         education  ...    হোটেল    পর্যটনশিল্পে    প্রতিষ্ঠিত    প্রাত...\n",
              "23     international  ...    উত্তর    কোরিয়া    ক্ষেপণাস্ত্র    উৎক্ষেপণে...\n",
              "24             state  ...    এবারের    পবিত্র    ঈদুল    ফিতর    কাটতে   ...\n",
              "...              ...  ...                                                ...\n",
              "98878      education  ...    সহকারী    অধ্যাপক    টিচার্স    ট্রেনিং    ক...\n",
              "98879  entertainment  ...    অক্টোবরের    তারিখে    বছর    পূর্ণ    অমিতা...\n",
              "98880     technology  ...    কাজী    নাঈম    রশিদ    সফটওয়্যার    প্রকৌশল...\n",
              "98881     technology  ...    ইয়াহুকে    মার্কিন    টেলিকম    প্রতিষ্ঠান  ...\n",
              "98882      education  ...    অধ্যায়    প্রিয়    শিক্ষার্থী    ফিন্যান্স  ...\n",
              "\n",
              "[98863 rows x 3 columns]"
            ]
          },
          "metadata": {},
          "execution_count": 9
        }
      ]
    },
    {
      "cell_type": "code",
      "metadata": {
        "execution": {
          "iopub.status.busy": "2021-10-19T16:59:41.053972Z",
          "iopub.execute_input": "2021-10-19T16:59:41.054299Z",
          "iopub.status.idle": "2021-10-19T16:59:41.062664Z",
          "shell.execute_reply.started": "2021-10-19T16:59:41.054233Z",
          "shell.execute_reply": "2021-10-19T16:59:41.061823Z"
        },
        "trusted": true,
        "colab": {
          "base_uri": "https://localhost:8080/"
        },
        "id": "reiaSITg5htO",
        "outputId": "8a207d83-bf74-4224-8fc3-f53d5578851a"
      },
      "source": [
        "print(bangla_train.cleanText[100])"
      ],
      "execution_count": 10,
      "outputs": [
        {
          "output_type": "stream",
          "name": "stdout",
          "text": [
            "  হলিউডের    অস্কারজয়ী    ছবি    দ্য    রেভেন্যান্ট    অনুপ্রাণিত    অ্যাকশন    দৃশ্য    তৈরি    সাড়াজাগানো    পৌরাণিক    কাহিনিনির্ভর    ভারতীয়    ছবি    বাহুবলি    সিক্যুয়াল    বাহুবলি    দুই    ছবির    বছর    দারুণ    জনপ্রিয়    ব্যবসাসফল    বাহুবলি    ছবিটি    সিকুয়াল    ফিরছে    নতুন    ছবি    বাহুবলি    দুই    ঐতিহাসিক    কাহিনিনির্ভর    ছবিই    বেশি    প্রতিবেদনে    অনলাইন    সংবাদমাধ্যম    ডিএনএ    ছবিতে    থাকছে    এবারের    অস্কারজয়ী    ছবি    দ্য    রেভেন্যান্ট    ছোঁয়া    দ্য    রেভেন্যান্ট    ছবিতে    দারুণ    অভিনয়    বছরের    সাধনায়    অস্কার    খরা    ঘুচিয়েছেন    হলিউডের    তারকা    লিওনার্দো    ডিক্যাপ্রিও    আলেহান্দ্রো    গঞ্জালেস    ইনারিতু    পরিচালিত    ছবিটি    সেরা    পরিচালকসহ    অস্কার    জিতেছে    তিনটি    বিভাগে    বাহুবলি    দুই    ছবির    অ্যাকশন    দৃশ্যে    অস্কারজয়ী    দ্য    রেভেন্যান্ট    ছবির    দৃশ্যের    অনুপ্রাণিত    দৃশ্যায়ন    পরিচালক    এসএস    রাজামৌলির    বাহুবলি    দুই    ছবিটি    পরিকল্পনা    বলেও    বাহুবলি    দুই    ছবিতে    থাকছে    বিস্তারিতভাবে    আপাতত    অপেক্ষায়    নিউজ    অবলম্বনে    দেব    দুলাল    গুহ  \n"
          ]
        }
      ]
    },
    {
      "cell_type": "code",
      "metadata": {
        "execution": {
          "iopub.status.busy": "2021-10-19T16:59:41.063981Z",
          "iopub.execute_input": "2021-10-19T16:59:41.064488Z",
          "iopub.status.idle": "2021-10-19T16:59:41.078710Z",
          "shell.execute_reply.started": "2021-10-19T16:59:41.064448Z",
          "shell.execute_reply": "2021-10-19T16:59:41.077940Z"
        },
        "trusted": true,
        "colab": {
          "base_uri": "https://localhost:8080/",
          "height": 677
        },
        "id": "3j7HOkOM5htO",
        "outputId": "8a88d49e-79ae-447b-9440-350eeb6f9f1e"
      },
      "source": [
        "bangla_test.head(20)"
      ],
      "execution_count": 11,
      "outputs": [
        {
          "output_type": "execute_result",
          "data": {
            "text/html": [
              "<div>\n",
              "<style scoped>\n",
              "    .dataframe tbody tr th:only-of-type {\n",
              "        vertical-align: middle;\n",
              "    }\n",
              "\n",
              "    .dataframe tbody tr th {\n",
              "        vertical-align: top;\n",
              "    }\n",
              "\n",
              "    .dataframe thead th {\n",
              "        text-align: right;\n",
              "    }\n",
              "</style>\n",
              "<table border=\"1\" class=\"dataframe\">\n",
              "  <thead>\n",
              "    <tr style=\"text-align: right;\">\n",
              "      <th></th>\n",
              "      <th>category</th>\n",
              "      <th>text</th>\n",
              "      <th>cleanText</th>\n",
              "    </tr>\n",
              "  </thead>\n",
              "  <tbody>\n",
              "    <tr>\n",
              "      <th>0</th>\n",
              "      <td>education</td>\n",
              "      <td>অধ্যায়-২প্রিয় পরীক্ষার্থী, আজ তথ্য ও যোগাযোগ প...</td>\n",
              "      <td>অধ্যায়    প্রিয়    পরীক্ষার্থী    তথ্য    যো...</td>\n",
              "    </tr>\n",
              "    <tr>\n",
              "      <th>1</th>\n",
              "      <td>sports</td>\n",
              "      <td>স্পিন, স্পিন, স্পিন। লর্ডসে ইয়াসির শাহ্‌র লেগ ...</td>\n",
              "      <td>স্পিন    স্পিন    স্পিন    লর্ডসে    ইয়াসির ...</td>\n",
              "    </tr>\n",
              "    <tr>\n",
              "      <th>2</th>\n",
              "      <td>international</td>\n",
              "      <td>সিরিয়ার উত্তর-পশ্চিমাঞ্চলে গতকাল রোববার বিমান...</td>\n",
              "      <td>সিরিয়ার    উত্তর    পশ্চিমাঞ্চলে    গতকাল  ...</td>\n",
              "    </tr>\n",
              "    <tr>\n",
              "      <th>3</th>\n",
              "      <td>international</td>\n",
              "      <td>দক্ষিণ আফ্রিকার কেপটাউন বিশ্ববিদ্যালয়ের (ইউসিট...</td>\n",
              "      <td>দক্ষিণ    আফ্রিকার    কেপটাউন    বিশ্ববিদ্যা...</td>\n",
              "    </tr>\n",
              "    <tr>\n",
              "      <th>4</th>\n",
              "      <td>technology</td>\n",
              "      <td>সহজে ডিজিটাল আর্থিক সেবা দিতে অ্যাপ ও ডিজিটাল ...</td>\n",
              "      <td>সহজে    ডিজিটাল    আর্থিক    সেবা    অ্যাপ  ...</td>\n",
              "    </tr>\n",
              "    <tr>\n",
              "      <th>5</th>\n",
              "      <td>economy</td>\n",
              "      <td>সাউথ বাংলা এগ্রিকালচার অ্যান্ড কমার্স (এসবিএসি...</td>\n",
              "      <td>সাউথ    বাংলা    এগ্রিকালচার    অ্যান্ড    ক...</td>\n",
              "    </tr>\n",
              "    <tr>\n",
              "      <th>6</th>\n",
              "      <td>entertainment</td>\n",
              "      <td>কিছুদিন ধরেই বলিউডের বাতাসে ভেসে বেড়াচ্ছে আরবা...</td>\n",
              "      <td>কিছুদিন    ধরেই    বলিউডের    বাতাসে    ভেসে...</td>\n",
              "    </tr>\n",
              "    <tr>\n",
              "      <th>7</th>\n",
              "      <td>sports</td>\n",
              "      <td>দুটি ইতিহাসের শেষ লাইন লেখা হলো তাঁর হাতে। গত ...</td>\n",
              "      <td>ইতিহাসের    শেষ    লাইন    লেখা    হাতে    অ...</td>\n",
              "    </tr>\n",
              "    <tr>\n",
              "      <th>8</th>\n",
              "      <td>sports</td>\n",
              "      <td>চেচনিয়ার নেতা রমজান কাদিরভের বিরুদ্ধে মানবাধিক...</td>\n",
              "      <td>চেচনিয়ার    নেতা    রমজান    কাদিরভের    বির...</td>\n",
              "    </tr>\n",
              "    <tr>\n",
              "      <th>9</th>\n",
              "      <td>entertainment</td>\n",
              "      <td>শুরু হচ্ছে ঢাকা আন্তর্জাতিক চলচ্চিত্র উৎসব। ১২...</td>\n",
              "      <td>শুরু    ঢাকা    আন্তর্জাতিক    চলচ্চিত্র    ...</td>\n",
              "    </tr>\n",
              "    <tr>\n",
              "      <th>10</th>\n",
              "      <td>economy</td>\n",
              "      <td>বাংলাদেশের একমাত্র কোর ব্যাংকিং সফটওয়্যার কোম্...</td>\n",
              "      <td>বাংলাদেশের    একমাত্র    কোর    ব্যাংকিং    ...</td>\n",
              "    </tr>\n",
              "    <tr>\n",
              "      <th>11</th>\n",
              "      <td>education</td>\n",
              "      <td>সিনিয়র শিক্ষক  গোয়ালপাড়া হাইস্কুল, সোনারগাঁ ...</td>\n",
              "      <td>সিনিয়র    শিক্ষক    গোয়ালপাড়া    হাইস্কুল   ...</td>\n",
              "    </tr>\n",
              "    <tr>\n",
              "      <th>12</th>\n",
              "      <td>technology</td>\n",
              "      <td>জলের ওপর পানির ফোঁটা পড়লে যে অবস্থার সৃষ্টি হয়...</td>\n",
              "      <td>জলের    ওপর    পানির    ফোঁটা    পড়লে    অবস...</td>\n",
              "    </tr>\n",
              "    <tr>\n",
              "      <th>13</th>\n",
              "      <td>education</td>\n",
              "      <td>প্রভাষক, রাণী ভবানী সরকারি মহিলা  কলেজ, নাটো...</td>\n",
              "      <td>প্রভাষক    রাণী    ভবানী    সরকারি    মহিলা ...</td>\n",
              "    </tr>\n",
              "    <tr>\n",
              "      <th>14</th>\n",
              "      <td>state</td>\n",
              "      <td>চট্টগ্রামের পটিয়ায় নির্মাণশ্রমিক খুনের ঘটনায় র...</td>\n",
              "      <td>চট্টগ্রামের    পটিয়ায়    নির্মাণশ্রমিক    খু...</td>\n",
              "    </tr>\n",
              "    <tr>\n",
              "      <th>15</th>\n",
              "      <td>technology</td>\n",
              "      <td>আবার জমে উঠেছে ঢাকার স্মার্টফোনের বাজারগুলো। ন...</td>\n",
              "      <td>জমে    উঠেছে    ঢাকার    স্মার্টফোনের    বাজ...</td>\n",
              "    </tr>\n",
              "    <tr>\n",
              "      <th>16</th>\n",
              "      <td>international</td>\n",
              "      <td>জাতিসংঘে নিযুক্ত ফিলিস্তিনের স্থায়ী প্রতিনিধি ...</td>\n",
              "      <td>জাতিসংঘে    নিযুক্ত    ফিলিস্তিনের    স্থায়ী...</td>\n",
              "    </tr>\n",
              "    <tr>\n",
              "      <th>17</th>\n",
              "      <td>state</td>\n",
              "      <td>ঘোষণার এক বছর পর গত রোববার পঞ্চগড় জেলা ছাত্রল...</td>\n",
              "      <td>ঘোষণার    বছর    রোববার    পঞ্চগড়    জেলা  ...</td>\n",
              "    </tr>\n",
              "    <tr>\n",
              "      <th>18</th>\n",
              "      <td>education</td>\n",
              "      <td>বহুনির্বাচনি প্রশ্নোত্তরপ্রিয় জেএসসি পরীক্ষার্...</td>\n",
              "      <td>বহুনির্বাচনি    প্রশ্নোত্তরপ্রিয়    জেএসসি  ...</td>\n",
              "    </tr>\n",
              "    <tr>\n",
              "      <th>19</th>\n",
              "      <td>international</td>\n",
              "      <td>ত্রিপুরায় সীমান্তহাটের সংখ্যা বাড়াতে চাইছে ভার...</td>\n",
              "      <td>ত্রিপুরায়    সীমান্তহাটের    সংখ্যা    বাড়াত...</td>\n",
              "    </tr>\n",
              "  </tbody>\n",
              "</table>\n",
              "</div>"
            ],
            "text/plain": [
              "         category  ...                                          cleanText\n",
              "0       education  ...    অধ্যায়    প্রিয়    পরীক্ষার্থী    তথ্য    যো...\n",
              "1          sports  ...    স্পিন    স্পিন    স্পিন    লর্ডসে    ইয়াসির ...\n",
              "2   international  ...    সিরিয়ার    উত্তর    পশ্চিমাঞ্চলে    গতকাল  ...\n",
              "3   international  ...    দক্ষিণ    আফ্রিকার    কেপটাউন    বিশ্ববিদ্যা...\n",
              "4      technology  ...    সহজে    ডিজিটাল    আর্থিক    সেবা    অ্যাপ  ...\n",
              "5         economy  ...    সাউথ    বাংলা    এগ্রিকালচার    অ্যান্ড    ক...\n",
              "6   entertainment  ...    কিছুদিন    ধরেই    বলিউডের    বাতাসে    ভেসে...\n",
              "7          sports  ...    ইতিহাসের    শেষ    লাইন    লেখা    হাতে    অ...\n",
              "8          sports  ...    চেচনিয়ার    নেতা    রমজান    কাদিরভের    বির...\n",
              "9   entertainment  ...    শুরু    ঢাকা    আন্তর্জাতিক    চলচ্চিত্র    ...\n",
              "10        economy  ...    বাংলাদেশের    একমাত্র    কোর    ব্যাংকিং    ...\n",
              "11      education  ...    সিনিয়র    শিক্ষক    গোয়ালপাড়া    হাইস্কুল   ...\n",
              "12     technology  ...    জলের    ওপর    পানির    ফোঁটা    পড়লে    অবস...\n",
              "13      education  ...    প্রভাষক    রাণী    ভবানী    সরকারি    মহিলা ...\n",
              "14          state  ...    চট্টগ্রামের    পটিয়ায়    নির্মাণশ্রমিক    খু...\n",
              "15     technology  ...    জমে    উঠেছে    ঢাকার    স্মার্টফোনের    বাজ...\n",
              "16  international  ...    জাতিসংঘে    নিযুক্ত    ফিলিস্তিনের    স্থায়ী...\n",
              "17          state  ...    ঘোষণার    বছর    রোববার    পঞ্চগড়    জেলা  ...\n",
              "18      education  ...    বহুনির্বাচনি    প্রশ্নোত্তরপ্রিয়    জেএসসি  ...\n",
              "19  international  ...    ত্রিপুরায়    সীমান্তহাটের    সংখ্যা    বাড়াত...\n",
              "\n",
              "[20 rows x 3 columns]"
            ]
          },
          "metadata": {},
          "execution_count": 11
        }
      ]
    },
    {
      "cell_type": "code",
      "metadata": {
        "execution": {
          "iopub.status.busy": "2021-10-19T16:59:41.079943Z",
          "iopub.execute_input": "2021-10-19T16:59:41.080392Z",
          "iopub.status.idle": "2021-10-19T16:59:41.093269Z",
          "shell.execute_reply.started": "2021-10-19T16:59:41.080354Z",
          "shell.execute_reply": "2021-10-19T16:59:41.092429Z"
        },
        "trusted": true,
        "colab": {
          "base_uri": "https://localhost:8080/",
          "height": 424
        },
        "id": "qHEvjPqI5htP",
        "outputId": "116e9c6f-8f91-41dc-964a-9d2e1d083a4d"
      },
      "source": [
        "bangla_test.tail(-20)"
      ],
      "execution_count": 12,
      "outputs": [
        {
          "output_type": "execute_result",
          "data": {
            "text/html": [
              "<div>\n",
              "<style scoped>\n",
              "    .dataframe tbody tr th:only-of-type {\n",
              "        vertical-align: middle;\n",
              "    }\n",
              "\n",
              "    .dataframe tbody tr th {\n",
              "        vertical-align: top;\n",
              "    }\n",
              "\n",
              "    .dataframe thead th {\n",
              "        text-align: right;\n",
              "    }\n",
              "</style>\n",
              "<table border=\"1\" class=\"dataframe\">\n",
              "  <thead>\n",
              "    <tr style=\"text-align: right;\">\n",
              "      <th></th>\n",
              "      <th>category</th>\n",
              "      <th>text</th>\n",
              "      <th>cleanText</th>\n",
              "    </tr>\n",
              "  </thead>\n",
              "  <tbody>\n",
              "    <tr>\n",
              "      <th>20</th>\n",
              "      <td>international</td>\n",
              "      <td>সৌদি আরবে পৌর নির্বাচনে প্রথমবার এক নারী কাউন্...</td>\n",
              "      <td>সৌদি    আরবে    পৌর    নির্বাচনে    প্রথমবার...</td>\n",
              "    </tr>\n",
              "    <tr>\n",
              "      <th>21</th>\n",
              "      <td>sports</td>\n",
              "      <td>রাঁচিতেও সেঞ্চুরি করেছেন কোহলি। অধিনায়কের সেঞ্...</td>\n",
              "      <td>রাঁচিতেও    সেঞ্চুরি    কোহলি    অধিনায়কের  ...</td>\n",
              "    </tr>\n",
              "    <tr>\n",
              "      <th>22</th>\n",
              "      <td>state</td>\n",
              "      <td>বরিশালের সদর উপজেলার তালুকদার হাট স্কুল ও কলেজ...</td>\n",
              "      <td>বরিশালের    সদর    উপজেলার    তালুকদার    হা...</td>\n",
              "    </tr>\n",
              "    <tr>\n",
              "      <th>23</th>\n",
              "      <td>technology</td>\n",
              "      <td>তুলনামূলকভাবে বেশি দামের কারণে চীনের বাজারে আই...</td>\n",
              "      <td>তুলনামূলকভাবে    বেশি    দামের    কারণে    চ...</td>\n",
              "    </tr>\n",
              "    <tr>\n",
              "      <th>24</th>\n",
              "      <td>state</td>\n",
              "      <td>ভবিষ্যতে বাংলাদেশের সাইবার নিরাপত্তার কথা মাথা...</td>\n",
              "      <td>ভবিষ্যতে    বাংলাদেশের    সাইবার    নিরাপত্ত...</td>\n",
              "    </tr>\n",
              "    <tr>\n",
              "      <th>...</th>\n",
              "      <td>...</td>\n",
              "      <td>...</td>\n",
              "      <td>...</td>\n",
              "    </tr>\n",
              "    <tr>\n",
              "      <th>98879</th>\n",
              "      <td>sports</td>\n",
              "      <td>১৯৫৯ সালে ইউরোপিয়ান ক্লাব কাপে জাতীয় দল পাঠান...</td>\n",
              "      <td>সালে    ইউরোপিয়ান    ক্লাব    কাপে    জাতীয়...</td>\n",
              "    </tr>\n",
              "    <tr>\n",
              "      <th>98880</th>\n",
              "      <td>entertainment</td>\n",
              "      <td>গানের দল সহজিয়ার প্রথম অ্যালবাম ‘রঙমিস্ত্রী’র ...</td>\n",
              "      <td>গানের    সহজিয়ার    প্রথম    অ্যালবাম    রঙম...</td>\n",
              "    </tr>\n",
              "    <tr>\n",
              "      <th>98881</th>\n",
              "      <td>international</td>\n",
              "      <td>ফেসবুকের ৮১ হাজার ব্যবহারকারীর তথ্য চুরি করে স...</td>\n",
              "      <td>ফেসবুকের    হাজার    ব্যবহারকারীর    তথ্য   ...</td>\n",
              "    </tr>\n",
              "    <tr>\n",
              "      <th>98882</th>\n",
              "      <td>economy</td>\n",
              "      <td>পেট্রোল পাম্পে তেল বা সিএনজির বিল বিকাশের মাধ...</td>\n",
              "      <td>পেট্রোল    পাম্পে    তেল    সিএনজির    বিল  ...</td>\n",
              "    </tr>\n",
              "    <tr>\n",
              "      <th>98883</th>\n",
              "      <td>economy</td>\n",
              "      <td>বছর শেষে ঢাকা স্টক এক্সচেঞ্জের (ডিএসই) দুটি সূ...</td>\n",
              "      <td>বছর    শেষে    ঢাকা    স্টক    এক্সচেঞ্জের  ...</td>\n",
              "    </tr>\n",
              "  </tbody>\n",
              "</table>\n",
              "<p>98864 rows × 3 columns</p>\n",
              "</div>"
            ],
            "text/plain": [
              "            category  ...                                          cleanText\n",
              "20     international  ...    সৌদি    আরবে    পৌর    নির্বাচনে    প্রথমবার...\n",
              "21            sports  ...    রাঁচিতেও    সেঞ্চুরি    কোহলি    অধিনায়কের  ...\n",
              "22             state  ...    বরিশালের    সদর    উপজেলার    তালুকদার    হা...\n",
              "23        technology  ...    তুলনামূলকভাবে    বেশি    দামের    কারণে    চ...\n",
              "24             state  ...    ভবিষ্যতে    বাংলাদেশের    সাইবার    নিরাপত্ত...\n",
              "...              ...  ...                                                ...\n",
              "98879         sports  ...    সালে    ইউরোপিয়ান    ক্লাব    কাপে    জাতীয়...\n",
              "98880  entertainment  ...    গানের    সহজিয়ার    প্রথম    অ্যালবাম    রঙম...\n",
              "98881  international  ...    ফেসবুকের    হাজার    ব্যবহারকারীর    তথ্য   ...\n",
              "98882        economy  ...    পেট্রোল    পাম্পে    তেল    সিএনজির    বিল  ...\n",
              "98883        economy  ...    বছর    শেষে    ঢাকা    স্টক    এক্সচেঞ্জের  ...\n",
              "\n",
              "[98864 rows x 3 columns]"
            ]
          },
          "metadata": {},
          "execution_count": 12
        }
      ]
    },
    {
      "cell_type": "code",
      "metadata": {
        "execution": {
          "iopub.status.busy": "2021-10-19T16:59:41.094545Z",
          "iopub.execute_input": "2021-10-19T16:59:41.094964Z",
          "iopub.status.idle": "2021-10-19T16:59:41.148538Z",
          "shell.execute_reply.started": "2021-10-19T16:59:41.094918Z",
          "shell.execute_reply": "2021-10-19T16:59:41.147816Z"
        },
        "trusted": true,
        "colab": {
          "base_uri": "https://localhost:8080/"
        },
        "id": "l8Fm--_95htP",
        "outputId": "e1f231e3-7167-4fe6-d059-435269ea1af1"
      },
      "source": [
        "bangla_train.info()"
      ],
      "execution_count": 13,
      "outputs": [
        {
          "output_type": "stream",
          "name": "stdout",
          "text": [
            "<class 'pandas.core.frame.DataFrame'>\n",
            "RangeIndex: 98883 entries, 0 to 98882\n",
            "Data columns (total 3 columns):\n",
            " #   Column     Non-Null Count  Dtype \n",
            "---  ------     --------------  ----- \n",
            " 0   category   98883 non-null  object\n",
            " 1   text       98883 non-null  object\n",
            " 2   cleanText  98883 non-null  object\n",
            "dtypes: object(3)\n",
            "memory usage: 2.3+ MB\n"
          ]
        }
      ]
    },
    {
      "cell_type": "code",
      "metadata": {
        "execution": {
          "iopub.status.busy": "2021-10-19T16:59:41.149628Z",
          "iopub.execute_input": "2021-10-19T16:59:41.149874Z",
          "iopub.status.idle": "2021-10-19T16:59:41.735509Z",
          "shell.execute_reply.started": "2021-10-19T16:59:41.149840Z",
          "shell.execute_reply": "2021-10-19T16:59:41.734834Z"
        },
        "trusted": true,
        "colab": {
          "base_uri": "https://localhost:8080/",
          "height": 175
        },
        "id": "bTaw_S8I5htQ",
        "outputId": "e1740b2c-8625-4bd0-8498-fce4e4bf5aa2"
      },
      "source": [
        "bangla_train.describe()"
      ],
      "execution_count": 14,
      "outputs": [
        {
          "output_type": "execute_result",
          "data": {
            "text/html": [
              "<div>\n",
              "<style scoped>\n",
              "    .dataframe tbody tr th:only-of-type {\n",
              "        vertical-align: middle;\n",
              "    }\n",
              "\n",
              "    .dataframe tbody tr th {\n",
              "        vertical-align: top;\n",
              "    }\n",
              "\n",
              "    .dataframe thead th {\n",
              "        text-align: right;\n",
              "    }\n",
              "</style>\n",
              "<table border=\"1\" class=\"dataframe\">\n",
              "  <thead>\n",
              "    <tr style=\"text-align: right;\">\n",
              "      <th></th>\n",
              "      <th>category</th>\n",
              "      <th>text</th>\n",
              "      <th>cleanText</th>\n",
              "    </tr>\n",
              "  </thead>\n",
              "  <tbody>\n",
              "    <tr>\n",
              "      <th>count</th>\n",
              "      <td>98883</td>\n",
              "      <td>98883</td>\n",
              "      <td>98883</td>\n",
              "    </tr>\n",
              "    <tr>\n",
              "      <th>unique</th>\n",
              "      <td>7</td>\n",
              "      <td>98425</td>\n",
              "      <td>97926</td>\n",
              "    </tr>\n",
              "    <tr>\n",
              "      <th>top</th>\n",
              "      <td>sports</td>\n",
              "      <td>প্রিয় শিক্ষার্থী বন্ধুরা, তোমাদের হাতে আঁকা র...</td>\n",
              "      <td>প্রিয়    শিক্ষার্থী    বন্ধুরা    তোমাদের   ...</td>\n",
              "    </tr>\n",
              "    <tr>\n",
              "      <th>freq</th>\n",
              "      <td>15672</td>\n",
              "      <td>25</td>\n",
              "      <td>25</td>\n",
              "    </tr>\n",
              "  </tbody>\n",
              "</table>\n",
              "</div>"
            ],
            "text/plain": [
              "       category  ...                                          cleanText\n",
              "count     98883  ...                                              98883\n",
              "unique        7  ...                                              97926\n",
              "top      sports  ...    প্রিয়    শিক্ষার্থী    বন্ধুরা    তোমাদের   ...\n",
              "freq      15672  ...                                                 25\n",
              "\n",
              "[4 rows x 3 columns]"
            ]
          },
          "metadata": {},
          "execution_count": 14
        }
      ]
    },
    {
      "cell_type": "code",
      "metadata": {
        "execution": {
          "iopub.status.busy": "2021-10-19T16:59:41.737151Z",
          "iopub.execute_input": "2021-10-19T16:59:41.737645Z",
          "iopub.status.idle": "2021-10-19T16:59:41.790432Z",
          "shell.execute_reply.started": "2021-10-19T16:59:41.737608Z",
          "shell.execute_reply": "2021-10-19T16:59:41.789467Z"
        },
        "trusted": true,
        "colab": {
          "base_uri": "https://localhost:8080/"
        },
        "id": "HSXiG2En5htR",
        "outputId": "9d02d3cf-cdc0-453b-800f-9104c121e070"
      },
      "source": [
        "bangla_test.info()"
      ],
      "execution_count": 15,
      "outputs": [
        {
          "output_type": "stream",
          "name": "stdout",
          "text": [
            "<class 'pandas.core.frame.DataFrame'>\n",
            "RangeIndex: 98884 entries, 0 to 98883\n",
            "Data columns (total 3 columns):\n",
            " #   Column     Non-Null Count  Dtype \n",
            "---  ------     --------------  ----- \n",
            " 0   category   98884 non-null  object\n",
            " 1   text       98884 non-null  object\n",
            " 2   cleanText  98884 non-null  object\n",
            "dtypes: object(3)\n",
            "memory usage: 2.3+ MB\n"
          ]
        }
      ]
    },
    {
      "cell_type": "code",
      "metadata": {
        "execution": {
          "iopub.status.busy": "2021-10-19T16:59:41.791749Z",
          "iopub.execute_input": "2021-10-19T16:59:41.792008Z",
          "iopub.status.idle": "2021-10-19T16:59:42.365833Z",
          "shell.execute_reply.started": "2021-10-19T16:59:41.791974Z",
          "shell.execute_reply": "2021-10-19T16:59:42.365120Z"
        },
        "trusted": true,
        "colab": {
          "base_uri": "https://localhost:8080/",
          "height": 175
        },
        "id": "KG4CROEB5htR",
        "outputId": "b896aa71-f304-4bdc-9cdb-d79f1df01519"
      },
      "source": [
        "bangla_test.describe()"
      ],
      "execution_count": 16,
      "outputs": [
        {
          "output_type": "execute_result",
          "data": {
            "text/html": [
              "<div>\n",
              "<style scoped>\n",
              "    .dataframe tbody tr th:only-of-type {\n",
              "        vertical-align: middle;\n",
              "    }\n",
              "\n",
              "    .dataframe tbody tr th {\n",
              "        vertical-align: top;\n",
              "    }\n",
              "\n",
              "    .dataframe thead th {\n",
              "        text-align: right;\n",
              "    }\n",
              "</style>\n",
              "<table border=\"1\" class=\"dataframe\">\n",
              "  <thead>\n",
              "    <tr style=\"text-align: right;\">\n",
              "      <th></th>\n",
              "      <th>category</th>\n",
              "      <th>text</th>\n",
              "      <th>cleanText</th>\n",
              "    </tr>\n",
              "  </thead>\n",
              "  <tbody>\n",
              "    <tr>\n",
              "      <th>count</th>\n",
              "      <td>98884</td>\n",
              "      <td>98884</td>\n",
              "      <td>98884</td>\n",
              "    </tr>\n",
              "    <tr>\n",
              "      <th>unique</th>\n",
              "      <td>7</td>\n",
              "      <td>98384</td>\n",
              "      <td>97880</td>\n",
              "    </tr>\n",
              "    <tr>\n",
              "      <th>top</th>\n",
              "      <td>sports</td>\n",
              "      <td>প্রিয় শিক্ষার্থী বন্ধুরা, তোমাদের হাতে আঁকা র...</td>\n",
              "      <td>প্রিয়    শিক্ষার্থী    বন্ধুরা    তোমাদের   ...</td>\n",
              "    </tr>\n",
              "    <tr>\n",
              "      <th>freq</th>\n",
              "      <td>15883</td>\n",
              "      <td>30</td>\n",
              "      <td>31</td>\n",
              "    </tr>\n",
              "  </tbody>\n",
              "</table>\n",
              "</div>"
            ],
            "text/plain": [
              "       category  ...                                          cleanText\n",
              "count     98884  ...                                              98884\n",
              "unique        7  ...                                              97880\n",
              "top      sports  ...    প্রিয়    শিক্ষার্থী    বন্ধুরা    তোমাদের   ...\n",
              "freq      15883  ...                                                 31\n",
              "\n",
              "[4 rows x 3 columns]"
            ]
          },
          "metadata": {},
          "execution_count": 16
        }
      ]
    },
    {
      "cell_type": "code",
      "metadata": {
        "execution": {
          "iopub.status.busy": "2021-10-19T16:59:42.367117Z",
          "iopub.execute_input": "2021-10-19T16:59:42.367549Z",
          "iopub.status.idle": "2021-10-19T16:59:42.416826Z",
          "shell.execute_reply.started": "2021-10-19T16:59:42.367509Z",
          "shell.execute_reply": "2021-10-19T16:59:42.416055Z"
        },
        "trusted": true,
        "colab": {
          "base_uri": "https://localhost:8080/"
        },
        "id": "fHX3CKGH5htS",
        "outputId": "d7f0b47f-7a18-45a0-bed1-8c25024b0a90"
      },
      "source": [
        "bangla_train.isnull().sum()"
      ],
      "execution_count": 17,
      "outputs": [
        {
          "output_type": "execute_result",
          "data": {
            "text/plain": [
              "category     0\n",
              "text         0\n",
              "cleanText    0\n",
              "dtype: int64"
            ]
          },
          "metadata": {},
          "execution_count": 17
        }
      ]
    },
    {
      "cell_type": "code",
      "metadata": {
        "execution": {
          "iopub.status.busy": "2021-10-19T16:59:42.421082Z",
          "iopub.execute_input": "2021-10-19T16:59:42.421502Z",
          "iopub.status.idle": "2021-10-19T16:59:42.465291Z",
          "shell.execute_reply.started": "2021-10-19T16:59:42.421473Z",
          "shell.execute_reply": "2021-10-19T16:59:42.464493Z"
        },
        "trusted": true,
        "colab": {
          "base_uri": "https://localhost:8080/"
        },
        "id": "WvzFFO7y5htS",
        "outputId": "b5b523b7-2251-44cd-883a-17998446c96e"
      },
      "source": [
        "bangla_test.isnull().sum()"
      ],
      "execution_count": 18,
      "outputs": [
        {
          "output_type": "execute_result",
          "data": {
            "text/plain": [
              "category     0\n",
              "text         0\n",
              "cleanText    0\n",
              "dtype: int64"
            ]
          },
          "metadata": {},
          "execution_count": 18
        }
      ]
    },
    {
      "cell_type": "code",
      "metadata": {
        "execution": {
          "iopub.status.busy": "2021-10-19T16:59:42.466767Z",
          "iopub.execute_input": "2021-10-19T16:59:42.467360Z",
          "iopub.status.idle": "2021-10-19T16:59:42.484860Z",
          "shell.execute_reply.started": "2021-10-19T16:59:42.467322Z",
          "shell.execute_reply": "2021-10-19T16:59:42.484223Z"
        },
        "trusted": true,
        "colab": {
          "base_uri": "https://localhost:8080/"
        },
        "id": "XLt14sZe5htT",
        "outputId": "e4c462b1-e363-4b89-ad27-537407f3622c"
      },
      "source": [
        "bangla_train['category'].value_counts()"
      ],
      "execution_count": 19,
      "outputs": [
        {
          "output_type": "execute_result",
          "data": {
            "text/plain": [
              "sports           15672\n",
              "international    15540\n",
              "state            15362\n",
              "entertainment    15198\n",
              "economy          14430\n",
              "education        12674\n",
              "technology       10007\n",
              "Name: category, dtype: int64"
            ]
          },
          "metadata": {},
          "execution_count": 19
        }
      ]
    },
    {
      "cell_type": "code",
      "metadata": {
        "execution": {
          "iopub.status.busy": "2021-10-19T16:59:42.486126Z",
          "iopub.execute_input": "2021-10-19T16:59:42.486564Z",
          "iopub.status.idle": "2021-10-19T16:59:42.765689Z",
          "shell.execute_reply.started": "2021-10-19T16:59:42.486528Z",
          "shell.execute_reply": "2021-10-19T16:59:42.765010Z"
        },
        "trusted": true,
        "colab": {
          "base_uri": "https://localhost:8080/",
          "height": 678
        },
        "id": "8oF3xH_t5htT",
        "outputId": "33071589-c7c2-4546-db20-0a7da33b01a9"
      },
      "source": [
        "plt.figure(figsize=(20,10))\n",
        "plot = bangla_train[0:20000]\n",
        "sns.countplot(plot.category)"
      ],
      "execution_count": 20,
      "outputs": [
        {
          "output_type": "stream",
          "name": "stderr",
          "text": [
            "/usr/local/lib/python3.7/dist-packages/seaborn/_decorators.py:43: FutureWarning: Pass the following variable as a keyword arg: x. From version 0.12, the only valid positional argument will be `data`, and passing other arguments without an explicit keyword will result in an error or misinterpretation.\n",
            "  FutureWarning\n"
          ]
        },
        {
          "output_type": "execute_result",
          "data": {
            "text/plain": [
              "<matplotlib.axes._subplots.AxesSubplot at 0x7f4d27dc9050>"
            ]
          },
          "metadata": {},
          "execution_count": 20
        },
        {
          "output_type": "display_data",
          "data": {
            "image/png": "[encoded data removed]",
            "text/plain": [
              "<Figure size 1440x720 with 1 Axes>"
            ]
          },
          "metadata": {
            "needs_background": "light"
          }
        }
      ]
    },
    {
      "cell_type": "markdown",
      "metadata": {
        "id": "t-oBuSUe5htT"
      },
      "source": [
        "# Data preprocessing"
      ]
    },
    {
      "cell_type": "code",
      "metadata": {
        "execution": {
          "iopub.status.busy": "2021-10-19T16:59:42.766787Z",
          "iopub.execute_input": "2021-10-19T16:59:42.767442Z",
          "iopub.status.idle": "2021-10-19T16:59:42.968917Z",
          "shell.execute_reply.started": "2021-10-19T16:59:42.767399Z",
          "shell.execute_reply": "2021-10-19T16:59:42.968029Z"
        },
        "trusted": true,
        "id": "B22hEwVp5htU"
      },
      "source": [
        "from sklearn.preprocessing import LabelEncoder\n",
        "encoder = LabelEncoder()\n",
        "bangla_train.category = encoder.fit_transform(bangla_train['category'])\n",
        "bangla_test.category = encoder.fit_transform(bangla_test['category'])"
      ],
      "execution_count": 21,
      "outputs": []
    },
    {
      "cell_type": "code",
      "metadata": {
        "execution": {
          "iopub.status.busy": "2021-10-19T16:59:42.971794Z",
          "iopub.execute_input": "2021-10-19T16:59:42.972046Z",
          "iopub.status.idle": "2021-10-19T16:59:42.981001Z",
          "shell.execute_reply.started": "2021-10-19T16:59:42.972012Z",
          "shell.execute_reply": "2021-10-19T16:59:42.980337Z"
        },
        "trusted": true,
        "colab": {
          "base_uri": "https://localhost:8080/",
          "height": 363
        },
        "id": "wkMA1AhB5htU",
        "outputId": "57a2eeba-fb17-49cc-e209-670335378b4c"
      },
      "source": [
        "bangla_train.head(10)"
      ],
      "execution_count": 22,
      "outputs": [
        {
          "output_type": "execute_result",
          "data": {
            "text/html": [
              "<div>\n",
              "<style scoped>\n",
              "    .dataframe tbody tr th:only-of-type {\n",
              "        vertical-align: middle;\n",
              "    }\n",
              "\n",
              "    .dataframe tbody tr th {\n",
              "        vertical-align: top;\n",
              "    }\n",
              "\n",
              "    .dataframe thead th {\n",
              "        text-align: right;\n",
              "    }\n",
              "</style>\n",
              "<table border=\"1\" class=\"dataframe\">\n",
              "  <thead>\n",
              "    <tr style=\"text-align: right;\">\n",
              "      <th></th>\n",
              "      <th>category</th>\n",
              "      <th>text</th>\n",
              "      <th>cleanText</th>\n",
              "    </tr>\n",
              "  </thead>\n",
              "  <tbody>\n",
              "    <tr>\n",
              "      <th>0</th>\n",
              "      <td>0</td>\n",
              "      <td>বাংলাদেশে সফররত বিশ্ব বাণিজ্য সংস্থা (ডব্লিউট...</td>\n",
              "      <td>বাংলাদেশে    সফররত    বিশ্ব    বাণিজ্য    সং...</td>\n",
              "    </tr>\n",
              "    <tr>\n",
              "      <th>1</th>\n",
              "      <td>4</td>\n",
              "      <td>ইউরোপিয়ান ফুটবলে আজ ঝড় বয়ে যাচ্ছে। একদিকে সংবা...</td>\n",
              "      <td>ইউরোপিয়ান    ফুটবলে    বয়ে    একদিকে    সংবা...</td>\n",
              "    </tr>\n",
              "    <tr>\n",
              "      <th>2</th>\n",
              "      <td>3</td>\n",
              "      <td>বিজেপির নেতৃত্বে ভারতের উত্তর প্রদেশ থেকে শুরু...</td>\n",
              "      <td>বিজেপির    নেতৃত্বে    ভারতের    উত্তর    প্...</td>\n",
              "    </tr>\n",
              "    <tr>\n",
              "      <th>3</th>\n",
              "      <td>5</td>\n",
              "      <td>নারায়ণগঞ্জের সোনারগাঁ উপজেলার একটি সরকারি প্র...</td>\n",
              "      <td>নারায়ণগঞ্জের    সোনারগাঁ    উপজেলার    সরকা...</td>\n",
              "    </tr>\n",
              "    <tr>\n",
              "      <th>4</th>\n",
              "      <td>4</td>\n",
              "      <td>‘ছাই থেকে ছাই, ধুলো থেকে ধুলো...’ আধ্যাত্মিক ক...</td>\n",
              "      <td>ছাই    ছাই    ধুলো    ধুলো    আধ্যাত্মিক    ...</td>\n",
              "    </tr>\n",
              "    <tr>\n",
              "      <th>5</th>\n",
              "      <td>6</td>\n",
              "      <td>খুদে ব্লগ লেখার জনপ্রিয় সাইট টুইটার এখন বাংলা ...</td>\n",
              "      <td>খুদে    ব্লগ    লেখার    জনপ্রিয়    সাইট    ...</td>\n",
              "    </tr>\n",
              "    <tr>\n",
              "      <th>6</th>\n",
              "      <td>2</td>\n",
              "      <td>মুক্তির প্রথম দিনেই অক্ষয় কুমার অভিনীত ‘কেশরি’...</td>\n",
              "      <td>মুক্তির    প্রথম    দিনেই    অক্ষয়    কুমার ...</td>\n",
              "    </tr>\n",
              "    <tr>\n",
              "      <th>7</th>\n",
              "      <td>2</td>\n",
              "      <td>আজমেরী আশা ও পিয়া বিপাশা দুজনে সম্পর্কে বোন। ব...</td>\n",
              "      <td>আজমেরী    আশা    পিয়া    বিপাশা    দুজনে    ...</td>\n",
              "    </tr>\n",
              "    <tr>\n",
              "      <th>8</th>\n",
              "      <td>3</td>\n",
              "      <td>ভেনেজুয়েলার সুপ্রিম কোর্টের বিচারপতি ক্রিস্টিয়...</td>\n",
              "      <td>ভেনেজুয়েলার    সুপ্রিম    কোর্টের    বিচারপত...</td>\n",
              "    </tr>\n",
              "    <tr>\n",
              "      <th>9</th>\n",
              "      <td>1</td>\n",
              "      <td>বহুনির্বাচনি প্রশ্নোত্তরপ্রিয় পরীক্ষার্থী, আজ ...</td>\n",
              "      <td>বহুনির্বাচনি    প্রশ্নোত্তরপ্রিয়    পরীক্ষার...</td>\n",
              "    </tr>\n",
              "  </tbody>\n",
              "</table>\n",
              "</div>"
            ],
            "text/plain": [
              "   category  ...                                          cleanText\n",
              "0         0  ...    বাংলাদেশে    সফররত    বিশ্ব    বাণিজ্য    সং...\n",
              "1         4  ...    ইউরোপিয়ান    ফুটবলে    বয়ে    একদিকে    সংবা...\n",
              "2         3  ...    বিজেপির    নেতৃত্বে    ভারতের    উত্তর    প্...\n",
              "3         5  ...    নারায়ণগঞ্জের    সোনারগাঁ    উপজেলার    সরকা...\n",
              "4         4  ...    ছাই    ছাই    ধুলো    ধুলো    আধ্যাত্মিক    ...\n",
              "5         6  ...    খুদে    ব্লগ    লেখার    জনপ্রিয়    সাইট    ...\n",
              "6         2  ...    মুক্তির    প্রথম    দিনেই    অক্ষয়    কুমার ...\n",
              "7         2  ...    আজমেরী    আশা    পিয়া    বিপাশা    দুজনে    ...\n",
              "8         3  ...    ভেনেজুয়েলার    সুপ্রিম    কোর্টের    বিচারপত...\n",
              "9         1  ...    বহুনির্বাচনি    প্রশ্নোত্তরপ্রিয়    পরীক্ষার...\n",
              "\n",
              "[10 rows x 3 columns]"
            ]
          },
          "metadata": {},
          "execution_count": 22
        }
      ]
    },
    {
      "cell_type": "code",
      "metadata": {
        "execution": {
          "iopub.status.busy": "2021-10-19T16:59:42.982473Z",
          "iopub.execute_input": "2021-10-19T16:59:42.982946Z",
          "iopub.status.idle": "2021-10-19T16:59:43.003957Z",
          "shell.execute_reply.started": "2021-10-19T16:59:42.982908Z",
          "shell.execute_reply": "2021-10-19T16:59:43.003109Z"
        },
        "trusted": true,
        "colab": {
          "base_uri": "https://localhost:8080/"
        },
        "id": "1boeSUoi5htW",
        "outputId": "dc050b48-3a8a-4e33-f86e-f7de98f0e379"
      },
      "source": [
        "max(bangla_train.category)"
      ],
      "execution_count": 23,
      "outputs": [
        {
          "output_type": "execute_result",
          "data": {
            "text/plain": [
              "6"
            ]
          },
          "metadata": {},
          "execution_count": 23
        }
      ]
    },
    {
      "cell_type": "code",
      "metadata": {
        "execution": {
          "iopub.status.busy": "2021-10-19T16:59:43.008894Z",
          "iopub.execute_input": "2021-10-19T16:59:43.009568Z",
          "iopub.status.idle": "2021-10-19T16:59:43.020686Z",
          "shell.execute_reply.started": "2021-10-19T16:59:43.009529Z",
          "shell.execute_reply": "2021-10-19T16:59:43.019823Z"
        },
        "trusted": true,
        "colab": {
          "base_uri": "https://localhost:8080/",
          "height": 363
        },
        "id": "s3lvzhOc5htW",
        "outputId": "9ee28d9e-712e-4f95-a1d7-0763d9567632"
      },
      "source": [
        "bangla_test.head(10)"
      ],
      "execution_count": 24,
      "outputs": [
        {
          "output_type": "execute_result",
          "data": {
            "text/html": [
              "<div>\n",
              "<style scoped>\n",
              "    .dataframe tbody tr th:only-of-type {\n",
              "        vertical-align: middle;\n",
              "    }\n",
              "\n",
              "    .dataframe tbody tr th {\n",
              "        vertical-align: top;\n",
              "    }\n",
              "\n",
              "    .dataframe thead th {\n",
              "        text-align: right;\n",
              "    }\n",
              "</style>\n",
              "<table border=\"1\" class=\"dataframe\">\n",
              "  <thead>\n",
              "    <tr style=\"text-align: right;\">\n",
              "      <th></th>\n",
              "      <th>category</th>\n",
              "      <th>text</th>\n",
              "      <th>cleanText</th>\n",
              "    </tr>\n",
              "  </thead>\n",
              "  <tbody>\n",
              "    <tr>\n",
              "      <th>0</th>\n",
              "      <td>1</td>\n",
              "      <td>অধ্যায়-২প্রিয় পরীক্ষার্থী, আজ তথ্য ও যোগাযোগ প...</td>\n",
              "      <td>অধ্যায়    প্রিয়    পরীক্ষার্থী    তথ্য    যো...</td>\n",
              "    </tr>\n",
              "    <tr>\n",
              "      <th>1</th>\n",
              "      <td>4</td>\n",
              "      <td>স্পিন, স্পিন, স্পিন। লর্ডসে ইয়াসির শাহ্‌র লেগ ...</td>\n",
              "      <td>স্পিন    স্পিন    স্পিন    লর্ডসে    ইয়াসির ...</td>\n",
              "    </tr>\n",
              "    <tr>\n",
              "      <th>2</th>\n",
              "      <td>3</td>\n",
              "      <td>সিরিয়ার উত্তর-পশ্চিমাঞ্চলে গতকাল রোববার বিমান...</td>\n",
              "      <td>সিরিয়ার    উত্তর    পশ্চিমাঞ্চলে    গতকাল  ...</td>\n",
              "    </tr>\n",
              "    <tr>\n",
              "      <th>3</th>\n",
              "      <td>3</td>\n",
              "      <td>দক্ষিণ আফ্রিকার কেপটাউন বিশ্ববিদ্যালয়ের (ইউসিট...</td>\n",
              "      <td>দক্ষিণ    আফ্রিকার    কেপটাউন    বিশ্ববিদ্যা...</td>\n",
              "    </tr>\n",
              "    <tr>\n",
              "      <th>4</th>\n",
              "      <td>6</td>\n",
              "      <td>সহজে ডিজিটাল আর্থিক সেবা দিতে অ্যাপ ও ডিজিটাল ...</td>\n",
              "      <td>সহজে    ডিজিটাল    আর্থিক    সেবা    অ্যাপ  ...</td>\n",
              "    </tr>\n",
              "    <tr>\n",
              "      <th>5</th>\n",
              "      <td>0</td>\n",
              "      <td>সাউথ বাংলা এগ্রিকালচার অ্যান্ড কমার্স (এসবিএসি...</td>\n",
              "      <td>সাউথ    বাংলা    এগ্রিকালচার    অ্যান্ড    ক...</td>\n",
              "    </tr>\n",
              "    <tr>\n",
              "      <th>6</th>\n",
              "      <td>2</td>\n",
              "      <td>কিছুদিন ধরেই বলিউডের বাতাসে ভেসে বেড়াচ্ছে আরবা...</td>\n",
              "      <td>কিছুদিন    ধরেই    বলিউডের    বাতাসে    ভেসে...</td>\n",
              "    </tr>\n",
              "    <tr>\n",
              "      <th>7</th>\n",
              "      <td>4</td>\n",
              "      <td>দুটি ইতিহাসের শেষ লাইন লেখা হলো তাঁর হাতে। গত ...</td>\n",
              "      <td>ইতিহাসের    শেষ    লাইন    লেখা    হাতে    অ...</td>\n",
              "    </tr>\n",
              "    <tr>\n",
              "      <th>8</th>\n",
              "      <td>4</td>\n",
              "      <td>চেচনিয়ার নেতা রমজান কাদিরভের বিরুদ্ধে মানবাধিক...</td>\n",
              "      <td>চেচনিয়ার    নেতা    রমজান    কাদিরভের    বির...</td>\n",
              "    </tr>\n",
              "    <tr>\n",
              "      <th>9</th>\n",
              "      <td>2</td>\n",
              "      <td>শুরু হচ্ছে ঢাকা আন্তর্জাতিক চলচ্চিত্র উৎসব। ১২...</td>\n",
              "      <td>শুরু    ঢাকা    আন্তর্জাতিক    চলচ্চিত্র    ...</td>\n",
              "    </tr>\n",
              "  </tbody>\n",
              "</table>\n",
              "</div>"
            ],
            "text/plain": [
              "   category  ...                                          cleanText\n",
              "0         1  ...    অধ্যায়    প্রিয়    পরীক্ষার্থী    তথ্য    যো...\n",
              "1         4  ...    স্পিন    স্পিন    স্পিন    লর্ডসে    ইয়াসির ...\n",
              "2         3  ...    সিরিয়ার    উত্তর    পশ্চিমাঞ্চলে    গতকাল  ...\n",
              "3         3  ...    দক্ষিণ    আফ্রিকার    কেপটাউন    বিশ্ববিদ্যা...\n",
              "4         6  ...    সহজে    ডিজিটাল    আর্থিক    সেবা    অ্যাপ  ...\n",
              "5         0  ...    সাউথ    বাংলা    এগ্রিকালচার    অ্যান্ড    ক...\n",
              "6         2  ...    কিছুদিন    ধরেই    বলিউডের    বাতাসে    ভেসে...\n",
              "7         4  ...    ইতিহাসের    শেষ    লাইন    লেখা    হাতে    অ...\n",
              "8         4  ...    চেচনিয়ার    নেতা    রমজান    কাদিরভের    বির...\n",
              "9         2  ...    শুরু    ঢাকা    আন্তর্জাতিক    চলচ্চিত্র    ...\n",
              "\n",
              "[10 rows x 3 columns]"
            ]
          },
          "metadata": {},
          "execution_count": 24
        }
      ]
    },
    {
      "cell_type": "code",
      "metadata": {
        "execution": {
          "iopub.status.busy": "2021-10-19T16:59:43.021948Z",
          "iopub.execute_input": "2021-10-19T16:59:43.022559Z",
          "iopub.status.idle": "2021-10-19T16:59:43.028790Z",
          "shell.execute_reply.started": "2021-10-19T16:59:43.022520Z",
          "shell.execute_reply": "2021-10-19T16:59:43.027970Z"
        },
        "trusted": true,
        "id": "9LCAKFkj5htW"
      },
      "source": [
        "bangla_train_x=bangla_train.cleanText[0:20000]\n",
        "bangla_test_x=bangla_test.cleanText[0:20000]\n",
        "bangla_train_y=bangla_train.category[0:20000]\n",
        "bangla_test_y=bangla_test.category[0:20000]"
      ],
      "execution_count": 25,
      "outputs": []
    },
    {
      "cell_type": "code",
      "metadata": {
        "execution": {
          "iopub.status.busy": "2021-10-19T16:59:43.030190Z",
          "iopub.execute_input": "2021-10-19T16:59:43.030456Z",
          "iopub.status.idle": "2021-10-19T16:59:43.039701Z",
          "shell.execute_reply.started": "2021-10-19T16:59:43.030423Z",
          "shell.execute_reply": "2021-10-19T16:59:43.038790Z"
        },
        "trusted": true,
        "colab": {
          "base_uri": "https://localhost:8080/"
        },
        "id": "HlvXT2AP5htW",
        "outputId": "2838b43b-01cd-440e-e858-b4dd04bd25f1"
      },
      "source": [
        "bangla_train_x.head()"
      ],
      "execution_count": 26,
      "outputs": [
        {
          "output_type": "execute_result",
          "data": {
            "text/plain": [
              "0      বাংলাদেশে    সফররত    বিশ্ব    বাণিজ্য    সং...\n",
              "1      ইউরোপিয়ান    ফুটবলে    বয়ে    একদিকে    সংবা...\n",
              "2      বিজেপির    নেতৃত্বে    ভারতের    উত্তর    প্...\n",
              "3      নারায়ণগঞ্জের    সোনারগাঁ    উপজেলার    সরকা...\n",
              "4      ছাই    ছাই    ধুলো    ধুলো    আধ্যাত্মিক    ...\n",
              "Name: cleanText, dtype: object"
            ]
          },
          "metadata": {},
          "execution_count": 26
        }
      ]
    },
    {
      "cell_type": "code",
      "metadata": {
        "execution": {
          "iopub.status.busy": "2021-10-19T16:59:43.041463Z",
          "iopub.execute_input": "2021-10-19T16:59:43.042135Z",
          "iopub.status.idle": "2021-10-19T16:59:43.049219Z",
          "shell.execute_reply.started": "2021-10-19T16:59:43.042094Z",
          "shell.execute_reply": "2021-10-19T16:59:43.048285Z"
        },
        "trusted": true,
        "colab": {
          "base_uri": "https://localhost:8080/"
        },
        "id": "GwYiB1fJ5htX",
        "outputId": "2c9a3744-d5a0-40f2-d994-c3254e2e8211"
      },
      "source": [
        "bangla_train_y.head()"
      ],
      "execution_count": 27,
      "outputs": [
        {
          "output_type": "execute_result",
          "data": {
            "text/plain": [
              "0    0\n",
              "1    4\n",
              "2    3\n",
              "3    5\n",
              "4    4\n",
              "Name: category, dtype: int64"
            ]
          },
          "metadata": {},
          "execution_count": 27
        }
      ]
    },
    {
      "cell_type": "code",
      "metadata": {
        "execution": {
          "iopub.status.busy": "2021-10-19T16:59:43.050824Z",
          "iopub.execute_input": "2021-10-19T16:59:43.051407Z",
          "iopub.status.idle": "2021-10-19T16:59:43.058771Z",
          "shell.execute_reply.started": "2021-10-19T16:59:43.051368Z",
          "shell.execute_reply": "2021-10-19T16:59:43.057888Z"
        },
        "trusted": true,
        "colab": {
          "base_uri": "https://localhost:8080/"
        },
        "id": "opE8xsG_5htX",
        "outputId": "ad30b25a-9c95-4b57-8b71-544634f71bd7"
      },
      "source": [
        "print(\"type of text_train: {}\".format(type(bangla_train_x)))\n",
        "print(\"length of text_train: {}\".format(len(bangla_train_x)))\n",
        "print(\"text_train[1]:\\n{}\".format(bangla_train_x[2]))"
      ],
      "execution_count": 28,
      "outputs": [
        {
          "output_type": "stream",
          "name": "stdout",
          "text": [
            "type of text_train: <class 'pandas.core.series.Series'>\n",
            "length of text_train: 20000\n",
            "text_train[1]:\n",
            "  বিজেপির    নেতৃত্বে    ভারতের    উত্তর    প্রদেশ    শুরু    বিভিন্ন    ঐতিহাসিক    স্থানের    নাম    বদলের    ঝাপটা    পশ্চিমবঙ্গে    লেগেছে    পশ্চিমবঙ্গের    উত্তর    দিনাজপুরের    ইসলামপুরের    নাম    ঈশ্বরপুর    রাখার    উদ্যোগ    নিয়েছে    বিশ্ব    হিন্দু    পরিষদ    ভিএইচপি    ইসলামপুরে    ভিএইচপি    পরিচালিত    সরস্বতী    শিশু    মন্দির    বিদ্যামন্দির    স্কুলের    সাইনবোর্ডে    ইতিমধ্যে    ইসলামপুরের    ঈশ্বরপুর    লেখা    এভাবে    নাম    বদল    এলাকায়    ঘোলা    শুরু    হুট    বিদ্যালয়ের    সাইনবোর্ডে    কীভাবে    ইসলামপুরের    স্থলে    ঈশ্বরপুর    লেখা    প্রশ্ন    উঠেছে    রাজ্যের    শিক্ষামন্ত্রী    পার্থ    চট্টোপাধ্যায়    বিষয়টি    তদন্ত    বিশ্ব    হিন্দু    পরিষদের    পূর্ব    ভারতের    সংগঠন    সম্পাদক    শচীন্দ্রনাথ    সিং    মুসলিম    শাসকেরা    নাম    চাপিয়ে    দিয়েছিল    ঐতিহাসিকভাবে    জায়গার    নাম    ঈশ্বরপুর    স্কুলের    সাইনবোর্ডে    ঈশ্বরপুর    লেখা    ইতিহাসবিদ    গৌতম    ভদ্র    ইসলামপুর    নামের    চমৎকার    যোগসূত্র    ইসলাম    আরবি    শব্দ    তেমনি    পুর    বৈদিক    শব্দ    ভারতীয়    সংস্কৃতি    ইতিহাসবিদ    রজতকান্ত    রায়    যুক্তিতে    পশ্চিমবঙ্গের    নাম    বদল    ইসলামপুরের    নাম    বদলের    যুক্তি    খাটে    একধরনের    গেরুয়া    সন্ত্রাস    বিজেপির    উদ্যোগে    ভারতের    বিভিন্ন    ঐতিহাসিক    স্থানের    নাম    বদলের    খেলা    চলছে    ভারতের    ঐতিহাসিক    স্থানের    নাম    পুরোনো    নাম    ফিরিয়ে    আনার    লড়াই    শুরু    বিজেপি    উত্তর    প্রদেশের    বিজেপি    সরকার    লড়াইয়ে    এগিয়ে    রাজ্যগুলোও    বছর    ভারতের    লোকসভা    নির্বাচন    নির্বাচনে    পার    পাওয়ার    মোদি    হিন্দুত্ববাদকে    আঁকড়ে    নাম    বদলের    লড়াইয়ে    নেমে    পড়েছেন    বিভিন্ন    জনমত    সমীক্ষায়    আভাস    মোদির    পায়ের    তলার    মাটি    সরে  \n"
          ]
        }
      ]
    },
    {
      "cell_type": "markdown",
      "metadata": {
        "id": "FJa4py2y5htX"
      },
      "source": [
        "**We will now represent the text as a bag of words**"
      ]
    },
    {
      "cell_type": "code",
      "metadata": {
        "execution": {
          "iopub.status.busy": "2021-10-19T16:59:43.060508Z",
          "iopub.execute_input": "2021-10-19T16:59:43.060801Z",
          "iopub.status.idle": "2021-10-19T16:59:52.090618Z",
          "shell.execute_reply.started": "2021-10-19T16:59:43.060766Z",
          "shell.execute_reply": "2021-10-19T16:59:52.089845Z"
        },
        "trusted": true,
        "colab": {
          "base_uri": "https://localhost:8080/"
        },
        "id": "M9ySrLnR5htY",
        "outputId": "28ca7659-0cde-4eb0-8e93-2fcd51e54d42"
      },
      "source": [
        "#count vectorizer does tokenization and vocabulary building\n",
        "from sklearn.feature_extraction.text import CountVectorizer\n",
        "vect = CountVectorizer().fit(bangla_train_x)\n",
        "#built-in transform method transforms the vector into bag-of-words-representation\n",
        "bangla_train_X = vect.transform(bangla_train_x)\n",
        "print(\"X_train:\\n{}\".format(repr(bangla_train_X)))"
      ],
      "execution_count": 29,
      "outputs": [
        {
          "output_type": "stream",
          "name": "stdout",
          "text": [
            "X_train:\n",
            "<20000x15547 sparse matrix of type '<class 'numpy.int64'>'\n",
            "\twith 1457348 stored elements in Compressed Sparse Row format>\n"
          ]
        }
      ]
    },
    {
      "cell_type": "code",
      "metadata": {
        "_kg_hide-output": false,
        "execution": {
          "iopub.status.busy": "2021-10-19T16:59:52.092257Z",
          "iopub.execute_input": "2021-10-19T16:59:52.092531Z",
          "iopub.status.idle": "2021-10-19T16:59:52.112635Z",
          "shell.execute_reply.started": "2021-10-19T16:59:52.092495Z",
          "shell.execute_reply": "2021-10-19T16:59:52.111952Z"
        },
        "trusted": true,
        "colab": {
          "base_uri": "https://localhost:8080/"
        },
        "id": "rc_WEuSi5htY",
        "outputId": "23b0445e-c4dd-40f2-9467-021dd2526bd1"
      },
      "source": [
        "print(\"Vocabulary size: {}\".format(len(vect.vocabulary_)))\n",
        "print(\"Vocabulary content:\\n {}\".format(vect.vocabulary_))"
      ],
      "execution_count": 30,
      "outputs": [
        {
          "output_type": "stream",
          "name": "stdout",
          "text": [
            "Vocabulary size: 15547\n",
            "Vocabulary content:\n",
            " {'সফররত': 14397, 'ডব': 7317, 'উট': 2423, 'মহ': 11537, 'পর': 9800, 'লক': 12999, 'এইচইএম': 2916, 'রব': 12564, 'আজ': 830, 'জন': 6254, 'তই': 7575, 'তর': 7839, 'রফত': 12555, 'ওয়': 4275, 'ষয়ট': 14075, 'ইস': 2163, 'সম': 14464, 'সহজ': 14651, 'ভব': 10919, 'চলত': 5945, 'বছর': 10267, 'বপ': 10492, 'নট': 9009, 'কস': 4848, 'লস': 13380, 'অর': 303, 'অগ': 34, 'রগত': 12180, 'শক': 13510, 'তব': 7774, 'য়ন': 15359, 'বল': 10638, 'নত': 9040, 'শগ': 13548, 'এলড': 3776, 'মঙ': 11176, 'গলব': 5481, 'জধ': 6251, 'রগ': 12175, 'এমইএ': 3544, 'আয়': 1374, 'মধ': 11296, 'যহ': 11912, 'নভ': 9195, 'সভ': 14452, 'আল': 1215, 'চক': 5719, 'বক': 10201, 'এসব': 3959, 'কথ': 4504, 'ওর': 4215, 'অন': 111, 'রধ': 12473, 'অত': 81, 'যমন': 11851, 'আহম': 1342, 'এমইএর': 3551, 'পত': 9629, 'শহ': 13787, 'সঞ': 14241, 'লন': 13195, 'এফব': 3493, 'আই': 410, 'আকর': 763, 'উদ': 2490, 'সচ': 14219, 'হব': 14908, 'হজ': 14812, 'আত': 904, 'ইসল': 2194, 'রপ': 12514, 'মদ': 11272, 'রম': 12627, 'উপস': 2607, 'আসছ': 1289, 'থন': 8055, 'উন': 2512, 'আশ': 1266, 'করছ': 4678, 'ইন': 1860, 'বহ': 10748, 'পক': 9502, 'ষয়': 14067, 'ইত': 1840, 'খব': 5015, 'বর': 10543, 'তম': 7811, 'সফর': 14389, 'চন': 5798, 'করত': 4704, 'সময়': 14515, 'রশ': 12748, 'উত': 2477, 'বজ': 10293, 'আর': 1100, 'থস': 8141, 'নয়নসহ': 9426, 'ষমত': 14021, 'সঠ': 14254, 'পথ': 9645, 'এগ': 3208, 'মন': 11301, 'খত': 4981, 'তগ': 7648, 'তবত': 7783, 'একট': 3142, 'কঠ': 4466, 'নই': 8771, 'পট': 9567, 'বই': 10139, 'অধ': 108, 'সমর': 14498, 'করল': 4747, 'কম': 4616, 'কর': 4666, 'বঞ': 10321, 'বব': 10509, 'হস': 15013, 'তক': 7601, 'সহ': 14642, 'য়ত': 15333, 'করণ': 4682, 'মওয়': 11116, 'ইউর': 1575, 'টবল': 6914, 'বয়': 10823, 'একদ': 3149, 'দম': 8335, 'যমগ': 11839, 'ইম': 2013, 'রক': 12106, 'এসজ': 3951, 'ড়ছ': 15182, 'দরক': 8363, 'সর': 14541, 'আদ': 920, 'লত': 13141, 'রস': 12766, 'টক': 6744, 'এখন': 3203, 'কল': 4760, 'রথম': 12430, 'খবর': 5019, 'য়র': 15445, 'নল': 9268, 'লজ': 13096, 'শত': 13590, 'চয়ত': 6002, 'ঘন': 5597, 'বন': 10424, 'ড়ত': 15187, 'ইছ': 1723, 'ইএসপ': 1643, 'এন': 3275, 'দলবদল': 8435, 'নহ': 9348, 'রল': 12727, 'ভন': 10906, 'ডফ': 7313, 'জনও': 6273, 'ইট': 1766, 'ছব': 6066, 'কছ': 4408, 'সত': 14264, 'লসন': 13392, 'জড়': 6529, 'সক': 14179, 'ফর': 10026, 'মম': 11395, 'টদ': 6850, 'নও': 8844, 'পন': 9721, 'শন': 13624, 'রচ': 12204, 'জব': 6398, 'আস': 1281, 'এম': 3513, 'টস': 7033, 'এয়': 3987, 'ইনস': 1916, 'ধব': 8636, 'দল': 8405, 'মত': 11242, 'এএস': 3055, 'ডটকম': 7271, 'আন': 940, 'কভ': 4610, 'অঙ': 52, 'রত': 12367, 'রদ': 12449, 'ঐত': 3995, 'বদল': 10400, 'পশ': 9867, 'মবঙ': 11377, 'জপ': 6382, 'মপ': 11349, 'ঈশ': 2255, 'বরপ': 10594, 'ষদ': 13976, 'এইচপ': 2956, 'সরস': 14600, 'বত': 10354, 'ইনব': 1903, 'এভ': 3509, 'এল': 3711, 'লয়': 13436, 'থল': 8121, 'উঠ': 2446, 'চট': 5775, 'তদন': 7706, 'গঠন': 5211, 'দক': 8181, 'শচ': 13562, 'রন': 12481, 'সল': 14605, 'য়গ': 15294, 'সব': 14412, 'ভদ': 10899, 'চমৎক': 5872, 'গস': 5497, 'আরব': 1196, 'শব': 13698, 'রজতক': 12236, 'একধরন': 3159, 'সন': 14310, 'চলছ': 5942, 'লড়': 13431, 'সরক': 14547, 'ইয়': 2208, 'যগ': 11669, 'কসভ': 4874, 'কড়': 4893, 'পড়': 9916, 'জনমত': 6343, 'আভ': 1054, 'তল': 7910, 'ণগঞ': 7450, 'উপজ': 2559, 'থম': 8090, 'লয': 13348, 'একজন': 3124, 'সহক': 14645, 'ষক': 13839, 'সহকর': 14646, 'অভ': 268, 'ওয': 4214, 'যবস': 11820, 'ঊর': 2816, 'বতন': 10364, 'হয': 14934, 'মকর': 11135, 'ইকব': 1678, 'ষকসহ': 13886, 'ঘটন': 5580, 'যত': 11727, 'তভ': 7805, 'ষম': 14017, 'যক': 11636, 'রজনক': 12242, 'ঘট': 5571, 'উল': 2687, 'সময': 14497, 'এরই': 3677, 'ষকক': 13851, 'রধর': 12476, 'মক': 11118, 'অবস': 248, 'ভয': 10959, 'অব': 211, 'লম': 13332, 'অসম': 372, 'পড': 9598, 'ধরন': 8671, 'ঘটব': 5582, 'শফ': 13696, 'রণ': 12303, 'গতক': 5298, 'ষকসম': 13884, 'আধ': 937, 'যবহ': 11822, 'থট': 8037, 'রঙ': 12194, 'গন': 5331, 'টত': 6842, 'গল': 5454, 'অস': 354, 'নব': 9131, 'থক': 8003, 'দশক': 8455, 'পরও': 9804, 'এত': 3253, 'উইক': 2278, 'নয়ব': 9429, 'পরবর': 9827, 'লঙ': 13082, 'রট': 12270, 'জয়': 6534, 'ধন': 8596, 'অবসর': 251, 'ঘর': 5625, 'আফ': 1013, 'একসময়': 3198, 'হত': 14848, 'লব': 13278, 'খবরট': 5031, 'অম': 280, 'অবদ': 229, 'যব': 11798, 'টশ': 7029, 'সপ': 14357, 'লগ': 13054, 'জনপ': 6324, 'বস': 10705, 'ইল': 2080, 'রয়': 12904, 'আইওএস': 591, 'তন': 7715, 'ইউক': 1550, 'বকদ': 10212, 'অপশন': 187, 'পছন': 9557, 'জম': 6422, 'আগ': 779, 'রহ': 12832, 'তথ': 7702, 'সদস': 14302, 'রও': 12083, 'য়ম': 15421, 'গভ': 5376, 'টর': 6973, 'অবলম': 243, 'অক': 22, 'শর': 13732, 'চলচ': 5940, 'উৎসব': 2770, 'ভক': 10868, 'তদ': 7704, 'গড়': 5527, 'ওপর': 4174, 'উপহ': 2614, 'যয়': 11927, 'নয়': 9364, 'অফ': 200, 'ষজ': 13900, 'আদর': 933, 'এট': 3229, 'ধর': 8663, 'দর': 8358, 'এনড': 3384, 'আজম': 847, 'মড': 11221, 'নয়ও': 9379, 'একসঙ': 3195, 'ঈদ': 2230, 'জনক': 6275, 'রচন': 12210, 'নয়শ': 9435, 'ঈম': 2247, 'টকট': 6755, 'যস': 11897, 'পগ': 9538, 'উৎসবক': 2774, 'এব': 3500, 'আরট': 1183, 'রপত': 12528, 'গত': 5294, 'একতরফ': 3146, 'মব': 11374, 'অনল': 135, 'শনক': 13633, 'ৎক': 15094, 'হয়র': 15073, 'ওঠ': 4141, 'আইন': 632, 'ষয়গ': 14073, 'ইভ': 1993, 'ড়ব': 15206, 'মল': 11456, 'ফল': 10060, 'কখন': 4380, 'নন': 9087, 'তরপ': 7879, 'য়ভ': 15420, 'নম': 9204, 'দন': 8258, 'নয়ন': 9398, 'পরন': 9818, 'ভরশ': 10983, 'হল': 14979, 'অবক': 212, 'ঠপ': 7148, 'জনসচ': 6361, 'তনত': 7731, 'অনগ': 115, 'রসরত': 12825, 'গক': 5148, 'পস': 9880, 'আইনশ': 653, 'খল': 5072, 'টগ': 6790, 'বদ': 10379, 'যম': 11831, 'ষত': 13963, 'লধন': 13185, 'ষগ': 13890, 'আনন': 962, 'দদ': 8255, 'য়ক': 15266, 'ভজনক': 10885, 'নজনক': 8981, 'যর': 11872, 'থত': 8045, 'ষকত': 13861, 'নক': 8865, 'কত': 4474, 'যন': 11766, 'রয': 12706, 'ভর': 10960, 'খস': 5088, 'লসঠ': 13389, 'তরট': 7860, 'ওব': 4194, 'তরঅধ': 7840, 'টনম': 6872, 'কণ': 4473, 'রই': 12008, 'মদপ': 11290, 'ওত': 4148, 'আম': 1058, 'গড়ত': 5537, 'আজক': 836, 'সবক': 14416, 'এদ': 3271, 'ডটকমক': 7272, 'আসল': 1322, 'যই': 11620, 'আটট': 886, 'একক': 3102, 'আব': 1028, 'গও': 5142, 'যরকম': 11874, 'এস': 3794, 'মস': 11494, 'ইসট': 2176, 'নতম': 9057, 'টফ': 6895, 'বছ': 10264, 'করণট': 4693, 'চর': 5874, 'সবচ': 14421, 'খয': 5048, 'ইড': 1807, 'ডস': 7380, 'সমস': 14509, 'এখ': 3201, 'রথমব': 12440, 'বখ': 10233, 'মড়': 11576, 'পড়ব': 9926, 'অবর': 241, 'ঙত': 5674, 'শহরট': 13796, 'চল': 5930, 'আটক': 869, 'ৎস': 15134, 'লড়ছ': 13432, 'কপ': 4567, 'সহয': 14684, 'এক': 3083, 'পসহ': 9912, 'একয': 3179, 'অপর': 175, 'আহর': 1356, 'গঠনট': 5221, 'ঘণ': 5589, 'দখল': 8208, 'নগ': 8904, 'পদ': 9672, 'হটত': 14831, 'যভ': 11826, 'ষণ': 13912, 'এসওএইচআর': 3933, 'শহর': 13789, 'তবর': 7793, 'রপন': 12533, 'বশ': 10697, 'টট': 6828, 'দখলক': 8211, 'এমআই': 3515, 'চজন': 5762, 'রফ': 12549, 'অসমর': 380, 'রজনই': 12241, 'অপ': 146, 'পণ': 9602, 'উস': 2723, 'নড': 9030, 'টজ': 6809, 'এএলট': 3051, 'এসট': 3952, 'এএমড': 3043, 'এমড': 3642, 'এইচএম': 2932, 'এইচড': 2953, 'ফক': 9959, 'সকন': 14190, 'এইচ': 2901, 'এমএক': 3567, 'সই': 14108, 'এলই': 3720, 'এড': 3234, 'নস': 9301, 'ডড': 7282, 'এলইড': 3723, 'এলজ': 3772, 'ইএএইচ': 1590, 'এফ': 3411, 'ইইউ': 1453, 'কন': 4528, 'সট': 14242, 'এসএ': 3849, 'লভ': 13321, 'ডম': 7335, 'আইপ': 660, 'এমপ': 3665, 'এলব': 3784, 'এপসন': 3410, 'এমএল': 3600, 'বহনয': 10769, 'জনম': 6342, 'চলম': 5959, 'অনশন': 138, 'আহ': 1330, 'রমন': 12677, 'ভম': 10958, 'সমন': 14485, 'ঠক': 7098, 'মঞ': 11209, 'খপ': 5009, 'উঠছ': 2447, 'অচ': 53, 'ইঙ': 1713, 'থলবন': 8134, 'ময়': 11578, 'জস': 6506, 'নজ': 8962, 'রহম': 12879, 'উচ': 2394, 'চপর': 5832, 'টমস': 6958, 'আসব': 1308, 'জনদ': 6316, 'মতব': 11259, 'গণম': 5276, 'করদ': 4711, 'কতর': 4497, 'পব': 9775, 'নদ': 9067, 'নমন': 9219, 'এসড': 3953, 'ষয়ক': 14070, 'বয়ক': 10826, 'ময়মনস': 11601, 'আকবর': 749, 'কদ': 4512, 'আমদ': 1072, 'হজয': 14821, 'জনস': 6358, 'মর': 11416, 'বহন': 10757, 'যটনমন': 11718, 'মমন': 11405, 'উর': 2668, 'লসহ': 13412, 'ছয়ট': 6102, 'উড়': 2796, 'ইকন': 1672, 'ডল': 7355, 'উড': 2455, 'ডয়নক': 7416, 'আগস': 802, 'চলব': 5956, 'জমজম': 6426, 'তবন': 7788, 'তখ': 7637, 'সজ': 14229, 'তরল': 7896, 'মগ': 11148, 'মসহ': 11533, 'বরসহ': 10635, 'লদ': 13174, 'সরণ': 14560, 'রনগর': 12487, 'রহণ': 12846, 'ভবন': 10933, 'আটকক': 873, 'বগ': 10237, 'তহ': 7965, 'গঞ': 5196, 'ইউন': 1563, 'এছ': 3217, 'আইআইট': 421, 'ষর': 14028, 'খরচ': 5052, 'তপনক': 7763, 'শকত': 13523, 'কক': 4362, 'আওত': 725, 'উপলক': 2600, 'ভবনগ': 10938, 'গর': 5414, 'জড': 6226, 'আনত': 960, 'এমনট': 3657, 'টন': 6856, 'সতর': 14269, 'কশন': 4813, 'মলপল': 11471, 'এর': 3675, 'নশ': 9283, 'নজন': 8977, 'দগ': 8220, 'আছ': 821, 'গম': 5382, 'উজ': 2400, 'রখ': 12167, 'অট': 74, 'কশ': 4808, 'জশ': 6505, 'ৎসক': 15136, 'যপ': 11773, 'অঞ': 72, 'গড়ছ': 5535, 'টপ': 6880, 'ইজ': 1728, 'সটজ': 14245, 'আইট': 619, 'উইথ': 2298, 'ইএস': 1633, 'ঞত': 6661, 'রজন': 12240, 'উৎস': 2759, 'ইগ': 1696, 'লপ': 13244, 'টআপ': 6692, 'নওশ': 8860, 'আফর': 1024, 'এসএম': 3883, 'ইক': 1663, 'দরবনএক': 8391, 'তরফদ': 7884, 'আক': 733, 'যটনশ': 11719, 'নবসম': 9190, 'যতম': 11742, 'লপম': 13260, 'কনফ': 4555, 'হসপ': 15022, 'রছ': 12223, 'পতম': 9642, 'ডভ': 7332, 'সড': 14255, 'চশ': 5967, 'টসহ': 7074, 'রড': 12284, 'আসন': 1295, 'সগ': 14210, 'নমণ': 9212, 'উৎক': 2746, 'ভবত': 10931, 'তমহ': 7834, 'শট': 13570, 'মহড়': 11569, 'খছ': 4965, 'আইস': 677, 'পণও': 9604, 'সময়স': 14532, 'বরই': 10545, 'উপদ': 2565, 'পরম': 9830, 'রণতর': 12330, 'অলট': 330, 'লঞ': 13107, 'যবর': 11816, 'রসঙ': 12776, 'রতর': 12409, 'পদক': 9677, 'পরই': 9802, 'উপক': 2538, 'লকভ': 13024, 'সফলভ': 14409, 'বলছ': 10650, 'উপ': 2533, 'এমনক': 3655, 'খণ': 4980, 'সবশ': 14444, 'জর': 6442, 'একমত': 3176, 'বণ': 10348, 'অঝ': 71, 'আবহ': 1047, 'দপ': 8302, 'নয়ট': 9392, 'শই': 13485, 'আচ': 806, 'ছন': 6057, 'আলম': 1241, 'শসহ': 13786, 'আশপ': 1273, 'দমক': 8336, 'পম': 9789, 'দশম': 8478, 'এনপ': 3390, 'হরত': 14958, 'লহ': 13417, 'জত': 6230, 'নগর': 8923, 'ঙচ': 5671, 'এপ': 3403, 'লকসহ': 13047, 'হওয': 14763, 'ময': 11413, 'ধশত': 8706, 'সছ': 14228, 'জতন': 6237, 'খরচও': 5054, 'টছ': 6806, 'শল': 13754, 'ণত': 7469, 'রকল': 12158, 'আয়তন': 1393, 'যট': 11704, 'জট': 6217, 'যটন': 11714, 'এসস': 3975, 'এমনই': 3650, 'এমনভ': 3661, 'ইচ': 1714, 'শহরগ': 13794, 'উপলব': 2602, 'ষভ': 14016, 'যটনক': 11715, 'চলট': 5944, 'যটকদ': 11708, 'গরও': 5416, 'যটক': 11705, 'উমল': 2665, 'নয়নক': 9401, 'ডনভ': 7304, 'যকর': 11649, 'যদ': 11751, 'নবন': 9160, 'রবন': 12595, 'শহরক': 13793, 'কও': 4354, 'বভ': 10526, 'তহব': 7969, 'ষণশ': 13956, 'কনস': 4564, 'রদর': 12465, 'শও': 13504, 'শলব': 13767, 'তকম': 7620, 'চরম': 5915, 'কতট': 4488, 'সফল': 14401, 'ণব': 7504, 'ণফ': 7500, 'উঞ': 2422, 'জসন': 6512, 'লআউট': 12949, 'এজ': 3219, 'জকথ': 6155, 'সঙ': 14217, 'জআপ': 6116, 'এফএম': 3459, 'পথচল': 9654, 'দয়': 8515, 'রভ': 12618, 'জয়সহ': 6580, 'আয়ন': 1397, 'পনদ': 9736, 'লউদ': 12978, 'আকন': 741, 'আফজ': 1018, 'সকম': 14196, 'দলক': 8416, 'য়নস': 15399, 'টসম': 7063, 'ছকট': 6025, 'কষত': 4845, 'হয়': 15032, 'চয়ই': 5993, 'লও': 12994, 'সয়': 14723, 'অলআউট': 322, 'অপচ': 150, 'তছ': 7666, 'যখনই': 11664, 'কইনফ': 4320, 'ইউট': 1558, 'উব': 2622, 'রহস': 12895, 'যও': 11634, 'কঅন': 4293, 'রজ': 12227, 'রমশ': 12695, 'উয়': 2805, 'আপল': 1006, 'মজ': 11194, 'এনজয়': 3382, 'হচ': 14809, 'মট': 11210, 'আড়': 1363, 'দস': 8486, 'টব': 6902, 'পড়ল': 9927, 'আসত': 1293, 'ণট': 7465, 'ফলও': 10065, 'কআপ': 4298, 'উঠত': 2448, 'থবছর': 8079, 'ষজনক': 13904, 'ষব': 14010, 'যঞ': 11703, 'জক': 6147, 'ইপ': 1928, 'ওভ': 4199, 'অনভ': 130, 'আবদ': 1035, 'কট': 4431, 'গছ': 5169, 'হর': 14938, 'ওদর': 4158, 'তয়ভস': 7986, 'য়ট': 15310, 'উইয়র': 2346, 'উৎ': 2745, 'ণদ': 7476, 'রসন': 12792, 'গতভ': 5307, 'ড়ট': 15185, 'বয়স': 10842, 'হরক': 14941, 'একঝলক': 3141, 'ইর': 2059, 'খট': 4974, 'উষ': 2721, 'রবধ': 12594, 'জয়প': 6557, 'রমণ': 12644, 'নর': 9236, 'খর': 5049, 'ভঙ': 10878, 'ড়খন': 15176, 'বদন': 10386, 'এইচএএল': 2923, 'পপত': 9766, 'নয়ছয়': 9385, 'তখন': 7639, 'কয়': 4909, 'কব': 4589, 'রকয়': 12166, 'শনসন': 13667, 'আইব': 664, 'আপনজন': 998, 'জকন': 6157, 'নজর': 8997, 'ওপ': 4172, 'সফ': 14368, 'ওল': 4234, 'এনট': 3383, 'সখ': 14207, 'ইউফ': 1568, 'য়জন': 15306, 'খরত': 5063, 'এসওএস': 3938, 'অলসপ': 341, 'তপ': 7751, 'করব': 4715, 'ছর': 6074, 'শনব': 13655, 'উইম': 2317, 'আনপ': 964, 'গড': 5235, 'আতঙ': 906, 'ইনসন': 1920, 'উশন': 2717, 'এশ': 3792, 'আইডলস': 627, 'ঘম': 5622, 'দরসহ': 8404, 'সদর': 14288, 'দফতর': 8313, 'ঞপ': 6666, 'এফএফ': 3454, 'আইড': 621, 'অবশ': 244, 'এসইউএফ': 3830, 'আঞ': 867, 'আইপএফএফ': 661, 'উপকরণ': 2543, 'ঠনগ': 7146, 'রণত': 12328, 'ঋণ': 2823, 'মনগর': 11314, 'সময়ও': 14519, 'গব': 5368, 'থমন': 8093, 'গভর': 5381, 'লনট': 13217, 'বলব': 10672, 'নভর': 9201, 'তট': 7682, 'আপন': 994, 'নজরদ': 9002, 'এরপর': 3696, 'থগ': 8026, 'যমক': 11836, 'ষয়বস': 14081, 'গঠ': 5200, 'কসচ': 4857, 'বও': 10198, 'গঠনগ': 5218, 'ষরত': 14038, 'আউয়': 723, 'সরওয়': 14546, 'গণগ': 5251, 'যচ': 11680, 'টম': 6945, 'আওয়': 732, 'বলত': 10661, 'রথ': 12422, 'ডর': 7343, 'কটগ': 4437, 'অরস': 320, 'ইফ': 1947, 'আইয়': 689, 'ঠকক': 7102, 'আইএমস': 535, 'এজন': 3223, 'সমঝ': 14471, 'এসএমই': 3884, 'অল': 321, 'লফ': 13267, 'আহত': 1334, 'ধমন': 8658, 'ওইখ': 4030, 'ঘটত': 5579, 'নয': 9232, 'পকল': 9531, 'আয': 1096, 'কয': 4665, 'কজন': 4414, 'আইয': 672, 'পদপ': 9702, 'সহসভ': 14691, 'বসট': 10716, 'বজল': 10317, 'নসহ': 9344, 'ষয': 14027, 'নবত': 9152, 'ঝগড': 6591, 'এনস': 3400, 'মরত': 11439, 'করপ': 4714, 'তশ': 7935, 'চঞ': 5774, 'শজ': 13566, 'সবই': 14413, 'কড': 4467, 'এনএ': 3314, 'মথ': 11271, 'রকমফ': 12148, 'উঠব': 2450, 'ইব': 1979, 'পণন': 9612, 'য়তন': 15337, 'পসচ': 9887, 'ররফ': 12718, 'হম': 14925, 'বপর': 10505, 'চয়': 5990, 'বইয়': 10165, 'তউত': 7580, 'ইষ': 2161, 'রণয়ন': 12360, 'চলভ': 5958, 'একজনক': 3130, 'ভয়': 11018, 'নবজ': 9144, 'গরণ': 5425, 'হন': 14874, 'বরচন': 10571, 'দত': 8248, 'আমল': 1084, 'সলম': 14620, 'য়দ': 15354, 'রতক': 12377, 'বঙ': 10251, 'গভঙ': 5377, 'রতবর': 12405, 'জদ': 6244, 'কদর': 4518, 'সসম': 14638, 'যথ': 11747, 'আগমন': 788, 'ইটহ': 1804, 'হরহ': 14977, 'কষ': 4842, 'মছ': 11188, 'বড': 10347, 'শম': 13717, 'উৎপল': 2754, 'অড': 78, 'লনম': 13224, 'ণম': 7525, 'সদ': 14273, 'কলক': 4763, 'এফআইআর': 3413, 'এড়': 3986, 'ষস': 14052, 'ণধ': 7479, 'এএফপ': 3026, 'হভ': 14921, 'যঙ': 11679, 'গচ': 5166, 'যসহ': 11911, 'আশঙ': 1269, 'রর': 12710, 'পড়ছ': 9921, 'এতক': 3255, 'হকদ': 14782, 'লসদ': 13391, 'হক': 14766, 'ছক': 6022, 'একজনও': 3129, 'রফরম': 12559, 'ভরস': 10984, 'আফগ': 1016, 'নআউট': 8748, 'আউট': 693, 'মনট': 11320, 'রফর': 12558, 'এখনই': 3204, 'বতর': 10372, 'চলল': 5962, 'উসগ': 2730, 'তরক': 7850, 'অচল': 55, 'লছ': 13092, 'সফরক': 14391, 'দলই': 8407, 'চত': 5787, 'ডট': 7265, 'তখনই': 7640, 'উপমহ': 2590, 'একব': 3171, 'ফত': 9998, 'উসম': 2739, 'মণ': 11227, 'নসক': 9305, 'বলট': 10655, 'সময়ট': 14524, 'উপব': 2584, 'জনত': 6310, 'জনশ': 6356, 'আইফ': 663, 'পল': 9848, 'এতট': 3260, 'ঘটল': 5585, 'ববর': 10518, 'তফ': 7769, 'আইভস': 668, 'পলক': 9853, 'বরএ': 10549, 'এসই': 3826, 'ইঞ': 1765, 'রয়ট': 12911, 'আসক': 1284, 'থকভ': 8017, 'এএসএস': 3066, 'কবল': 4605, 'এনআরস': 3298, 'খসড়': 5099, 'মহত': 11542, 'য়কসহ': 15290, 'টজনদ': 6817, 'ভট': 10891, 'যজ': 11689, 'রসহ': 12829, 'নষ': 9300, 'মগঞ': 11153, 'ড়সহ': 15228, 'ছড়': 6088, 'দফ': 8312, 'টল': 7007, 'রঞ': 12269, 'গণপর': 5269, 'তকরণ': 7624, 'লঘ': 13077, 'গগ': 5154, 'চমকপ': 5852, 'এএএসইউ': 3003, 'আখ': 766, 'য়স': 15473, 'লচর': 13089, 'নববর': 9167, 'অশ': 345, 'ঘশ': 5656, 'য়নই': 15361, 'কগ': 4384, 'ষণজন': 13930, 'বট': 10322, 'হরভজন': 14967, 'একম': 3175, 'বমন': 10534, 'চকদ': 5731, 'মখ': 11144, 'ভগবৎ': 10877, 'বমনক': 10535, 'লখ': 13049, 'দব': 8319, 'সফলতম': 14407, 'কটর': 4458, 'ঘবনদ': 5619, 'দরজ': 8371, 'একদমই': 3154, 'কজনও': 4416, 'বরফ': 10597, 'একদল': 3156, 'মউসন': 11093, 'ইনদ': 1895, 'ওট': 4135, 'ইনর': 1911, 'উপয': 2591, 'ৎপ': 15111, 'উম': 2657, 'গট': 5197, 'চওড': 5716, 'অজ': 59, 'ইটগ': 1776, 'জছ': 6205, 'ডশ': 7378, 'য়ই': 15249, 'ইনভ': 1905, 'ততর': 7700, 'ধত': 8586, 'আপড': 986, 'অহ': 390, 'জঞ': 6216, 'মশ': 11479, 'উনল': 2526, 'অবত': 221, 'য়ণ': 15319, 'সবগ': 14419, 'চকচক': 5726, 'সবট': 14425, 'চণ': 5786, 'গপ': 5350, 'ইসহ': 2197, 'টরস': 7002, 'নকন': 8876, 'টরব': 6995, 'এসএক': 3857, 'সআর': 14106, 'রউফ': 12048, 'ইকস': 1691, 'ওন': 4160, 'ইকগ': 1667, 'ইনম': 1909, 'দলবদ': 8434, 'ধভ': 8652, 'ঠকদ': 7108, 'কতজন': 4485, 'ছয়জন': 6097, 'ষয়ভ': 14082, 'কসহ': 4884, 'দলগত': 8418, 'যময়': 11866, 'সমমন': 14495, 'সহপ': 14674, 'একঘ': 3118, 'সহমর': 14683, 'দলভ': 8442, 'মতক': 11247, 'ষয়ও': 14069, 'অদ': 101, 'ধনও': 8600, 'লনক': 13205, 'কমব': 4645, 'কমল': 4654, 'মপণ': 11354, 'যথভ': 11749, 'একর': 3180, 'অকশন': 28, 'শওকত': 13506, 'কনট': 4547, 'হফ': 14905, 'ণক': 7439, 'বহনক': 10759, 'ঘদ': 5595, 'একতল': 3147, 'নথ': 9064, 'যভর': 11829, 'রণক': 12312, 'দণ': 8247, 'আদমদ': 930, 'শ৷': 13824, 'হয়৷': 15079, 'ন৷': 9443, 'উপশহর': 2606, 'ঙন': 5675, 'ভজ': 10881, 'হন৷': 14898, 'হপর': 14904, 'ধরল': 8696, 'জনই': 6262, 'সয': 14536, 'আরস': 1213, 'আইর': 673, 'অসহ': 385, 'গরম': 5438, 'সরবর': 14578, 'রচণ': 12208, 'রমজ': 12641, 'গই': 5123, 'বয': 10542, 'আশর': 1277, 'যবধ': 11812, 'পরশ': 9839, 'রমণও': 12647, 'সমত': 14476, 'পটল': 9594, 'লডটকম': 13135, 'ছয': 6073, 'তজ': 7673, 'মছলন': 11192, 'উপপর': 2581, 'রউদ': 12042, 'য়ব': 15414, 'জয়লল': 6573, 'শশ': 13770, 'নটর': 9022, 'সভবন': 14458, 'এআইড': 2871, 'এমক': 3637, 'নএ': 8811, 'ইমস': 2047, 'যপট': 11775, 'বজনদ': 10303, 'মরদ': 11442, 'এমজ': 3639, 'ষট': 13909, 'অপব': 170, 'হট': 14825, 'সইব': 14121, 'থকদ': 8014, 'রসদ': 12786, 'রহভর': 12878, 'রবল': 12604, 'টবন': 6912, 'দশ': 8452, 'তলবন': 7926, 'লরক': 13353, 'এই': 2889, 'বলল': 10684, 'চয': 5873, 'পটক': 9571, 'খজনক': 4970, 'জয': 6441, 'তত': 7688, 'উইল': 2321, 'মসন': 11514, 'মসনও': 11516, 'আউটও': 695, 'ইমর': 2045, 'মও': 11107, 'অলর': 337, 'দউল': 8165, 'ডসন': 7392, 'দময়': 8354, 'যরসপ': 11884, 'ঘরন': 5639, 'অবয়বট': 267, 'উওম': 2380, 'জনন': 6320, 'ববক': 10511, 'ধট': 8582, 'হওয়': 14765, 'দই': 8157, 'ঝত': 6601, 'বনভর': 10464, 'ইউএস': 1529, 'উডব': 2469, 'উই': 2273, 'লড়ত': 13433, 'এনএন': 3329, 'উইত': 2297, 'অরল': 319, 'উইর': 2320, 'আখড়': 778, 'জও': 6139, 'টও': 6738, 'তণ': 7687, 'গবন': 5372, 'ধরমপ': 8692, 'যনগর': 11767, 'সহস': 14690, 'ওরফ': 4225, 'ষদর': 13991, 'নশন': 9290, 'বতণ': 10363, 'একপর': 3167, 'উভয়': 2645, 'রগঞ': 12177, 'অঘ': 45, 'পরর': 9837, 'শতক': 13593, 'চপ': 5828, 'আপ': 979, 'দনসর': 8298, 'পরস': 9844, 'গদ': 5316, 'এনগ': 3379, 'মরণ': 11425, 'সফটওয়': 14375, 'ভরত': 10968, 'রসভ': 12813, 'ঙল': 5693, 'সদক': 14278, 'জনসমর': 6373, 'থনহ': 8069, 'খন': 4990, 'সনও': 14315, 'কবক': 4591, 'বধ': 10420, 'দউদ': 8163, 'নসম': 9334, 'আইজ': 616, 'উৎপ': 2751, 'দনশ': 8294, 'জগ': 6170, 'রমবর': 12684, 'ধম': 8655, 'কতখ': 4483, 'রমব': 12682, 'পয': 9798, 'ইদ': 1849, 'হউদ': 14754, 'ইবর': 1988, 'বরকত': 10554, 'মচ': 11177, 'গফ': 5358, 'ইকম': 1680, 'উথ': 2482, 'কলম': 4788, 'ডক': 7236, 'যপন': 11791, 'টরদ': 6990, 'তজন': 7676, 'রহণয': 12862, 'ককন': 4367, 'বজনম': 10306, 'আইএস': 548, 'দরনগর': 8380, 'ফয': 10025, 'উপভ': 2587, 'এসএলইসল': 3909, 'সসর': 14640, 'এফএ': 3440, 'পটট': 9575, 'রচড': 12207, 'লসর': 13407, 'এনইত': 3311, 'আট': 868, 'টসল': 7070, 'নসর': 9340, 'টসফ': 7058, 'লশ': 13371, 'গসর': 5512, 'ইমপ': 2039, 'ইসর': 2191, 'ইমইন': 2014, 'তরসহ': 7907, 'ণল': 7534, 'লতল': 13160, 'বজন': 10299, 'দরভ': 8397, 'সনদ': 14326, 'তরণ': 7861, 'জউদ': 6125, 'আইএম': 516, 'হইন': 14744, 'ঘটছ': 5577, 'টপক': 6883, 'গতব': 5305, 'ইএ': 1586, 'ঝখ': 6589, 'পয়': 9932, 'টই': 6706, 'যয': 11869, 'লল': 13367, 'আফস': 1026, 'নয়জন': 9388, 'পনসর': 9752, 'ববধ': 10516, 'মপর': 11361, 'ধকত': 8558, 'ওফ': 4191, 'রমশক': 12697, 'আরএএনড': 1129, 'ষকদ': 13863, 'ড়ল': 15215, 'বনম': 10465, 'মঘণ': 11173, 'সবদ': 14427, 'তসহ': 7964, 'নমজ': 9209, 'বকর': 10221, 'মৎস': 11572, 'ইটভ': 1788, 'কচ': 4399, 'ষণগণন': 13924, 'বসছ': 10714, 'আসর': 1310, 'ড়দ': 15190, 'ইপর': 1942, 'সআপ': 14100, 'লবল': 13312, 'পই': 9468, 'তষ': 7942, 'গণ': 5241, 'নমত': 9213, 'ষকআন': 13842, 'রটন': 12274, 'নভঙ': 9198, 'পরপরই': 9823, 'পজয়': 9564, 'যতই': 11730, 'নচ': 8946, 'ওদ': 4157, 'য়কও': 15272, 'ষণভ': 13947, 'শকদ': 13524, 'অকথ': 24, 'জই': 6119, 'য়কক': 15273, 'আঙ': 805, 'অপম': 173, 'দও': 8176, 'আচরণ': 810, 'ণগ': 7448, 'তনদক': 7733, 'ভরয': 10981, 'এসএনএম': 3864, 'তরব': 7886, 'চয়অধ': 5991, 'ঘক': 5562, 'ণহ': 7549, 'সযজ': 14537, 'সফলত': 14406, 'শয়': 13808, 'দলট': 8424, 'এফএলপ': 3470, 'ধরব': 8688, 'ণভ': 7520, 'এলও': 3759, 'দলও': 8415, 'অনমন': 133, 'সময়ই': 14516, 'এইচআরডব': 2912, 'উইসর': 2342, 'য়নরত': 15394, 'কজনক': 4417, 'ইটস': 1793, 'কটবর': 4454, 'পষ': 9879, 'গলফ': 5475, 'য়নশ': 15397, 'পও': 9496, 'উডস': 2474, 'কইলরয়': 4328, 'পঞ': 9566, 'চমট': 5859, 'জয়ট': 6545, 'কইলরয়ক': 4329, 'রজয়': 12261, 'এসএস': 3917, 'ইউপ': 1566, 'নলদ': 9278, 'ওহ': 4268, 'লট': 13108, 'আইনব': 647, 'কমপ': 4642, 'খক': 4941, 'মকস': 11143, 'পঙ': 9546, 'কজ': 4413, 'অনন': 125, 'জল': 6450, 'সকল': 14200, 'আমন': 1076, 'থকত': 8012, 'চমক': 5846, 'ইএফইক': 1605, 'ইএফই': 1604, 'চই': 5701, 'গআউট': 5120, 'খও': 4939, 'এনর': 3398, 'থনও': 8058, 'এমন': 3648, 'রপরই': 12539, 'লগড়': 13076, 'রপর': 12537, 'হতই': 14849, 'পচ': 9549, 'এআইএড': 2862, 'রমণজন': 12654, 'ঞদ': 6663, 'এমওত': 3633, 'উৎকণ': 2748, 'দলজয়লল': 8423, 'এইচএএড': 2922, 'তচরব': 7664, 'অটলভ': 77, 'কসরত': 4880, 'চব': 5839, 'ষষ': 14051, 'ঠব': 7153, 'বহর': 10775, 'ধজ': 8576, 'নসনসহ': 9323, 'বহরক': 10777, 'জলস': 6503, 'পএদ': 9489, 'উজক': 2404, 'চড়': 5983, 'রওয়': 12103, 'হনন': 14888, 'লর': 13350, 'তৎক': 7975, 'গজপত': 5186, 'উইয': 2319, 'তলয': 7929, 'তনক': 7722, 'লড': 13134, 'এসএসস': 3931, 'সমম': 14494, 'গণভবন': 5274, 'তপন': 7762, 'তরপত': 7880, 'জনসহ': 6377, 'কশপ': 4831, 'রতন': 12395, 'জঙ': 6201, 'শলগত': 13761, 'অবসরপ': 259, 'ৎসন': 15147, 'ইকক': 1666, 'দমন': 8343, 'তৎপরত': 7978, 'একঘর': 3119, 'ণঠ': 7466, 'আপত': 988, 'গণপ': 5265, 'রণলয়': 12349, 'পটভ': 9591, 'রচল': 12215, 'মতপ': 11258, 'সড়ক': 14708, 'গণভবনসহ': 5275, 'আগত': 780, 'নকশ': 8889, 'লটগ': 13114, 'এনজ': 3381, 'শনসহ': 13671, 'ফতর': 10001, 'রতœতত': 12369, 'ইএনট': 1599, 'এসপ': 3957, 'সসহ': 14641, 'কলল': 4799, 'সড়কট': 14713, 'রশস': 12761, 'ততম': 7699, 'একইসঙ': 3099, 'রডস': 12299, 'এসইর': 3847, 'মরণক': 11426, 'পতন': 9633, 'এসইত': 3844, 'কসম': 4875, 'পরপর': 9822, 'লসই': 13381, 'নরকযন': 9245, 'এউইন': 2987, 'মরগ': 11419, 'চম': 5844, 'আঘ': 803, 'ধড়ক': 8727, 'ঐশ': 3999, 'ধকর': 8561, 'ফয়স': 10131, 'দরপত': 8382, 'হঠ': 14840, 'কমত': 4635, 'উগ': 2387, 'ইটট': 1777, 'অরব': 316, 'ষপণ': 14004, 'বলয়': 10693, 'শতবর': 13608, 'ড়ও': 15164, 'য়ও': 15265, 'ডরক': 7344, 'ওজন': 4121, 'ঠশ': 7162, 'ডন': 7295, 'উইমব': 2318, 'নববন': 9166, 'গঠক': 5201, 'তমজ': 7816, 'ষকফ': 13869, 'যসচ': 11899, 'হলট': 14990, 'ণও': 7438, 'অবগত': 214, 'থব': 8078, 'অলস': 338, 'তবস': 7799, 'বসন': 10726, 'তবরণ': 7794, 'থর': 8099, 'তপল': 7767, 'আড': 900, 'মনস': 11345, 'বপন': 10497, 'রঘ': 12192, 'ইউ': 1473, 'ইয': 2055, 'খচ': 4962, 'যতট': 11735, 'ইনফ': 1899, 'আইএফএফএল': 508, 'নগদ': 8915, 'পভ': 9786, 'এরক': 3681, 'যৎ': 11916, 'নয়নশ': 9424, 'তও': 7596, 'অসন': 365, 'নড়বড়': 9362, 'বনয': 10470, 'অয': 299, 'জহ': 6523, 'ময়ব': 11597, 'জগত': 6175, 'গমভর': 5403, 'ওস': 4257, 'দভ': 8333, 'পপন': 9768, 'পড়ত': 9923, 'রহই': 12833, 'হদ': 14869, 'দবন': 8326, 'অবধ': 232, 'রচলনই': 12219, 'জনমন': 6347, 'খবরক': 5026, 'রহণক': 12854, 'এনব': 3392, 'দট': 8244, 'জফ': 6394, 'ইটক': 1774, 'এরপরই': 3698, 'নএমড': 8832, 'রবচনট': 12576, 'আচরণক': 813, 'সটন': 14247, 'টওয়': 6743, 'গণতন': 5258, 'টফর': 6898, 'ধপর': 8632, 'শঙ': 13561, 'আইনসভ': 657, 'রকট': 12119, 'ফট': 9979, 'রডল': 12298, 'এসআই': 3796, 'ধঘ': 8572, 'এমব': 3668, 'ভবনট': 10941, 'মণব': 11238, 'কসব': 4870, 'মসজ': 11507, 'মঘ': 11168, 'ফফ': 10016, 'বলক': 10646, 'তপর': 7766, 'উপকম': 2541, 'রবর': 12603, 'আইনজ': 642, 'জনগ': 6290, 'নধ': 9084, 'খগ': 4956, 'নতক': 9044, 'লধনভ': 13192, 'দনভ': 8283, 'রমঘন': 12639, 'দনম': 8285, 'নরস': 9263, 'দরব': 8389, 'কয়ট': 4915, 'এফট': 3488, 'ইউএনব': 1515, 'ধনশ': 8622, 'সরঞ': 14557, 'এসইজ': 3843, 'লওয়': 12998, 'ওষ': 4255, 'মসল': 11529, 'উপমন': 2589, 'আরআইয়': 1111, 'আহস': 1362, 'আলমগ': 1247, 'অথর': 100, 'দসহ': 8497, 'উপপ': 2578, 'ঈদক': 2233, 'নওগ': 8848, 'গরর': 5447, 'শঝ': 13568, 'ছতল': 6043, 'নপ': 9110, 'বগঞ': 10238, 'হরমনগর': 14970, 'তরগ': 7853, 'জবনসহ': 6408, 'গরদ': 5432, 'ড়জ': 15183, 'বছরই': 10269, 'বলম': 10681, 'উৎপত': 2752, 'হবধ': 14912, 'আরবসহ': 1206, 'অষ': 351, 'গজ': 5170, 'খরচসহ': 5061, 'ষঙ': 13894, 'দওয': 8177, 'রণদ': 12331, 'হতদর': 14858, 'টয': 6970, 'রকও': 12110, 'ইইউব': 1458, 'ইনড': 1893, 'গণভ': 5273, 'ইইউত': 1455, 'য়ণগঞ': 15324, 'পগঞ': 9539, 'বকক': 10205, 'ইউএনও': 1509, 'রতনক': 12396, 'তছর': 7671, 'শপথ': 13682, 'ফজল': 9976, 'ঠপর': 7151, 'ওসম': 4263, 'নউল': 8809, 'অপস': 192, 'মহল': 11558, 'চকল': 5740, 'ঘড়': 5665, 'আয়রন': 1407, 'আইম': 669, 'রডপ': 12295, 'আইএসপ': 579, 'জনগণ': 6291, 'ইপম': 1941, 'সহজলভ': 14663, 'ইথ': 1846, 'অপট': 160, 'বলস': 10687, 'উইন': 2302, 'ণর': 7532, 'চহ': 5980, 'ইএসক': 1642, 'আয়কর': 1380, 'সকও': 14182, 'এসআরও': 3820, 'আজও': 834, 'পকত': 9514, 'শনওয়': 13632, 'রলই': 12728, 'লবদ': 13305, 'ঝল': 6627, 'অতল': 87, 'রইল': 12025, 'অহম': 394, 'ঔজ': 4280, 'পটন': 9577, 'উক': 2383, 'ততক': 7690, 'রহমত': 12880, 'সফট': 14370, 'মবলট': 11389, 'আসগর': 1286, 'হরণ': 14949, 'নওয়': 8864, 'ভয়ও': 11021, 'ষদসহ': 13997, 'যয়নরত': 11945, 'এনএফএস': 3340, 'এনএফএসসহ': 3341, 'রপরও': 12540, 'সফটওয': 14374, 'আইক': 605, 'উএস': 2372, 'ণগত': 7451, 'আইল': 675, 'ড়ভ': 15209, 'জয়শঙ': 6575, 'বদম': 10390, 'করক': 4672, 'নরম': 9258, 'লনপ': 13222, 'লওয': 12997, 'জয়শ': 6574, 'আজহ': 866, 'বসত': 10719, 'নরওয়': 9241, 'আইসল': 683, 'পপ': 9758, 'কমছ': 4628, 'আথ': 917, 'রকমই': 12139, 'জকল': 6161, 'মঠ': 11219, 'খকর': 4950, 'দছ': 8237, 'হজরত': 14822, 'গময়': 5410, 'উঠল': 2451, 'যশ': 11889, 'বরখ': 10562, 'যজনক': 11696, 'বয়সভ': 10848, 'ঝপথ': 6607, 'ইফক': 1954, 'তনট': 7730, 'শয': 13731, 'বনই': 10428, 'রগড়': 12190, 'জহর': 6524, 'মসম': 11524, 'ষপ': 14002, 'বরণ': 10575, 'তরফ': 7882, 'মই': 11060, 'বচ': 10252, 'রণব': 12337, 'করও': 4671, 'জমব': 6432, 'সরয়': 14604, 'লকক': 13008, 'রজনম': 12254, 'দঢ': 8246, 'ণবন': 7510, 'এফস': 3499, 'রইমন': 12022, 'ফরহজরত': 10059, 'লশক': 13373, 'ছয়': 6089, 'দরপল': 8385, 'বনক': 10431, 'সস': 14630, 'ণন': 7482, 'নকম': 8881, 'সমতল': 14478, 'জয়ন': 6552, 'সরল': 14584, 'ষও': 13837, 'বসব': 10735, 'ঠত': 7135, 'কদম': 4515, 'ষকব': 13871, 'লকও': 13006, 'সও': 14169, 'এনএনক': 3333, 'চও': 5713, 'সবজ': 14423, 'শস': 13776, 'রচর': 12214, 'চরযথ': 5923, 'থপ': 8070, 'ইগজ': 1697, 'আলগ': 1223, 'চরপ': 5909, 'রআলগ': 12002, 'কচর': 4405, 'খড়খড়': 5103, 'রউত': 12041, 'দহচর': 8502, 'ফপ': 10014, 'জয়র': 6569, 'নতল': 9061, 'চনধর': 5810, 'উলটপ': 2695, 'ইনন': 1896, 'রডব': 12296, 'পকভ': 9527, 'লকড': 13014, 'ঠকও': 7101, 'হকক': 14772, 'নকল': 8886, 'এনইআইআর': 3300, 'এমএএম': 3564, 'বম': 10531, 'হজনক': 14815, 'জখম': 6169, 'বকশ': 10225, 'এএফস': 3029, 'ইমল': 2046, 'আইএএনএস': 472, 'কশহর': 4839, 'পজ': 9558, 'ভস': 11001, 'ম৷': 11608, 'নম৷': 9231, 'লচ': 13084, 'নসঢ': 9314, 'লসও': 13383, 'পতনট': 9637, 'অয়ন': 401, 'বনও': 10430, 'তরতর': 7874, 'কলঙ': 4773, 'ষকর': 13879, 'গসহ': 5514, 'তড়': 7982, 'আলমক': 1245, 'য়মবহ': 15435, 'দকক': 8185, 'সনক': 14316, 'ইনফরম': 1901, 'এখত': 3202, 'মউল': 11091, 'অসত': 360, 'গপত': 5351, 'রণসহ': 12355, 'রথমত': 12437, 'রহণপ': 12859, 'ষকগণ': 13854, 'মনগড়': 11315, 'আমর': 1082, 'অপরজন': 178, 'চস': 5972, 'দয়গনও': 8519, 'কখনই': 4381, 'অপপ': 169, 'কষণ': 4844, 'সময়ক': 14520, 'পসময়': 9905, 'এতদ': 3262, 'থহ': 8148, 'রষ': 12764, 'ডপ': 7308, 'সনদপত': 14334, 'অবজ': 219, 'মউজ': 11085, 'গণয': 5281, 'মফ': 11364, 'আহতদ': 1336, 'ইটপ': 1783, 'উভয়পক': 2651, 'এসময়': 3971, 'টহ': 7077, 'আজগর': 838, 'ধশততম': 8710, 'মবর': 11387, 'ধশতজন': 8709, 'জকদ': 6156, 'ণসচ': 7541, 'য়হ': 15486, 'ময়কর': 11583, 'পদচ': 9693, 'সমগ': 14468, 'রলস': 12743, 'কসই': 4850, 'পনন': 9738, 'ণগতম': 7453, 'ছত': 6041, 'দলগতভ': 8419, 'যয়বহ': 11949, 'শলক': 13758, 'এমত': 3644, 'কডইনসহ': 4470, 'রয়কর': 12907, 'য়বদ': 15416, 'পননশ': 9739, 'দড়': 8513, 'হঠক': 14841, 'সহশ': 14689, 'অসময়': 381, 'এখনক': 3205, 'য়মন': 15431, 'ফলপ': 10089, 'বড়': 10788, 'জনপদ': 6327, 'জগদ': 6178, 'শচন': 13563, 'ছও': 6021, 'ৎসব': 15148, 'মযজ': 11414, 'এমনও': 3654, 'মনজ': 11319, 'কবর': 4599, 'গঠনক': 5216, 'লঅধ': 12940, 'ইলস': 2136, 'সড়কপথ': 14717, 'ইও': 1645, 'হসহ': 15025, 'ইলফলক': 2119, 'দকদ': 8192, 'যমকর': 11837, 'দবক': 8322, 'যপদ': 11784, 'সদল': 14299, 'জগন': 6180, 'পসময': 9904, 'ডসহ': 7407, 'অরণ': 311, 'শবর': 13709, 'এসএমএস': 3898, 'টঙ': 6803, 'ইলট': 2098, 'ঘস': 5660, 'ভয়ভ': 11029, 'ছল': 6077, 'সওয়': 14178, 'কতব': 4494, 'ছয়ব': 6107, 'এএইচএম': 2994, 'এমএ': 3558, 'এমএস': 3608, 'আরক': 1174, 'টরয': 6999, 'আইএন': 480, 'এমভ': 3670, 'টবগ': 6905, 'আইনপ': 645, 'হনক': 14880, 'রকর': 12152, 'আটজনক': 885, 'থই': 7992, 'ঘতম': 5592, 'চওড়': 5717, 'নটন': 9012, 'ভল': 10988, 'ধক': 8552, 'রসর': 12820, 'এরকম': 3682, 'এতজন': 3258, 'রদল': 12466, '৷আজ': 15500, 'হলগ': 14985, 'রদল৷ড': 12471, 'সদগ': 14279, 'কমনর': 4640, 'ণপ': 7487, 'অনড়': 144, 'লঢ': 13139, 'নকমনর': 8882, 'মআন': 11049, 'নছ': 8956, 'মসদস': 11513, 'মইকব': 11062, 'কশর': 4836, 'লইম': 12968, 'কআলমগ': 4310, 'নআব': 8763, 'জসহ': 6522, 'হলসহ': 15008, 'ইমনসম': 2037, 'এরশ': 3708, 'হকসম': 14794, 'মউদ': 11087, 'দসম': 8493, 'হকসল': 14796, 'দওয়': 8180, 'জয়সম': 6578, 'ইখ': 1693, 'ইমন': 2028, 'আলমসহ': 1256, 'ইকর': 1682, 'নফজল': 9126, 'ইমনসহ': 2038, 'নঅমর': 8743, 'রভস': 12626, 'আকত': 739, 'আলফ': 1235, 'মশহ': 11491, 'ফস': 10101, 'হসম': 15023, 'ৎই': 15089, 'ভছ': 10880, 'একঝ': 3139, 'নকআউট': 8866, 'ইডপ': 1824, 'শটট': 13576, 'ছড': 6040, 'দয': 8355, 'আচমক': 808, 'লএই': 12981, 'ণপদক': 7493, 'লয়ট': 13452, 'একত': 3145, 'চরণ': 5893, 'পরত': 9816, 'ধনগ': 8605, 'আবর': 1039, 'ছদ': 6045, 'রকম': 12137, 'ষধ': 13998, 'হটস': 14838, 'খলচর': 5076, 'খলন': 5080, 'ঠখড়': 7120, 'আরও': 1168, 'নগরস': 8934, 'ইআরড': 1444, 'আযম': 1097, 'লয়ম': 13464, 'এমএফএফ': 3584, 'ঋণচ': 2831, 'জনশক': 6357, 'তসম': 7957, 'য়নক': 15369, 'এসএফ': 3870, 'উছ': 2398, 'এরদ': 3694, 'উড়ব': 2802, 'ওড়': 4272, 'পলস': 9863, 'উৎখ': 2750, 'ইউস': 1579, 'বনব': 10461, 'লঘড': 13079, 'রদক': 12452, 'ৎফর': 15120, 'কয়ল': 4921, 'দরবন': 8390, 'যজন': 11694, 'পরখ': 9807, 'পরগ': 9808, 'ধনপত': 8612, 'পরঘ': 9811, 'সমব': 14489, 'পটস': 9596, 'রকভ': 12135, 'হয়ক': 15049, 'ষকঢ': 13860, 'গঅধ': 5115, 'অপহরণ': 195, 'সশস': 14629, 'মপন': 11360, 'অপহ': 194, 'বজনপ': 10304, 'জনসমক': 6372, 'কঙ': 4398, 'কফ': 4585, 'উডপ': 2467, 'নকর': 8884, 'রকস': 12162, 'অমর': 287, 'ইফও': 1951, 'একদম': 3153, 'ঠম': 7158, 'অবতরণ': 222, 'শরন': 13741, 'ঞর': 6670, 'চকর': 5739, 'লকব': 13022, 'বরগ': 10563, 'এলপ': 3781, 'সবহ': 14451, 'ইনজ': 1889, 'টয়': 7087, 'দশট': 8467, 'ঢঙ': 7422, 'ষয়ই': 14068, 'রবণত': 12588, 'লতই': 13142, 'উপসহক': 2612, 'ইনট': 1890, 'রদবদল': 12461, 'আনল': 973, 'বউয়': 10184, 'ছয়জনক': 6099, 'তরঙ': 7855, 'অসহন': 386, 'কনজ': 4545, 'য়ঘণ': 15300, 'ইটও': 1771, 'হইচই': 14737, 'তসই': 7944, 'ড়ক': 15166, 'কবন': 4597, 'ইমজ': 2023, 'লজয়': 13102, 'যখন': 11663, 'মগব': 11163, 'কউজ': 4334, 'সজন': 14230, 'ইমত': 2026, 'আড়তদ': 1367, 'পথট': 9657, 'পয়স': 9942, 'এফড': 3489, 'মমত': 11402, 'শএই': 13496, 'ইমনও': 2031, 'চড': 5784, 'আরম': 1209, 'ফরহ': 10058, 'সপত': 14363, 'অবহ': 263, 'এএফ': 3016, 'কধ': 4526, 'রভঙ': 12621, 'ষকন': 13866, 'য়জনদ': 15308, 'বছরও': 10271, 'একইভ': 3093, 'গণস': 5286, 'মজহ': 11204, 'ঐক': 3989, 'গণত': 5257, 'ঠগড়': 7124, 'গণশ': 5284, 'যবদ': 11810, 'উধ': 2509, 'সহসম': 14692, 'ইওর': 1658, 'কমন': 4637, 'গহ': 5517, 'উৎকর': 2749, 'আইএ': 460, 'ইউএএব': 1497, 'পকর': 9530, 'আখত': 772, 'সভপত': 14456, 'য়ষক': 15471, 'ইনসহ': 1925, 'বইছ': 10148, 'ষড়যন': 14064, 'শনও': 13631, 'ভগব': 10874, 'ওমপ': 4204, 'আউটব': 702, 'খনন': 4997, 'দরদ': 8375, 'পনগর': 9729, 'আইএমইড': 520, 'এনইস': 3313, 'লথগত': 13169, 'লপথ': 13252, 'লয়ক': 13446, 'বলই': 10642, 'ডনক': 7298, 'ঢ়ত': 15234, 'নসভ': 9333, 'আসনস': 1304, 'আনব': 967, 'সৎম': 14704, 'গড়ব': 5542, 'ইনসক': 1918, 'ঋত': 2845, 'জসক': 6507, 'রলয়': 12745, 'পরমব': 9834, 'অভয়': 274, 'মঝ': 11207, 'রসক': 12772, 'সসক': 14631, 'রনব': 12501, 'জওয়': 6146, 'এইচব': 2957, 'ওসক': 4258, 'বইট': 10150, 'রমর': 12691, 'উপম': 2588, 'বসম': 10737, 'যবই': 11799, 'রদত': 12458, 'নপত': 9114, 'এফও': 3480, 'এককভ': 3111, 'একপ': 3163, 'জয়ল': 6571, 'ডয়': 7413, 'চনই': 5799, 'ধরত': 8669, 'অগম': 42, 'বসসহ': 10744, 'শপ': 13673, 'রএক': 12063, 'গড়ন': 5538, 'ররস': 12726, 'একস': 3194, 'রওশন': 12099, 'জলরঙ': 6500, 'রচলন': 12218, 'যকল': 11657, 'আইত': 628, 'ধগম': 8569, 'আইনট': 643, 'বসল': 10741, 'সহজস': 14666, 'ততই': 7689, 'ফখর': 9967, 'ঋণদ': 2834, 'লয়সহ': 13472, 'ইফত': 1962, 'কনক': 4534, 'ইনচ': 1886, 'উমর': 2662, 'আসম': 1309, 'এসএল': 3906, 'এসএফজ': 3878, 'ফয়': 10125, 'এসআর': 3813, 'এডজ': 3241, 'ইবন': 1987, 'উনট': 2518, 'ওড়ন': 4273, 'জমক': 6424, 'জপর': 6390, 'তখনক': 7642, 'নজরক': 9000, 'রথমট': 12436, 'পরব': 9825, 'আলথর': 1230, 'নএমন': 8833, 'শনজট': 13640, 'তবলছড়': 7798, 'হয়ই': 15039, 'কয়জন': 4912, 'আটজন': 883, 'আটজনই': 884, 'দনব': 8282, 'ইউজ': 1556, 'এনভ': 3393, 'য়রনম': 15456, 'ঝগড়': 6592, 'খভ': 5041, 'ওগ': 4107, 'যচর': 11683, 'চজগত': 5761, 'বময়': 10541, 'ঠস': 7163, 'আমব': 1078, 'পইওয়': 9470, 'টভ': 6942, 'নইয়': 8789, 'ইরফ': 2072, 'ময়ন': 11595, 'ছরওয়': 6075, 'দনক': 8264, 'রতহ': 12420, 'করম': 4739, 'থও': 8000, 'করবর': 4732, 'জটল': 6221, 'কমপক': 4643, 'লসড': 13390, 'নজট': 8969, 'একসময': 3197, 'যশস': 11896, 'ধল': 8700, 'কগঞ': 4385, 'ষণব': 13943, 'ফসল': 10108, 'উৎসম': 2790, 'হৎ': 15027, 'একদশক': 3157, 'তনগর': 7726, 'ইজড': 1741, 'শনম': 13657, 'জনবল': 6334, 'বজরঙ': 10316, 'উবল': 2631, 'আলভ': 1240, 'সনম': 14344, 'লড়ব': 13434, 'দনপত': 8281, 'জগণ': 6174, 'ণফল': 7501, 'নহল': 9352, 'ওঅধ': 4005, 'রসহক': 12830, 'ষকউদয': 13846, 'ধগ': 8568, 'এতগ': 3257, 'সবখ': 14418, 'ইশত': 2154, 'চলক': 5934, 'গণপদয': 5268, 'বয়সস': 10850, 'নফ': 9124, 'ডউইথ': 7199, 'ডলট': 7359, 'জগঞ': 6172, 'ষতব': 13970, 'রজনন': 12247, 'শধর': 13621, 'উৎপন': 2753, 'ফণ': 9997, 'অফস': 208, 'তবক': 7778, 'তবকক': 7779, 'দলমণ': 8444, 'গধ': 5326, 'ভপত': 10915, 'পমঞ': 9791, 'কড়ক': 4899, 'পতঙ': 9630, 'রকরণ': 12154, 'বশর': 10702, 'ফলক': 10066, 'ড়স': 15223, 'উপর': 2592, 'জপত': 6385, 'দগম': 8225, 'দগত': 8223, 'অশস': 350, 'রসচ': 12777, 'চজনক': 5765, 'রপক': 12518, 'ধই': 8541, 'দনট': 8274, 'এসআরওত': 3822, 'অপহরণসহ': 198, 'আবরণ': 1040, 'ভবক': 10926, 'ইশ': 2149, 'ধদ': 8593, 'একইআরও': 3086, 'খলভ': 5081, 'টনট': 6866, 'ইটওয়': 1773, 'অপয়': 199, 'মতও': 11245, 'মসমর': 11525, 'পরদ': 9817, 'ডওয়': 7235, 'এডওয়': 3237, 'কউড': 4336, 'জনসন': 6362, 'দগঞ': 8221, 'সরখ': 14549, 'বনসহ': 10489, 'থদণ': 8052, 'রসম': 12814, 'টরক': 6982, 'ঈদয': 2239, 'রওন': 12088, 'সদরঘ': 14291, 'ণময়': 7530, 'হলম': 15002, 'মহলট': 11562, 'কলরব': 4797, 'লনও': 13202, 'খবরই': 5022, 'ইউশ': 1578, 'হতদ': 14857, 'তমঞ': 7817, 'অপশক': 186, 'তচল': 7665, 'মনমত': 11338, 'তনই': 7717, 'গএ': 5134, 'সবভ': 14436, 'নরমভ': 9259, 'একথ': 3148, 'ডবল': 7326, 'ফলন': 10082, 'এইচট': 2952, 'এইট': 2962, 'টখ': 6789, 'রইলই': 12026, 'পফ': 9774, 'উইফ': 2314, 'আদত': 922, 'ণসম': 7546, 'কনভ': 4556, 'নবর': 9176, 'তভর': 7809, 'কআউট': 4294, 'উসক': 2728, 'হতক': 14851, 'নশট': 9286, 'ণখ': 7446, 'আশক': 1268, 'নয়জনক': 9390, 'উলফ': 2700, 'শশধর': 13771, 'মহর': 11551, 'জখ': 6164, 'টরপন': 6994, 'ভবপর': 10951, 'জয়গ': 6539, 'মনম': 11337, 'নঅন': 8738, 'ঠগড': 7123, 'এজল': 3226, 'রকক': 12111, 'দহ': 8500, 'টনক': 6861, 'ওক': 4096, 'লতন': 13155, 'আইনস': 654, 'উভয': 2644, 'অবম': 239, 'এবদ': 3506, 'রকভর': 12136, 'গঘন': 5163, 'অনস': 142, 'ডঢ': 7284, 'রতওয়': 12376, 'টরদক': 6991, 'থভ': 8089, 'জভ': 6420, 'রতচ': 12385, 'ডওভ': 7231, 'ড়ওয়': 15165, 'দরসজ': 8402, 'ঋষ': 2849, 'ঝর': 6620, 'বনজ': 10443, 'ফলদ': 10079, 'গতর': 5310, 'বরত': 10584, 'ইলফ': 2118, 'একপশল': 3168, 'নসই': 9302, 'আইপড': 662, 'তনও': 7721, 'হখ': 14799, 'মপড': 11353, 'যশর': 11895, 'ধনক': 8601, 'শপথব': 13686, 'ওমরক': 4208, 'ওমর': 4205, 'সফরসঙ': 14399, 'জমহল': 6437, 'নয়ড': 9393, 'মভ': 11392, 'কই': 4313, 'ইজম': 1754, 'শটগ': 13575, 'শনসক': 13664, 'ঊষ': 2818, 'রজত': 12235, 'আটসক': 898, 'ডগ': 7248, 'ইলজ': 2097, 'টওয': 6740, 'নসন': 9316, 'রএইচব': 12061, 'আপস': 1008, 'কলস': 4800, 'ডএফ': 7220, 'তবভ': 7790, 'যয়ও': 11930, 'এরপরও': 3700, 'য়মম': 15438, 'লয়গ': 13448, 'আরবহ': 1207, 'লবণ': 13288, 'মওস': 11115, 'শখ': 13542, 'লবণও': 13290, 'ধরণ': 8667, 'যরস': 11883, 'মকরণ': 11137, 'একভ': 3174, 'রলন': 12737, 'শততম': 13602, 'ভগ': 10872, 'নদশ': 9081, 'রঅস': 11972, 'শবনম': 13703, 'জলও': 6456, 'বনট': 10446, 'সরলও': 14585, 'সযত': 14538, 'থবহ': 8087, 'মঘট': 11169, 'লদহসহ': 13183, 'মঘটক': 11171, 'দবপ': 8327, 'নগড়': 8938, 'বহরমপ': 10780, 'মইন': 11066, 'যসরক': 11910, 'লকদ': 13017, 'টসঅ': 7034, 'আপওয়': 980, 'বলজ': 10652, 'কখ': 4377, 'এইচআর': 2906, 'সময়মত': 14530, 'পদব': 9703, 'বনশ': 10478, 'থপথ': 8072, 'ড়ন': 15195, 'শনত': 13645, 'উবসহ': 2634, 'বইও': 10142, 'যএ': 11624, 'লমঞ': 13334, 'আউটস': 711, 'আলব': 1238, 'উপন': 2575, 'এফএফএসব': 3456, 'জনট': 6308, 'পপর': 9770, 'ঢক': 7420, 'বকব': 10218, 'পথচ': 9653, 'তড': 7685, 'কমভ': 4649, 'টরট': 6989, 'সফরম': 14396, 'শনস': 13663, 'আইওট': 598, 'বনধ': 10453, 'রঋণ': 12055, 'আইওয়': 604, 'রওম': 12094, 'নকণ': 8872, 'বলবয': 10675, 'নইমর': 8783, 'নয়শবনম': 9437, 'মঈশ': 11084, 'একজ': 3123, 'এনক': 3378, 'পশন': 9870, 'মনভর': 11336, 'ফটক': 9983, 'ড়ই': 15158, 'খম': 5044, 'সজল': 14233, 'ইটসহ': 1803, 'সচল': 14225, 'য়রশ': 15461, 'এফইব': 3439, 'ইউব': 1569, 'বড়ই': 10789, 'লবন': 13307, 'অঘটন': 46, 'অকল': 27, 'থমক': 8091, 'হরণই': 14950, 'ওলফগ': 4246, 'পরক': 9806, 'যকরভ': 11655, 'রতকর': 12378, 'রবময়': 12602, 'আলস': 1261, 'মনই': 11303, 'হয়ত': 15058, 'ওম': 4200, 'ৎজম': 15105, 'ইউল': 1577, 'জঘন': 6198, 'করবও': 4725, 'ইসউদ': 2165, 'একশ': 3189, 'ঘরব': 5641, 'দখলদ': 8214, 'দখলযজ': 8218, 'ঘনম': 5609, 'মহস': 11565, 'মতত': 11252, 'ষদভ': 13990, 'একচ': 3120, 'আদম': 927, 'এএপ': 3015, 'এমআইস': 3526, 'রওস': 12102, 'খবরদ': 5032, 'এএনআই': 3006, 'রঅ': 11960, 'আরএ': 1127, 'আরএর': 1151, 'য়মক': 15425, 'কষল': 4847, 'ইহ': 2198, 'রতম': 12407, 'ঈর': 2253, 'বনন': 10454, 'মহক': 11538, 'থকক': 8007, 'আভন': 1056, 'বতস': 10375, 'থনক': 8059, 'হতভ': 14862, 'দপত': 8304, 'উপগ': 2555, 'রহর': 12887, 'আকস': 765, 'ঝড়': 6636, 'টলগ': 7011, 'হজম': 14818, 'ষপথ': 14006, 'যবইয়': 11805, 'হই': 14735, 'অণ': 80, 'পশক': 9868, 'সথ': 14272, 'রহণকর': 12855, 'জউক': 6122, 'খকজন': 4947, 'ইসম': 2189, 'এলস': 3789, 'ঋণস': 2843, 'আওয': 727, 'তবল': 7797, 'মহড': 11541, 'আখড': 771, 'রওয': 12095, 'বতল': 10373, 'ণমন': 7528, 'লচত': 13087, 'কঅ': 4291, 'বহরট': 10778, 'আয়ও': 1377, 'হকচক': 14777, 'আগল': 800, 'ভয়ই': 11019, 'দলগ': 8417, 'বচর': 10258, 'ঘবদ': 5617, 'কমলপ': 4660, 'আলজ': 1225, 'আইভর': 667, 'লবণগ': 13293, 'ফথ': 10003, 'অসজল': 358, 'সমসত': 14510, 'গলন': 5473, 'রবণ': 12581, 'উভধর': 2641, 'রশম': 12756, 'দরও': 8362, 'মরক': 11417, 'আইএসআইয়': 556, 'আইএসআই': 549, 'লই': 12962, 'চপদস': 5831, 'আইএসআইক': 553, 'চকণ': 5728, 'বইয': 10160, 'সআপদ': 14102, 'ইকপ': 1677, 'গমক': 5386, 'ওইদ': 4035, 'য়ল': 15465, 'আরজ': 1181, 'এমআরএম': 3535, 'রঝ': 12264, 'তবধর': 7787, 'নপক': 9111, 'জলব': 6488, 'ফন': 10007, 'মওল': 11114, 'আলহ': 1262, 'এমএন': 3572, 'ঈন': 2242, 'এমদ': 3646, 'এসআরএম': 3816, 'পনচ': 9730, 'নপথ': 9116, 'ভবনধস': 10942, 'একরকম': 3181, 'পতনসহ': 9640, 'রথমদ': 12438, 'ডসভ': 7401, 'এসওফ': 3943, 'ইনগ': 1883, 'ঔষধ': 4286, 'লগঞ': 13061, 'ঙরদ': 5691, 'এডওয': 3236, 'সনদসহ': 14336, 'ঐকমত': 3992, 'তময': 7828, 'রবচ': 12573, 'মতন': 11255, 'পটপর': 9586, 'সহন': 14671, 'মদদ': 11280, 'জজ': 6207, 'রসফ': 12805, 'তহত': 7966, 'তপক': 7752, 'বছরজ': 10277, 'জটম': 6220, 'গমন': 5397, 'হকসহ': 14797, 'জকর': 6160, 'এলএনজ': 3734, 'লনব': 13223, 'করণম': 4699, 'বছরভর': 10283, 'ফয়জ': 10129, 'রণবশত': 12341, 'বদরসহ': 10399, 'পদকও': 9679, 'আইওস': 603, 'পদকট': 9683, 'এথ': 3269, 'লটন': 13116, 'নবরণ': 9177, 'বকগণ': 10207, 'উৎসবট': 2777, 'এনএসড': 3370, 'টমণ': 6950, 'ষই': 13828, 'বগণ': 10240, 'যগড়': 11677, 'বখত': 10234, 'খলজ': 5077, 'সনকর': 14317, 'বউদ': 10174, 'মহব': 11548, 'ঘল': 5652, 'দননগর': 8279, 'ঘষ': 5657, 'পকট': 9512, 'তনভ': 7738, 'ইখত': 1695, 'সউদ': 14139, 'ইওজ': 1651, 'ইলত': 2109, 'ৎম': 15127, 'বদর': 10391, 'সমবর': 14491, 'অপবর': 171, 'অমস': 298, 'সরলপথ': 14594, 'সচর': 14224, 'অবতল': 226, 'পণক': 9605, 'ঠট': 7133, 'দযন': 8357, 'চমত': 5860, 'টফরম': 6899, 'ষরজ': 14033, 'হহ': 15026, 'খজ': 4969, 'বরক': 10552, 'জনসম': 6371, 'যবয়স': 11825, 'ঊনপঞ': 2812, 'য়মত': 15430, 'লশন': 13376, 'রঙও': 12195, 'ধকও': 8554, 'ফলনয': 10087, 'অগণত': 37, 'রয়ও': 12905, 'সকদল': 14189, 'জনগণই': 6292, 'ৎফ': 15119, 'সনব': 14342, 'গউস': 5133, 'ণপদ': 7492, 'আটকর': 876, 'আইনগত': 639, 'ইজন': 1744, 'চকব': 5734, 'য়নসহ': 15404, 'নআফর': 8762, 'গমস': 5407, 'তরলক': 7897, 'পসন': 9893, 'ততট': 7693, 'মঈন': 11079, 'এসইস': 3848, 'অসঙ': 356, 'হগ': 14800, 'গণবক': 5272, 'এইড': 2963, 'এরও': 3679, 'ৎজ': 15102, 'আরআই': 1103, 'ইউআরপ': 1485, 'ফরম': 10048, 'ঐদ': 3996, 'চতর': 5788, 'যতত': 11736, 'নতত': 9048, 'বটতল': 10332, 'অতর': 86, 'ডএইচড': 7211, 'এলচ': 3771, 'ওই': 4026, 'পথসভ': 9669, 'আরএমও': 1148, 'থদ': 8050, 'অনর': 134, 'গঙ': 5165, 'রমক': 12635, 'অথ': 92, 'নয়এত': 9376, 'আলত': 1229, 'জছব': 6206, 'ইবত': 1985, 'এমস': 3672, 'নসবক': 9330, 'সফলএসব': 14403, 'বনসঙ': 10480, 'কসগ': 4856, 'রণপ': 12334, 'পনগ': 9728, 'ইউআরএল': 1483, 'আশফ': 1274, 'রওনক': 12089, 'রইস': 12027, 'তরস': 7903, 'হণ': 14846, 'পদট': 9695, 'সৎভ': 14703, 'আহমদ': 1344, 'লসহক': 13414, 'পকঢ': 9513, 'দনহ': 8300, 'ইউএসএসহ': 1540, 'গণব': 5271, 'সডএক': 14256, 'শভ': 13714, 'লজব': 13099, 'ওড': 4145, 'উইজ': 2289, 'ইজশ': 1758, 'ডহ': 7408, 'উইলকলকনস': 2325, 'উইলকল': 2324, 'এসভ': 3965, 'পয়ল': 9941, 'রথমআল': 12431, 'নঘ': 8942, 'হসই': 15014, 'চনর': 5823, 'ডগল': 7253, 'জকক': 6150, 'সরত': 14566, 'নখ': 8894, 'সময়ব': 14527, 'সফটএক': 14372, 'এসইআইপ': 3827, 'এলআইস': 3714, 'উরম': 2682, 'ষন': 14000, 'উটসহ': 2445, 'যহত': 11913, 'চনক': 5802, 'মওক': 11110, 'দজ': 8239, 'পদকমঞ': 9686, 'খড়': 5101, 'ধকল': 8565, 'সইত': 14116, 'পদত': 9697, 'আজই': 832, 'য়নদ': 15383, 'গলফসহ': 5480, 'ইসনক': 2182, 'ইসন': 2180, 'লগর': 13072, 'শয়ত': 13817, 'রণট': 12327, 'এহইয়': 3979, 'ণকর': 7443, 'ফরজ': 10039, 'আবশ': 1045, 'পথন': 9658, 'ড়পত': 15203, 'উলশ': 2711, 'কমরউদ': 4653, 'দয়ব': 8527, 'রণয়নক': 12362, 'টরর': 7000, 'রপরন': 12541, 'য়টস': 15314, 'উইঙ': 2286, 'রসট': 12780, 'শটক': 13574, 'অমন': 283, 'মশহর': 11492, 'ফচ': 9972, 'সহচর': 14649, 'এইচএসস': 2947, 'বৎসল': 10787, 'সমক': 14466, 'ধকদ': 8559, 'উলব': 2705, 'উলদ': 2698, 'উলগ': 2692, 'কভর': 4613, 'গঠনসহ': 5234, 'এমর': 3671, 'লমন': 13339, 'রণজ': 12324, 'ষকগবর': 13856, 'কমণ': 4634, 'ছট': 6037, 'নউত': 8804, 'লউত': 12977, 'যকশ': 11659, 'বরভক': 10614, 'মণক': 11232, 'মউত': 11086, 'হয়উত': 15041, 'য়খ': 15293, 'হয়ঘ': 15052, 'য়উত': 15253, 'ধস': 8712, 'শতর': 13611, 'উতস': 2481, 'সবম': 14437, 'চয়পত': 6009, 'রণপত': 12335, 'ইলশ': 2135, 'এমটব': 3641, 'টকর': 6767, 'ফকস': 9964, 'ণসন': 7545, 'তধন': 7713, 'রণভ': 12342, 'লসক': 13384, 'সহনশ': 14673, 'রমঘণ': 12638, 'নগরজ': 8927, 'আদন': 923, 'নগরক': 8925, 'অপচয': 152, 'মঈনউদ': 11080, 'ঝড': 6600, 'কএই': 4346, 'ধকবল': 8560, 'ইরত': 2068, 'থনদ': 8061, 'বশক': 10698, 'ডত': 7286, 'উনস': 2528, 'দনগ': 8266, 'আইকন': 606, 'আইকনট': 608, 'পকথন': 9518, 'য়দর': 15357, 'ষপর': 14008, 'রলট': 12732, 'এটল': 3233, 'ডগস': 7254, 'পনশপ': 9747, 'উপচ': 2556, 'সরব': 14576, 'কমর': 4652, 'হবন': 14913, 'আদল': 935, 'অগণ': 36, 'বমহল': 10540, 'তকও': 7603, 'কশনধর': 4824, 'শকর': 13534, 'যতন': 11739, 'এসক': 3946, 'রসনক': 12796, 'শদ': 13617, 'য়নর': 15393, 'থসহ': 8147, 'ধবলধ': 8650, 'ড়ম': 15210, 'ঠকর': 7113, 'লউড': 12975, 'মঈনক': 11081, 'লউডর': 12976, 'রটনক': 12276, 'ইএমএল': 1619, 'এমডব': 3643, 'চয়ও': 5996, 'নয়ত': 9394, 'বহনমন': 10768, 'দরস': 8401, 'জজট': 6209, 'এমএর': 3599, 'ঙর': 5688, 'লনকক': 13206, 'এমআইট': 3522, 'ইউএসট': 1544, 'লথ': 13167, 'উপকণ': 2539, 'হশ': 15011, 'কতগ': 4484, 'আনচ': 954, 'ওলক': 4237, 'ধপ': 8629, 'আকব': 747, 'লভভ': 13327, 'উসফ': 2737, 'কগব': 4390, 'দনআল': 8261, 'অখণ': 32, 'মমভ': 11406, 'মদদপ': 11283, 'যদল': 11756, 'কমই': 4618, 'বহত': 10754, 'হতম': 14864, 'টতই': 6843, 'কটস': 4464, 'তএকদ': 7589, 'কজনই': 4415, 'লকন': 13020, 'লপত': 13251, 'বলন': 10668, 'রকন': 12128, 'শহরজ': 13795, 'বসলয': 10742, 'সশব': 14627, 'ঝদ': 6602, 'বলদ': 10666, 'দলব': 8433, 'ভবনস': 10945, 'ঈষৎ': 2257, 'কতশত': 4500, 'আতহ': 916, 'শনট': 13643, 'ডজ': 7259, 'যতগ': 11733, 'অপঠ': 161, 'একনজর': 3161, 'অপশনট': 190, 'শগত': 13553, 'য়এসব': 15264, 'ওতপ': 4151, 'ষণম': 13948, 'ইউএসএআইড': 1533, 'লধ': 13184, 'বসহক': 10746, 'ষড': 13911, 'ইটল': 1791, 'ইসক': 2169, 'দশস': 8484, 'ইরন': 2069, 'জয়স': 6577, 'ছপ': 6061, 'ছগ': 6029, 'জগৎব': 6190, 'ওজনব': 4127, 'আদমশ': 932, 'কততম': 4491, 'গণন': 5263, 'ঝক': 6586, 'দঙ': 8231, 'আসনগ': 1300, 'সয়ল': 14726, 'ঠগ': 7122, 'আমজনত': 1066, 'ধবক': 8638, 'ফছ': 9973, 'পনক': 9727, 'যশক': 11891, 'ধনঞ': 8606, 'টগল': 6798, 'শধরর': 13623, 'তলক': 7914, 'ইদহ': 1855, 'হরপ': 14963, 'জসভ': 6517, 'অসভ': 371, 'অখ': 31, 'গগন': 5157, 'রগচট': 12176, 'যঘ': 11678, 'উদগ': 2494, 'তটস': 7684, 'নবণ': 9151, 'কসবজ': 4872, 'ঘরক': 5628, 'রণগ': 12319, 'রলচ': 12731, 'ময়ল': 11605, 'অসচ': 357, 'ঋণখ': 2828, 'উইলফ': 2327, 'এইচএমড': 2936, 'জনসভ': 6370, 'আসনই': 1296, 'ণচ': 7456, 'আলট': 1227, 'পকদ': 9522, 'ডও': 7229, 'অলওয়': 325, 'ঘটক': 5572, 'আইথ': 630, 'এসরক': 3973, 'ইউএসব': 1547, 'ঠন': 7144, 'নরসহ': 9264, 'রসপ': 12803, 'পদধ': 9700, 'একন': 3160, 'ইওয়': 1662, 'ঈগল': 2227, 'ডধ': 7293, 'গতবছর': 5306, 'শনন': 13650, 'তঅধ': 7562, 'উদয়ন': 2507, 'এফএমস': 3464, 'ডকইয়': 7237, 'আহরণ': 1357, 'চরণস': 5903, 'পইয়': 9478, 'ণশ': 7537, 'আউটল': 708, 'হকই': 14768, 'কবজ': 4596, 'যধ': 11762, 'ইজর': 1755, 'রমণস': 12670, 'রয়ক': 12906, 'পথও': 9648, 'হও': 14762, 'এমএলএম': 3604, 'বৎক': 10785, 'অঘটনট': 50, 'পটপট': 9585, 'পটপ': 9581, 'তবএ': 7777, 'কটল': 4462, 'এসবই': 3960, 'তবই': 7776, 'চজয': 5769, 'ণদশম': 7478, 'ণস': 7540, 'পথশ': 9667, 'অমরত': 290, 'মহৎ': 11566, 'উৎসর': 2791, 'টচক': 6805, 'বচন': 10254, 'একজনই': 3125, 'ষণদ': 13935, 'করণগ': 4688, 'ওএসএক': 4082, 'শতব': 13607, 'তমব': 7825, 'দকর': 8199, 'দলসহ': 8450, 'উসহ': 2742, 'ণবক': 7506, 'ইইউর': 1461, 'ইজত': 1742, 'ৎব': 15124, 'ময়দ': 11593, 'ৎচ': 15100, 'বড়দ': 10808, 'রথমরয়ট': 12444, 'অয়': 400, 'নউ': 8795, 'বছরব': 10281, 'টফটস': 6897, 'আনস': 976, 'তধ': 7712, 'হযরত': 14935, 'অবসন': 250, 'থরব': 8113, 'নবপ': 9162, 'অমঙ': 281, 'মনক': 11308, 'ণই': 7432, 'কয়ভ': 4919, 'শরণ': 13736, 'গমনক': 5398, 'বলপ': 10669, 'গজন': 5181, 'শতকর': 13597, 'ঘনত': 5604, 'চরমভ': 5921, 'সমভ': 14493, 'চমব': 5865, 'লকট': 13013, 'এনএসইউ': 3358, 'নবকল': 9135, 'জনগণক': 6295, 'পখ': 9537, 'নটস': 9026, 'ইফস': 1975, 'ডলস': 7371, 'উইটস': 2294, 'আইএসএস': 568, 'এইচআরড': 2911, 'গয': 5411, 'মভর': 11393, 'আখব': 774, 'বনস': 10479, 'মকম': 11134, 'ফসক': 10102, 'আজন': 842, 'উটর': 2437, 'চরমপন': 5920, 'তগত': 7650, 'নডন': 9034, 'অবনত': 234, 'আখল': 777, 'জরত': 6446, 'সৎপথ': 14701, 'অপচয়': 153, 'সতত': 14266, 'আহদ': 1338, 'রহমতস': 12884, 'বজগৎ': 10297, 'উহ': 2743, 'পদতল': 9698, 'হরখ': 14943, 'রসজ': 12778, 'উজউইক': 2402, 'রসরম': 12826, 'পটর': 9593, 'এআর': 2879, 'ঘজ': 5569, 'শলও': 13757, 'ফফর': 10017, 'এফআইইউর': 3419, 'এসআইব': 3811, 'এহস': 3984, 'যবচ': 11807, 'লবট': 13285, 'জকও': 6149, 'তচর': 7661, 'শনগ': 13637, 'ওজনও': 4123, 'সরম': 14581, 'হকম': 14789, 'এএন': 3005, 'আইএএফ': 475, 'ডজন': 7260, 'ডয়ন': 7415, 'উড়ত': 2799, 'অলক': 326, 'নড়ব': 9361, 'পপস': 9772, 'ধনট': 8607, 'এএনস': 3014, 'অনলবর': 136, 'ইএফএফ': 1606, 'বতই': 10355, 'কহ': 4887, 'হরষ': 14974, 'গদগদ': 5321, 'কঢ': 4472, 'ড়গ': 15177, 'বয়ফ': 10838, 'ওআই': 4010, 'হকর': 14790, 'বরম': 10616, 'ইফয়': 1978, 'চগ': 5747, 'ইনক': 1876, 'রণস': 12351, 'আকল': 764, 'আলন': 1232, 'ষণক': 13918, 'ওজ': 4117, 'থপত': 8071, 'রজগত': 12231, 'হরণক': 14952, 'কটনগ': 4447, 'লনকশ': 13208, 'আরএনএ': 1135, 'তরর': 7895, 'ষকউইলস': 13844, 'এনআরব': 3297, 'থচ': 8032, 'আফট': 1020, 'সফলদ': 14408, 'ডটব': 7279, 'কমফ': 4644, 'সনহ': 14353, 'য়নব': 15389, 'এনআর': 3294, 'ডলফ': 7366, 'অবব': 238, 'রলতম': 12735, 'একইভব': 3094, 'জলর': 6499, 'টআপগ': 6695, 'টআপক': 6694, 'এবছর': 3501, 'রকদ': 12126, 'লকচ': 13012, 'রতসহ': 12419, 'বছরগ': 10275, 'হরষপ': 14975, 'ছলত': 6081, 'জসজ': 6509, 'ষয়প': 14077, 'ওসহ': 4267, 'মআপন': 11051, 'আয়ইউট': 1376, 'সরও': 14544, 'নআপন': 8760, 'আথব': 919, 'ইডল': 1833, 'ধও': 8550, 'ইকট': 1669, 'দমত': 8340, 'দনময়': 8289, 'নগণ': 8908, 'কলন': 4780, 'জনগর': 6301, 'আছক': 822, 'ল৷': 13476, 'হয়ন': 15062, 'পনসরশ': 9756, 'পনসরও': 9754, 'যমণ': 11848, 'ড়প': 15202, 'যটকক': 11707, 'যটকস': 11712, 'তরবঙ': 7888, 'রবনসহ': 12596, 'যটনব': 11717, 'যটকঅভ': 11706, 'ইউএনডব': 1513, 'রমণব': 12661, 'তরও': 7849, 'উরল': 2683, 'ভপ': 10914, 'খয়খরচ': 5111, 'ওইস': 4042, 'টয়ল': 7091, 'আওল': 730, 'এনএলড': 3352, 'ওআইস': 4015, 'ৎপর': 15117, 'যসভ': 11908, 'রবস': 12607, 'মতভ': 11260, 'তবব': 7789, 'ইসগ': 2172, 'ননস': 9107, 'লভম': 13328, 'সসপ': 14634, 'এগব': 3210, 'চপলত': 5834, 'ওপরই': 4175, 'আইচ': 612, 'জলছব': 6468, 'নয়জ': 9386, 'হইহ': 14748, 'এতই': 3254, 'শকক': 13514, 'ঙময়': 5686, 'য়চ': 15302, 'কতদ': 4492, 'ওইট': 4032, 'রচয়': 12222, 'কলকদ': 4766, 'নবম': 9169, 'দকসহ': 8204, 'উতর': 2479, 'তনগ': 7725, 'তনপ': 7736, 'ৎশ': 15132, 'জখবর': 6166, 'টঢ': 6841, 'এসইএক': 3835, 'টড': 6837, 'তবদল': 7785, 'শনএদ': 13630, 'আরএন': 1134, 'আরগন': 1179, 'এনভয়': 3395, 'সমরক': 14499, 'হউল': 14755, 'আইএসক': 575, 'খরচট': 5057, 'আইও': 585, 'য়জ': 15305, 'অহরহই': 397, 'বরও': 10551, 'হইস': 14747, 'করস': 4753, 'ফলস': 10095, 'অহন': 393, 'ঐচ': 3994, 'জনউৎপ': 6268, 'পণনপ': 9616, 'খনফল': 5004, 'য়ড': 15315, 'ষণধর': 13937, 'মহলই': 11559, 'ঈদগড়': 2235, 'ঈদগ': 2234, 'বহনশ': 10770, 'আহমদসহ': 1354, 'ষসহ': 14056, 'মফলক': 11371, 'উপড': 2562, 'টথ': 6849, 'ঘসময়': 5662, 'মনয': 11340, 'মতগ': 11249, 'য়তম': 15349, 'মধন': 11298, 'য়রপন': 15457, 'জবসক': 6416, 'জবস': 6415, 'সকগ': 14184, 'আরএসএস': 1161, 'লতব': 13157, 'ঔদ': 4282, 'লওত': 12996, 'টআউট': 6687, 'লবণচ': 13294, 'মনছ': 11317, 'ফলদন': 10081, 'ফজ': 9974, 'কওয': 4359, 'নরওয': 9240, 'পনসরদ': 9755, 'অসল': 383, 'লজয': 13101, 'ফরস': 10057, 'ণকল': 7444, 'পবত': 9778, 'ণবরন': 7514, 'ঝমঝম': 6616, 'এনএসএ': 3363, 'ইআরজ': 1442, 'আইনক': 636, 'থসচ': 8142, 'ইএই': 1587, 'ইআস': 1449, 'সএইস': 14146, 'রএ': 12059, 'কঋণ': 4344, 'শতভ': 13609, 'শলট': 13763, 'নএট': 8821, 'রতপক': 12402, 'বহদ': 10756, 'তনসহ': 7748, 'চউক': 5708, 'য়রসহ': 15464, 'যয়নক': 11942, 'ডরম': 7350, 'গগত': 5155, 'আনছ': 955, 'ইটবক': 1786, 'ণতবয়স': 7471, 'অরগ': 306, 'লকম': 13025, 'কসন': 4862, 'তলব': 7925, 'উপত': 2564, 'ইগল': 1707, 'ঘরবন': 5642, 'আরএমআইট': 1145, 'রপঞ': 12522, 'য়নও': 15366, 'লখর': 13053, 'পকথ': 9516, 'অবনমন': 236, 'চজ': 5760, 'ডআপ': 7180, 'ষকম': 13874, 'উপলদ': 2601, 'ণয়': 7550, 'উদঘ': 2495, 'রহণকরণ': 12856, 'রহণস': 12863, 'রহণএট': 12851, 'হরদ': 14961, 'মগল': 11165, 'উপপদ': 2580, 'তৎপ': 7976, 'সঘরছ': 14216, 'ণজ': 7461, 'গগনচ': 5158, 'মছন': 11189, 'লকর': 13032, 'মমঞ': 11400, 'সঅন': 14092, 'অনত': 122, 'ষল': 14045, 'যতক': 11731, 'নয়নপত': 9413, 'নদর': 9077, 'অজয়': 68, 'এমফ': 3667, 'বরপত': 10596, 'মরন': 11443, 'মরকল': 11418, 'সপক': 14359, 'উভ': 2639, 'বকসহ': 10230, 'দকব': 8195, 'ময়য': 11603, 'এমট': 3640, 'এসবগ': 3963, 'রকমভ': 12149, 'আজব': 844, 'আইআরস': 435, 'ইআরস': 1446, 'রফতন': 12557, 'নড়': 9356, 'চড়ত': 5987, 'যপণ': 11779, 'পমন': 9794, 'তপণ': 7755, 'দরগ': 8366, 'সকক': 14183, 'দফতরক': 8314, 'লশহর': 13378, 'আউশ': 719, 'পচত': 9551, 'ঘরত': 5637, 'জতল': 6241, 'ঢল': 7424, 'ফসলসহ': 10118, 'করমজ': 4741, 'ডভন': 7334, 'অথই': 93, 'ঢলত': 7426, 'সরদ': 14570, 'ডহর': 7411, 'ইপল': 1944, 'হকভ': 14788, 'পদম': 9707, 'ঘনফ': 5605, 'গণহত': 5293, 'উইনস': 2311, 'গওহর': 5146, 'এয': 3674, 'গটর': 5199, 'য়প': 15406, 'আটব': 890, 'হলপ': 14995, 'চদ': 5790, 'উরফ': 2680, 'তসক': 7946, 'ডগত': 7252, 'টহল': 7080, 'জনবসত': 6339, 'তফস': 7773, 'সশর': 14628, 'আটল': 895, 'পদমন': 9708, 'উথইস': 2484, 'চগড়': 5751, 'এহত': 3981, 'হকও': 14770, 'ইনশ': 1913, 'নয়নপ': 9412, 'শটই': 13571, 'ইভই': 1994, 'যয়ন': 11940, 'ষণট': 13932, 'য়রদ': 15452, 'রবক': 12571, 'আসনট': 1301, 'হরম': 14969, 'ড়সম': 15226, 'ঝকঝক': 6587, 'বঘ': 10249, 'কএন': 4350, 'টপঅর': 6881, 'নগতক': 8912, 'অরজয': 308, 'লনরত': 13227, 'শকস': 13537, 'শকও': 13513, 'রসব': 12806, 'ভরপ': 10973, 'বয়সট': 10847, 'টরগ': 6984, 'ইউভ': 1570, 'এমআইপ': 3523, 'ইডথ': 1821, 'চরব': 5911, 'সলসব': 14623, 'আরইউয়': 1122, 'সঘ': 14215, 'তকত': 7610, 'উইসকনস': 2341, 'কসবর': 4873, 'তবসম': 7800, 'জনপথ': 6326, 'সওজ': 14171, 'খড': 4977, 'খয়ড': 5112, 'এবড': 3505, 'নরক': 9242, 'লপড': 13250, 'বসহ': 10745, 'ঝলমল': 6633, 'চটজলদ': 5779, 'খড়গহস': 5106, 'জলউড': 6452, 'শহরতল': 13797, 'লতপ': 13156, 'দনগর': 8268, 'ফজর': 9975, 'জলজ': 6469, 'ঝরছ': 6621, 'মদসহ': 11294, 'করট': 4681, 'এসএসএফ': 3922, 'ইউএই': 1492, 'দনই': 8262, 'কলহ': 4806, 'পড়চ': 9920, 'ধচন': 8574, 'তকড়': 7636, 'ওকস': 4103, 'হদর': 14871, 'আসনও': 1298, 'টছড': 6807, 'একল': 3186, 'ফড়নব': 10124, 'কদল': 4521, 'আইএনএলড': 487, 'সচদ': 14222, 'আমজ': 1065, 'তজনক': 7678, 'নজনই': 8978, 'কওম': 4358, 'জনপঞ': 6325, 'যছ': 11685, 'নরখ': 9247, 'ডবয়': 7330, 'নয়নমণ': 9420, 'তয': 7836, 'আসনব': 1302, 'আঠ': 899, 'যতর': 11745, 'ছসহ': 6087, 'শতম': 13610, 'সভবনট': 14461, 'খকও': 4945, 'উৎসবগ': 2775, 'রমবণ': 12683, 'অসমভ': 379, 'পহ': 9913, 'বড়গ': 10796, 'ভনল': 10913, 'আরএস': 1155, 'ইলভ': 2126, 'একগ': 3117, 'জগৎ': 6184, 'রউইম': 12037, 'যমত': 11849, 'নড়ত': 9359, 'নয়জগত': 9387, 'ণশক': 7538, 'নগত': 8911, 'অদম': 103, 'ইলচ': 2096, 'ঢ়চ': 15233, 'লগট': 13062, 'ঠতম': 7138, 'মতনই': 11256, 'মনভ': 11335, 'এজব': 3224, 'এনআইএলস': 3284, 'এলইউ': 3721, 'গঠনও': 5214, 'কতজনক': 4487, 'লধর': 13194, 'দহন': 8503, 'ইকল': 1688, 'রবণক': 12583, 'আয়ল': 1412, 'যদর': 11755, 'ওরস': 4232, 'টবলপ': 6925, 'টবলও': 6917, 'তনয': 7742, 'যসব': 11905, 'নদণ': 9071, 'নউদ': 8805, 'লতখ': 13148, 'ঈদবস': 2238, 'তৎপর': 7977, 'মওদ': 11111, 'আহমদর': 1352, 'বতজ': 10361, 'তমও': 7813, 'নএই': 8812, 'ইভট': 2001, 'জয়ক': 6537, 'এনআইএ': 3280, 'নঈম': 8793, 'নঈমক': 8794, 'এনআইএর': 3283, 'এলত': 3778, 'গনণ': 5339, 'এএসএম': 3063, 'ওছ': 4114, 'উদয়': 2505, 'এইচএফস': 2931, 'এইস': 2982, 'যসম': 11909, 'আইএসও': 572, 'সনদপ': 14333, 'ঘটঝউঅঞ': 5578, 'টঞঝ': 6827, 'চদরজ': 5793, 'নদল': 9079, 'মইনক': 11069, 'কতই': 4475, 'মইনও': 11068, 'আয়ত': 1390, 'হয়খ': 15050, 'যবক': 11806, 'আরশ': 1212, 'হয়গ': 15051, 'তস': 7943, 'বহনতন': 10764, 'লমড': 13337, 'উদয': 2501, 'আহব': 1341, 'আবত': 1034, 'আতশব': 914, 'কনকচ': 4535, 'তরন': 7877, 'নরত': 9253, 'ইইউভ': 1459, 'সনসহ': 14352, 'তনব': 7737, 'যপত': 11780, 'অদক': 102, 'যমসহ': 11863, 'সরণও': 14561, 'য়নয': 15392, 'আইইএ': 447, 'রণও': 12311, 'জনর': 6350, 'য়করণ': 15284, 'যরশ': 11882, 'ইই': 1451, 'রযন': 12708, 'থজন': 8036, 'ঋণগ': 2829, 'রতভ': 12406, 'ধছ': 8575, 'রমণভ': 12662, 'জয়ও': 6536, 'পশল': 9877, 'খসর': 5095, 'ঘরও': 5627, 'য়রর': 15460, 'একপক': 3164, 'অপহরণক': 196, 'উলই': 2688, 'হজসন': 14823, 'টবলক': 6918, 'কবহ': 4608, 'পণনক': 9614, 'পণনকর': 9615, 'ডজনখ': 7261, 'পণনসবচ': 9621, 'পনম': 9743, 'য়অরগ': 15244, 'উজফ': 2412, 'অপশনগ': 189, 'পণনফ': 9618, 'ওএ': 4056, 'ভনও': 10907, 'ষকপ': 13868, 'রহসন': 12896, 'উইড': 2296, 'নএকজন': 8816, 'আসনউত': 1297, 'শসবচ': 13782, 'মইভ': 11071, 'লআস': 12960, 'লঅর': 12945, 'লপশ': 13264, 'লমহ': 13346, 'লজম': 13100, 'রণই': 12305, 'সড়কব': 14718, 'ষরণ': 14035, 'কজমকপ': 4425, 'আইনত': 644, 'অযথ': 302, 'মদর': 11291, 'গণপত': 5266, 'আনক': 950, 'হআম': 14731, 'ৎসকদ': 15141, 'ইআর': 1437, 'এলএস': 3753, 'ওপরচ': 4185, 'পকক': 9507, 'চয়ন': 6005, 'রথমবর': 12441, 'রমও': 12633, 'য়এক': 15257, 'জপড়': 6393, 'তমক': 7815, 'কড়স': 4906, 'দকত': 8191, 'ইউএসএ': 1532, 'ইরশ': 2077, 'নসরক': 9341, 'আইআর': 425, 'ইটঢ': 1779, 'অবল': 242, 'ইয়র': 2221, 'য়কত': 15276, 'জড়সড়': 6532, 'রহক': 12837, 'খসমর': 5094, 'গলত': 5469, 'ছপগত': 6063, 'করই': 4668, 'ণয': 7531, 'র৷': 12932, '৷খ': 15515, 'বছরসর': 10288, 'শউৎপ': 13493, 'মসহসভ': 11535, 'দসহক': 8498, 'ডউইচ': 7193, 'হয়এ': 15042, 'দফতরগ': 8315, 'শরফ': 13742, 'পদভ': 9706, 'নবগঠ': 9138, 'এইজ': 2961, 'ঞজনর': 6659, 'হতর': 14865, 'ইলটক': 2101, 'ওচ': 4112, 'বসতভ': 10724, 'য়দপ': 15355, 'হটল': 14837, 'ভগবতক': 10876, 'ভগবত': 10875, 'গবত': 5371, 'সকলক': 14202, 'সশ': 14626, 'আইওএ': 587, 'ডপয়': 7312, 'আইএসএসপ': 571, 'টলস': 7026, 'লমণ': 13338, 'রবণন': 12589, 'গলগ': 5460, 'বটগ': 10328, 'ছখ': 6028, 'ছঘ': 6030, 'নলখ': 9270, 'য়ঘ': 15299, 'খভর': 5043, 'বজয়': 10318, 'ময়ত': 11592, 'ডবত': 7323, 'উভয়ক': 2649, 'রআম': 11995, 'যটননগর': 11716, 'থমথম': 8092, 'ঠদ': 7142, 'ধধর': 8595, 'বইত': 10152, 'উভয়ই': 2646, 'য়কতন': 15277, 'অপরক': 176, 'পপদ': 9767, 'সহজভ': 14662, 'টকয়': 6788, 'ডএইচ': 7210, 'নগণসহ': 8910, 'লপদকক': 13258, 'সগব': 14212, 'করতল': 4710, 'নকভ': 8880, 'টআপস': 6698, 'শছ': 13565, 'ইউডব': 1560, 'উএ': 2347, 'ওশ': 4254, 'উয': 2667, 'উএর': 2369, 'বরবর': 10611, 'এমএসএস': 3619, 'দনরত': 8291, 'এরআগ': 3676, 'এএএম': 3000, 'খননযন': 5000, 'রলব': 12739, 'ঘষল': 5659, 'তকর': 7623, 'ধরক': 8664, 'অতট': 84, 'কটপ': 4448, 'জঘর': 6199, 'ভড়ক': 11017, 'রশমন': 12757, 'টছড়': 6808, 'ইওভ': 1655, 'শখও': 13544, 'নকআউটপর': 8867, 'উড়ছ': 2798, 'ইজনক': 1746, 'ডবলম': 7329, 'নবদ': 9154, 'ইমসক': 2048, 'শবব': 13706, 'ননদ': 9097, 'আধট': 939, 'উডর': 2472, 'বরদ': 10588, 'ইনপট': 1898, 'রতনসহ': 12400, 'ইউড': 1559, 'এমএফ': 3580, 'সদরগ': 14290, 'বৎ': 10784, 'গড়প': 5540, 'গফল': 5361, 'ইমনপর': 2035, 'খধ': 4989, 'দপর': 8310, 'কইলরয': 4327, 'যদত': 11754, 'এককথ': 3108, 'ষপঞ': 14003, 'করবখ': 4727, 'করবগ': 4728, 'করবঘ': 4729, 'করবউত': 4718, 'টউত': 6720, 'আইনখ': 637, 'আইনঘ': 641, 'আইনউত': 634, 'জউত': 6124, 'রহন': 12870, 'জকত': 6154, 'আরবর': 1204, 'কতভ': 4495, 'অকট': 23, 'পউট': 9480, 'ওকম': 4100, 'ববঙ': 10512, 'এমএসএমই': 3617, 'আইনসম': 658, 'সফরট': 14394, 'মইনউদ': 11067, 'মরতদ': 11440, 'ঢ়প': 15239, 'হতশ': 14868, 'নজনব': 8988, 'রমল': 12694, 'টসন': 7051, 'পদও': 9676, 'টনও': 6860, 'কওয়': 4361, 'চকও': 5722, 'য়তপ': 15346, 'রতও': 12375, 'ফকন': 9961, 'ভড': 10896, 'ণঘ': 7455, 'ধকরণ': 8562, 'রবত': 12592, 'থসম': 8145, 'মতলব': 11265, 'কইস': 4330, 'কড়গ': 4901, 'মহগ': 11539, 'হলওয়': 14983, 'থনয': 8064, 'এমনগ': 3656, 'দখ': 8207, 'ঘরগ': 5631, 'ফরক': 10035, 'জবল': 6414, 'কমবখত': 4646, 'জদরব': 6249, 'লভগ': 13323, 'শঠ': 13583, 'হকগ': 14774, 'ড়সওয়': 15224, 'ফফরনগর': 10018, 'আছড': 823, 'এমএইচ': 3560, 'যময': 11858, 'চষ': 5971, 'তলদ': 7922, 'দধ': 8256, 'রণযন': 12346, 'বজনহ': 10311, 'আগম': 786, 'শরৎচন': 13753, 'হময়': 14933, 'অশন': 348, 'সমবয়স': 14492, 'গণঅভ': 5242, 'চকমণ': 5738, 'কবরস': 4604, 'হপ': 14900, 'কবরগ': 4602, 'উইলসন': 2334, 'বনগ': 10434, 'জয়বর': 6561, 'লছড়': 13095, 'এনএস': 3354, 'বদরর': 10398, 'বদরদ': 10395, 'রফলশ': 12562, 'রফল': 12560, 'গশ': 5495, 'এফইউজ': 3436, 'উইদ': 2300, 'চকভ': 5735, 'পসদ': 9892, 'বওয়': 10200, 'ঋষভ': 2850, 'তঅ': 7559, 'ভসবন': 11006, 'টচ': 6804, 'জসপ': 6513, 'ভখ': 10871, 'ইনপ': 1897, 'আউটপ': 700, 'ইভঘ': 1999, 'মপদ': 11357, 'ডওয': 7233, 'ততল': 7701, 'এমআরস': 3541, 'কমলগঞ': 4657, 'গনট': 5338, 'যযন': 11871, 'মচর': 11185, 'মননশ': 11328, 'অনবদ': 128, 'দপতন': 8305, 'কপর': 4580, 'পছ': 9556, 'ভরণ': 10966, 'রপস': 12545, 'আবহস': 1053, 'নছড': 8957, 'টধর': 6855, 'নখগ': 8896, 'ইসপ': 2183, 'ৎসকক': 15140, 'উৎকট': 2747, 'রপড': 12526, 'মরহ': 11454, 'বরগঞ': 10564, 'ধসহ': 8718, 'চবট': 5841, 'আদমজ': 929, 'পথপ': 9659, 'কপণ': 4574, 'অবন': 233, 'বকরণ': 10223, 'আইএইএ': 462, 'আইএইএর': 463, 'লপট': 13249, 'হৎস': 15029, 'জওয': 6141, 'ভৎসত': 11014, 'বছরসহ': 10289, 'লদরব': 13178, 'রহণব': 12860, 'টসনক': 7053, 'বটব': 10337, 'টসনও': 7052, 'রমহ': 12703, 'নয়এই': 9374, 'ফলই': 10063, 'শকচ': 13517, 'ময়করই': 11584, 'নয়ই': 9371, 'ণজয়ন': 7464, 'টদলট': 6852, 'তচক': 7660, 'টকক': 6750, 'আপতদ': 991, 'শকনন': 13527, 'মলন': 11469, 'বনফ': 10460, 'ফম': 10024, 'রলদ': 12736, 'রবজনক': 12577, 'গণসম': 5289, 'দখলম': 8217, 'রবহম': 12612, 'অজর': 66, 'জয়জয়ক': 6544, 'তরদ': 7875, 'মসব': 11522, 'ডকন': 7241, 'ধনধ': 8610, 'পভর': 9788, 'ওরই': 4216, 'উলক': 2690, 'ঝনঝন': 6604, 'ছকই': 6023, 'একফ': 3169, 'কচল': 4406, 'লঘটন': 13078, 'বননদ': 10456, 'কডইন': 4468, 'ঝলক': 6628, 'শএমন': 13502, 'ইফফ': 1966, 'লপর': 13261, 'ডখ': 7247, 'য়চলচ': 15303, 'ঝলস': 6634, 'বয়কট': 10827, 'গঠনএস': 5213, 'আপৎক': 1012, 'রউইন': 12036, 'লকমণ': 13027, 'পলল': 9861, 'করকম': 4673, 'দনও': 8263, 'ইসঙ': 2174, 'বরধ': 10589, 'নচর': 8952, 'পরগন': 9810, 'মলচন': 11461, 'বউব': 10177, 'জলক': 6457, 'ডয': 7342, 'জলবর': 6490, 'বলবৎ': 10677, 'গজনক': 5182, 'রহট': 12845, 'রহগ': 12841, 'রহঘ': 12842, 'সবল': 14442, 'বলগ': 10648, 'বজর': 10315, 'ঘব': 5615, 'ওতট': 4149, 'সইছ': 14113, 'ড়নক': 15196, 'অবয়ব': 266, 'অফশ': 207, 'ররফক': 12720, 'এমআইয়': 3527, 'তরই': 7843, 'ইজট': 1740, 'বমহ': 10539, 'টসঠ': 7049, 'রসঠ': 12781, 'ইলগ': 2094, 'ঘত': 5591, 'গসঠ': 5505, 'নসঠ': 9313, 'ষকড': 13859, 'ররন': 12717, 'ফসফর': 10107, 'গলগণ': 5461, 'ইরক': 2061, 'খসখস': 5089, 'য়নকর': 15370, 'য়থ': 15353, 'নওফ': 8854, 'নকআউটভ': 8868, 'গগসহ': 5161, 'ঢ়ভ': 15241, 'এসআইপ': 3809, 'নজক': 8965, 'ইলন': 2112, 'সএক': 14147, 'লনজ': 13216, 'মরছ': 11421, 'যতদ': 11738, 'চমকই': 5847, 'রমট': 12642, 'হনই': 14875, 'আগমনধ': 792, 'ঋণপ': 2837, 'তরণক': 7864, 'গড়কড়': 5533, 'আরএসপ': 1166, 'দশরথ': 8483, 'হনল': 14891, 'সহজপ': 14660, 'পকহ': 9536, 'ৎসকর': 15143, 'উফল': 2618, 'দশজন': 8465, 'আইওএসসহ': 596, 'সঅ': 14090, 'জমত': 6428, 'লআম': 12956, 'তকরণসহ': 7631, 'ধজগত': 8577, 'এএসআই': 3056, 'নধর': 9085, 'তবয়স': 7804, 'ইউএনএফপ': 1507, 'লনস': 13234, 'তসন': 7951, 'লনচর': 13215, 'পদগ': 9691, 'এইর': 2979, 'সবপক': 14433, 'সকভ': 14195, 'আরআইএক': 1105, 'ষছ': 13899, 'আনলক': 974, 'পলও': 9851, 'বউন': 10175, 'মটর': 11215, 'বহনসহ': 10773, 'ঝব': 6609, 'জগৎপ': 6189, 'গলদ': 5471, 'নমক': 9206, 'নতব': 9054, 'ইলঅবশ': 2082, 'খশম': 5086, 'দমস': 8352, 'তশম': 7939, 'রনসন': 12508, 'ইনকরপ': 1882, 'আগন': 783, 'যবঞ': 11808, 'বকট': 10209, 'দশর': 8481, 'সরয': 14582, 'আরথ': 1188, 'পটপগ': 9584, 'তশল': 7941, 'উজব': 2413, 'ষহ': 14057, 'জলট': 6476, 'তময়': 7835, 'যসবই': 11906, 'গমত': 5393, 'এমনস': 3664, 'ফলম': 10093, 'তসব': 7954, 'দলপ': 8431, 'পবয': 9782, 'ওলজ': 4240, 'ইভস': 2009, 'একই': 3084, 'অধর': 109, 'জয়রথ': 6570, 'ডই': 7185, 'আধঘণ': 938, 'আজপ': 843, 'ফজয়': 9977, 'সহজতর': 14658, 'যফল': 11797, 'এএসপ': 3072, 'রভক': 12620, 'লতক': 13145, 'চরফ': 5910, 'সপর': 14367, 'নপর': 9121, 'চসহ': 5979, 'রঅভ': 11968, 'মরল': 11450, 'মরব': 11446, 'মগসহ': 11166, 'টকহ': 6787, 'বপত': 10494, 'রকমই৷ক': 12141, '৷হ': 15545, 'র৷হ': 12937, 'চকই': 5720, 'পঘন': 9545, 'পণসহ': 9628, 'ইআরএফ': 1438, 'গনস': 5347, 'ইউআইইউ': 1476, 'সপন': 14364, 'বলড': 10656, 'রণকক': 12313, 'কনডমব': 4550, 'ভধ': 10904, 'পটতই': 9576, 'খঢ': 4979, 'উজপ': 2411, 'সমপর': 14488, 'ধসম': 8716, 'সড়কগ': 14711, 'কটতম': 4443, 'আছপ': 825, 'মজল': 11203, 'টকতম': 6758, 'গণফ': 5270, 'এনএফ': 3338, 'উইজড': 2290, 'ঝছ': 6594, 'ঈস': 2258, 'অনড': 121, 'উইলস': 2333, 'কমও': 4621, 'হরণস': 14956, 'ঋণক': 2827, 'ঋণই': 2824, 'এলট': 3774, 'রণয়': 12357, 'ইঝ': 1764, 'চতল': 5789, 'রতল': 12413, 'দফর': 8317, 'য়মট': 15428, 'কচক': 4402, 'ইফট': 1958, 'যমই': 11832, 'ড়কদ': 15171, 'ক৷': 4922, 'র৷ব': 12936, '৷স': 15541, 'আনয়ন': 978, 'ইটন': 1781, 'ঊধ': 2810, 'কপট': 4572, 'পচর': 9555, 'শকপ': 13528, 'অপছন': 159, 'গয়ন': 5549, 'কথকত': 4507, 'খভঙ': 5042, 'বনমল': 10468, 'রকমপ': 12147, 'ররম': 12722, 'ধয': 8662, 'হঋণ': 14756, 'কমক': 4622, 'বসক': 10711, 'মময়': 11412, 'ইলসহ': 2147, 'যৎট': 11921, 'এসএর': 3904, 'ওখ': 4105, 'মদনপ': 11287, 'ঝপ': 6606, 'শধ': 13620, 'গড়পড়ত': 5541, 'দরট': 8372, 'মবদল': 11382, 'আগরতল': 798, 'মবদলক': 11383, 'রবজর': 12578, 'নততর': 9049, 'শমন': 13725, 'আরনল': 1193, 'ওএসএন': 4083, 'ইসঞ': 2175, 'রএই': 12060, 'বয়সক': 10845, 'অসৎ': 389, 'বদঅভ': 10380, 'হচর': 14810, 'আজমল': 855, 'ভয়ডরহ': 11028, 'অতন': 85, 'গউদ': 5132, 'দলশ': 8447, 'লবর': 13311, 'উশ': 2716, 'রহশ': 12894, 'পদকসহ': 9690, 'আরঅ': 1101, 'রণম': 12343, 'জয়ত': 6548, 'সভঙ': 14455, 'বয়নশ': 10836, 'আইএর': 536, 'নতদ': 9051, 'রবয়ন': 12616, 'যজনকভ': 11698, 'বইম': 10158, 'ণচর': 7459, 'চরজব': 5890, 'কজনসহ': 4422, 'দশরত': 8482, 'রমরম': 12693, 'চদশ': 5795, 'তদব': 7709, 'ষণসহ': 13961, 'গফলদ': 5367, 'যৎই': 11917, 'নসনক': 9317, 'ঝম': 6615, 'আইকনদ': 609, 'পতনক': 9636, 'দরপতন': 8383, 'তচ': 7659, 'আকবরন': 755, 'এককক': 3104, 'জলপ': 6485, 'বরঘ': 10567, 'ওলটপ': 4242, 'এইউ': 2891, 'সরন': 14571, 'টধ': 6854, 'গঠনতন': 5223, 'পদমর': 9709, 'ইছড়': 1727, 'টসপণ': 7056, 'ষণই': 13915, 'ওপরও': 4178, 'আমরণ': 1083, 'আফত': 1021, 'অনশনরত': 140, 'উপসচ': 2609, 'ৎসর': 15153, 'জনল': 6355, 'আনজ': 956, 'বড়র': 10815, 'ওএলএক': 4079, 'অদল': 105, 'সরগরম': 14552, 'লকল': 13037, 'জবধ': 6405, 'সময়গ': 14522, 'এসএফএফ': 3875, 'আরভ': 1208, 'ভয়ক': 11022, 'পবন': 9780, 'দকম': 8197, 'রআপ': 11992, 'রমগ': 12637, 'টতম': 6846, 'আফফ': 1023, 'জয়নগর': 6553, 'বশত': 10700, 'মফস': 11373, 'গনভ': 5344, 'আতশক': 913, 'মচট': 11181, 'শবন': 13702, 'চরস': 5927, 'মলপ': 11470, 'ঔপন': 4283, 'ইবক': 1981, 'য়ফ': 15412, 'য়মসহ': 15442, 'য়সহ': 15484, 'লরও': 13351, 'ফসলহ': 10119, 'ড়বক': 15207, 'রঢ': 12302, 'হনব': 14890, 'এডটকম': 3242, 'য়নট': 15379, 'দরখ': 8365, 'পঠ': 9597, 'ইইউয়': 1464, 'ঠজন': 7130, 'রয়ম': 12924, 'চলপ': 5954, 'নবতর': 9153, 'পটপক': 9583, 'উটস': 2443, 'পদস': 9715, 'ষবরণ': 14013, 'জসপত': 6514, 'শহরম': 13801, 'বয়কটক': 10828, 'তকল': 7633, 'কপক': 4568, 'পনট': 9733, 'খসড': 5091, 'ককর': 4372, 'ইমক': 2020, 'লসম': 13404, 'রমণক': 12648, 'শপথগ': 13685, 'বড়ট': 10805, 'পরল': 9838, 'লতদ': 13154, 'জনসনক': 6365, 'ডলক': 7358, 'বইল': 10162, 'নবমব': 9173, 'রডর': 12297, 'ধরনট': 8680, 'রবচন': 12574, 'করহ': 4757, 'কমনওয়': 4639, 'অযত': 300, 'নসব': 9328, 'অনটন': 119, 'এইযতট': 2978, 'ফও': 9955, 'ইউএনপ': 1514, 'সপণ': 14362, 'এইসএস': 2983, 'আরড': 1184, 'অবয': 240, 'শকমহল': 13533, 'দনময': 8288, 'খপত': 5010, 'টবলব': 6928, 'রবহ': 12611, 'দধন': 8257, 'মআধ': 11048, 'নপট': 9113, 'ইভসও': 2010, 'এসএফআরএল': 3874, 'হকস': 14793, 'টকসহ': 6786, 'জপথ': 6386, 'মখল': 11147, 'টরশ': 7001, 'ধমক': 8656, 'থকর': 8018, 'মলট': 11464, 'কতস': 4501, 'মলগ': 11460, 'ধনসহ': 8627, 'সনদট': 14331, 'লয়ই': 13441, 'ইএট': 1594, 'রকমণ': 12146, 'রতয': 12408, 'য়ইভ': 15251, 'সবসময়': 14449, 'কটক': 4435, 'ইকনম': 1676, 'তখরচট': 7647, 'ইসসহ': 2196, 'টসশ': 7071, 'আইইউ': 440, 'আদজ': 921, 'য়কদ': 15278, 'ফসহ': 10121, 'মঅবত': 11041, 'আপক': 981, 'নয়গ': 9383, 'মডগ': 11222, 'ষবর': 14012, 'এডভ': 3246, 'আবক': 1029, 'এরমধ': 3705, 'রমত': 12672, 'এএসট': 3070, 'এইচএসব': 2946, 'ইওন': 1654, 'মউন': 11088, 'জতব': 6240, 'সইয়': 14128, 'বমঞ': 10532, 'অকপট': 25, 'আয়ক': 1378, 'ভরভ': 10976, 'রমণন': 12657, 'যল': 11885, 'যমট': 11847, 'গণহ': 5292, 'আফছ': 1017, 'শরবত': 13744, 'মসনদ': 11518, 'ইমচর': 2022, 'রচত': 12209, 'নলক': 9269, 'মসচ': 11506, 'শরৎ': 13750, 'দকগ': 8186, 'মজন': 11198, 'করন': 4712, 'ওলগ': 4239, 'কপস': 4583, 'এপস': 3409, 'সহরচয': 14686, 'শলপত': 13766, 'ইউএনড': 1512, 'এমএলএ': 3602, 'দকমণ': 8198, 'তলজ': 7917, 'জরও': 6443, 'বটম': 10338, 'টলরয়ক': 7025, 'লটনক': 13118, 'দএমন': 8172, 'ভরহ': 10987, 'উপখ': 2554, 'পদহ': 9719, 'যখ': 11660, 'বসতব': 10723, 'য়নহ': 15405, 'ষঘ': 13893, 'আমলক': 1087, 'কড়ই': 4894, 'হগন': 14803, 'তমসজ': 7833, 'ফরট': 10040, 'এজওয়': 3221, 'এনই': 3299, 'ষউদ': 13830, 'য়ণত': 15327, 'পকসরক': 9534, 'ষকমত': 13877, 'রথমপত': 12439, 'নইব': 8780, 'ধনম': 8615, 'জনজ': 6305, 'ডতম': 7288, 'কনহ': 4566, 'ড়য়': 15230, 'মজয়': 11205, 'বলডন': 10657, 'লভর': 13329, 'আইইউব': 443, 'মপক': 11350, 'জনপর': 6331, 'বছরট': 10278, 'এমএসস': 3624, 'বগত': 10241, 'নপন': 9119, 'গমখ': 5387, 'ভবই': 10920, 'সবধরন': 14429, 'ধমর': 8660, 'রবনয়': 12597, 'যরত': 11880, 'টওভ': 6739, 'লএমন': 12992, 'নশর': 9298, 'যবন': 11813, 'শটন': 13578, 'নবলত': 9182, 'ডসকম': 7386, 'সইমর': 14122, 'য়নম': 15391, 'য়নত': 15381, 'য়নশফ': 15398, 'তঅত': 7561, 'নবলওয়': 9180, 'চনপ': 5813, 'যমজ': 11842, 'ইজগ': 1736, 'ডচ': 7258, 'রসনসহ': 12802, 'গঠনভ': 5228, 'খয়': 5110, 'দচশম': 8235, 'খসবক': 5093, 'ইহস': 2205, 'কপত': 4575, 'দনসহ': 8299, 'মপত': 11355, 'এআইইউব': 2860, 'তমধ': 7822, 'অগত': 38, 'ৎপট': 15112, 'বড়শ': 10817, 'চরক': 5882, 'ঝটক': 6598, 'মতলবগঞ': 11266, 'আউয': 716, 'তসময়': 7960, 'মলস': 11475, 'রআলমগ': 12003, 'তউদ': 7581, 'ইউএনএইচস': 1506, 'ণভয়': 7524, 'ইফউদ': 1950, 'এমএলএসএস': 3606, 'নতই': 9041, 'বয়ও': 10825, 'বড়ভ': 10813, 'হলও': 14982, 'ধরছ': 8665, 'উফ': 2616, 'অপরচ': 177, 'ওউইন': 4049, 'রফক': 12551, 'দনতত': 8275, 'শলই': 13755, 'সবব': 14434, 'রটগ': 12272, 'চলন': 5948, 'লরদ': 13360, 'সনতন': 14325, 'ণমত': 7527, 'দকস': 8202, 'আইএনএম': 486, 'ঋণও': 2826, 'নতও': 9043, 'নগঞ': 8906, 'গঠনম': 5229, 'আইএসআইএল': 550, 'জইশ': 6120, 'সমতলভ': 14479, 'ঝরন': 6624, 'খরস': 5071, 'যতখ': 11732, 'ততখ': 7691, 'চমকপদ': 5853, 'বইপ': 10154, 'ময়করভ': 11586, 'নগদট': 8916, 'গলহ': 5493, 'ঘলট': 5654, 'উএইচও': 2351, 'রমণম': 12663, 'পসজ': 9888, 'মনন': 11327, 'নঢ': 9039, 'উপধ': 2574, 'বদরপ': 10396, 'আউল': 718, 'চজনই': 5763, 'তহম': 7970, 'আমড়': 1095, 'ধবখ': 8639, 'ইলক': 2092, 'বড়পর': 10811, 'সফলও': 14404, 'লগস': 13074, 'জমণ': 6427, 'সবশত': 14445, 'আমত': 1070, 'জণ': 6229, 'এরফল': 3703, 'আটঘর': 880, 'একদন': 3151, 'এসআইক': 3804, 'ইডসহ': 1838, 'ষণচ': 13927, 'মনমর': 11339, 'ফলট': 10075, 'একসময়ক': 3199, 'গণধর': 5262, 'শতল': 13613, 'সফটক': 14376, 'কইর': 4324, 'গঠনই': 5212, 'ইএব': 1610, 'এলএফএমইএব': 3738, 'এলএমইএ': 3744, 'টকল': 6774, 'পসরর': 9908, 'মসনক': 11517, 'ভলব': 10996, 'দঘ': 8228, 'অপরদ': 181, 'থরক': 8102, 'দনপ': 8280, 'মশতবর': 11486, 'মগড়': 11167, 'এমএম': 3588, 'এমএসএন': 3614, 'মনও': 11307, 'ওলট': 4241, 'পলট': 9855, 'সবসময়ই': 14450, 'নমশ': 9226, 'শইক': 13486, 'রকপত': 12131, 'লচন': 13088, 'পদয': 9711, 'কপথ': 4576, 'ইফল': 1973, 'করণই': 4683, 'আয়স': 1414, 'রহণম': 12861, 'রকমট': 12145, 'করর': 4745, 'তবম': 7791, 'তমত': 7820, 'করবহ': 4735, 'এলএনড': 3735, 'শকই': 13511, 'মহম': 11550, 'যনন': 11771, 'দলন': 8430, 'জবর': 6410, 'টকঅব': 6745, 'কঞ': 4430, 'কনড': 4548, 'ঋণপত': 2838, 'খবরস': 5036, 'আশন': 1272, 'লপরমব': 13262, 'বরসঙ': 10630, 'বরল': 10625, 'গমগ': 5388, 'যয়গ': 11934, 'শনখ': 13636, 'ধরমহ': 8694, 'জনব': 6332, 'ইরগ': 2063, 'টপটপ': 6886, 'তনহ': 7749, 'তনঘ': 7727, 'জনধ': 6317, 'যগত': 11674, 'য়পদ': 15408, 'মটপ': 11213, 'সনস': 14350, 'এআইএ': 2861, 'চনভ': 5818, 'কলসট': 4802, 'পসগ': 9885, 'এইডস': 2964, 'এইডসব': 2965, 'আবহঘ': 1050, 'অলঙ': 328, 'ইজনগ': 1747, 'কমখ': 4624, 'ওঅপর': 4007, 'সডকল': 14258, 'দয়ক': 8517, 'তকড': 7608, 'ঠচক': 7127, 'রমধর': 12676, 'গৎব': 5526, 'হয়স': 15076, 'ইড়': 2206, 'লঘর': 13080, 'বসতঘর': 10720, 'সদরপ': 14295, 'আটরশ': 894, 'আকনব': 743, 'উইকএন': 2279, 'বড়সড়': 10820, 'থলও': 8122, 'খড়গপ': 5105, 'বতগ': 10358, 'চরণশ': 5902, 'বতম': 10370, 'রবলভ': 12606, 'উপসর': 2611, 'সমষ': 14508, 'মনপ': 11329, 'অঅবহ': 8, 'উপউপদ': 2537, 'মনব': 11331, 'বদবদল': 10388, 'চকত': 5729, 'গসম': 5510, 'রঠ': 12283, 'আইনমন': 651, 'ইউআর': 1481, 'লসল': 13408, 'উদদ': 2496, 'গঠকদ': 5205, 'দমদম': 8341, 'ঞও': 6652, 'ষজন': 13901, 'মঅ': 11036, 'ভও': 10867, 'হরণট': 14955, 'মসক': 11501, 'চজনব': 5767, 'নওস': 8862, 'জয়দ': 6550, 'ঝড়ট': 6644, 'গতট': 5300, 'আইএমড': 532, 'রয়প': 12920, 'জলদ': 6480, 'এইচএমভ': 2938, 'বননগর': 10455, 'গণদল': 5260, 'এমওয়': 3636, 'এসএমএন': 3891, 'ইফওয়': 1953, 'কনম': 4557, 'সএন': 14151, 'এমওয': 3635, 'রণয': 12345, 'ইফওয': 1952, 'নগরব': 8931, 'ইলর': 2130, 'চকক': 5723, 'হসও': 15015, 'ওইভ': 4039, 'ভয়ট': 11026, 'লগন': 13069, 'জআম': 6118, 'ওরকম': 4220, 'নয়ক': 9381, 'লণ': 13140, 'দশঘর': 8463, 'বনচ': 10439, 'যসঙ': 11898, 'অহরহ': 396, 'বজগৎক': 10298, 'জননক': 6321, 'মহদ': 11543, 'রসনকল': 12797, 'আইনবহ': 648, 'চটকদ': 5777, 'অসতর': 362, 'মজব': 11200, 'ইনবক': 1904, 'ষণও': 13917, 'হরণসহ': 14957, 'মপদক': 11359, 'উটরর': 2440, 'আফন': 1022, 'বটয': 10339, 'এডগ': 3240, 'অলড': 331, 'যনত': 11769, 'আইএফএ': 504, 'বইস': 10163, 'গলক': 5458, 'গলভ': 5483, 'রএম': 12075, 'য়মভঙ': 15437, 'রহনপ': 12872, 'এথন': 3270, '৷শ': 15540, 'আটপ': 889, 'কতকগ': 4482, 'রনগ': 12486, 'দলদ': 8427, 'ডসম': 7402, 'গঠনসম': 5233, 'রনসম': 12510, 'তরসম': 7906, 'নতর': 9059, 'রহসম': 12898, 'সওয': 14175, 'তনশ': 7745, 'নসদ': 9315, 'তমন': 7823, 'খকদ': 4949, 'কমলন': 4658, 'জগদম': 6179, 'কটময়': 4457, 'টরপ': 6993, 'এলক': 3766, 'সওদ': 14173, 'অনঙ': 117, 'লকই': 13002, 'ধনপ': 8611, 'ষউত': 13829, 'রকই': 12108, 'লটএট': 13110, 'লটট': 13115, 'ডআসল': 7183, 'রনজ': 12492, 'থলপথ': 8130, 'গণদ': 5259, 'ণলত': 7536, 'এহছ': 3980, 'ইএফড': 1609, 'কতম': 4496, 'আমচ': 1064, 'আমক': 1061, 'আমদহ': 1075, 'আমবগ': 1079, 'আমগ': 1062, 'রপল': 12544, 'যতœব': 11729, 'যতœ': 11728, 'আমট': 1068, 'জয়ই': 6535, 'ইভওয়': 1996, 'ৎকম': 15095, 'তখনও': 7641, 'কটও': 4434, 'কটসহ': 4465, 'গঠনব': 5227, 'পনই': 9723, 'রতব': 12404, 'ঠনক': 7145, 'এমএমস': 3598, 'আসরট': 1316, 'ডসঅভ': 7381, 'লঅ': 12938, 'য়রঅ': 15446, 'রগট': 12178, 'মমসকম': 11410, 'টকম': 6766, 'ইউঅভ': 1474, 'কসঅভ': 4849, 'পপছন': 9764, 'রপছন': 12521, 'ডসপছন': 7396, 'রমনপছন': 12679, 'উসপছন': 2736, 'জনসনপছন': 6368, 'কপছন': 4570, 'সপছন': 14360, 'লটনপছন': 13120, 'উইকল': 2282, 'ষতট': 13968, 'গডফ': 5237, 'রতদক': 12394, 'শওয়': 13509, 'শপদব': 13688, 'নওয': 8858, 'ওজস': 4132, 'সমরন': 14501, 'মরণব': 11432, 'হলক': 14984, 'আনদ': 961, 'রপও': 12517, 'রপই': 12516, 'বএই': 10187, 'দজন': 8240, 'বচলচ': 10260, 'ততত': 7694, 'ষকরতন': 13880, 'রগর': 12185, 'মদক': 11275, 'ঊনব': 2813, 'জওহরল': 6145, 'মশদগ': 11487, 'এইসব': 2984, 'আবহম': 1052, 'আইসন': 680, 'দরমহল': 8400, 'অজস': 67, 'উজন': 2410, 'রনক': 12484, 'গনক': 5335, 'লবক': 13281, 'নয়সম': 9440, 'আরত': 1187, 'যমহল': 11865, 'ঐকত': 3990, 'সদসহ': 14303, 'মকভ': 11133, 'ঘলক': 5653, 'খবরও': 5025, 'উবস': 2632, 'নউইক': 8797, 'ইফটক': 1960, 'রণঅর': 12304, 'ভই': 10860, 'ধগল': 8570, 'উদক': 2492, 'হলফন': 14997, 'যলয়সহ': 11888, 'পনপত': 9741, 'একজব': 3138, 'নপদ': 9117, 'খনক': 4992, 'ণলঙ': 7535, 'ষসর': 14055, 'বণপ': 10351, 'উরক': 2673, 'লঝ': 13104, 'আইইআর': 437, 'আইএমএল': 528, 'রকণ': 12123, 'য়তনট': 15341, 'দতব': 8252, 'বনভ': 10463, 'গরব': 5435, 'যপর': 11792, 'মকথ': 11127, 'পতত': 9632, 'থতত': 8046, 'মচন': 11183, 'নচন': 8949, 'য়শ': 15467, 'রমথ': 12673, 'গদর': 5323, 'সমতট': 14477, 'বনতর': 10449, 'আইএনএস': 488, 'পইয': 9476, 'ইওয': 1657, 'ককট': 4364, 'উনক': 2514, 'খকক': 4946, 'রআরও': 11999, 'উসসহ': 2741, 'শপত': 13681, 'খঘ': 4960, 'পশম': 9875, 'খসহক': 5098, 'দশমব': 8480, 'হসক': 15016, 'হজনকভ': 14817, 'কচন': 4404, 'ঘবন': 5618, 'ভশ': 10999, 'শওয': 13508, 'ইউএফস': 1522, 'ডটন': 7277, 'আইইব': 455, 'কলর': 4796, 'এমএনপ': 3579, 'ইভজ': 2000, 'সধ': 14307, 'কলড': 4777, 'ষয়সম': 14086, 'হকগণ': 14775, 'আরএফ': 1138, 'ৎহ': 15156, 'শবক': 13699, 'অপচনশ': 151, 'বহতম': 10755, 'উসস': 2740, 'হলত': 14992, 'ঘরট': 5635, 'যৎস': 11924, 'রধরক': 12478, 'তপবন': 7765, 'বরজ': 10572, 'পরশমণ': 9843, 'ধনস': 8624, 'ধতম': 8590, 'তউল': 7583, 'বরব': 10608, 'মদন': 11284, 'রপদক': 12532, 'এইচএল': 2941, 'এমএফস': 3586, 'ইদল': 1854, 'সনপ': 14339, 'রয়শ': 12928, 'পসর': 9907, 'ইএল': 1630, 'দয়ঘট': 8520, 'য়রক': 15447, 'বলর': 10683, 'ইএম': 1612, 'গণজ': 5255, 'ততদ': 7695, 'লরত': 13359, 'ইটম': 1789, 'এডম': 3247, 'আনঝ': 957, 'সফটল': 14383, 'নআপ': 8759, 'ঝটপট': 6599, 'চলরত': 5961, 'অছ': 58, 'ফগ': 9970, 'কউত': 4337, 'যউত': 11622, 'ড়খণ': 15175, 'দরপ': 8381, 'তছনছ': 7669, 'ভরন': 10972, 'সবকট': 14417, 'গনসবই': 5348, 'টনভ': 6871, 'ধশক': 8705, 'ইশক': 2150, 'অজয': 65, 'বগন': 10242, 'হরর': 14971, 'উইচ': 2287, 'টকগ': 6751, 'নএক': 8815, 'রইএ': 12011, 'পনও': 9726, 'ঞতম': 6662, 'তওই': 7597, 'এমই': 3542, 'আসনসহ': 1305, 'শপক': 13675, 'থড': 8039, 'যয়সহ': 11956, 'রয়ত': 12916, 'হসজ': 15017, 'উথল': 2489, 'একসন': 3196, 'বআম': 10136, 'অসদ': 363, 'শতদল': 13605, 'মতল': 11264, 'ওহম': 4269, 'ভবউত': 10921, 'ণউত': 7434, 'বকত': 10210, 'বকগ': 10206, 'এলন': 3780, 'ইনউত': 1869, 'উটনউত': 2432, 'আহমদক': 1348, 'হতব': 14861, 'বদই': 10381, 'যতভ': 11741, 'উপসম': 2610, 'আবছ': 1031, 'চলসহ': 5965, 'নআনম': 8758, 'ইউইউ': 1488, 'ইলফলকট': 2121, 'হলর': 15005, 'বএইড': 10188, 'সমরজ': 14500, 'গতম': 5308, 'সকষ': 14204, 'সলক': 14608, 'জহরল': 6527, 'চমদ': 5861, 'লহন': 13423, 'জনরস': 6354, 'যশজ': 11892, 'জলখ': 6461, 'ফকথ': 9960, 'চনট': 5808, 'কবচও': 4593, 'ছম': 6071, 'মনত': 11323, 'সটল': 14251, 'পণখ': 9606, 'ওইড': 4033, 'এনএভ': 3344, 'এএএ': 2998, 'ভত': 10898, 'চকট': 5727, 'এসইএস': 3839, 'হবহ': 14920, 'ওটস': 4140, 'ষদও': 13982, 'সনজন': 14320, 'কলপর': 4784, 'লএখন': 12986, 'রকশ': 12161, 'নটনসবচ': 9015, 'ঘসহ': 5663, 'গয়': 5547, 'আতস': 915, 'ময়ম': 11599, 'মনআগ': 11302, 'এডকন': 3239, 'উনসভ': 2530, 'বটদ': 10333, 'আইএমএফ': 525, 'ওফর': 4192, 'ধরপ': 8686, 'ভরক': 10961, 'টবলই': 6915, 'টসক': 7041, 'ধহয': 8723, 'রসত': 12782, 'বমত': 10533, 'এসএসএল': 3923, 'আইএফস': 514, 'রডন': 12294, 'হয়ঝড': 15057, 'য়জল': 15309, 'নলড': 9276, 'মদল': 11292, 'হইয়': 14751, 'হইল': 14746, 'য়৷': 15489, '৷এ': 15507, 'নয়৷': 9441, 'ন৷উদ': 9445, 'ভব৷': 10957, 'জন৷': 6381, 'উপকরণট': 2548, 'ত৷জ': 7988, 'টন৷': 6879, '৷একজন': 15510, '৷বর': 15534, 'কতক': 4481, 'অটল': 76, 'নমনস': 9220, 'এএম': 3031, 'রথমস': 12445, 'রছব': 12225, 'রমণই': 12645, 'কসদ': 4861, 'মরণয': 11434, 'পজয': 9562, 'জড়ত': 6530, 'লগই': 13056, 'এসইও': 3841, 'লগক': 13059, 'ষণস': 13957, 'রডক': 12288, 'চফলনশ': 5838, 'নকয়': 8892, 'তআসর': 7574, 'যধর': 11764, 'খজনকভ': 4972, 'গঘ': 5162, 'আকপ': 745, 'ণবর': 7513, 'মতযদ': 11262, 'আইএসএম': 565, 'য়উইন': 15252, 'এআইট': 2870, 'য়রকর': 15448, 'তরম': 7891, 'গয়ট': 5548, 'কশক': 4810, 'চঈগ': 5706, 'লবণউত': 13289, 'বমনত': 10536, 'য়রকরগ': 15449, 'য়শপ': 15469, 'একহ': 3200, 'কচট': 4403, 'অদরক': 104, 'যতব': 11740, 'ততব': 7698, 'ঋণঝ': 2832, 'বলইক': 10643, 'আখইব': 767, 'উপকরন': 2553, 'অঘটনঘটনপট': 48, 'কগণ': 4386, 'উলভ': 2706, 'অসহয': 388, 'শমর': 13727, 'দলত': 8425, 'নতউল': 9042, 'টঘ': 6799, 'জমল': 6433, 'মগজ': 11151, 'উৎসগ': 2765, 'সবচয়': 14422, 'ডসট': 7387, 'তরয': 7894, 'ততধ': 7696, 'মষ': 11493, 'পড়ষফ': 9930, 'ঞযব': 6669, 'দএসব': 8175, 'খরচগ': 5056, 'লয়সম': 13471, 'মলমত': 11473, 'লভস': 13331, 'উমত': 2660, 'পগব': 9543, 'উআই': 2263, 'ইরস': 2078, 'আনঅফ': 942, 'এনএসস': 3373, 'জয়য': 6568, 'ণসহ': 7548, 'দহরম': 8510, 'মহরম': 11554, 'নবব': 9164, 'এমইএরও': 3552, 'এসএলআর': 3907, 'ররল': 12725, 'যদক': 11752, 'ময়মন': 11600, 'নএস': 8838, 'চকহ': 5745, 'জনরব': 6352, 'ধধ': 8594, 'ষণপ': 13939, 'সইন': 14118, 'এসএলস': 3915, 'নপতন': 9115, 'আইনপড়': 646, 'লয়ইস': 13443, 'এলএলএম': 3749, 'হটব': 14835, 'নকক': 8869, 'ষদগ': 13985, 'এইচত': 2955, 'ঠও': 7097, 'ভরতন': 10969, 'রচলত': 12217, 'ঝন': 6603, 'বইপড়': 10156, 'বউত': 10173, 'শউত': 13491, 'সময়দ': 14525, 'কওভ': 4357, 'এফএর': 3465, 'ওনক': 4164, 'বয়ব': 10839, 'ঈদসহ': 2241, 'চয়ট': 6001, 'সভর': 14463, 'ঋণট': 2833, 'গণচ': 5253, 'যকত': 11642, 'খদ': 4987, 'লয়ল': 13468, 'ঝঞ': 6596, 'নগরট': 8928, 'উপড়': 2615, 'চলও': 5933, 'রয়স': 12929, 'জনকভ': 6283, 'খরর': 5070, 'চমন': 5863, 'সফটসহ': 14385, 'অপশ': 185, 'ওইয়': 4045, 'সকর': 14198, 'টশন': 7031, 'টবলর': 6932, 'ওলস': 4252, 'সলএভ': 14606, 'নউজব': 8802, 'আইসক': 678, 'নইল': 8787, 'এমএএস': 3566, 'উওট': 2379, 'ঐসব': 4000, 'চখ': 5746, 'আইডব': 622, 'ইওক': 1649, 'নওভ': 8856, 'ওজত': 4119, 'এমও': 3626, 'ইভল': 2008, 'টফল': 6901, 'এসএসব': 3930, 'বসনক': 10727, 'ফসপ': 10105, 'রশক': 12749, 'হতন': 14859, 'উনড': 2519, 'ড়হ': 15229, 'খবরখ': 5027, 'রয়ল': 12927, 'সরপ': 14572, 'এইম': 2975, 'আইড়': 686, 'পদশ': 9713, 'গডস': 5239, 'শরত': 13738, 'ঐকদ': 3991, 'সমকক': 14467, 'হঙ': 14808, 'সহগ': 14647, 'হকত': 14781, 'ঘরদ': 5638, 'তকতক': 7611, 'বটট': 10330, 'তকমল': 7621, 'চয়আফর': 5992, 'সনয': 14347, 'রদগ': 12454, 'তরঞ': 7859, 'আরণ': 1186, 'হভঙ': 14922, 'যপরম': 11793, 'দয়স': 8529, 'কসজ': 4858, 'টনপ': 6869, 'এএসডটকম': 3071, 'ইরয়': 2079, 'ইশকজ': 2151, 'মসও': 11497, 'আটকও': 872, 'গজসহ': 5194, 'ছরর': 6076, 'দসব': 8490, 'আটকআগ': 870, 'দখলই': 8209, 'মখমল': 11146, 'লকরত': 13035, 'লএন': 12990, 'ণখচ': 7447, 'রখচ': 12168, 'আলপন': 1234, 'রজদ': 12239, 'য়আজ': 15246, 'বরচ': 10569, 'আগতদ': 781, 'চনম': 5820, 'নবয': 9175, 'শপল': 13694, 'আখর': 776, 'এসইউব': 3832, 'এএক': 3004, 'এসএমএ': 3888, 'এওয়': 3082, 'মগন': 11162, 'উপজল': 2560, 'লবণম': 13299, 'শরৎঘ': 13752, 'তঘরপ': 7656, 'ডকস': 7246, 'এতথ': 3261, 'উডল': 2473, 'নশহ': 9299, 'ৎকর': 15096, '৷নবগঠ': 15529, 'পদবঞ': 9704, 'ঈফ': 2245, 'বসভ': 10736, 'শউদ': 13492, 'উয়র': 2806, 'পরজন': 9815, 'সবময়': 14438, 'নসহক': 9345, 'মঅন': 11040, 'অপদ': 165, 'নতসহ': 9063, 'এএইচএফ': 2993, 'এটম': 3231, 'ছটফট': 6039, 'করণক': 4687, 'ঠকছ': 7105, 'এমআরপ': 3539, 'যঝ': 11702, 'করভ': 4738, 'মলয়': 11477, 'দমকল': 8337, 'সনমন': 14346, 'নয়নমন': 9421, 'ইজহ': 1761, 'রপথ': 12529, 'আপসরফ': 1010, 'আওড়': 731, 'সরলত': 14591, 'লকরক': 13033, 'ৎগত': 15099, 'টজন': 6815, 'ইসভ': 2188, 'যপটট': 11778, 'চনমন': 5821, 'টয়ন': 7089, 'উপকর': 2542, 'ইনও': 1875, 'একধ': 3158, 'বসস': 10743, 'অফল': 206, 'পকসহ': 9535, 'ধহয়': 8725, 'এটর': 3232, 'রএট': 12070, 'ষণত': 13933, 'ওলই': 4236, 'আইভ': 666, 'তলট': 7918, 'পনউত': 9724, 'রশমনউত': 12758, 'রণউত': 12307, 'জনউত': 6266, 'উভম': 2643, 'টমহল': 6964, 'যবল': 11818, 'রনহ': 12512, 'কসকনস': 4855, 'বছরক': 10273, 'গলবন': 5482, 'আচরণব': 817, 'এসএট': 3859, 'ছভর': 6070, 'আড়ত': 1365, 'রহনয': 12873, 'পকতর': 9515, 'সমপ': 14486, 'রসরক': 12822, 'জগম': 6181, 'অবসরভ': 260, 'উইলশ': 2332, 'হড়ক': 15031, 'করখ': 4674, 'গফলগ': 5364, 'করণদ': 4694, 'উভয়ট': 2650, 'বরণসহ': 10583, 'সরলর': 14597, 'ঋওঘঅ': 2821, 'কঘ': 4394, 'এইচআইভ': 2905, 'আওন': 726, 'থলপশ': 8132, 'কয়ড': 4916, 'বরপক': 10595, 'মগত': 11158, 'কমলনগর': 4659, 'তৎস': 7980, 'উইসক': 2340, 'পসম': 9902, 'টরসহ': 7005, 'শভর': 13716, 'ষণর': 13953, 'ভবজ': 10929, 'শড': 13585, 'পবর': 9783, 'যশপ': 11894, 'দলর': 8446, 'রতই': 12373, 'নউইন': 8799, 'ইউএফএল': 1519, 'আটখ': 877, 'বটই': 10323, 'উমই': 2658, 'নডম': 9037, 'জয়বহ': 6562, 'গলতর': 5470, 'ডদল': 7292, 'ষএসএ': 13836, 'আরফ': 1195, 'ঠঘ': 7125, 'উসখ': 2729, 'চয়ব': 6011, 'রতরত': 12411, 'ওপরওয়': 4180, 'তকরব': 7632, 'এসএমএমইউ': 3893, 'ইহত': 2203, 'মকব': 11132, 'পড়ও': 9917, 'যএমন': 11629, 'ধনহ': 8628, 'ওএসএস': 4084, 'উভচর': 2640, 'বপদ': 10495, 'জবহর': 6419, 'ছভ': 6069, 'ইএফ': 1602, 'অবসরস': 261, 'ভণ': 10897, 'জনবহ': 6340, 'আণ': 902, 'কটন': 4445, 'এলটন': 3775, 'উৎসবও': 2773, 'মহররম': 11556, 'বনজঙ': 10444, 'বনগর': 10435, 'থতল': 8048, 'অভব': 270, 'আচরণগত': 815, 'চনও': 5801, 'আলক': 1218, 'ণধন': 7480, 'ডউইগ': 7192, 'লকগ': 13010, 'লকউত': 13003, 'অগব': 40, 'মকফখ': 11131, 'কটউত': 4433, 'মকফ': 11130, 'দউত': 8162, 'বদলউত': 10402, 'নয়নগ': 9405, 'তনউত': 7719, 'লনচ': 13214, 'চগড়গ': 5753, 'ফয়সল': 10132, 'আরপ': 1194, 'হমক': 14927, 'পড়শ': 9929, 'নরপ': 9255, 'খশ': 5085, 'হপক': 14901, 'সফরগ': 14392, 'গফরগ': 5360, 'এনসক': 3401, 'চলই': 5931, 'অদলবদল': 106, 'গলই': 5456, 'ডএক': 7214, 'ইশর': 2160, 'আখন': 773, 'রহমতউল': 12881, 'দরদস': 8378, 'রজনসহ': 12255, 'রইচপ': 12015, 'রওপর': 12090, 'হকল': 14792, 'íক': 5, 'অমরজ': 289, 'য়গঞ': 15295, 'নবড়': 9194, 'মচক': 11179, 'দআন': 8153, 'চয়স': 6012, 'অবসরট': 258, 'নখর': 8900, 'হরফ': 14964, 'লগণ': 13064, 'আহক': 1331, 'রআন': 11989, 'আয়ভ': 1402, 'দনস': 8295, 'সবস': 14446, 'রছড': 12224, 'উখ': 2386, 'কআপচ': 4301, 'কআপট': 4302, 'ষসক': 14053, 'আইএলএস': 540, 'এলওস': 3765, 'রণর': 12347, 'নয়নও': 9400, 'ইনআপ': 1861, 'কনগর': 4542, 'থরঘ': 8105, 'চরদ': 5905, 'পণয': 9626, 'শপন': 13689, 'আমস': 1092, 'নওর': 8859, 'অরক': 305, 'ওরল': 4230, 'দওস': 8179, 'উটন': 2431, 'সসন': 14633, 'সহল': 14688, 'থয': 8097, 'বএসব': 10197, 'পদকজয়': 9682, 'জজয়': 6214, 'এলএ': 3726, 'ণদশ': 7477, 'শষ': 13774, 'চলনব': 5951, 'সলঙ': 14611, 'ফলনও': 10085, 'ণময': 7529, 'হরস': 14976, 'মঈনর': 11082, 'খসহ': 5097, 'কগমন': 4391, 'ইবঙ': 1983, 'লময়মনস': 13347, 'রগণ': 12179, 'বএ': 10185, 'মঘটসহ': 11172, 'ওএসক': 4085, 'খই': 4930, 'ছয়শ': 6108, 'আটশ': 896, 'রআপন': 11993, 'এমএইচএল': 3561, 'এলএনএ': 3733, 'টরআপন': 6976, 'নয়নই': 9399, 'এফএমআর': 3460, 'সহপর': 14675, 'টপস': 6893, 'এইচএলপ': 2942, 'রমভ': 12687, 'রবদ': 12593, 'এহ': 3978, 'আইএসই': 560, 'দয়ত': 8525, 'সটলফ': 14252, 'জএকট': 6132, 'ডউইনসহ': 7202, 'এঞ': 3228, 'তছব': 7670, 'মআইএমড': 11045, 'রদণ': 12457, 'নবরত': 9178, 'ভসন': 11004, 'বহম': 10774, 'গরখ': 5419, 'আইডল': 623, 'আইজল': 617, 'উতল': 2480, 'লসমর': 13405, 'ডনস': 7305, 'বতসম': 10376, 'চওএস': 5715, 'কওএস': 4355, 'আনইনস': 946, 'পডক': 9599, 'টকস': 6782, 'বয়সও': 10844, 'এসএমএইচএস': 3890, 'ঠয': 7160, 'লএ': 12980, 'শটবল': 13579, 'ইলফলকর': 2122, 'রথমজন': 12434, 'অধস': 110, 'যগতভ': 11675, 'বপনস': 10502, 'যপদও': 11785, 'আষ': 1280, 'কথন': 4509, 'ইমদ': 2027, 'তৎ': 7974, 'গরতল': 5431, 'ককপ': 4368, 'দতরঙ': 8254, 'চশম': 5970, 'ষকসরক': 13885, 'ইকও': 1665, 'ওও': 4091, 'ওউসম': 4054, 'ফলজট': 10074, 'বহনস': 10771, 'আকমলক': 761, 'এসসহ': 3977, 'অরফ': 315, 'সনদও': 14328, 'ইটব': 1785, 'উলট': 2694, 'রফট': 12552, 'ওষধ': 4256, 'লনসঙ': 13235, 'দয়ভ': 8528, 'আকমল': 760, 'উমরক': 2664, 'পঝ': 9565, 'ধরনও': 8676, 'শনসব': 13668, 'এফএফপ': 3457, 'এতজনক': 3259, 'এলআরএফ': 3718, 'থঋণ': 7997, 'লথব': 13171, 'চনগ': 5805, 'আকদ': 740, 'টরন': 6992, 'বরসম': 10633, 'ৎমঞ': 15128, 'অপঘ': 149, 'খনদ': 4995, 'তকণ': 7609, 'ইজবন': 1752, 'বচক': 10253, 'উপকরণম': 2550, 'চভ': 5843, 'উমজ': 2659, 'সরগ': 14550, 'ররর': 12724, 'তমদ': 7821, 'জখবরই': 6167, 'নপল': 9123, 'ঝনদ': 6605, 'দড': 8245, 'তওয়': 7600, 'শনদল': 13647, 'তসল': 7963, 'ইএমক': 1622, 'ছয়গ': 6094, 'লবশত': 13313, 'উজগ': 2405, 'সইউএসব': 14110, 'টঅন': 6683, 'গড়ল': 5545, 'রওউমর': 12085, 'নবহ': 9191, 'ওএট': 4065, 'কসমস': 4878, 'উৎফ': 2756, 'মটব': 11214, 'আইওএফ': 589, 'ববঞ': 10513, 'ওআইপ': 4014, 'করণও': 4686, 'ইচহ': 1722, 'আকবরক': 753, 'আইআইড': 422, 'গণর': 5282, 'ঘরম': 5646, 'ঙনপ': 5679, 'রথমও': 12433, 'ঘতর': 5593, 'গবল': 5374, 'আইএফ': 497, 'তকদ': 7612, 'এফআই': 3412, 'তসরক': 7962, 'এফএট': 3451, 'এফভ': 3494, 'এফআইইউ': 3416, 'বদলন': 10412, 'লয়স': 13470, 'ইউএমএনও': 1524, 'ইজজ': 1738, 'এতসব': 3268, 'খরচই': 5053, 'জসম': 6518, 'পদন': 9701, 'গওস': 5145, 'পওয়': 9501, 'গলও': 5457, 'ঠখড': 7119, 'মশকর': 11482, 'সকদ': 14188, 'লদল': 13179, 'ভবনসম': 10946, 'বসজ': 10715, 'ইওচ': 1650, 'এএফএর': 3022, 'পৎস': 9915, 'টটক': 6829, 'ধসও': 8713, 'এমআর': 3528, 'ময়ও': 11581, 'শগড়': 13557, 'এনআই': 3277, 'শহরদ': 13798, 'আইসহ': 684, 'ইবদ': 1986, 'ষখ': 13889, 'আয়তক': 1391, 'এককবর': 3110, 'এককপ': 3109, 'রঅতএব': 11963, 'রএব': 12074, 'ষরক': 14031, 'ঙনকবল': 5677, 'ফলকট': 10069, 'ঙব': 5684, 'ঘড': 5588, 'অপক': 147, 'তঘ': 7652, 'নমস': 9227, 'লফল': 13275, 'পরভ': 9829, 'বজম': 10313, 'ৎপন': 15116, 'অসমতল': 375, 'ভজম': 10889, 'ষণজম': 13931, 'আযহ': 1099, 'নসপ': 9324, 'এমনভক': 3662, 'রহও': 12835, 'নবশ': 9184, 'মরচ': 11420, 'ইলফলকও': 2120, 'থওয়': 8002, 'তরভ': 7890, 'পনসহ': 9757, 'ইউত': 1561, 'নদক': 9068, 'ইনঘ': 1885, 'জমস': 6434, 'আনম': 969, 'করতম': 4709, 'ককল': 4374, 'লময': 13343, 'গতইন': 5296, 'আয়ব': 1399, 'রহণসহ': 12867, 'জনপদগ': 6329, 'আমলগ': 1088, 'উডগ': 2463, 'গজক': 5173, 'রঅঙ': 11961, 'খকট': 4948, 'জনপদই': 6328, 'গমর': 5405, 'কটজন': 4439, 'হভর': 14923, 'নজগৎ': 8968, 'রসমর': 12816, 'জনউদ': 6267, 'আইইড': 453, 'মপল': 11362, 'বলশ': 10685, 'মরণশ': 11435, 'অভয': 271, 'চগড': 5748, 'তমপ': 7824, 'গলপ': 5474, 'রখন': 12170, 'ইজআপ': 1730, 'সসফটওয': 14635, 'মহন': 11544, 'আকম': 758, 'গমসহ': 5409, 'অপরট': 180, 'এজম': 3225, 'ওউত': 4050, 'ইডদ': 1822, 'থডগ': 8041, 'থডউত': 8040, 'থডন': 8042, 'নবস': 9186, 'এফপ': 3492, 'এনফ': 3391, 'পসট': 9889, 'অটব': 75, 'অবশষ': 247, 'নএভ': 8830, 'শহরও': 13792, 'নআত': 8754, 'বনকর': 10432, 'আউটশ': 710, 'ফটকট': 9985, 'এমআইওট': 3521, 'সতস': 14271, 'রনপ': 12500, 'আগরওয়': 796, 'ডসক': 7385, 'ষকও': 13850, 'লকআম': 13001, 'যমএসব': 11834, 'রনখ': 12485, 'থরগত': 8104, 'রকথ': 12125, 'নঅস': 8746, 'ইজক': 1735, 'ঘটম': 5583, 'জনতআম': 6311, 'ইনকমআইট': 1880, 'আরগ': 1178, 'এনওস': 3376, 'আইকম': 610, 'টকথ': 6759, 'একরম': 3185, 'রসদর': 12790, 'বহরও': 10776, 'সসব': 14636, 'দনজগত': 8272, 'লয়আবদ': 13438, 'গমও': 5385, 'বলয': 10682, 'সলগ': 14610, 'তরলগ': 7898, 'থঘ': 8030, 'তআণব': 7570, 'পচনশ': 9554, 'জনকগ': 6278, 'পথল': 9666, 'সরণগ': 14563, 'ষকখ': 13853, 'ইনষ': 1915, 'এইব': 2973, 'টমহলগ': 6965, 'থলস': 8138, 'টমহলব': 6967, 'লকমল': 13028, 'টমহলট': 6966, 'জনগণন': 6297, 'কঘর': 4395, 'সএসব': 14167, 'লপন': 13259, 'উপরন': 2597, 'ভরণপ': 10967, 'আজওয়': 835, 'বরট': 10574, 'টপর': 6891, 'কবচ': 4592, 'শকট': 13519, 'এলএইড': 3729, 'নবক': 9133, 'দঘন': 8229, 'আনকমন': 951, 'অঘটনই': 47, 'পলপ': 9858, 'ঠকট': 7106, 'এফআইড': 3425, 'আইএলওর': 544, 'বইগ': 10145, 'বইঘ': 10146, 'বইউত': 10140, 'ষরয': 14041, 'ডঘ': 7255, 'তঙ': 7658, 'বরকন': 10560, 'বদলগ': 10409, 'থলট': 8127, 'জৎক': 6528, 'এইমন': 2976, 'ৎসহ': 15155, 'ইনভয়': 1908, 'অবচয়': 217, 'বসগ': 10712, 'ড়র': 15214, 'ডউইল': 7203, 'রনও': 12483, 'এসএনপ': 3867, 'সলত': 14612, 'কনচ': 4544, 'সনর': 14349, 'ডমপ': 7338, 'এসএমএমইউর': 3895, 'বরঙ': 10568, 'বরকতউল': 10555, 'সদদ': 14281, 'চমকট': 5850, 'উবওয়': 2626, 'থলভ': 8135, 'জলভ': 6493, 'টরচ': 6987, 'য়মগ': 15426, 'ঞন': 6665, 'এডহক': 3252, 'আগষ': 801, 'রণয়ণ': 12359, 'ওরগ': 4221, 'ওরপ': 4224, 'জলমহ': 6497, 'জনএভ': 6271, 'ইউএফএস': 1520, 'মতট': 11251, 'নটফ': 9018, 'দবসহ': 8330, 'শরম': 13746, 'টপণ': 6888, 'শতরঞ': 13612, 'ফটস': 9992, 'রইব': 12021, 'আরএসওর': 1163, 'চগত': 5749, 'ননভ': 9102, 'বভঙ': 10528, 'অপতৎপরত': 164, 'যপদল': 11789, 'উভয়পদ': 2652, 'পরপদ': 9821, 'ওলন': 4244, 'তলসহ': 7933, 'আগমনক': 790, 'এনআইইএসআর': 3278, 'আউটই': 694, 'অমরপ': 293, 'উড়ন': 2800, 'বসমক': 10738, 'ইজল': 1757, 'ঠভ': 7156, 'রমপ': 12681, 'বকল': 10224, 'থরসহ': 8119, 'রনম': 12503, 'সবও': 14415, 'মজয়ন': 11206, 'বমর': 10538, 'ররচয়': 12714, 'লনখ': 13209, 'লনঘ': 13213, 'ফখ': 9966, 'বসঘ': 10713, 'লনগ': 13210, 'উৎসবম': 2784, 'রবগ': 12572, 'কথনপর': 4510, 'বনদর': 10452, 'পথর': 9665, 'নটক': 9011, 'হনগঞ': 14882, 'ভবও': 10925, 'ভয়স': 11032, 'ইপস': 1945, 'উপশক': 2604, 'রজম': 12259, 'ইউএনউইম': 1505, 'লনসহ': 13240, 'নএসব': 8840, 'ড়ঙ': 15180, 'আইমএফ': 670, 'এআই': 2854, 'টকরও': 6769, 'সরট': 14558, 'ওএস': 4080, 'কলপ': 4783, 'ডউইনক': 7201, 'আমও': 1060, 'পরচ': 9812, 'থকড়': 8024, 'জগজ': 6171, 'দগল': 8227, 'লসবচ': 13400, 'ডঅস': 7172, 'আতত': 907, 'ডউইন': 7200, 'হয়ঘটন': 15053, 'গতদ': 5302, 'নয়নম': 9419, 'আচরণট': 816, 'রআইয়': 11979, 'রআই': 11974, 'রআইক': 11976, 'আমতল': 1071, 'ধশ': 8704, 'সফরসহ': 14400, 'রবও': 12570, 'নসনস': 9322, 'সমপদ': 14487, 'উপসগ': 2608, 'যয়স': 11954, 'অজপড়': 64, 'তৎসম': 7981, 'উপবন': 2585, 'আকণ': 738, 'অবগ': 213, 'নশনভ': 9295, 'লকপ': 13021, 'আনলকই': 975, 'শনর': 13658, 'লঅব': 12942, 'গপর': 5354, 'নগদপ': 8917, 'মরণম': 11433, 'হৎপ': 15028, 'নসফলত': 9327, 'তবঅব': 7775, 'যআনন': 11616, 'নসমকক': 9336, 'রবসম': 12609, 'রআক': 11983, 'ময়প': 11596, 'টজব': 6822, 'ধঅস': 8538, 'তএক': 7587, 'তকয': 7622, 'ষণয': 13951, 'ছয়দফ': 6105, 'সনদগ': 14330, 'আইএএএফ': 470, 'আজমত': 851, 'বজনর': 10308, 'উরস': 2685, 'মফন': 11366, 'যকরপ': 11654, 'এসইআরজ': 3828, 'মসনর': 11521, 'ইডশ': 1834, 'গহন': 5519, 'খময়': 5047, 'নকয': 8883, 'আরন': 1190, 'ভবনক': 10937, 'ছয়তল': 6103, 'য়তনসহ': 15343, 'এনআইড': 3291, 'ইএর': 1629, 'ঘনবসত': 5607, 'হনও': 14877, 'জবগ': 6402, 'এইচঅ': 2902, 'ডএম': 7223, 'শসম': 13783, 'সডন': 14260, 'ভটখ': 10893, '৷ত': 15523, 'ইলসই': 2137, 'ইলসক': 2139, 'সলসহ': 14624, 'যয়নপত': 11944, 'ইউএনওর': 1511, 'সরজ': 14555, 'এওজব': 3080, 'উপউপ': 2535, 'উপউপচ': 2536, 'আসস': 1328, 'ণপদকপ': 7495, 'টগম': 6796, 'ইউএসএস': 1538, 'ষমএমন': 14018, 'রণপর': 12336, 'এএমস': 3045, 'আড়ম': 1369, 'রঝড়': 12267, 'রঝড়ট': 12268, 'মরণস': 11437, 'ষরগ': 14032, 'শরৎক': 13751, 'ইওল': 1660, 'পসও': 9883, 'গপসপ': 5355, 'সদব': 14284, 'বনর': 10472, 'গরস': 5450, 'এনএসআইয়': 3357, 'উডন': 2466, 'মদও': 11274, 'নমধ': 9218, 'হনগ': 14881, 'যকন': 11643, 'রশপ': 12754, 'রজতজয': 12237, 'মলয': 11474, 'আগরওয': 795, 'রভও': 12619, 'চমকত': 5851, 'ময়ট': 11591, 'টপআপ': 6882, 'উলম': 2709, 'ময়র': 11604, 'ৎপদ': 15114, 'পসক': 9884, 'এসন': 3956, 'ইনশপ': 1914, 'লগইন': 13057, 'পপআপ': 9759, 'যখণ': 11662, 'জননম': 6323, 'থনপ': 8062, 'উপকরণসহ': 2552, 'এইচএ': 2921, 'ইলদ': 2110, 'পদকপ': 9684, 'নসমওয়': 9335, 'আপগ': 982, 'বদলখ': 10408, 'বদলঘ': 10410, 'বদলসঠ': 10414, 'ওসঠ': 4259, 'জএমন': 6137, 'আউটড': 699, 'পকছ': 9511, 'য়মশ': 15441, 'তকপড়': 7616, 'চটপট': 5781, 'নঅধ': 8737, 'বলও': 10645, 'এএনজ': 3013, 'রউড': 12039, 'আছল': 828, 'নরউইচ': 9238, 'ডলসখ': 7373, 'ইমইনইন': 2015, 'ঈদট': 2236, 'মলম': 11472, 'সকট': 14186, 'লধনক': 13188, 'জনগন': 6300, 'ইনকর': 1881, 'কমস': 4662, 'অফপ': 204, 'সসচ': 14632, 'ইফইনএম': 1949, 'আয়রনফ': 1409, 'আয়রনম': 1410, 'ইউএসপ': 1546, 'বড়ল': 10816, 'আমড': 1069, 'পহপ': 9914, 'লকশ': 13042, 'ইলটদ': 2102, 'ইউএন': 1499, 'ওকল': 4102, 'ওরলজ': 4231, 'য়মই': 15422, 'পশত': 9869, 'একমন': 3178, 'খমণ': 5045, 'কটব': 4452, 'দকআনন': 8182, 'পজল': 9563, 'লবয়': 13318, 'লকআউট': 13000, 'গডজ': 5236, 'বনসচ': 10481, 'য়পত': 15407, 'ড়নম': 15200, 'সদয়': 14305, 'টঘড়': 6802, 'ফরচ': 10038, 'বকন': 10214, 'ফলব': 10091, 'ঠতটস': 7136, 'তশক': 7936, 'রআস': 12005, 'কলমট': 4791, 'হউত': 14753, 'ঘউত': 5557, 'সরচ': 14553, 'মতই': 11243, 'টইয': 6712, 'গজল': 5191, 'ডরন': 7347, 'ওড়ল': 4274, 'কইমই': 4323, 'ঘও': 5560, 'লবই': 13279, 'য়বর': 15417, 'ঠখ': 7118, 'থযশ': 8098, 'ইউছ': 1555, 'এএমএম': 3036, 'উরইউ': 2670, 'ইইই': 1452, 'রলসভ': 12744, 'য়সবদ': 15480, 'লনই': 13200, 'লবণক': 13291, 'জগতক': 6176, 'ষধর': 13999, 'ওঝ': 4134, 'গণসচ': 5288, 'ফখরক': 9969, 'টবদ': 6911, 'ড়ঝ': 15184, 'থসভ': 8144, 'আণব': 903, 'নঅভ': 8742, 'ধবন': 8645, 'গনজ': 5337, 'ভবদ': 10932, 'ঘনঘট': 5601, 'ষণসর': 13960, 'ফতসহ': 10002, 'এএমএস': 3040, 'য়কর': 15283, 'শয়হ': 13823, 'টইন': 6710, 'হয়অস': 15035, 'জলপথ': 6486, 'নবগ': 9136, 'পজন': 9561, 'টনঅভ': 6857, 'বড়জ': 10802, 'আজগ': 837, 'দখলট': 8213, 'রহণই': 12847, 'উএসস': 2375, 'দসই': 8487, 'কভন': 4612, 'সরশ': 14598, 'আইনগ': 638, 'মনফ': 11330, 'রভর': 12625, 'তরপদ': 7881, 'চরণন': 5899, 'পড়ন': 9925, 'থলগ': 8124, 'দময': 8350, 'শনভ': 13656, 'ময়গ': 11588, 'য়নভ': 15390, 'চপল': 5833, 'জলধর': 6483, 'অচঞ': 54, 'ধবল': 8648, 'আছড়': 829, 'শটও': 13573, 'অপরজনক': 179, 'কবরখ': 4601, 'মলদ': 11468, 'আড়তগ': 1366, 'কছড়': 4411, 'চননগর': 5812, 'নয়নব': 9415, 'থকষ': 8020, 'ঘরস': 5648, 'উলফত': 2702, 'বয়সই': 10843, 'আবগ': 1030, 'চউত': 5709, 'খউত': 4934, 'উৎসঘ': 2766, 'করউত': 4669, 'চরমপত': 5919, 'কশখ': 4811, 'শমস': 13729, 'কমড': 4633, 'রকত': 12124, 'রমই': 12629, 'পসবই': 9897, 'ইএসআই': 1634, 'এনআরড': 3296, 'হলভর': 15001, 'গকন': 5150, 'বলচন': 10649, 'শতগ': 13599, 'ইডফ': 1825, 'জলত': 6478, 'কলব': 4786, 'লপও': 13246, 'এনএইচক': 3320, 'লসসহ': 13411, 'ইনল': 1912, 'ষকথ': 13862, 'গএড': 5137, 'শমও': 13719, 'গঠকও': 5203, 'টরও': 6979, 'তনস': 7746, 'আসরক': 1313, 'ইটসদ': 1799, 'সরফর': 14575, 'ডউইক': 7191, 'জফর': 6397, 'বউল': 10183, 'ফউল': 9953, 'দচ': 8232, 'ঠকশ': 7114, 'ঠকস': 7115, 'মঘর': 11174, 'হতপ': 14860, 'আলবদর': 1239, 'সখল': 14209, 'পরমতসহ': 9833, 'গবর': 5373, 'আনবর': 968, 'নশনস': 9297, 'নআনন': 8757, 'লটওয়': 13111, 'চজয়': 5770, 'লশও': 13372, 'পদজনক': 9694, 'পবক': 9777, 'খরব': 5065, 'আয়করস': 1386, 'উডক': 2461, 'য়নড': 15380, 'শহররক': 13804, 'মতওয়': 11246, 'মবক': 11376, 'যয়ই': 11928, 'খননক': 4999, 'সনৎক': 14355, 'জনহ': 6379, 'লকথ': 13016, 'হইছ': 14740, 'ফউদ': 9952, 'খখ': 4955, 'মসয': 11527, 'ণবহ': 7516, 'রতসন': 12418, 'এমথ': 3645, 'বহরসহক': 10781, 'এফএনব': 3453, 'রকড': 12122, 'নবদম': 9156, 'নমদ': 9217, 'ইলও': 2090, 'টপন': 6890, 'উইট': 2292, 'শতকট': 13594, 'হয়জয়': 15056, 'আউড': 712, 'যআয়': 11619, 'রবএ': 12567, 'ইআইএস': 1428, 'অপশনও': 188, 'সনত': 14324, 'অজন': 62, 'ধনখ': 8604, 'একবচন': 3172, 'শকগ': 13516, 'বচনব': 10256, 'একখ': 3115, 'চলখ': 5936, 'যফ': 11796, 'ফড়': 10123, 'ণতম': 7472, 'মনশ': 11344, 'ইগলস': 1710, 'লবয': 13310, 'কওদ': 4356, 'সরওয': 14545, 'নইন': 8778, 'নগড়হ': 8941, 'খগর': 4958, 'ফশ': 10100, 'মনর': 11342, 'আরইউ': 1120, 'আইএলও': 541, 'এমইএসহ': 3555, 'ভগত': 10873, 'ননক': 9091, 'ববলয': 10520, 'গণক': 5247, 'রকপণ': 12130, 'গজদন': 5180, 'ইগলজ': 1708, 'নখরও': 8901, 'হরণজ': 14954, 'ধনভ': 8614, 'নয়প': 9428, 'ণগতভ': 7452, 'মহলক': 11561, 'বইপত': 10155, 'রজগৎ': 12232, 'লপড়': 13266, 'জজক': 6208, 'কলজ': 4775, 'তনজন': 7729, 'ফলনশ': 10088, 'গ৷বর': 5553, 'ন৷কর': 9446, 'ন৷সক': 9458, '৷ব': 15533, 'ইকশ': 1689, 'য়৷সক': 15492, 'কজন৷': 4423, 'ণ৷ক': 7556, 'হয়৷দ': 15083, 'ণ৷': 7555, 'গলশ': 5490, 'ইলবন': 2125, 'আইইএলট': 450, 'আরই': 1119, 'য়সব': 15479, 'জবসব': 6418, 'রআ': 11973, 'গমণ': 5392, 'রমণরত': 12666, 'ধআম': 8539, 'লআর': 12958, 'লরজ': 13356, 'আনফ': 966, 'এরর': 3707, 'নওবলত': 8855, 'চমকও': 5848, 'আরবও': 1198, 'গণপদত': 5267, 'বয়কদ': 10829, 'চয়পর': 6010, 'জনকল': 6285, 'করণন': 4695, 'ফরর': 10056, 'ঋণশ': 2842, 'রঅধ': 11964, 'এএলএস': 3050, 'বরফভর': 10604, 'এএলস': 3054, 'মইরহ': 11074, 'শঘ': 13559, 'মহলও': 11560, 'সখন': 14208, 'বঘর': 10250, 'করয': 4744, 'য়য': 15444, 'আইএফআইএল': 498, 'গদত': 5322, 'অসফল': 369, 'রহরগ': 12889, 'কগত': 4387, 'বরন': 10590, 'চকমক': 5737, 'কশনও': 4816, 'কশনই': 4814, 'বফ': 10508, 'থশ': 8139, 'মসনব': 11520, 'নভরই': 9202, 'পলই': 9849, 'আহছ': 1332, 'গরক': 5417, 'শরবতক': 13745, 'ঝড়ঝ': 6642, 'উটক': 2426, 'উটও': 2425, 'নআয়': 8770, 'জনসমষ': 6374, 'চরহ': 5929, 'থনই': 8057, 'উৎসই': 2760, 'নএয়': 8843, 'হবগ': 14910, 'ষঅন': 13826, 'টসয': 7066, 'অপরপক': 183, 'সকসহ': 14206, 'ভৎস': 11013, 'অমনভ': 285, 'ধময়': 8661, 'রঙক': 12196, 'গজগ': 5176, 'নএসবই': 8841, 'পদকস': 9689, 'ড়কজ': 15169, 'গনওয়': 5334, 'রণচ': 12321, 'উএসআইএস': 2373, 'ঘরবসত': 5643, 'রজতজয়ন': 12238, 'হইহই': 14749, 'রইরই': 12024, 'রকগ': 12113, 'সয়দ': 14724, 'নবনগর': 9161, 'অনধ': 124, 'গসচ': 5501, 'শপট': 13679, 'মচলচ': 11187, 'ভসল': 11009, 'ইডস': 1835, 'আগমনব': 793, 'আইএমও': 530, 'ইউএনআইস': 1502, 'ইউএইচও': 1493, 'আরএফএল': 1141, 'পসই': 9881, 'নগরসহ': 8935, 'এলগ': 3768, 'রথট': 12428, 'য়রন': 15453, 'দফতরসহ': 8316, 'বরএই': 10550, 'আপণ': 987, 'ধণ': 8585, 'বউয': 10181, 'ইঅনল': 1420, 'ঋদ': 2848, 'খরগ': 5051, 'নকখন': 8870, 'ফটব': 9990, 'বভর': 10529, 'এরজন': 3692, 'ঘরজ': 5634, 'নবলম': 9183, 'জউইল': 6121, 'ভবনসহ': 10947, 'লনআরও': 13198, 'রছড়': 12226, 'কআপসহ': 4306, 'এফএস': 3471, 'গজব': 5187, 'ডউড': 7205, 'ইডব': 1826, 'টমন': 6951, 'রকসহ': 12164, 'হউক': 14752, 'পএমনট': 9493, 'রমমন': 12689, 'সটপ': 14248, 'রজননক': 12249, 'উসওল': 2726, 'ওএইচএস': 4060, 'তজনদ': 7679, 'ড়খ': 15174, 'অভয়নগর': 278, 'ধরবই': 8689, 'আকচ': 735, 'ইশফ': 2157, 'নসও': 9304, 'ওসব': 4262, 'বনউত': 10429, 'ছজ': 6035, 'রউফক': 12049, 'বসউত': 10708, 'বরস': 10629, 'নঘর': 8944, 'মহরত': 11552, 'আইএফআইস': 499, 'করবএকট': 4721, 'এসএএফ': 3854, 'আরএমএম': 1146, 'আরএম': 1144, 'পইফ': 9475, 'দশদ': 8472, 'ষকগণও': 13855, 'ঐর': 3998, 'লইয়': 12972, 'ইজনই': 1745, 'বরয': 10622, 'কলমক': 4789, 'রদই': 12450, 'আকছ': 736, 'বৎসর': 10786, 'একইক': 3087, 'নরকম': 9244, 'টবলসহ': 6938, 'সহর': 14685, 'সহরতল': 14687, 'হইত': 14743, 'এফজ': 3487, 'এমআরভ': 3540, 'শমত': 13724, 'ইলই': 2085, 'অপদস': 166, 'নবলছক': 9181, 'আরনক': 1192, 'বছরখ': 10274, 'আরনও': 1191, 'টলমল': 7021, 'গভবন': 5379, 'উএল': 2370, 'থনসহ': 8068, 'ওএসএ': 4081, 'এএসএ': 3061, 'জলই': 6451, 'যবশত': 11819, 'এসবও': 3961, 'ইবলছ': 1990, 'শএট': 13498, 'আজমতপ': 853, 'গড়ট': 5536, 'গড়ও': 5531, 'যধৎব': 11765, 'ধনযজ': 8617, 'বসই': 10706, 'গদক': 5317, 'এফএফএস': 3455, 'ফটন': 9989, 'টমজন': 6947, 'গজয়': 5195, 'নফল': 9129, 'লনকর': 13207, 'য়পর': 15409, 'রখর': 12172, 'দরত': 8373, 'বজগত': 10296, 'ঝমন': 6617, 'গআপন': 5121, 'সএকট': 14148, 'কমট': 4632, 'আইই': 436, 'পণনও': 9613, 'সএশ': 14162, 'নটনই': 9013, 'রগরগ': 12186, 'সময়জ': 14523, 'বকসম': 10229, 'এলএলব': 3751, 'যকম': 11647, 'লচলন': 13090, 'বরচট': 10570, 'লচট': 13086, 'বরশ': 10626, 'জসঞ': 6510, 'ইলওস': 2091, 'জকমলগঞ': 6159, 'বরনব': 10593, 'জসরক': 6521, 'তনরব': 7744, 'টওস': 6742, 'বরমন': 10620, 'জএফ': 6136, 'বরকক': 10553, 'বরআফ': 10544, 'বরনজর': 10592, 'সদন': 14282, 'থছ': 8034, 'ণপত': 7491, 'এএফড': 3024, 'গলফজয়': 5476, 'ডটএক': 7268, 'সএমএল': 14156, 'ইনহ': 1926, 'ইদন': 1852, 'নকপ': 8878, 'ডলব': 7367, 'টঅ': 6679, 'পথগ': 9651, 'গফলট': 5366, 'রকমও': 12143, 'টঘট': 6800, 'দখলব': 8216, 'ইমনক': 2032, 'জবরদস': 6413, 'খলও': 5074, 'লমসল': 13345, 'চলনসই': 5953, 'মজত': 11196, 'আহতও': 1335, 'দরগঞ': 8367, 'বদরগঞ': 10394, 'এএসএমইউ': 3064, 'ককব': 4370, 'শলয়': 13769, 'মটক': 11211, 'নথপর': 9066, 'সদরদপ': 14293, 'আইইইই': 439, 'ঞক': 6653, 'মশতব': 11485, 'দশকজ': 8458, 'এএলপ': 3053, 'কড়সন': 4907, 'খকস': 4952, 'তসর': 7961, 'টবলট': 6922, 'উজত': 2409, 'রমণট': 12655, 'মমসহ': 11411, 'উলস': 2712, 'মশগ': 11483, 'মইধ': 11065, 'পইচ': 9472, 'হইব': 14745, 'বরবট': 10610, 'রলত': 12734, 'লয়ও': 13445, 'সঅস': 14095, 'গসন': 5507, 'টবলস': 6934, 'টনস': 6875, 'ফটকসহ': 9987, 'শফল': 13697, 'সলভ': 14618, 'উনও': 2513, 'ঝট': 6597, 'এতভ': 3266, 'সজয়': 14239, 'জতত': 6236, 'নবছর': 9143, 'এইচএন': 2926, 'ডএমএর': 7224, 'গরপথ': 5434, 'ইমসহ': 2053, 'ধনসম': 8626, 'ধখ': 8567, 'ঘগ': 5565, 'তরত': 7871, 'জঘ': 6196, 'পদঘ': 9692, 'রহণও': 12853, 'মহনন': 11546, 'এইউএসট': 2892, 'ইএমই': 1614, 'নইউক': 8773, 'থমসন': 8095, 'আঘত': 804, 'লচক': 13085, 'ওথ': 4156, 'রনট': 12493, 'অরড': 310, 'যনজ': 11768, 'ফয়ছল': 10127, 'রওশ': 12098, 'নদরব': 9078, 'তড়ক': 7983, 'পরজ': 9814, 'উগর': 2388, 'আড়ইশ': 1364, 'এফআরআই': 3429, 'সওগ': 14170, 'সমশক': 14507, 'টলছ': 7012, 'অউর': 19, 'বগনক': 10244, 'ষদক': 13983, 'আয়বহ': 1401, 'এনএব': 3343, 'করষক': 4752, 'লকরদ': 13036, 'গণআন': 5244, 'দরন': 8379, 'অনব': 127, 'ফনস': 10012, 'ঘœ': 5554, 'ওইসব': 4043, 'জখবরও': 6168, 'তজগত': 7675, 'তযশ': 7838, 'ভরব': 10975, 'পয়গম': 9934, 'ধগয়': 8571, 'এসএমএর': 3897, 'এমএমএস': 3594, 'রহমতগঞ': 12882, 'জএমস': 6138, 'রহরট': 12890, 'রহরক': 12888, 'লহত': 13422, 'সভবনও': 14459, 'গণজম': 5256, 'হতভম': 14863, 'লনগর': 13212, 'য়রবর': 15459, 'আরআইপ': 1107, 'কশনজন': 4820, 'ধজয়': 8580, 'এসময': 3969, 'গজকলম': 5174, 'তমট': 7818, 'টতর': 6847, 'ষণন': 13938, 'ফলগ': 10071, 'আকপটই': 746, 'রবসন': 12608, 'এফআইইউক': 3417, 'এফআইইউত': 3418, 'নদনগ': 9075, 'অবতরণও': 223, 'চবর': 5842, 'জলগ': 6462, 'জলউত': 6455, 'হগড়ন': 14805, 'মসওর': 11499, 'লবঞ': 13284, 'রডকম': 12289, 'কউন': 4339, 'এমএব': 3587, 'তরণয': 7868, 'তদল': 7710, 'তরণফ': 7866, 'ইজভ': 1753, 'খতম': 4985, 'মরম': 11448, 'পনসম': 9751, 'ষনগর': 14001, 'তরণস': 7869, 'মহৎস': 11568, 'রয়হ': 12931, 'রচলনও': 12220, 'ইঅস': 1424, 'ইঅর': 1422, 'তলয়': 7934, 'কড়ট': 4904, 'এমআইএমও': 3518, 'ষণঘ': 13926, 'কমগ': 4625, 'হঘ': 14806, 'হনপ': 14889, 'ধরঞ': 8666, 'এসএমপ': 3901, 'যলয়': 11887, 'এমএজ': 3568, 'ওএল': 4077, 'ইউএনআইএসড': 1501, 'ঝকমক': 6588, 'মসওয়': 11500, 'লওই': 12995, 'জনথন': 6315, 'ইলপ': 2115, 'করশ': 4751, 'এনএত': 3328, 'এনদ': 3387, 'আরআইএসপ': 1106, 'পনয': 9744, 'তসমস': 7959, 'ঠয়': 7167, 'ঋণসহ': 2844, 'লষণ': 13379, 'লইচ': 12965, 'এবছরই': 3502, 'ঐন': 3997, 'সহধর': 14670, 'সদআওয়': 14274, 'আরবক': 1199, 'এনওয়': 3377, 'ইএসই': 1636, 'সফটব': 14380, 'ইএসইত': 1639, 'রময': 12690, 'পপকর': 9760, 'গজও': 5172, 'উডয': 2471, 'ঠই': 7095, 'নমতও': 9214, 'করঞ': 4680, 'উএফপ': 2365, 'টলট': 7014, 'জমহ': 6436, 'য়তই': 15334, 'দশগ': 8462, 'ওজনস': 4129, 'দলবল': 8440, 'করমর': 4743, 'দনয': 8290, 'ষয়পত': 14078, 'সরসহ': 14602, 'বনঘন': 10438, 'ইগণ': 1700, 'যমও': 11835, 'রবই': 12565, 'ধরনক': 8677, 'লয়ন': 13457, 'ররক': 12713, 'পলত': 9856, 'সৎছ': 14698, 'ওইত': 4034, 'ইভড': 2002, 'নমথক': 9216, 'ড়শ': 15221, 'টকলট': 6777, 'ৎও': 15093, 'জনয': 6349, 'দরবনব': 8393, 'উনগ': 2516, 'ইয়ন': 2218, 'করণসহ': 4703, 'ঘই': 5556, 'রমণগ': 12652, 'চরণগ': 5895, 'জলঢ': 6477, 'লএট': 12988, 'ড়সব': 15225, 'টরবল': 6996, 'থকসহ': 8023, 'উৎসবন': 2779, 'দকছ': 8188, 'রফসহ': 12563, 'গজর': 5189, 'ফনক': 10009, 'ইটড': 1778, 'পএ': 9485, 'এএনআইয়': 3008, 'চগন': 5750, 'লদহ': 13182, 'নকলম': 8888, 'ডয়চ': 7414, 'এডউইন': 3235, 'আপসন': 1009, 'পদসহ': 9718, 'চপদ': 5830, 'ইসব': 2186, 'ওজর': 4131, 'পপগ': 9761, 'য়নগ': 15372, 'য়নউত': 15362, 'টনঘ': 6865, 'তকরণউত': 7626, 'ষকমন': 13878, 'গজনকভ': 5183, 'নরও': 9239, 'সড়কসহ': 14720, 'মণপ': 11237, 'রহকদ': 12838, 'ইডক': 1812, 'রমসহ': 12702, 'লরঙ': 13355, 'উআর': 2271, 'স৷': 14727, 'নলঞ': 9275, 'বহনব': 10766, 'ইফসহ': 1976, 'লবণশ': 13301, 'কলফল': 4785, 'ধভক': 8653, 'সবথ': 14426, 'বসফর': 10734, 'সফরই': 14390, 'বউভ': 10179, 'বউক': 10169, 'বরভ': 10613, 'রহত': 12868, 'একইরকম': 3096, 'এসএলএ': 3910, 'যয়সবক': 11955, 'টজয়': 6825, 'টগবগ': 6795, 'য়কই': 15269, 'জউদদ': 6126, 'আহমদসঠ': 1353, 'গঠনগত': 5219, 'রসরচন': 12823, 'রহমতসঠ': 12885, 'কসঠ': 4860, 'আজসঠ': 865, 'যসঠ': 11900, 'ঞসঠ': 6673, 'ধরসঠ': 8698, 'তসঠ': 7950, 'মসঠ': 11510, 'উৎসক': 2764, 'এইমস': 2977, 'কতএর': 4478, 'লডর': 13138, 'যয়য': 11951, 'অওয়': 21, 'তখরচ': 7646, 'বখশ': 10236, 'গরগ': 5420, 'রতগ': 12381, 'ময়মস': 11602, 'বজনক': 10302, 'পপল': 9771, 'যপটগ': 11777, 'লতসহ': 13164, 'রশত': 12751, 'ভরভও': 10977, 'দলছ': 8421, 'ওলঅন': 4235, 'সদরসপ': 14297, 'লথক': 13168, 'বধল': 10422, 'মঠব': 11220, 'জগৎস': 6193, 'কসক': 4854, 'গসজ': 5502, 'পয়জন': 9936, 'ছফ': 6064, 'গকর': 5152, 'মলক': 11459, 'জগতমল': 6177, 'উনসত': 2529, 'তনচন': 7728, 'বকবক': 10219, 'বরইগ': 10546, 'পথচলত': 9655, 'কহন': 4888, 'থএমনট': 7999, 'ইকত': 1670, 'রয়ড': 12912, 'ইইউপন': 1457, 'সবন': 14430, 'নটরড': 9024, 'পনসব': 9749, 'চয়ইআম': 5994, 'রওজ': 12087, 'রআয়': 12007, 'রআওত': 11982, 'য়একয়': 15258, 'যখনহল': 11667, 'রসকল': 12773, 'এতবড়একস': 3265, 'গঅপ': 5117, 'রসময়হঠ': 12819, 'ৎএকদ': 15092, 'নঅড': 8735, 'রসময়ট': 12818, 'জথ': 6242, 'আরঅর': 1102, 'চনকর': 5803, 'হয়শ': 15075, 'রএকট': 12065, 'জনছ': 6304, 'রআদ': 11988, 'মওআর': 11108, 'ফব': 10019, 'মকল': 11141, 'শইন': 13488, 'ডকল': 7245, 'উথব': 2488, 'বএব': 10194, 'মডফ': 11223, 'নএইদল': 8814, 'রসদস': 12791, 'য়কহ': 15291, 'শপরর': 13693, 'হয়য': 15071, 'নএকট': 8817, 'টএকপর': 6731, 'রপরআম': 12538, 'রউপস': 12046, 'ময়করসবতথ': 11587, 'রবয়স': 12617, 'এরওপর': 3680, 'ষণঅব': 13914, 'এরপরআম': 3697, 'হয়চ': 15054, 'নএন': 8823, 'থথ': 8049, 'নহয়': 9353, 'রউন': 12043, 'য়হয়': 15488, 'রণইহল': 12306, 'ণআমর': 7431, 'মঝড়': 11208, 'পঅন': 9462, 'ভবকর': 10927, 'গওদ': 5143, 'য়ধ': 15358, 'ওআম': 4019, 'রএকব': 12066, 'আরওক': 1170, 'ছথ': 6044, 'জনকর': 6284, 'ণএকস': 7437, 'গহয়': 5525, 'রমধ': 12675, 'ইঘ': 1712, 'ওপরওয': 4179, 'ণপণ': 7490, 'য়কম': 15282, 'জয়ম': 6565, 'টবয়দ': 6941, 'ময়ক': 11582, 'জবরদখলক': 6412, 'মমর': 11408, 'শবনমও': 13704, 'রহণসব': 12866, 'আলঝ': 1226, 'জঅ': 6111, 'উআরআই': 2272, 'থবছরক': 8081, 'তরষ': 7902, 'ঝড়গ': 6640, 'ষণগত': 13925, 'লঝর': 13105, 'ঙনগ': 5678, 'দসমষ': 8494, 'ইজজও': 1739, 'ওএমআর': 4073, 'রবম': 12600, 'বড়জন': 10803, 'য়আম': 15247, 'নএজ': 8820, 'সভক': 14453, 'আইওত': 599, 'সএ': 14143, 'এককস': 3113, 'কতত': 4490, 'এসওপ': 3942, 'সপনড': 14365, 'ঙলম': 5695, 'কমম': 4650, 'ডবড': 7322, 'তধর': 7714, 'চনসহ': 5827, 'উরশ': 2684, 'বনত': 10448, 'আইনগতভ': 640, 'লতম': 13158, 'বকস': 10227, 'এনএসডব': 3371, 'নজরবন': 9003, 'ঠকই': 7100, 'গজট': 5179, 'ভরছ': 10964, 'ঠকপ': 7109, 'ঈদস': 2240, 'মহছ': 11540, 'হছ': 14811, 'ণগহ': 7454, 'বণম': 10352, 'গএসবই': 5141, 'এলইট': 3722, 'ছয়ঘর': 6095, 'আওরঙ': 729, 'ছকও': 6024, 'শনপত': 13653, 'রএশ': 12078, 'আজমলক': 858, 'কনজর': 4546, 'লহক': 13418, 'নখদন': 8898, 'তকস': 7634, 'ষকমণ': 13876, 'এষ': 3793, 'লকস': 13044, 'কশহরডটকমক': 4841, 'কটই': 4432, 'নয়য': 9432, 'রতজ': 12387, 'শহরসহ': 13806, 'খরচক': 5055, 'লধনজ': 13190, 'তপত': 7756, 'নযন': 9235, 'রহয়র': 12900, 'সতকর': 14265, 'ইকরণ': 1684, 'আয়ট': 1389, 'ডসসমর': 7405, 'কসমর': 4877, 'রডগ': 12290, 'শসমর': 13784, 'য়বস': 15419, 'ইটউৎসব': 1770, 'খবরগণ': 5029, 'উসব': 2738, 'লনদ': 13221, 'নঋ': 8810, 'নঈ': 8790, 'যঅর': 11613, 'ছদর': 6053, 'নগরপ': 8930, 'রথক': 12425, 'নয়নয': 9422, 'এনএসএর': 3366, 'এফওব': 3483, 'রমশই': 12696, 'ঘনবস': 5606, 'টনই': 6858, 'পথসহ': 9670, 'পপণ': 9765, 'ডরট': 7345, 'য়রত': 15451, 'তলতম': 7920, 'আরআইএ': 1104, 'তলকরণ': 7915, 'রণয়ট': 12358, '৷অর': 15498, 'বজনই': 10300, 'ল৷বল': 13478, 'এনএন৷': 3337, 'বছরশ': 10286, 'এবছরও': 3503, 'চকগ': 5724, 'ওলব': 4247, 'নতজ': 9047, 'সঙপ': 14218, 'লশব': 13377, 'সফলই': 14402, 'হয়ছ': 15055, 'আরএসআরএম': 1158, 'এসইক': 3842, 'তরএট': 7847, 'এমএনথ': 3578, 'রউইক': 12033, 'এমএমপ': 3596, 'ওএইচপ': 4061, 'এইনস': 2970, 'আসরবর': 1319, 'দমবন': 8349, 'এমএসএনব': 3615, 'এএমট': 3042, 'দশকগ': 8457, 'ইলবক': 2124, 'এএমএ': 3033, 'এএমএত': 3035, 'টসও': 7039, 'আজমলও': 857, 'যপথ': 11782, 'ককপথ': 4369, 'ন৷সফর': 9459, 'দশন': 8473, 'থকল': 8019, 'নবসভ': 9189, 'ড়শক': 15222, 'ওকর': 4101, 'থলপদ': 8131, 'ডসদস': 7390, 'বড়ম': 10814, 'এসএসক': 3926, 'উৎসস': 2792, 'বচরণ': 10259, 'হয়আম': 15037, 'অপভ': 172, 'কগন': 4389, 'এনএম': 3345, 'এসওস': 3945, 'থনঅপ': 8056, 'এনএফস': 3342, 'উএইচড': 2353, 'এসএফগ': 3877, 'এইচক': 2950, 'এফশ': 3498, 'এইচর': 2959, 'ছচ': 6032, 'বড়প': 10810, 'কড়ইব': 4897, 'নলব': 9281, 'এহন': 3982, 'পএই': 9486, 'য়পরর': 15410, 'আইএট': 479, 'শঅস': 13482, 'ডবক': 7320, 'গএদ': 5138, 'এনআইট': 3290, 'ঋতব': 2847, 'এইদ': 2967, 'ডহক': 7409, 'য়কন': 15280, 'নয়নঘ': 9407, 'য়নন': 15384, 'ওপরখ': 4182, 'ওপরগ': 4183, 'ওপরঘ': 4184, 'ওপরন': 4188, 'য়শই': 15468, 'এজহ': 3227, 'তবদ': 7784, 'এসএফআইস': 3872, 'আরইব': 1125, 'এএর': 3046, 'টনসহ': 6878, 'রহণট': 12858, 'ইকনক': 1674, 'ইজও': 1734, 'ইকনও': 1673, 'ইসমত': 2190, 'একশট': 3192, 'খদর': 4988, 'উদপ': 2497, 'তআল': 7573, 'ওঠবস': 4143, 'সরষ': 14599, 'মছল': 11191, 'বছরপ': 10280, 'ষয়ব': 14080, 'মসট': 11509, 'ইয়ট': 2213, 'রখণ': 12169, 'গলম': 5484, 'রআজ': 11985, 'নজরট': 9001, 'মমস': 11409, 'অনবরত': 129, 'আনইন': 944, 'মণও': 11230, 'সইয': 14123, 'নএইজ': 8813, 'ধশতক': 8708, 'ষশ': 14050, 'গময': 5404, 'কটট': 4441, 'সবরকম': 14440, 'ভসহ': 11010, 'এনছ': 3380, 'অলবড': 334, 'আলপ': 1233, 'চলগ': 5937, 'উসচওয়': 2731, 'আইএসআইএস': 551, 'ষয়ত': 14076, 'গতপত': 5304, 'সড়কদ': 14715, 'লসব': 13398, 'মনগ': 11311, 'কইয়': 4332, 'ধপল': 8633, 'পরনর': 9819, 'মছব': 11190, 'ডআজ': 7178, 'ষতক': 13965, 'সদও': 14277, 'সমণ': 14475, 'নরঙ': 9249, 'উজম': 2415, 'টপয়': 6894, 'পটগ': 9572, 'ঝড়ঢ়যড়': 6650, 'পড়স': 9931, 'ঙঅট': 5666, 'গজশ': 5193, 'বনজসম': 10445, 'ঝস': 6635, 'তঘড়': 7657, 'নবজটল': 9145, 'বলতরই': 10664, 'ইমপস': 2040, 'থলন': 8129, 'টমসন': 6960, 'ফরএভ': 10031, 'ইমনউত': 2029, 'সনপদ': 14341, 'ইরম': 2074, 'অমল': 295, 'ভজল': 10890, 'কলসপ': 4804, 'ণপট': 7489, 'অইছ': 11, 'লইয': 12969, 'বরগর': 10566, 'শনদ': 13646, 'লহর': 13426, 'কড়চ': 4902, 'শঘর': 13560, 'লকধ': 13019, 'ইফবয়': 1968, 'ওরইট': 4217, 'ষণগ': 13923, 'চইন': 5703, 'লবয়সব': 13319, 'নশচ': 9285, 'লসফ': 13397, 'ডলন': 7364, 'টঅল': 6685, 'পদকই': 9678, 'ইপরপর': 1943, 'পরহল': 9847, 'পরআম': 9801, 'ডএনআরএফ': 7218, 'মখদ': 11145, 'ষকস': 13882, 'যৎক': 11919, 'ফলশ': 10094, 'জএই': 6130, 'জপদক': 6387, 'আরআর': 1112, 'যপদক': 11786, 'উইভ': 2316, 'টউপন': 6721, 'সঐত': 14168, 'ডসফট': 7398, 'সনড': 14322, 'ইওত': 1652, 'নটনক': 9014, 'লপস': 13265, 'পকথনট': 9520, 'বলবত': 10674, 'করজ': 4679, 'কমজ': 4629, 'নকথ': 8875, 'হলসম': 15007, 'বষয়': 10704, 'ষলধ': 14049, 'এমআইএস': 3519, 'দৎ': 8512, 'এপলমট': 3408, 'রনই': 12482, 'চঢ': 5785, 'মশকন': 11481, 'লকহ': 13048, 'মসস': 11530, 'রফতক': 12556, 'বয়হ': 10852, 'পটপস': 9587, 'এএইচ': 2992, 'এলএইচ': 3727, 'ভরভক': 10978, 'ধরনএ': 8675, 'গসব': 5509, 'রকপ': 12129, 'চটচ': 5778, 'পজগত': 9559, 'সৎক': 14696, 'সৎ': 14695, 'ইউয়': 1584, 'গণছ': 5254, 'থকব': 8016, 'ষণকল': 13921, 'রবঞ': 12579, 'গমএ': 5384, 'লবস': 13314, 'নয়ম': 9430, 'বনয়ক': 10491, 'আইআই': 412, 'রচয': 12213, 'বছরওয়': 10272, 'মনঢ': 11322, 'মদনম': 11288, 'ভশক': 11000, 'নবজম': 9147, 'আনহ': 977, 'ইসখ': 2171, 'ইসঘ': 2173, 'পঘ': 9544, 'ইভগ': 1998, 'গলদঘর': 5472, 'ডসনক': 7393, 'নরড': 9252, 'বদলএ': 10403, 'অপকর': 148, 'বইঘর': 10147, 'রতত': 12391, 'রদলও': 12468, 'ইয়ঙ': 2211, 'ইনই': 1865, 'ডটকমসহ': 7274, 'ষদট': 13987, 'ষদঘ': 13986, 'ষদউত': 13981, 'যরক': 11873, 'নয়নখ': 9404, 'ষণউত': 13916, 'রআনখ': 11991, 'ঢ়করণ': 15232, 'এসএফস': 3880, 'উৎসও': 2763, 'দতপ': 8251, 'আíস': 406, 'আপদ': 992, 'ভটভ': 10894, 'মকরক': 11136, 'এমনইভ': 3652, 'আরএসএসএস': 1162, 'এসইভ': 3846, 'নইয': 8784, 'তনয়': 7750, 'সফদ': 14387, 'এসবক': 3962, 'আজমপ': 854, 'ডপত': 7309, 'মএব': 11102, 'হকআগ': 14767, 'য়ক৷': 15292, 'তদক': 7705, 'রয়ব': 12923, 'বলবয়': 10678, 'ইসত': 2178, 'যবইবহ': 11802, 'প৷': 9944, '৷ড': 15521, 'পপচ': 9763, 'এফআইএফ': 3423, 'ভজন': 10884, 'তরণকর': 7865, 'নডক': 9032, 'ডদ': 7290, 'জটলর': 6222, 'টকজ': 6754, 'পটও': 9570, 'ইমট': 2024, 'শয়ও': 13811, 'ফসলও': 10111, 'যণ': 11726, 'ওজনজন': 4125, 'পচন': 9552, 'জনইত': 6263, 'দকড়': 8205, 'শনই': 13626, 'এনইউ': 3303, 'এনইউর': 3308, 'এনইউয়': 3309, 'আফজল': 1019, 'জগড়': 6195, 'গসহক': 5515, 'আপসহ': 1011, 'ফরওয': 10033, 'নœদ': 8732, 'ৎবঞ': 15125, 'ওগণ': 4108, 'রজয়ন': 12262, 'য়জনক': 15307, 'কলনই': 4781, 'পরপ': 9820, 'ঝড়ও': 6638, 'বকরক': 10222, 'মরণসভ': 11438, 'শপরম': 13692, 'শয়করগ': 13813, 'শরকরগ': 13735, 'য়সঠ': 15476, 'নলফ': 9279, 'নলফথ': 9280, 'উলড': 2696, 'ইওএস': 1647, 'কমকর': 4623, 'খবরআম': 5021, 'গকবল': 5151, 'ওআরজ': 4022, 'ডটঅ': 7266, 'বরণপত': 10581, 'আইএসএন': 563, 'মরপ': 11445, 'শণ': 13589, 'পটপসহ': 9588, 'আরএসআই': 1157, 'নদট': 9070, 'জলকপ': 6459, 'ঞগন': 6656, 'আপট': 984, 'এলইপ': 3724, 'বনমন': 10466, 'এফএলএলএফইএ': 3468, 'ষঠ': 13910, 'নরহত': 9265, 'এএমএল': 3037, 'আয়য': 1405, 'ডলটন': 7360, 'জরক': 6444, 'পধ': 9720, 'কনদ': 4552, 'ববস': 10522, 'লইকব': 12964, 'চজনজর': 5766, 'জনচ': 6303, 'বইক': 10143, 'রণকল': 12317, 'অবসরক': 255, 'এলএলপ': 3750, 'মচরণ': 11186, 'সরর': 14583, 'ইপজ': 1934, 'ভলফ': 10994, 'রনন': 12498, 'রননক': 12499, 'রগল': 12187, 'ইএনএএফই': 1597, 'গণকল': 5250, 'গআ': 5119, 'নওধ': 8851, 'পরমম': 9835, 'অসমত': 374, 'সধর': 14309, 'রণয়প': 12365, 'কধর': 4527, 'যজগত': 11690, 'রতনপ': 12398, 'বলআগ': 10639, 'ইআম': 1435, 'চয়এখন': 5995, 'মআব': 11054, 'হয়বল': 15067, 'য়এত': 15260, 'মআগ': 11047, 'সমঞ': 14473, 'লটসআম': 13129, 'ফরমস': 10055, 'গরমজন': 5442, 'সতন': 14267, 'তনর': 7743, 'টজট': 6814, 'পরশও': 9840, 'যবত': 11809, 'ভপর': 10916, 'টগণ': 6791, 'ঘরভর': 5645, 'ঋজ': 2822, 'বলয়প': 10695, 'মকছ': 11124, 'বড়ব': 10812, 'গঠনস': 5231, 'ইবগ': 1982, 'উইব': 2315, 'ইতস': 1845, 'লএব': 12991, 'এধরন': 3274, 'ভবএ': 10922, 'পবয়স': 9785, 'ডদগ': 7291, 'নটনসহ': 9016, 'য়সম': 15481, 'যয়দ': 11939, 'নশনট': 9293, 'উইপনস': 2313, 'কনকন': 4536, 'করতœ': 4705, 'এসএসড': 3928, 'ইরর': 2076, 'ইউএসএইড': 1534, 'এফএওর': 3449, 'এফএও': 3448, 'ঘভ': 5621, 'রবণপ': 12590, 'ঠর': 7161, 'আয়করও': 1382, 'ঝআইল': 6584, 'ইমব': 2042, 'কলয়': 4807, 'ডধর': 7294, 'চঘ': 5755, 'ইজদ': 1743, '৷গ': 15516, 'করব৷': 4736, '৷তব': 15525, 'বনলত': 10477, 'য৷': 11957, 'করব৷আম': 4737, 'লব৷এস': 13320, 'ত৷': 7987, 'র৷চলচ': 12934, 'হরগ': 14944, 'লটক': 13112, 'ষড়': 14061, 'পতল': 9644, 'ইকচ': 1668, 'এএনআইক': 3007, 'একএই': 3101, 'কজমক': 4424, 'যকক': 11638, 'এরজ': 3691, 'ফটকও': 9984, 'আছম': 826, 'ফটম': 9991, 'ছদম': 6052, 'ধনব': 8613, 'গপৎ': 5356, 'তঘড': 7654, 'মধর': 11299, 'টয়নব': 7090, 'গউত': 5131, 'য়ণউত': 15321, 'বয়ল': 10841, 'রমবস': 12685, 'নখদর': 8899, 'বজনসহ': 10310, 'আসঠ': 1292, 'রথমই': 12432, 'ঢ়ব': 15240, 'মহলব': 11563, 'ইডগ': 1816, 'ইডউত': 1809, 'পউত': 9482, 'ওপরউত': 4176, 'ওপরপ': 4189, 'নজটম': 8975, 'খকউত': 4943, 'শনউত': 13628, 'উইথড': 2299, 'আহমদগ': 1349, 'লতগ': 13149, 'লতউত': 13143, 'জলম': 6495, 'শতও': 13591, 'ছলক': 6078, 'আইএএনএ': 471, 'ঋণম': 2841, 'ণয়ক': 7551, 'আকমলদ': 762, 'খমন': 5046, 'লআব': 12955, 'বকথ': 10211, 'মলত': 11466, 'মলতক': 11467, 'এমইএক': 3547, 'বনসল': 10487, 'বনসলক': 10488, 'এমএনএস': 3576, 'জঠ': 6224, 'আনড': 959, 'ইনএড': 1873, 'এসওএল': 3937, 'ওকসক': 4104, 'দগমন': 8226, 'রগমন': 12184, 'তকগ': 7605, 'তলস': 7931, 'তবৎ': 7803, 'অতলস': 88, 'অনতলস': 123, 'করণব': 4697, 'উদর': 2502, 'থলচর': 8125, 'জলচরগ': 6466, 'পবভর': 9781, 'সধব': 14308, 'ঞগ': 6654, 'সবনক': 14431, 'মডর': 11224, 'ওওট': 4093, 'এসএলসফট': 3916, 'ইআরপ': 1445, 'পআপ': 9465, 'আলটপক': 1228, 'ইনসও': 1917, 'ফটসম': 9993, 'এনএইচএস': 3318, 'মমদ': 11403, 'ফরদপ': 10043, 'গঠনপ': 5226, 'রপট': 12523, 'হরতক': 14959, 'ডসর': 7404, 'তচরদ': 7663, 'টগতভ': 6794, 'নঈব': 8792, 'লডন': 13136, 'কনন': 4554, 'আরএমজ': 1149, 'নওপ': 8853, 'ণঢ': 7468, 'খনম': 5005, 'সরণপ': 14564, 'পকথনক': 9519, 'একজনখ': 3131, 'শডব': 13587, 'লফভ': 13272, 'নপঞ': 9112, 'লহজ': 13419, 'রগব': 12183, 'টকটক': 6756, 'উসট': 2733, 'অকস': 30, 'শনফ': 13654, 'সআন': 14099, 'উবকর': 2628, 'টকও': 6749, 'এনএনআইড': 3331, 'আজমতউল': 852, 'আইইউট': 441, 'লয়ধ': 13456, 'জনবর': 6333, 'ওউপম': 4052, 'টরখ': 6983, 'আইড়ন': 687, 'নওখ': 8847, 'আয়শ': 1413, 'ঙছ': 5672, 'ঙনর': 5682, 'নবগঙ': 9137, 'দমকলকর': 8338, 'রণধ': 12332, 'দরম': 8398, 'আইচক': 613, 'নয়নর': 9423, 'নজয়': 9006, 'নবড': 9149, 'মআম': 11055, 'ইমনএসব': 2030, 'নঝ': 9007, 'নআম': 8764, 'সআপন': 14103, 'এমআরই': 3532, 'লটপ': 13123, 'শকসহ': 13539, 'উপকরণগ': 2546, 'খ৷': 5114, 'শনচর': 13639, 'রময়': 12705, 'য়তন৷জ': 15345, 'পসত': 9891, 'নবসত': 9187, 'রজওয়': 12229, 'ফ৷': 10133, 'উৎসব৷': 2789, 'ম৷এরপর': 11610, 'বপনচ': 10500, 'এসব৷': 3964, 'ড৷': 7419, 'কলট': 4776, 'রলক': 12730, 'ড়ফ': 15205, 'তগতভ': 7651, 'অঢ': 79, 'ফরমট': 10053, 'উপপরর': 2582, 'নসহসভ': 9347, 'ফখরউদ': 9968, 'গরট': 5424, 'টহলরত': 7085, 'ঠসহ': 7166, 'থরন': 8112, 'এতস': 3267, 'রউফপ': 12050, 'আইএসব': 581, 'য়শব': 15470, 'টপতঙ': 6889, 'পথয': 9664, 'সমদর': 14481, 'কবই': 4590, 'ওইজ': 4031, 'ননগর': 9092, 'শরণখ': 13737, 'কলভ': 4787, 'আরএমএস': 1147, 'আটগ': 878, 'তসজ': 7949, 'রণয়নগ': 12363, 'শগঞ': 13551, 'ওমল': 4213, 'টবয়': 6940, 'এলভ': 3785, 'দশব': 8477, 'টসব': 7059, 'এসওএইচএসএএস': 3934, 'রমসচ': 12699, 'আইএফইর': 503, 'ববহ': 10524, 'আইএসস': 583, 'ইউনক': 1564, 'গপন': 5353, 'আকঞ': 737, 'তবরফগল': 7796, 'য়রস': 15462, 'পরছ': 9813, 'থমবম': 8094, 'গরণম': 5428, 'এমনএই': 3653, 'কষছ': 4843, 'লটস': 13128, 'লপক': 13247, 'কবস': 4606, 'সড়কক': 14710, 'জউকক': 6123, 'ষরসহ': 14044, 'শএবল': 13501, 'এসমন': 3968, 'আইওএম': 590, 'এমইট': 3556, 'ওইএসএল': 4029, 'এআইআরএ': 2857, 'টউয়': 6724, 'এএলএ': 3048, 'আজল': 863, 'তদশ': 7711, 'যকরই': 11650, 'ইউএসড': 1545, 'বদরখ': 10393, 'এমওইউ': 3627, 'এমওইউর': 3629, 'যয়ভ': 11950, 'যমসব': 11861, 'পলব': 9859, 'তএমন': 7592, 'রপচ': 12520, 'ণরস': 7533, 'বজনশ': 10309, 'লকওয়': 13007, 'বইমনষ': 10159, 'টবড়': 6939, 'জয়চন': 6541, 'রবএমন': 12569, 'খরচম': 5059, 'আউচপ': 692, 'আটতল': 888, 'ইগলদ': 1709, 'শয়উত': 13810, 'লবখ': 13282, 'টবঘ': 6906, 'লবউত': 13280, 'ৎশক': 15133, 'বকশক': 10226, 'ৎউত': 15090, 'ঘটকখ': 5575, 'ঘটকউত': 5573, 'রপয়': 12548, 'রমণকর': 12649, 'এনএর': 3349, 'আকবরশ': 756, 'আলমউপ': 1242, 'লয়দক': 13454, 'আউটফ': 701, 'টপল': 6892, 'তথল': 7703, 'খনল': 5007, 'থরগ': 8103, 'অষন': 353, 'সরহ': 14603, 'তছড': 7667, 'লথগথ': 13170, 'ধবপ': 8646, 'ছছ': 6033, 'যমঞ': 11846, 'নবমঞ': 9170, 'আলখ': 1222, 'এলওএস': 3763, 'রটউইন': 12271, 'হকপ': 14784, 'গহস': 5524, 'মদনট': 11286, 'গণশত': 5285, 'উএইচস': 2354, 'যমজগত': 11843, 'গরহ': 5453, 'সজলক': 14236, 'সজলই': 14234, 'ধজগৎ': 8578, 'মকরণট': 11139, 'অসমবয়স': 378, 'নগড়ওয়': 8940, 'চউইক': 5707, 'ইউইএল': 1489, 'হফম': 14907, 'তভল': 7810, 'লমক': 13333, 'গরপ': 5433, 'ৎসকও': 15139, 'এমআরআই': 3529, 'পইত': 9473, 'ণপন': 7497, 'শগল': 13556, 'সফটভ': 14382, 'লফট': 13269, 'নময়': 9229, 'রঅপ': 11966, 'ওতর': 4154, 'কশনক': 4817, 'বএগ': 10190, 'মঢ': 11226, 'রসনও': 12795, 'রণল': 12348, 'তবচ': 7781, 'টবলরর': 6933, 'বহণক': 10753, 'নজম': 8995, 'শরহ': 13749, 'নওহ': 8863, 'আলমড': 1251, 'শবপ': 13705, 'সনৎ': 14354, 'রনদ': 12496, 'নলছ': 9272, 'তছল': 7672, 'জগল': 6183, 'গউছ': 5130, 'উছম': 2399, 'হনশ': 14892, 'রইয়': 12028, 'টকলগ': 6776, 'ভজনকভ': 10887, 'ড়তল': 15189, 'মরলটক': 11452, 'মরলট': 11451, 'এলআরব': 3719, 'ইরচর': 2065, 'শগঙ': 13550, 'গনফ': 5343, 'বড়স': 10819, 'আদভ': 926, 'তখত': 7638, 'ষলড': 14047, 'কসর': 4879, 'এমইএত': 3548, 'ইউএনওক': 1510, 'বউট': 10171, 'করবএট': 4723, 'দরবস': 8396, 'টডক': 6838, 'উপশম': 2605, 'লকয': 13031, 'আনট': 958, 'ইভএই': 1995, 'কশনএইড': 4815, 'নজনগণ': 8984, 'জনকই': 6276, 'ডএজ': 7216, 'কলমব': 4793, 'এসএএস': 3856, 'এঅ': 2853, 'ডএও': 7213, 'সনযন': 14348, 'টবলয': 6931, 'কমঝ': 4631, 'ওনজ': 4165, 'অফই': 201, 'ওএএস': 4064, 'কময়': 4663, 'কলগ': 4771, 'আইএমএফক': 526, 'গরমট': 5443, 'আপম': 1003, 'ধশতব': 8711, 'এনওএএর': 3374, 'কমচ': 4627, 'বয়কর': 10830, 'ড়লদ': 15218, 'ইমড': 2025, 'বহরপ': 10779, 'মগধর': 11161, 'জলদস': 6481, 'আরএক': 1131, 'এসএসএই': 3921, 'উএম': 2366, 'লবহর': 13317, 'রহল': 12893, 'নবহর': 9193, 'বতশ': 10374, 'থরহর': 8120, 'উডকন': 2462, 'এলআই': 3712, 'লআজ': 12952, 'এফএলএন': 3467, 'সরকরব': 14548, 'বনরত': 10474, 'হলস': 15006, 'হলই': 14981, 'পথই': 9646, 'ষজনও': 13903, 'এফএক': 3450, 'ণইউ': 7433, 'আরইএম': 1123, 'শনপ': 13652, 'অবসরও': 254, 'ইসএই': 2166, 'এনএক': 3325, 'ডএল': 7226, 'আরওয়': 1173, 'ফইন': 9949, 'ডএ': 7209, 'নউই': 8796, 'আইডলএক': 624, 'আইআরআইএক': 426, 'য়কউইল': 15270, 'হয়এত': 15045, 'বনমরণ': 10467, 'খআয়': 4929, 'আখচ': 770, 'যমজর': 11845, 'টরই': 6977, 'ডউইডথ': 7198, 'এমওএব': 3630, 'বটসওয়': 10345, 'বনপ': 10457, 'ধড়': 8726, 'শতসহস': 13615, 'দয়ও': 8516, 'খটক': 4975, 'রণন': 12333, 'জনবলক': 6336, 'থবছরভ': 8083, 'ঠকব': 7110, 'ডসদ': 7389, 'ইনসব': 1921, 'খবন': 5018, 'ঠভর': 7157, 'সহয়': 14693, 'এসএমইড': 3887, 'বহনকর': 10760, 'ষকই': 13843, 'সরড': 14559, 'চমকভ': 5855, 'এএনএন': 3009, 'ওনও': 4163, 'হয়ও': 15047, 'ইনকন': 1878, 'ইএমও': 1620, 'জনবলও': 6335, 'ৎসকসহ': 15146, 'ইএমওর': 1621, 'রঙম': 12200, 'খসব': 5092, 'য়বল': 15418, 'লতকক': 13146, 'এনঅ': 3276, 'ভইত': 10861, 'ভআন': 10859, 'টবলসন': 6936, 'আরএনব': 1136, 'সচলচ': 14226, 'টপচ': 6884, 'উইকন': 2280, 'কসপ': 4869, 'ডসনর': 7394, 'ওজনই': 4122, 'লয়জ': 13451, 'টসময়': 7065, 'পকগ': 9508, 'বরসঠ': 10631, 'করতন': 4708, 'টটল': 6833, 'অলসত': 339, 'ধবদ': 8643, 'বয়ঘ': 10831, 'ডলসবর': 7375, 'ঠজনর': 7132, 'ডমল': 7341, 'ততগ': 7692, 'এসসক': 3976, 'ইএফট': 1608, 'ইচসহ': 1721, 'ইএমভ': 1627, 'গযন': 5413, 'জলচর': 6465, 'আলদ': 1231, 'বটস': 10344, 'এভর': 3510, 'আইএসম': 582, 'পওর': 9500, 'য়নসবক': 15402, 'শনসবক': 13669, 'সকপ': 14192, 'এনভয': 3394, 'ফহ': 10122, 'নতশ': 9062, 'চলর': 5960, 'একইপ': 3092, 'থলব': 8133, 'তরজম': 7858, 'উনফ': 2522, 'পওয': 9499, 'পথপর': 9661, 'তরধ': 7876, 'তরমধ': 7892, 'মএট': 11099, 'ওকগ': 4098, 'নসফ': 9326, 'নরল': 9261, 'ওতম': 4153, 'ষরণজন': 14037, 'সমমর': 14496, 'অগভ': 41, 'খগহ': 4959, 'ঠথল': 7141, 'তবজ': 7782, 'আপনজনদ': 999, 'ইকয': 1681, 'উনশ': 2527, 'লরর': 13363, 'য়রব': 15458, 'লখন': 13051, 'ইডসঅনল': 1836, 'ডগঅনল': 7249, 'ইডডগ': 1820, 'গজগজ': 5177, 'ফটট': 9988, 'ভউল': 10865, 'খড়জ': 5107, 'সনট': 14321, 'ঠফ': 7152, 'ঠকখ': 7103, 'সফটবক': 14381, 'বরফঘ': 10601, 'ইনচন': 1887, 'রউইকশ': 12034, 'রকউইকশ': 12109, 'রওয়জ': 12104, 'সঊদ': 14142, 'দমনব': 8346, 'লচলনও': 13091, 'ষলত': 14048, 'ডঅন': 7169, 'টবঞ': 6908, 'নফন': 9127, 'এনহ': 3402, 'উৎয': 2757, 'চনয': 5822, 'ওহল': 4271, 'পভবন': 9787, 'হলঘর': 14986, 'এপর': 3407, 'লবণস': 13302, 'অতড়': 91, 'উসন': 2735, 'হয়অধ': 15033, 'ফসফ': 10106, 'এবড়': 3508, 'রসবব': 12812, 'পতনস': 9639, 'মকদ': 11128, 'ডফরঅ': 7315, 'থক৷ডর': 8025, 'গওয়': 5147, 'নখল': 8902, 'এসওএফ': 3935, 'কসট': 4859, 'সএলআর': 14161, 'লয়হ': 13473, 'গলস': 5491, 'উৎসবস': 2787, 'টজক': 6811, 'আকবরউদ': 751, 'ডইচ': 7187, 'ডউইচন': 7195, 'নয়স': 9438, 'ষকচ': 13858, 'তঅন': 7563, 'থনট': 8060, 'অবসরই': 252, 'নমর': 9225, 'আইএনধ': 493, 'অকর': 26, 'খইন': 4931, 'এমএআর': 3559, 'তরবইট': 7887, 'নড়ছ': 9358, 'ভরল': 10982, 'নবঢ': 9150, 'উইলসনক': 2335, 'উইলম': 2330, 'পটনশ': 9580, 'রঘর': 12193, 'মদখল': 11276, 'লধনএই': 13186, 'উইপ': 2312, 'আলমও': 1244, 'চকসব': 5743, 'লতসবক': 13163, 'ননর': 9104, 'এনএসইউএসএস': 3361, 'লয়উৎসব': 13444, 'তবরণসক': 7795, 'লয়মন': 13465, 'উৎসববসন': 2782, 'তনখ': 7724, 'হসন': 15021, 'ইলঘ': 2095, 'ইলখ': 2093, 'ওতথ': 4150, 'যজনস': 11700, 'তসময': 7958, 'টকই': 6746, 'চরশ': 5926, 'উপদপ': 2566, 'মদদদ': 11282, 'ফটহ': 9995, 'গগর': 5160, 'সমল': 14504, 'ঙভ': 5685, 'যবয': 11815, 'য়পড়': 15411, 'ওমক': 4201, 'টরগণ': 6985, 'বরহ': 10636, 'ষণযন': 13952, 'এএএস': 3002, 'তবয': 7792, 'পথকল': 9650, 'লএসব': 12993, 'শততমব': 13603, 'ঝরব': 6625, 'লসগ': 13385, 'আকমত': 759, 'জআইস': 6115, 'নবগত': 9139, 'ওটর': 4139, 'মশক': 11480, 'খঘণ': 4961, 'খবরহ': 5039, 'লয়য়': 13474, 'উটল': 2442, 'এলশ': 3788, 'এনএসইউর': 3362, 'ঘকন': 5563, 'য়তনভর': 15342, 'ইয়টগ': 2214, 'রইয়ট': 12029, 'ইয়টস': 2216, 'এফএল': 3466, 'নডঙ': 9033, 'এনআইএসআইয়': 3285, 'বসতঘরট': 10722, 'শহরব': 13799, 'ওমরও': 4207, 'আহতর': 1337, 'কইচর': 4316, 'কনওয়': 4533, 'টলই': 7008, 'লটনসহ': 13122, 'বনতল': 10450, 'রজবরদস': 12258, 'তৎপরবর': 7979, 'ইউম': 1571, 'রতনশ': 12399, 'করচ': 4677, 'করণপ': 4696, 'সহজব': 14661, 'আলয': 1257, 'ণসমষ': 7547, 'ঠনঠন': 7147, 'শনশন': 13662, 'ড়ড': 15186, 'ণশঙ': 7539, 'খআনন': 4927, 'বগলদ': 10248, 'সরলভ': 14596, 'বড়ইব': 10792, 'ইনত': 1894, 'সদরসহ': 14298, 'রষক': 12765, 'ঘরছ': 5633, 'আইইস': 457, 'মনবর': 11334, 'আইএসওর': 574, 'আইএসওএকট': 573, 'ঞই': 6651, 'উনপ': 2521, 'এইচএসট': 2944, 'রতœ': 12368, 'য়ণক': 15322, 'কয়র': 4920, 'ডজনপ': 7262, 'খওয়': 4940, 'পসনস': 9895, 'গণমত': 5278, 'ষদণ': 13988, 'রযক': 12707, 'তরণও': 7863, 'ছদট': 6050, 'দরদর': 8377, 'দয়জ': 8523, 'সচক': 14220, 'রধম': 12475, 'শনসম': 13670, 'এসমএস': 3967, 'সময়সহ': 14534, 'ইসই': 2164, 'নজগ': 8966, 'রনস': 12506, 'করবএখন': 4722, 'চরআমখ': 5878, 'হড়': 15030, 'সদই': 14275, 'বদরউদ': 10392, 'নয়নত': 9410, 'আইওন': 600, 'এরন': 3695, 'সহব': 14676, 'আমসত': 1093, 'ইউএইর': 1496, 'এসইউভ': 3833, 'মনসহ': 11347, 'এঙ': 3215, 'উপকরণসম': 2551, 'টনব': 6870, 'বলধ': 10667, 'চরমধ': 5917, 'রউজ': 12038, 'মসসন': 11531, 'লছমনপ': 13094, 'ইবছর': 1984, 'ফড': 9996, 'পদকজয': 9681, 'ইদক': 1850, 'ড়করণ': 15173, 'ডয়নরত': 7418, 'ককক': 4363, 'ইশদ': 2155, 'এফএসএসপ': 3478, 'আনর': 972, 'গভম': 5380, 'অষধঢ়ড়হ': 352, 'বয়ট': 10833, 'তরগণ': 7854, 'যয়ক': 11931, 'খনও': 4991, 'ডলদ': 7363, 'জবধফরহম': 6406, 'টলয': 7022, 'তরময়': 7893, 'দজল': 8242, 'খতরন': 4986, 'থরম': 8116, 'থফ': 8076, 'ননও': 9090, 'রশট': 12750, 'এইচএস': 2943, 'আইএক': 478, 'সইউএস': 14109, 'ইউআইএসস': 1478, 'ওনএই': 4162, 'রহণসক': 12864, 'বটর': 10341, 'রশন': 12753, 'এফএইচ': 3441, 'পণনপদ': 9617, 'জলকন': 6458, 'এইভ': 2974, 'পদই': 9673, 'এনএসইউআই': 3359, 'এনএসইউআইয়': 3360, 'এসএফআই': 3871, 'এআইএসএফ': 2868, 'গমগম': 5390, 'এসও': 3932, 'এনইউক': 3305, 'টগর': 6797, 'জলমগ': 6496, 'এমআইএসট': 3520, 'চয়সঠ': 6013, 'কসহক': 4885, 'চয়নর': 6007, 'আয়ম': 1403, 'দলস': 8449, 'জনসব': 6369, 'কডরম': 4471, 'জনতর': 6313, 'টআপদ': 6696, 'নশনব': 9294, 'মরতব': 11441, 'ইঅধ': 1418, 'ৎসকন': 15142, 'ঘসময': 5661, 'আহল': 1361, 'আখম': 775, 'পটএসব': 9569, 'জওসজ': 6142, 'রকবল': 12134, 'গলর': 5487, 'সপট': 14361, 'সজলও': 14235, 'রপঙ': 12519, 'আকবরগ': 754, 'চরণট': 5896, 'হরকর': 14942, 'উভয়ল': 2654, 'রজব': 12257, 'রকমর': 12150, 'কমএট': 4619, 'শরও': 13733, 'নবদন': 9155, 'গলল': 5488, 'ঝপর': 6608, 'ইউচ': 1554, 'কলই': 4761, 'আইএমইআই': 518, 'বজনব': 10305, 'এনএসওয়': 3368, 'ইএনস': 1600, 'নরব': 9257, 'রউডস': 12040, 'ইআল': 1447, 'ইউকন': 1551, 'উইস': 2339, 'নঅলর': 8745, 'থকই': 8004, 'সচত': 14221, 'য়রজ': 15450, 'অযতœ': 301, 'সমদ': 14480, 'ষমব': 14024, 'আয়তট': 1392, 'সরলক': 14586, 'অবচ': 216, 'ডভণ': 7333, 'দয়হ': 8533, 'নবধর': 9159, 'মএলএ': 11104, 'চশত': 5969, 'দলপত': 8432, 'ইসড': 2177, 'অজনপ': 63, 'লকলক': 13039, 'উপকরণই': 2544, 'ইভত': 2003, 'লগগ': 13060, 'মহয়': 11570, 'সহমত': 14681, 'হমনত': 14932, 'চনব': 5816, 'নজটও': 8971, 'শয়নকক': 13819, 'যয়ট': 11938, 'মপছন': 11351, 'ধহ': 8721, 'কদহ': 4525, 'কড়ইগ': 4895, 'টজনসহ': 6820, 'মনবম': 11333, 'ওওর': 4094, 'ওনব': 4169, 'আবস': 1046, 'লবণখ': 13292, 'আয়রনঘ': 1408, 'নয়শত': 9436, 'সএল': 14160, 'টলও': 7009, 'ইগন': 1702, 'বরষ': 10628, 'চঝ': 5773, 'ষণহ': 13962, 'সমধ': 14483, 'ফলদণ': 10080, 'ডলপ': 7365, 'অঘটনচ': 49, 'ইলম': 2127, 'আরদ': 1189, 'ফলঅ': 10061, 'দআর': 8156, 'লআন': 12954, 'ভয়চ': 11025, 'শগম': 13555, 'উলসহ': 2714, 'ছদকন': 6048, 'বনবন': 10462, 'ধপত': 8630, 'হনসহক': 14895, 'ওএলইড': 4078, 'গমতল': 5394, 'রকমজ': 12144, 'য়ইন': 15250, 'আইএফই': 501, 'ইটই': 1768, 'সউইক': 14131, 'গণধ': 5261, 'ৎপল': 15118, 'রডসহ': 12300, 'অবণ': 220, 'রয়য': 12925, 'রয়ন': 12919, 'কলকবজ': 4768, 'উইলক': 2322, 'ধনদ': 8609, 'অবচয়ক': 218, 'যয়খ': 11933, 'যয়ঘ': 11936, 'তপদ': 7758, 'ইদহসহ': 1856, 'সৎসঙ': 14706, 'যরঞ': 11879, 'সৎস': 14705, 'বগনসব': 10245, 'জয়হ': 6581, 'এইনট': 2969, 'এআইআইএমএস': 2855, 'সঈদউদ': 14130, 'ঘরহ': 5651, 'উঠলএ': 2453, 'কদমতল': 4516, 'ইরপ': 2071, 'শলগ': 13760, 'যশন': 11893, 'থকখ': 8009, 'সভকর': 14454, 'মবন': 11385, 'জবন': 6407, 'ৎপদত': 15115, 'ওঅর': 4009, 'উকম': 2384, 'টসপল': 7057, 'গনও': 5333, 'সটলফক': 14253, 'নবহন': 9192, 'আইআরএফ': 430, 'আইআরএফক': 431, 'ধরনড': 8681, 'লসলছ': 13409, 'আবড': 1033, 'রইপ': 12020, 'সডক': 14257, 'রতরঙ': 12410, 'রকআম': 12107, 'তএর': 7594, 'পটঅন': 9568, 'টডটকম': 6839, 'আবজ': 1032, 'তরণই': 7862, 'নজওয়': 8964, 'মআশ': 11058, 'লএকট': 12985, 'ঙলআম': 5694, 'ঘআম': 5555, 'শবয': 13708, 'কপয়': 4584, 'জয়ভর': 6564, 'রকটভ': 12120, 'চড়ব': 5989, 'ভনভন': 10911, 'এসইউ': 3829, 'ইয়ত': 2217, 'পলয়': 9866, 'টমব': 6953, 'সৎপ': 14700, 'মজয': 11202, 'কভল': 4614, 'রই৷': 12030, 'তইভন': 7576, 'ঝরল': 6626, 'ওওওল': 4092, 'গগনব': 5159, 'তলপ': 7924, 'ওইল': 4041, 'ওরদ': 4223, 'অরন': 313, 'সঅফ': 14093, 'আইএসন': 578, 'ডসওয়': 7384, 'ককদ': 4366, 'আলকর': 1220, 'শকশ': 13536, 'কউদ': 4338, 'বরকতগ': 10556, 'জনগণগ': 6296, 'রঅমর': 11970, 'সটট': 14246, 'এইপ': 2971, 'ণজয়': 7463, 'টকভ': 6765, 'গলঘ': 5462, 'দকট': 8189, 'ঠতল': 7139, 'মকশ': 11142, 'এইএনআই': 2894, 'অথন': 98, 'ঝড়ক': 6639, 'গরমগ': 5441, 'ডরস': 7352, 'আইএসপন': 580, 'ইএনগ': 1598, 'থইস': 7994, 'এনইইউব': 3301, 'এআইব': 2874, 'নজনও': 8980, 'য়কস': 15287, 'ববন': 10517, 'তমই': 7812, 'সৎকর': 14697, 'ঈল': 2254, 'গণসহ': 5291, 'ঘঠ': 5587, 'ইহক': 2199, 'আমলন': 1089, 'য়ণপ': 15329, 'মরজ': 11422, 'লটকন': 13113, 'য়নজন': 15378, 'ৎসম': 15152, 'পদউত': 9674, 'আউত': 713, 'হয়৷প': 15084, 'আকবপ': 748, 'একইদ': 3091, 'অমনট': 284, 'নগরহ': 8936, 'ফই': 9948, 'আইএসইএএস': 561, 'ওঅন': 4006, 'রতকরই': 12379, 'আইওএসএর': 592, 'টলক': 7010, 'সউত': 14138, 'ইআব': 1434, 'তজনই': 7677, 'সগর': 14213, 'শএ': 13495, 'ইনভয': 1906, 'ছয়জনআরশ': 6098, 'ঈমউদ': 2248, 'ফসলট': 10115, 'ধরনউত': 8674, 'আচরণই': 811, 'এমএফএন': 3583, 'দয়ঙ': 8521, 'ঙময়র': 5687, 'জমধ': 6430, 'বরবক': 10609, 'মবহ': 11391, 'রণতক': 12329, 'হয়সঠ': 15077, 'রসনসঠ': 12801, 'টটলসঠ': 6835, 'ছদখ': 6049, 'দনসঠ': 8296, 'ছদসঠ': 6055, 'বরকল': 10561, 'টমটম': 6948, 'ঘটকচর': 5576, 'মনচ': 11316, 'টসদ': 7050, 'এখল': 3207, 'সবরমত': 14441, 'এএফইএস': 3018, 'ইওও': 1648, 'গমপ': 5401, 'বলজয়': 10654, 'অরওয়': 304, 'তকউত': 7602, 'ওঘর': 4110, 'ফলউত': 10064, 'উপবনগ': 2586, 'এএফআইপ': 3017, 'ফদ': 10004, 'ডবয': 7325, 'নআরও': 8766, 'বছরম': 10284, 'জয়নব': 6555, 'জয়নবক': 6556, 'ণপক': 7488, 'গরসহ': 5452, 'সৎব': 14702, 'সৎদ': 14699, 'আটঘ': 879, 'ষয়ফ': 14079, 'রহব': 12877, 'দলজ': 8422, 'নওজ': 8849, 'সঈদ': 14129, 'ডটগভ': 7275, 'এনএমএস': 3348, 'আইওএসন': 595, 'ঢ়ই': 15231, 'আরইয়': 1126, 'কভয়': 4615, 'পওম': 9498, 'জএক': 6131, 'লনর': 13226, 'আগপর': 784, 'য়গত': 15296, 'ওছখ': 4115, 'ইফপ': 1964, 'ধলঘ': 8701, 'ঝবয': 6611, 'আউন': 714, 'উজল': 2417, 'রয়পদ': 12921, 'আইআরড': 433, 'লগপ': 13070, 'উপদল': 2568, 'কনদণ': 4553, 'এঘটন': 3213, 'দলবদলক': 8437, 'বরঞ': 10573, 'রসগ': 12775, 'অবসক': 249, 'নবকণ': 9134, 'বকধ': 10213, 'ছফর': 6065, 'শইর': 13489, 'ষলগ': 14046, 'মগড': 11155, 'থফর': 8077, 'গলঅরণ': 5455, 'লনঅভয়': 13196, 'যপক': 11774, 'টনটন': 6867, 'ষণদরজ': 13936, 'ফরমক': 10051, 'সড়কস': 14719, 'হকব': 14786, 'গদল': 5324, 'আসরম': 1320, 'নজনপ': 8987, 'তরণসহ': 7870, 'রকজয়ন': 12118, 'গঠনওস': 5215, 'ঈষ': 2256, 'জয়বঞ': 6560, 'জয়জয়': 6543, 'ঝরঝর': 6622, 'ইতর': 1843, 'বরফক': 10599, 'ভবনসহক': 10948, 'গজলশ': 5192, 'ডলসহ': 7377, 'ৎসকস': 15144, 'গমগঞ': 5389, 'আটকম': 875, 'আহমঞ': 1343, 'ভবনগর': 10939, 'চরআইচ': 5875, 'দপদপ': 8308, 'উপরও': 2594, 'উজর': 2416, 'মদতপ': 11279, 'এসএইচএম': 3852, 'হয়আগ': 15036, 'ডকর': 7244, 'নবদল': 9158, 'দসঠ': 8489, 'ধসঠ': 8714, 'টকরসঠ': 6773, 'কলনট': 4782, 'লনসঠ': 13236, 'শহম': 13788, 'ধহস': 8724, 'পশনট': 9872, 'য়তস': 15352, 'ঞম': 6668, 'নসময়': 9338, 'এনআইএসএম': 3286, 'এনআইএসএমর': 3287, 'রআমল': 11997, 'এমওপ': 3634, 'এমনআম': 3649, 'ইগত': 1701, 'লইট': 12967, 'কষব': 4846, 'তজক': 7674, 'রটছ': 12273, 'যছন': 11687, 'খএই': 4936, 'উলহ': 2715, 'কশলক': 4837, 'তলওয়': 7913, 'দলমত': 8445, 'ফরমগ': 10052, 'ড়চ': 15181, 'নজস': 9005, 'ঢপ': 7423, 'ইজনসহ': 1748, 'জগরণ': 6182, 'খচন': 4964, 'আযমক': 1098, 'নন৷': 9109, 'করণগত': 4689, 'ই৷': 2224, '৷ফ': 15532, '৷এক': 15509, 'রণময়': 12344, 'এসর': 3972, 'সঅর': 14094, 'যবইয': 11804, 'ওরক': 4219, 'আসলপ': 1326, 'চরআলগ': 5879, 'বসতঘরও': 10721, 'ঘরভ': 5644, 'চরগ': 5888, 'এএফফ': 3027, 'মসর': 11528, 'ইওআই': 1646, 'অনএয': 112, 'এমআরআর': 3531, 'আরএফপ': 1143, 'ইসফট': 2185, 'ইভম': 2006, 'দশতম': 8470, 'ওআইট': 4013, 'নঅফ': 8741, 'চদশতম': 5796, 'টকরণ': 6770, 'ময়চ': 11589, 'ময়স': 11606, 'চকউত': 5721, 'তলসবই': 7932, 'এফএএ': 3444, 'অনটনই': 120, 'উরন': 2678, 'উঘঅ': 2392, 'উকর': 2385, 'উলফস': 2704, 'ওকক': 4097, 'ওজনদ': 4126, 'ভৎ৴সন': 11015, 'ধইর': 8544, 'শনকঠ': 13635, 'ইকরচ': 1683, 'লপথসহ': 13256, 'উইনড': 2306, 'এসএসপ': 3929, 'চরআদর': 5877, 'হরগঞ': 14945, 'এলসহ': 3791, 'উটরক': 2438, 'গএসব': 5140, 'ধডজন': 8584, 'গসই': 5498, 'যছক': 11686, 'যগল': 11676, 'শদভ': 13618, 'শলত': 13764, 'জএ': 6129, 'ওপরএই': 4177, 'ষণরত': 13954, 'জঘঅ': 6197, 'আবরণট': 1042, 'ষড়ভ': 14063, 'ষঝ': 13908, 'এইচএসড': 2945, 'কনশ': 4563, 'য়ডসহ': 15318, 'ইআরএল': 1441, 'অনশ': 137, 'সফটও': 14373, 'উদরপ': 2503, 'ষতল': 13973, 'সনজ': 14319, 'কলকত': 4765, 'আটর': 893, 'কনকর': 4538, 'লহড়': 13428, 'ওয়র': 4277, 'শরসহ': 13748, 'নয়এমন': 9377, 'টইটম': 6708, 'হরদম': 14962, 'তনম': 7740, 'যদশ': 11761, 'বরণও': 10578, 'খবরগ': 5028, 'গতত': 5301, 'তরকরণ': 7851, 'ণনগর': 7484, 'লরগ': 13354, 'বড়শণখ': 10818, 'ইতল': 1844, 'সরতদ': 14567, 'দহনক': 8506, 'বলডনজয়': 10659, 'ইআজই': 1432, 'ষণপর': 13941, 'মকই': 11119, 'আইএমএ': 522, 'আউটট': 698, 'ইএলএল': 1631, 'ইএমব': 1626, 'আইওক': 597, 'বরনকল': 10591, 'আসলনগর': 1325, 'ণনর': 7485, 'গরণন': 5427, 'ষরন': 14039, 'সদয': 14287, 'কপপ': 4579, 'মপথ': 11356, 'পথপছন': 9660, 'তপট': 7754, 'খপতন': 5011, 'নপব': 9120, 'থপর': 8074, 'অলসপর': 342, 'পনপ': 9740, 'একমতই': 3177, 'ইডম': 1828, 'বভক': 10527, 'অমরন': 292, 'বরতত': 10585, 'অদয়': 107, 'যথই': 11748, 'ইপথ': 1937, 'তহস': 7973, 'বচনভ': 10257, 'যবহƒত': 11823, 'জš': 6110, 'হলñ': 14980, 'ইজঅঈ': 1729, 'ধনñ': 8597, 'নয়নস': 9425, 'ফলত': 10077, 'য়নসঠ': 15401, 'রহণগ': 12857, 'রণসঠ': 12352, 'রহণসঠ': 12865, 'যমসঠ': 11860, 'হসঠ': 15019, 'রদলক': 12469, 'সওজ৷': 14172, 'ফসল৷': 10120, 'খব৷': 5040, 'লয়শ': 13469, 'রঅড': 11962, 'চহল': 5981, 'গসল': 5513, 'য়রনব': 15455, 'রশর': 12759, 'এলআইব': 3713, 'উপনদ': 2577, 'পথক': 9649, 'বনচক': 10440, 'সমগত': 14469, 'ডউগ': 7204, 'তকন': 7614, 'সফড়': 14411, 'নজটহ': 8976, 'একশখ': 3191, 'আরবস': 1205, 'নতকরণ': 9045, 'লনগত': 13211, '¾¾¾¾¾¾': 1, '¾¾¾¾¾¾¾': 2, '¾¾¾¾¾¾¾¾¾¾¾¾¾': 3, 'মসহক': 11534, 'য়ঙ': 15301, 'রউইগ': 12035, 'এলফনস': 3783, 'রসনস': 12800, 'বরফও': 10598, 'থণ': 8044, 'মসভ': 11523, 'রবণট': 12587, 'আরহ': 1214, 'চমধ': 5862, 'ষড়ষন': 14065, 'আসরসময়': 1321, 'টসরন': 7069, 'এদগ': 3272, 'এএফএ': 3019, 'ষএই': 13832, 'হরট': 14948, 'ওএফ': 4069, 'এমএএইচ': 3563, 'ইএমইউআই': 1615, 'কটফট': 4451, 'ইগর': 1706, 'থআদ': 7990, 'এওএন': 3076, 'নয়সবক': 9439, 'হতও': 14850, 'উশনস': 2719, 'বরমও': 10618, 'রণবক': 12338, 'বরমক': 10619, 'ইডরসহ': 1832, 'ভবনম': 10943, 'বলপয়': 10670, 'মজমক': 11201, 'কশনসহ': 4830, 'ওনই': 4161, 'এসওএমএস': 3936, 'লকণ': 13015, 'কনর': 4559, 'নআল': 8767, 'কনরড': 4560, 'ইউগ': 1552, 'যকরও': 11651, 'আইসফটস': 682, 'এমনদ': 3658, 'গতও': 5297, 'লকলম': 13041, 'টকলম': 6778, 'যসবক': 11907, 'নজনশ': 8992, 'চছ': 5759, 'এমএসএফ': 3616, 'ইএইচএল': 1589, 'শলগতভ': 13762, 'লৎস': 13430, 'নইরফ': 8786, 'রণহ': 12356, 'ৎসকই': 15137, 'পটবয': 9589, 'ইমম': 2043, 'ইউরস': 1576, 'সলস': 14622, 'ফরওয়': 10034, 'উভয়স': 2655, 'রলপ': 12738, 'তäক': 7557, 'চলউত': 5932, 'ডউত': 7207, 'খবরব': 5034, 'উরসহ': 2686, 'এফইএস': 3437, 'যড়যন': 11925, 'আহমদও': 1347, 'নজনকই': 8982, 'ড়পয়': 15204, 'টদলল': 6853, 'লআত': 12953, 'নঅ': 8733, 'দএড': 8168, 'ধরনগ': 8679, 'হইহল': 14750, 'দগণ': 8222, 'গঠনদ': 5224, 'য়তপন': 15347, 'নকনওয': 8877, 'তকরণক': 7627, 'আবরণক': 1041, 'গরগর': 5421, 'রঙত': 12198, 'এফক': 3486, 'রণবর': 12340, 'ডফস': 7316, 'ইনসম': 1922, 'পণট': 9609, 'হইড': 14742, 'উডঅ': 2456, 'পসব': 9896, 'বপক': 10493, 'আসগ': 1285, 'মফরচ': 11368, 'পনর': 9745, 'হতগ': 14853, 'ওএনএস': 4067, 'গধর': 5328, 'রথমভ': 12443, 'সড়কও': 14709, 'য়নছদ': 15376, 'এওচ': 3079, 'চরত': 5904, 'উপসড়ক': 2613, 'অশর': 349, 'ছমছম': 6072, 'টজগ': 6812, 'টএক': 6728, 'রঙর': 12201, 'এসওড': 3940, 'নড়নচড়ন': 9360, 'নড়ল': 9363, 'টযতই': 6971, 'জবদ': 6404, 'বটকরপ': 10327, 'অসতত': 361, 'আয়সহ': 1415, 'বটক': 10326, 'ধরনসহ': 8685, 'জনভ': 6341, 'জনময়মনস': 6348, 'আটকআম': 871, 'চপট': 5829, 'জললত': 6501, 'যমচর': 11841, 'খয়র': 5113, 'খলত': 5079, 'মএই': 11096, 'জলয': 6498, 'গমব': 5402, 'য়অম': 15243, 'টশটইশ': 7030, 'উইঠ': 2295, 'লবটম': 13286, 'বউম': 10180, 'রখরত': 12173, 'মবছর': 11378, 'নরর': 9260, 'কসনদ': 4866, 'জআফগ': 6117, 'অকশনস': 29, 'কতইন': 4476, 'গবঞ': 5370, 'সফরস': 14398, 'কআক': 4295, 'চএ': 5710, 'ধড': 8583, 'ষকবহনক': 13873, 'অভহ': 273, 'এলডব': 3777, 'উএইচএইচ': 2350, 'ডফন': 7314, 'হটপট': 14833, 'জগট': 6173, 'একদর': 3155, 'নজনসহ': 8993, 'মগতভ': 11159, 'জনগণও': 6294, 'উবয়': 2635, 'চলজ': 5943, 'টউড': 6718, 'রনসনদ': 12509, 'উবয়দ': 2637, 'টউডদ': 6719, 'বতঘ': 10359, 'উবয়র': 2638, 'আইনও': 635, 'রচলনয': 12221, 'ফইল': 9950, 'সএস': 14163, 'রকমআইফ': 12138, 'টরআইফ': 6975, 'ডঙ': 7257, 'এমএসট': 3621, 'পনণ': 9734, 'পকথক': 9517, 'তবদলক': 7786, 'জবও': 6400, 'হসট': 15018, 'একঝটক': 3140, 'ভয়ডর': 11027, 'জয়খর': 6538, 'রসবদন': 12811, 'চজনশহ': 5768, 'কশনসব': 4828, 'শয়গ': 13814, 'আইইউস': 445, 'আইএমএফসহ': 527, 'য়লগ': 15466, 'সমধর': 14484, 'চরভদ': 5914, 'জলবৎ': 6492, 'তরণব': 7867, 'ননন': 9098, 'নডফস': 9035, 'দহল': 8511, 'রতপ': 12401, 'বলবস': 10676, 'নয়ওয়': 9380, 'নজরই': 8998, 'আদব': 924, 'বয়সসহ': 10851, 'মবল': 11388, 'ফরপ': 10044, 'য়ণআদ': 15320, 'নবল': 9179, 'তঅভ': 7565, 'গমসন': 5408, 'লরসহ': 13365, 'মগর': 11164, 'এফআইইও': 3420, 'ঠপণ': 7149, 'লরণজ': 13358, 'যকরণ': 11653, 'দনআরজ': 8260, 'লতগঞ': 13150, 'চএই': 5711, 'গড়আর': 5528, 'উসটন': 2734, 'টতত': 6845, 'দশঙ': 8464, 'মনএই': 11305, 'বউ': 10166, 'রহরত': 12892, 'উআইওএ': 2264, 'এলএমইএর': 3745, 'উআইওর': 2265, 'এচ': 3216, 'এমপফ': 3666, 'আসওয়': 1283, 'জনআর': 6260, 'ভয়হ': 11034, 'উদব': 2498, 'কলসহ': 4805, 'নআগ': 8751, 'খছর': 4968, 'মরড': 11424, 'পথভ': 9663, 'সরফ': 14573, 'য়ষট': 15472, 'দশনক': 8474, 'লডম': 13137, 'কটরদ': 4459, 'কটরর': 4460, 'টটপ': 6831, 'রসওয়': 12771, 'করসব': 4755, 'তএট': 7590, 'কজনম': 4420, 'ষএ': 13831, 'ছজন': 6036, 'করলয': 4749, 'জএত': 6134, 'ঞস': 6672, 'সহম': 14680, 'যকমত': 11648, 'ৎপত': 15113, 'য়মব': 15434, 'রকরণও': 12156, 'রথও': 12424, 'রথগ': 12427, 'নএশ': 8837, 'তএশ': 7595, 'পয়দ': 9939, 'টগত': 6793, 'ইকথ': 1671, 'খবরএব': 5024, 'যরচন': 11878, 'আইএসসহ': 584, 'উএইচওর': 2352, 'রমণয': 12664, 'জনসয়য': 6378, 'হইচইয়': 14739, 'পরবশ': 9828, 'আইআরব': 434, 'কটপও': 4449, 'রতণ': 12390, 'ঝড়টর': 6645, 'ৎসকসম': 15145, 'উও': 2377, 'আইএসআইয': 554, 'ওএসট': 4086, 'যছয': 11688, 'দউন': 8164, 'দএয': 8173, 'রআইওএস': 11975, 'গইন': 5126, 'আইউট': 458, 'ইউওর': 1548, 'খরক': 5050, 'ণগঙ': 7449, 'নএনড': 8826, 'সনই': 14311, 'টজপ': 6821, 'গমউত': 5383, 'ধউত': 8545, 'উৎপলক': 2755, 'উদভ': 2499, 'টলরক': 7023, 'আপটন': 985, 'যকরর': 11656, 'নকড়': 8891, 'টকন': 6760, 'ড়লসবক': 15220, 'ব৶ড': 10855, 'হকখ': 14773, 'বদরব': 10397, 'ইউএমএল': 1525, 'পকমল': 9529, 'রতঘ': 12384, 'নঘন': 8943, 'কতজনই': 4486, 'য়এট': 15259, 'থসর': 8146, 'শলদম': 13765, 'ইফর': 1971, 'আয়নট': 1398, 'এসকরব': 3948, 'অহল': 398, 'লএইচড': 12983, 'টইত': 6709, 'এএফএম': 3021, 'বড়ছড়': 10801, 'ৎদ': 15109, 'লগঅন': 13055, 'ডঅগ': 7168, 'করগ': 4676, 'ওএসড': 4088, 'ববত': 10515, 'শঠত': 13584, 'ইফটই': 1959, 'পরহ': 9846, 'অথব': 99, 'চমৎ': 5871, 'অফব': 205, 'আইএএস': 477, 'খঅধ': 4923, 'জয়মন': 6567, 'হরণও': 14951, 'ণকণ': 7440, 'চবক': 5840, 'নকত': 8873, 'আটবছর': 891, 'গণসরবর': 5290, 'হণক': 14847, 'গইখ': 5124, 'তভক': 7806, '৷ঢ': 15522, 'ইআরএম': 1439, 'ন৷বক': 9454, 'জঘরম': 6200, 'নয়মঙ': 9431, 'শমক': 13720, 'ইএফআইইউক': 1603, 'ফরফ': 10045, 'সহয়ত': 14694, 'এএমএলস': 3039, 'অসমঞ': 373, 'কনসহ': 4565, 'ঘখ': 5564, 'নকসহ': 8890, 'রমএক': 12632, 'গণআমর': 5245, 'অনয়': 145, 'ওউর': 4053, 'ঞচ': 6657, 'এএএএস': 2999, 'কইল': 4325, 'বলহ': 10692, 'ছধর': 6056, 'ইভক': 1997, 'টকচর': 6753, 'থকও': 8006, 'যজট': 11693, 'জউল': 6127, 'ছবর': 6067, 'রধন': 12474, 'নমগ': 9207, 'রমহল': 12704, 'আইএসএল': 567, 'ময়ধ': 11594, 'আইইভ': 456, 'আইইই': 438, 'ঞগণ': 6655, 'গলমহল': 5485, 'উপদলন': 2572, 'ঝড়ই': 6637, 'লড়ল': 13435, 'জলজল': 6474, 'যমল': 11859, 'ইলটব': 2103, 'উনকম': 2515, 'যনতম': 11770, 'কছড': 4410, 'শনআদর': 13625, 'এলএম': 3742, 'টসগ': 7043, 'বড়হ': 10821, 'আলমব': 1253, 'দকসম': 8203, 'কটপশ': 4450, 'কটদ': 4444, 'রআলমব': 12004, 'এইচই': 2915, 'জনকহ': 6287, 'চনজঙ': 5807, 'যজনকই': 11697, 'রবট': 12580, 'নচপ': 8950, 'পসঠ': 9890, 'পড়গ': 9919, 'ফলকগ': 10068, 'আয়কদ': 1379, 'আয়করদ': 1384, 'আইএনআপন': 482, 'সকঅনল': 14180, 'সকব': 14193, 'রশপগ': 12755, 'চনস': 5825, 'মওয': 11113, 'জধর': 6253, 'এমআরএ': 3533, 'এমআরএর': 3536, 'ঘএই': 5559, 'নবই': 9132, 'ঝড়ব': 6646, 'উটরদ': 2439, 'এএব': 3030, 'ঠকত': 7107, 'যথষ': 11750, 'সময়ন': 14526, 'আটজ': 882, 'দঅভ': 8150, 'ফএসব': 9954, 'ননট': 9094, 'ইডখ': 1815, 'চচ': 5758, 'সনগ': 14318, 'শমগ': 13721, 'অনম': 131, 'ধতন': 8587, 'যগণক': 11673, 'ড়নব': 15199, 'বজয': 10314, 'এজক': 3222, 'রতশ': 12415, 'গজনব': 5184, 'পলম': 9860, 'সলভড': 14619, 'জনকণ': 6279, 'উপল': 2599, 'রলড': 12733, 'তলত': 7919, 'উইনফ': 2308, 'মমধ': 11404, 'মকক': 11121, 'ননড': 9095, 'ইলব': 2123, 'এসইএম': 3837, 'সবর': 14439, 'থনস': 8066, 'একইস': 3098, 'উওয': 2381, 'মনগড': 11312, 'শদহ': 13619, 'কবমন': 4598, 'গপৎভ': 5357, 'টনদ': 6868, 'কতরঙ': 4498, 'চরমস': 5922, 'কলঘ': 4772, 'রনচ': 12491, 'সএমন': 14158, 'পকও': 9506, 'এমএসএ': 3612, 'সআপও': 14101, 'সহজতম': 14657, 'লতর': 13159, 'মআপ': 11050, 'চলনকক': 5949, 'দকভ': 8196, 'য়মপ': 15433, 'যঢ': 11725, 'আপনমন': 1002, 'দমনন': 8344, 'মতৎপরত': 11270, 'ষকনজ': 13867, 'হযরতপ': 14937, 'হনগর': 14883, 'তরহ': 7908, 'এএসইউ': 3060, 'রহণএসব': 12852, 'দলএই': 8412, 'রওশনসহ': 12101, 'অমবস': 286, 'রতগত': 12382, 'ঠজনদ': 7131, 'ইগঞ': 1698, 'ইআইব': 1429, 'অবনমনই': 237, 'ষকউত': 13845, 'সনভ': 14343, 'আমলই': 1085, 'তইসল': 7577, 'খইড়': 4932, 'লয়আদমদ': 13437, 'আনএক': 947, 'এমওট': 3632, 'তনঅর': 7716, 'ঋণব': 2839, 'রএস': 12079, 'আইমন': 671, 'পনএই': 9725, 'এলসন': 3790, 'সউম': 14140, 'মকণ': 11125, 'এফআইএ': 3421, 'ড়যন': 15213, 'ইফহল': 1977, 'ইমনচলচ': 2034, 'আরইউর': 1121, 'করণভ': 4698, 'ইএফএম': 1607, 'এআইর': 2875, 'হতল': 14866, 'বসনপ': 10731, 'ইডন': 1823, 'সউস': 14141, 'চলহ': 5966, 'চলঘ': 5938, 'মণর': 11240, 'রনগরগ': 12490, 'আকবরহ': 757, 'ঘলর': 5655, 'হতচক': 14855, 'শরদ': 13740, 'আউটগ': 697, 'লয়ঢ': 13453, 'কলকব': 4767, 'ভধপব': 10905, 'ধনসঙ': 8625, 'আআমস': 409, '৷ম': 15536, 'শগড': 13552, 'ড়মত': 15211, 'নমঙ': 9208, 'গথ': 5313, 'ফটএফস': 9980, 'আসগরদ': 1288, 'কবছর': 4595, 'একজনইউন': 3126, 'ইয়জদ': 2212, 'জরথ': 6447, 'খতন': 4984, 'বড়খ': 10795, 'দবর': 8328, 'তরলজ': 7899, 'রভব': 12623, 'সমদহ': 14482, 'জটআগ': 6218, 'এমইব': 3557, 'ইলরম': 2134, 'ইমফল': 2041, 'রতথ': 12392, 'শমণ': 13723, 'ওঠল': 4144, 'কমবয়স': 4648, 'এলএভ': 3741, 'দনগজ': 8267, 'তপথ': 7757, 'ডরহ': 7354, 'আলফনস': 1237, 'ফনময': 10011, 'ফনই': 10008, 'এঈদ': 2986, 'ণআপ': 7428, 'ঈদঈদ': 2231, 'টঈদ': 6714, 'নঈদ': 8791, 'নসঞ': 9311, 'চয়ক': 5997, '৷সড়ক': 15544, '৷প': 15530, 'হয়৷জ': 15082, 'ণকভ': 7442, 'গফলক': 5363, 'ঘনছ': 5603, 'ইনসট': 1919, 'লতও': 13144, 'নবট': 9148, 'বআরজ': 10138, 'ষরউত': 14029, 'রউপজ': 12044, 'নয়আব': 9369, 'কনযন': 4558, 'ঝড়জন': 6641, 'হনওয': 14878, 'কদরসহ': 4520, 'নআইন': 8747, 'টকশ': 6781, 'রহহ': 12899, 'ইনআপক': 1862, 'রখবরট': 12171, 'ডসও': 7383, '৶য': 15495, 'কআয়': 4312, 'জসঠ': 6511, 'জলশ': 6502, 'দআম': 8155, 'যয়নট': 11943, 'ণবও': 7505, 'গরমশ': 5445, 'গযজ': 5412, 'টবঙ': 6907, 'রকব': 12132, 'ফদল': 10005, 'বণসন': 10353, 'রপডস': 12527, 'গজউত': 5171, 'পযন': 9799, 'মকগ': 11123, 'ওহমউত': 4270, 'ৎগ': 15098, 'তরউত': 7844, 'চ৷': 6015, 'বছর৷': 10291, 'দবউল': 8320, 'রণচন': 12323, 'চড়ছ': 5985, 'এফএসব': 3479, 'সরলবর': 14595, 'আমদশ': 1074, 'শরক': 13734, 'আসপ': 1306, 'ফসলজ': 10114, 'শমশ': 13728, 'টসভ': 7062, 'ইএমআই': 1613, 'করবআপন': 4716, 'রকধ': 12127, 'যককন': 11639, 'শলখ': 13759, 'এসআরএস': 3819, 'লসউচ': 13382, 'আইওউচ': 586, 'এসএসই': 3919, 'তকক': 7604, 'শমব': 13726, 'আসজ': 1290, 'রওরই': 12097, 'বপনট': 10501, 'টটচস': 6830, 'উইনট': 2305, 'ইরকম': 2062, 'ষমন': 14023, 'গএস': 5139, 'লয়প': 13458, 'উদয়দ': 2506, 'চরণধ': 5898, 'দনভর': 8284, 'এমএসআই': 3609, 'মচঞ': 11180, 'জলকল': 6460, 'মআফগ': 11052, 'জয়মঞ': 6566, 'চলনবলন': 5952, 'রসতই': 12783, 'টলম': 7020, 'পবদ': 9779, 'সমহরব': 14513, 'চমহ': 5868, 'বসড': 10718, 'বরমহ': 10621, 'বসফ': 10733, 'বসওআন': 10710, 'বরশহ': 10627, 'আকবরআল': 750, 'আলশ': 1260, 'অবদম': 230, 'নলজন': 9274, 'নজনকভ': 8983, 'ভহ': 11011, 'উএক': 2356, 'অজগর': 60, 'করবসব': 4734, 'করবপ': 4731, 'অচলআগ': 56, 'আয়গত': 1388, 'গসক': 5500, 'উরড': 2677, 'উরওয়': 2672, 'টমক': 6946, 'নরট': 9250, 'নরদ': 9254, 'নরগ': 9248, 'ষতচ': 13967, 'দগদগ': 8224, 'রযয়': 12709, 'জমছ': 6425, 'রইছ': 12016, 'ধরনশ': 8684, 'জনবলস': 6337, 'এইচডব': 2954, 'ইনছ': 1888, 'এএসজ': 3069, 'ইএমএ': 1616, 'নউড': 8803, 'ধকট': 8557, 'নইস': 8788, 'ডএশ': 7227, 'ওমদ': 4202, 'ষদস': 13993, 'পশহর': 9878, 'ৎভ': 15126, 'রলয': 12741, 'ছয়দ': 6104, 'মটরস': 11218, 'এতব': 3263, 'নওদ': 8850, 'ওসপ': 4261, 'দখলও': 8210, 'ইএমস': 1628, 'শনশ': 13661, 'করমচ': 4740, 'চরকগ': 5883, 'ইমনখ': 2033, 'য়ডট': 15316, 'ভবণ': 10930, 'লটসহ': 13132, 'ণজয': 7462, 'পথঘ': 9652, 'যমনস': 11853, 'ইনএমন': 1874, 'রশহ': 12762, 'জলজট': 6472, 'ইলসবক': 2144, 'সমড': 14474, 'এমআইমড': 3525, 'সএনজ': 14152, 'লঅন': 12941, 'নছব': 8958, 'কবহর': 4609, 'শতশত': 13614, 'গণকবরসহ': 5249, 'ভরপম': 10974, 'টলঞ': 7013, 'সরসম': 14601, 'আতক': 905, 'গলট': 5467, 'চরনওপ': 5908, 'তরবন': 7889, 'আইআরট': 432, 'সফটস': 14384, 'সবসময': 14448, 'ফটসহ': 9994, 'ওওস': 4095, 'ময়ভর': 11598, 'ইআইইউ': 1425, 'ইআইইউয়': 1426, 'উপঢ': 2563, 'ফলজ': 10073, 'ষজসহ': 13906, 'জগৎমল': 6191, 'ঊনসত': 2814, 'খচখচ': 4963, 'গআম': 5122, 'অসবর': 370, 'ইএসব': 1644, 'কমনস': 4641, 'ওরম': 4228, 'এনএনসহ': 3336, 'ওআরস': 4023, 'তকরণযন': 7630, 'থআধ': 7991, 'পণই': 9603, 'ইমগ': 2021, 'ষণলব': 13955, 'আইআইইআর': 413, 'হয়প': 15063, 'খড়ক': 5102, 'তয়': 7984, 'আলকম': 1219, 'দনজন': 8273, 'ইলরড': 2133, 'এও': 3075, 'এনএসএক': 3364, 'পয়ট': 9937, 'ইজই': 1731, 'ঘনঘন': 5602, 'ণআম': 7430, 'য়নএই': 15363, 'ষসম': 14054, 'এলএফ': 3736, 'এসএফড': 3879, 'ববহনক': 10525, 'রবব': 12599, 'এনএমই': 3346, 'রডটকম': 12292, 'ডনপ': 7302, 'একদফ': 3152, 'এসআইট': 3806, 'এএসআইয়': 3059, 'রনশট': 12505, 'সনদধ': 14332, 'ঠখড়ই': 7121, 'জনকব': 6282, 'এফআইএইচ': 3422, 'দমনপ': 8345, 'বহস': 10783, 'হবর': 14915, 'আরবব': 1203, 'ওআদ': 4016, 'লতথ': 13153, 'এলঝ': 3773, 'ডনগ': 7299, 'রমণকরত': 12650, 'শঅবশ': 13481, 'রডগত': 12291, 'রডও': 12285, 'সরলখ': 14588, 'ঝরত': 6623, 'ৎখ': 15097, 'এসআইও': 3803, 'মএমন': 11103, 'রঅম': 11969, 'ওঙ': 4111, 'জনমতও': 6345, 'রইন': 12019, 'এসইএমএল': 3838, 'ইউএসওস': 1541, 'জচ': 6202, 'ৎরশ': 15131, 'এলএসআই': 3754, 'এলএসআইয়': 3755, 'আইওএনট': 588, 'এএনএম': 3010, 'বতময': 10371, 'করসপনড': 4754, 'আইএফএত': 506, 'হটন': 14832, 'নবমস': 9174, 'মরণশক': 11436, 'রহপত': 12875, 'করবএসব': 4724, 'বকম': 10220, 'চকভব': 5736, 'লএক': 12984, 'সমহর': 14512, 'লকবহর': 13023, 'নববধ': 9165, 'খসল': 5096, 'দরই': 8359, 'গধসসধষরধ': 5329, 'অসট': 359, 'দশমক': 8479, 'ওআর': 4020, 'রইউপ': 12010, 'এমইএপ': 3550, 'ইপথই': 1938, 'শমচ': 13722, 'থবর': 8085, 'ফলনই': 10083, 'ইএমএমএ': 1617, 'গড়ক': 5532, 'টনগ': 6863, 'ষরও': 14030, 'শবদ': 13701, 'ময়জ': 11590, 'ধরনদ': 8682, 'মড়ক': 11577, 'আউটরশ': 707, 'ধনকরণ': 8603, 'ইপউদ': 1931, 'হরভজনক': 14968, 'বকই': 10202, 'রতট': 12388, 'টসওয়': 7040, 'ইউএসজ': 1543, 'ডলসম': 7376, 'ধতবহ': 8589, 'উলসম': 2713, 'আজইয়': 833, 'চকসম': 5744, 'পশব': 9874, 'এসএসইএ': 3920, 'দচয়ন': 8236, 'দপণ': 8303, 'রপদ': 12531, 'রয়গ': 12908, 'বহণ': 10752, 'অবতরন': 225, 'আসট': 1291, 'আমই': 1059, 'চকতক': 5730, 'লমবক': 13342, 'রসকষহ': 12774, 'ষণœ': 13913, 'ধতৎসম': 8592, 'আচর': 809, 'ধরধর': 8670, 'জনসনই': 6363, 'আইহ': 685, 'রডওয়': 12287, 'বড়ঋষ': 10793, 'ফওয়': 9958, 'ঈমক': 2249, 'চমহল': 5869, 'ওটন': 4136, 'চগড়সহ': 5754, 'এসকর': 3947, 'কপঞ': 4571, 'ঘবব': 5620, 'ইথন': 1847, 'অজগরট': 61, 'উডভ': 2470, 'কতরভ': 4499, 'ফসলক': 10112, 'য়কআমর': 15268, 'রআসগর': 12006, 'য়কসব': 15288, 'আমনক': 1077, 'ঙপ': 5683, 'জবই': 6399, 'আরএলড': 1154, 'যখর': 11668, 'ষজনকভ': 13905, 'মনখ': 11310, 'রথখ': 12426, 'টরসক': 7003, 'চনভঙ': 5819, 'শবরণ': 13710, 'যচক': 11681, 'বদক': 10382, 'বড়চর': 10799, 'বনখ': 10433, 'ৎমন': 15129, 'হঢ': 14845, 'কতএই': 4477, 'ঝলকই': 6629, 'ঝলকট': 6630, 'তঞ': 7681, 'চঙ': 5757, 'পএনগ': 9490, 'ডওম': 7232, 'অফসন': 209, 'এনমন': 3397, 'সএই': 14144, 'গহর': 5520, 'য়এমন': 15262, 'যকরকরণ': 11652, 'আইনই': 633, 'আইকনও': 607, 'ছকব': 6026, 'মরণচ': 11428, 'মমণ': 11401, 'মলসহ': 11476, 'পণযন': 9627, 'সমলহ': 14505, 'হকণ': 14780, 'জসব': 6515, 'আবহক': 1049, 'উথওয়': 2486, 'পড়ট': 9922, 'হয়অন': 15034, 'ভকর': 10870, 'নসময়মত': 9339, 'সহজসরল': 14667, 'কজমকভ': 4426, 'ইমসবল': 2051, 'উঙ': 2393, 'করনব': 4713, 'নজগত': 8967, 'অরট': 309, 'ধপথ': 8631, 'রণয়নসহ': 12364, 'হতকরণ': 14852, 'সহজও': 14654, 'এসআইএমএমএ': 3799, 'আসলট': 1324, 'ষরট': 14034, 'ইলসওয়': 2138, 'যবহহ': 11824, 'এসআইড': 3807, 'ইউএনস': 1516, 'উআইপ': 2268, 'উএমএ': 2367, 'খরঞ': 5062, 'ইহজ': 2200, 'তপব': 7764, 'এইচআরর': 2913, 'মএনড': 11101, 'আহফ': 1340, 'কশহরডটকম': 4840, 'দমনম': 8347, 'জনজন': 6307, 'উটঢ': 2429, 'লনঢ': 13220, 'নএর': 8835, 'ইউহ': 1582, 'শয়ন': 13818, 'আíকর': 404, 'দবদ': 8324, 'এনইএল': 3310, 'য়গন': 15297, 'রইড': 12017, 'তরছ': 7856, 'ইলটর': 2105, 'আইদ': 631, 'মরণপণ': 11429, 'তভঙ': 7807, 'রজয': 12260, 'ছনখ': 6059, 'যপদগ': 11787, 'শতচ': 13600, 'উপফ': 2583, 'শএক': 13497, 'যকলক': 11658, 'হবশত': 14916, 'চদপ': 5792, 'মকরণও': 11138, 'হভস': 14924, 'সএর': 14159, 'জনঅ': 6255, 'সযতন': 14539, 'ভচ': 10879, 'টলরয': 7024, 'ইনমস': 1910, 'আইনল': 652, 'সপনস': 14366, 'রহণএই': 12850, 'ইএমন': 1623, 'ঠজ': 7129, 'নমও': 9205, 'বরফঢ': 10603, 'হরও': 14940, 'ভবএমন': 10923, 'ওমরগণ': 4210, 'এমইএস': 3553, 'এটক': 3230, 'টসহট': 7076, 'ওএমএস': 4074, 'আইওর': 602, 'আলমপ': 1252, 'উএইউ': 2348, 'এআইএফ': 2864, 'এইচএনড': 2928, 'ঊঅঝঅ': 2807, 'ঢ়ধৎ': 15237, 'নপদস': 9118, 'এসআইআর': 3798, 'ধবর': 8647, 'এমওইউত': 3628, 'ফরউদ': 10029, 'নদনও': 9074, 'ডবই': 7318, 'ভকভ': 10869, 'রএনট': 12072, 'নশনম': 9296, 'নয়জনই': 9389, 'সইট': 14115, 'এআরপ': 2886, 'যমব': 11855, 'যধন': 11763, 'ইগস': 1711, 'ইবস': 1991, 'জলফড': 6487, 'পআপন': 9466, 'ইকরপ': 1687, 'ইসএক': 2167, 'পথস': 9668, 'য়কজ': 15275, 'ইউএক': 1498, 'অউটস': 18, 'চকস': 5741, 'থলজ': 8126, 'এলফ': 3782, 'জদম': 6246, 'শরফদ': 13743, 'গড়সবই': 5546, 'সলহ': 14625, 'ইঅক': 1417, 'আজমসহ': 860, 'মতনগর': 11257, 'তশত': 7937, 'বটচ': 10329, 'বহনগ': 10761, 'অশউইৎজ': 346, 'আইনভঙ': 649, 'ষহর': 14058, 'ইআউট': 1430, 'যএই': 11625, 'হঘড়': 14807, 'জকস': 6162, 'আতর': 910, 'আরডব': 1185, 'নজওন': 8963, 'একজনইম': 3128, 'ণপদকট': 7494, 'হআলম': 14734, 'অবশত': 246, 'নজনল': 8991, 'কউর': 4342, 'নলগ': 9271, 'দবহ': 8331, 'হকঘ': 14776, 'সজম': 14232, 'উইনকফ': 2304, 'ওউয়': 4055, 'সযন': 14540, 'ণয়স': 7554, 'কড়কড়': 4900, 'নসনপ': 9319, 'ইউআইইউত': 1477, 'ইলইন': 2086, 'শকসব': 13538, 'একজনসহ': 3137, 'রউৎপ': 12053, 'যঅন': 11612, 'এককগ': 3105, 'সমজ': 14470, 'মণচ': 11235, 'ওমরপ': 4212, 'মণগ': 11234, 'ঐখ': 3993, 'ষয়কসচ': 14072, 'নসচ': 9308, 'এনএসআই': 3355, 'ষয়কমন': 14071, 'দউজ': 8161, 'দরঘ': 8370, 'বচয়ন': 10263, 'হরণগ': 14953, 'ষফ': 14009, 'কমলক': 4656, 'ডলঅর': 7356, 'ফসলরক': 10117, 'চইউর': 5702, 'চফ': 5837, 'বরফয': 10605, 'হটক': 14827, 'ঞড়ঢ়': 6678, 'ঝঙচ': 6593, 'ঈড়হভরৎস': 2260, 'আí': 403, 'গলসহ': 5492, 'যযক': 11870, 'তয়ন': 7985, 'সগত': 14211, 'থরভ': 8114, 'অইব': 13, 'যচন': 11682, 'খটখট': 4976, 'রণশ': 12350, 'উফশ': 2620, 'আসরগ': 1314, 'উটপ': 2434, 'রকগঞ': 12114, 'বকও': 10204, 'ষয়স': 14085, 'তএ': 7585, 'যয়কর': 11932, 'লরড': 13357, 'ওঅ': 4002, 'উইগ': 2284, 'রমউইচ': 12630, 'নইউয': 8774, 'ইপউইচ': 1930, 'চড়কগ': 5984, 'রমরত': 12692, 'ড়দলর': 15192, 'থঅস': 7989, 'মসনন': 11519, 'রসনই': 12794, 'রতঅলর': 12371, 'চওঈ': 5714, 'বহনট': 10763, 'লসবক': 13399, 'ন৷গত': 9448, 'লয়বহ': 13462, 'জড়ৎজ': 6533, 'দযজ': 8356, 'উজডটকম': 2408, 'এমএলক': 3607, 'আউটম': 705, 'ইফম': 1969, 'ঘরপ': 5640, 'ঞজন': 6658, 'এসডব': 3954, 'উএফ': 2363, 'ইছমত': 1725, 'রসবচ': 12809, 'একজনব': 3133, 'দয়ট': 8524, 'রতগতক': 12383, 'ফলভ': 10092, 'নউন': 8806, 'য়উন': 15254, 'মইষ': 11076, 'এডক': 3238, 'টসকল': 7042, 'দখলকর': 8212, 'উজআরও': 2401, 'ততপক': 7697, 'ডসব': 7399, 'কসইভ': 4852, 'ইআসল': 1450, 'নবসন': 9188, 'যএসব': 11632, 'আইএসএসজ': 570, 'বরতন': 10586, 'অনট': 118, 'উপচয়': 2557, 'অপত': 162, 'শরথ': 13739, 'কলকল': 4769, 'পদর': 9712, 'থটহল': 8038, 'এমনশ': 3663, 'এমনপ': 3659, 'নশত': 9289, 'ষণকক': 13919, 'আড়তস': 1368, 'বলভ': 10680, 'ষপদ': 14007, 'বছরর': 10285, 'উলভস': 2707, 'গমনপথ': 5400, 'একখণ': 3116, 'ভইর': 10862, 'ঙসহ': 5697, 'উনভ': 2524, 'ধসব': 8715, 'শরশয': 13747, 'পকউভয়': 9505, 'ইটসস': 1802, 'আসহ': 1329, 'থরড': 8109, 'পনস': 9748, 'এসমস': 3970, 'ভলভ': 10997, 'আইইএফ': 448, 'নচলত': 8955, 'মআক': 11046, 'টউট': 6717, 'ইউএসএর': 1537, 'তকরণখ': 7628, 'টকরণগ': 6771, 'একপদ': 3166, 'করণঘ': 4690, 'ণপদগ': 7496, 'তপদক': 7759, 'তপদট': 7761, 'লপদ': 13257, 'ধউর': 8546, 'বরউত': 10548, 'ড়উত': 15162, 'বছরউত': 10270, 'মসসহ': 11532, 'একদণ': 3150, 'ধতপ': 8588, 'উএইজ': 2355, 'আতশ': 912, 'ইধনধঅও': 1858, 'এফরন': 3497, 'আমবয়': 1080, 'জবরদখল': 6411, 'এইএনএইচস': 2895, 'আরএফইউ': 1140, 'য়নগঞ': 15373, 'যয়ব': 11948, 'ষদসম': 13996, 'ভবনও': 10936, 'ইসরয়': 2193, 'ইরউইন': 2060, 'ষএট': 13834, 'যবইট': 11801, 'ষণকবল': 13920, 'ঙক': 5667, 'ইগমন': 1705, 'ইগনম': 1703, '৷ন': 15528, 'ইএন': 1595, 'নক৷': 8893, 'আই৷': 690, 'ষরব': 14040, 'ননশ': 9106, 'মতৎপর': 11269, 'কএড': 4349, 'মসউজজ': 11496, 'ছপগ': 6062, 'যজগৎ': 11691, 'চসজ': 5974, 'ডনট': 7301, 'আয়করক': 1383, 'আচরণও': 812, 'উৎসহ': 2795, 'চরট': 5892, 'এপট': 3404, 'ঝগঝ': 6590, 'উইলমটস': 2331, 'আইএফড': 512, 'বজবজ': 10312, 'আনওয': 948, 'নসচল': 9309, 'জতখ': 6235, 'ধসসহ': 8717, 'অনশনস': 141, 'নয়ল': 9434, 'উইটব': 2293, 'এনএইচএসড': 3319, 'এসএমস': 3903, 'এনইউব': 3306, 'মবত': 11381, 'য়ণদত': 15328, 'য়মহ': 15443, 'বসপ': 10732, 'য়নখ': 15371, 'য়নঘ': 15375, 'অড়হর': 399, 'ফলঘ': 10072, 'ডকত': 7240, 'বনআড': 10427, 'এছব': 3218, 'নএকদ': 8818, 'কটবন': 4453, 'ওডর': 4146, 'হমদ': 14931, 'দলবদলট': 8439, 'লকমক': 13026, 'কয়জনক': 4914, 'কররম': 4746, 'ইউজড': 1557, 'মচড': 11182, 'ইলধর': 2111, 'ইদগ': 1851, 'চরন': 5907, 'রশহর': 12763, 'আইওএসচ': 594, 'পএখন': 9488, 'দএই': 8167, 'রনসক': 12507, 'সনদই': 14327, 'টওর': 6741, 'এরকমট': 3684, 'গরণয': 5429, 'ইজস': 1759, 'বদলকথ': 10407, 'গঠকয': 5206, 'চলবখ': 5957, 'হবখ': 14909, 'হবঘ': 14911, 'হবপ': 14914, 'উইনরক': 2310, 'য়টক': 15311, 'বইজত': 10149, 'বরণক': 10579, 'বনসবখ': 10485, 'উগলছড়': 2390, 'নলবন': 9282, 'জকম': 6158, 'ছশ': 6084, 'লআয': 12957, 'সবনপ': 14432, 'সভব': 14457, 'ৎণ': 15108, 'অপশনস': 191, 'জজদ': 6210, 'আপশন': 1007, 'কদব': 4514, 'তসচ': 7948, 'কড়ব': 4905, 'ঙস': 5696, 'পইগলব': 9471, 'ষকফক': 13870, 'বতনক': 10365, 'অনগদ': 116, 'ধমকই': 8657, 'ভবএমনট': 10924, 'ইওদ': 1653, 'আইআইএসএস': 419, 'এসআইএস': 3800, 'লনল': 13231, 'উবক': 2627, 'করণএ': 4685, 'মকত': 11126, 'ঈমসহ': 2251, 'সটক': 14244, 'যটনসহ': 11721, 'ভবঘ': 10928, 'ইজঘ': 1737, 'পএমন': 9492, 'বড়ক': 10794, 'চমও': 5845, 'গমঞ': 5391, 'নয়ধন': 9397, 'উৎসবসহ': 2788, 'টসঙ': 7044, 'আইএমএপ': 524, 'লগত': 13068, 'ইপক': 1932, 'বলআম': 10640, 'মএখন': 11098, 'মমই': 11397, 'ইএখন': 1593, 'লটসজ': 13130, 'লজন': 13098, 'বদলই': 10401, 'চইর': 5705, 'টহলদল': 7084, 'নসময': 9337, 'উৎসবআগ': 2771, 'সফটকপ': 14377, 'কসশ': 4881, 'চয়প': 6008, 'রণকরণ': 12315, 'ইউএসএড': 1536, 'লপএই': 13245, 'আপদক': 993, 'এলএসব': 3757, 'সফদর': 14388, 'মলয়শ': 11478, 'আলমখ': 1246, 'চরণপ': 5900, 'ইশকহ': 2152, 'ঘউদ': 5558, 'সকশ': 14203, 'রমণত': 12656, 'ৎসবক': 15149, 'তরজ': 7857, 'অমরক': 288, 'জফফরনগর': 6395, 'জফফরনগরময়': 6396, 'উপছ': 2558, 'তপস': 7768, 'রহনক': 12871, 'আরওজ': 1171, 'এইসশ': 2985, 'এইচএনএইচ': 2927, 'ইডকল': 1813, 'আমলয': 1090, 'এলএসড': 3756, 'গদখ': 5318, 'এমএফআই': 3581, 'এআরএম': 2881, 'খবরয': 5035, 'হটম': 14836, 'হলময': 15004, 'থপরত': 8075, 'বনসফর': 10484, 'উতড': 2478, 'ঙনব': 5680, 'ললন': 13369, 'ভনদ': 10910, 'জনওইউর': 6274, 'এমসহ': 3673, 'এফএসএনএসপ': 3474, 'একশত': 3193, 'কয়খ': 4910, 'জতক': 6233, 'ইযয': 2058, 'মৎ': 11571, 'অথচ': 97, 'চরওয়': 5881, 'রচক': 12205, 'বরকতসহ': 10559, 'ণবহর': 7517, 'ইরব': 2073, 'ধএসব': 8549, 'কসও': 4853, 'টআপসব': 6700, 'রকমসকম': 12151, 'সমঝদ': 14472, 'ইধ': 1857, 'লদম': 13177, 'জকখ': 6151, 'ধনলগ': 8621, 'বনরক': 10473, 'বরমইউপ': 10617, 'নএনস': 8827, 'তওয': 7599, 'হলদ': 14993, 'দরসম': 8403, 'গইয়': 5129, 'লনসবখ': 13239, 'রবএই': 12568, 'য়ছ': 15304, 'উপকরণও': 2545, 'আইএআরপ': 461, 'পলসন': 9864, 'এসইএএস': 3834, 'উরনগ': 2679, 'লবণসম': 13303, 'নমপ': 9221, 'গফলও': 5362, 'তরশ': 7901, 'মআমর': 11056, 'য়মঘ': 15427, 'য়মউত': 15423, 'বড়ন': 10809, 'তফর': 7771, 'রখরভ': 12174, 'এসএত': 3862, 'টজনর': 6819, 'ণতর': 7473, 'কলত': 4778, 'ললই': 13368, 'ইটসক': 1796, 'বতপ': 10368, 'ওরব': 4226, 'চনন': 5811, 'দখলন': 8215, 'লয়র': 13467, 'তরতথ': 7872, 'লআইব': 12948, 'য়নফ': 15388, 'মশন': 11488, 'এসফ': 3958, 'আউস': 721, 'ওএন': 4066, 'এফএন': 3452, 'মওভ': 11112, 'সইক': 14112, 'ইটলস': 1792, 'ষ৷': 14089, 'ওনদ': 4167, 'রলম': 12740, 'মরসম': 11453, 'ষমভ': 14025, 'গড়গড়': 5534, 'বয়ন': 10834, 'নযখন': 9233, 'উশনগ': 2718, 'ইপগ': 1933, 'ধচ': 8573, 'ডনউত': 7296, 'এইত': 2966, 'এমএফএস': 3585, 'চনদ': 5809, 'রএকজন': 12064, 'দয়গ': 8518, 'নওন': 8852, 'খহ': 5100, 'কসনও': 4863, 'কএট': 4348, 'কশপট': 4833, 'বইব': 10157, 'হয়ব': 15065, 'গড়বড়': 5543, 'উৎসট': 2768, 'ছলচ': 6079, 'ড়লব': 15219, 'ইচগ': 1716, 'শগগ': 13549, 'দরমমত': 8399, 'আয়ই': 1375, 'এফআইস': 3427, 'লবণয': 13300, 'এফএলএলএফইএর': 3469, 'শয়ই': 13809, 'ভফ': 10917, 'লফস': 13276, 'আলআর': 1216, 'বময': 10537, 'ইটওয': 1772, 'থরথর': 8111, 'রইআইপ': 12009, 'এসঅ': 3795, 'ওফরও': 4193, 'কএব': 4351, 'অঘটনব': 51, 'ঘতরই': 5594, 'আইএমআইপ': 517, 'জয়ধ': 6551, 'হজক': 14813, 'সফটই': 14371, 'পদকরণ': 9687, 'সহদপ': 14669, 'এমএফএ': 3582, 'এলএইচস': 3728, 'ইবসক': 1992, 'দপরবর': 8311, 'এরপরপরই': 3701, 'বধর': 10421, 'নটসন': 9027, 'হষ': 15012, 'ইফব': 1967, 'টলব': 7018, 'নগরহর': 8937, 'ওপরজ': 4186, 'থলথল': 8128, 'বলতম': 10662, 'অপল': 184, 'নএব': 8829, 'ঘরই': 5626, 'নগরদ': 8929, 'চমচম': 5858, 'দইচ': 8158, 'শয়ট': 13816, 'আছর': 827, 'কলমসহ': 4794, 'গলজনক': 5466, 'ইপই': 1929, 'দরপতনও': 8384, 'আরল': 1211, 'হনএক': 14876, 'ছয়অ': 6090, 'অভদ': 269, 'গণগব': 5252, 'ভজকট': 10883, 'দলএমনই': 8413, 'শটসবক': 13581, 'লঅল': 12946, 'চকসঠ': 5742, 'ছসঠ': 6085, 'লকসঠ': 13045, 'কভঙ': 4611, 'দভঙ': 8334, 'যভঙ': 11827, 'পরসঠ': 9845, 'পদময়': 9710, 'বরভঙ': 10615, 'রমসঠ': 12700, 'জপরবর': 6391, 'শনইন': 13627, 'কসনগ': 4865, 'নয়নচ': 9408, 'বতনগর': 10366, 'নফরম': 9128, 'ভয়গ': 11023, 'এমএলএস': 3605, 'জএট': 6133, 'খকএট': 4944, 'বউএট': 10168, 'যএট': 11628, 'চমপত': 5864, 'চটস': 5783, 'নআজ': 8752, 'বওএস': 10199, 'নমট': 9211, 'ড়ঘর': 15179, 'সওর': 14176, 'যতজন': 11734, 'যটনস': 11720, 'বচস': 10262, 'সওম': 14174, 'লজক': 13097, 'জঝ': 6215, 'ঝয': 6618, 'সঝ': 14240, 'তরআঠ': 7842, 'উএপ': 2362, 'আইএনআইএফড': 481, 'বহল': 10782, 'তঅপর': 7564, 'আননজ': 963, 'ধনযন': 8618, 'গঠনত': 5222, 'এমওএস': 3631, 'এনএসজ': 3369, 'আইএএনএসক': 473, 'মদই': 11273, 'নগরভ': 8932, 'খড়দহ': 5108, 'বইএ': 10141, 'টএয়': 6737, 'গমধ': 5396, 'ইনইল': 1867, 'নয়নসহয': 9427, 'কজনত': 4418, 'বহনচ': 10762, 'হলন': 14994, 'শসদস': 13779, 'মনগত': 11313, 'রকসব': 12163, 'পদসম': 9717, 'লয়আয়': 13440, 'রসময়': 12817, 'উদল': 2504, 'জপম': 6388, 'মজকল': 11195, 'ঔষধট': 4289, 'আদরও': 934, 'উডজ': 2464, 'শকমন': 13532, 'বশঙ': 10699, 'এলএমই': 3743, 'জপড': 6384, 'রওভ': 12093, 'উপকরণব': 2549, 'রআজক': 11986, 'যদলগ': 11758, 'নকরণ': 8885, 'ভলগ': 10991, 'ইমও': 2018, 'জকই': 6148, 'পকধর': 9523, 'জলজঙ': 6471, 'কএমন': 4353, 'টলসহ': 7027, 'এইচইট': 2917, 'টরসম': 7004, 'ওরও': 4218, 'এলএনআরব': 3732, 'এসইব': 3845, 'জটস': 6223, 'রমণফ': 12660, 'নটল': 9025, 'বরফস': 10607, 'গলছ': 5464, 'করবই': 4717, 'ভ৷': 11035, 'লত৷': 13165, '৷আদ': 15502, 'কম৷গত': 4664, 'হয়৷স': 15087, 'লত৷তব': 13166, 'নয়৷আব': 9442, 'ঘনস': 5611, '৷গতক': 15518, 'নডঅ': 9031, 'টজর': 6824, 'ষএব': 13835, 'সবসত': 14447, 'রমণপদ': 12659, 'আইএইচ': 464, 'বরইতল': 10547, 'আশত': 1271, 'কচই': 4400, 'এএ': 2988, 'আইআইব': 423, 'ফনসন': 10013, 'তআর': 7571, 'হলজব': 14989, 'এমএড': 3570, 'এসএড': 3860, 'এমএসএড': 3613, 'কউম': 4340, 'সনমধ': 14345, 'লআক': 12950, 'উড়ল': 2803, 'পসএ': 9882, 'টকএ': 6747, 'সরলজ': 14590, 'দলএ': 8411, 'বনসম': 10486, 'পয়সন': 9943, 'বরণগ': 10580, 'বকসঠ': 10228, 'সদরদফতর': 14294, 'আরএপ': 1137, 'আইএসট': 577, 'রহদ': 12869, 'সহগব': 14648, 'পটনক': 9578, 'নডভস': 9036, 'ইজয়': 1762, 'ণকন': 7441, 'পরফ': 9824, 'বসনতন': 10730, 'নয়উত': 9372, 'সদরদ': 14292, 'লয়কন': 13447, 'জনকপ': 6281, 'তমমধ': 7827, 'এমআরআইও': 3530, 'তইয়': 7578, 'উলর': 2710, 'ইটসট': 1798, 'ঈপ': 2244, 'আহরণগ': 1359, 'রকরগ': 12153, 'জজন': 6211, 'য়রনখ': 15454, 'লদক': 13175, 'আছদগঞ': 824, 'সনন': 14337, 'ইলনন': 2114, 'এএমএইচ': 3034, 'চরজহ': 5891, 'টমল': 6957, 'নড়চড়': 9357, 'আকনক': 742, 'নএল': 8836, 'টএন': 6732, 'দকও': 8184, 'ঘনক': 5599, 'আসদগ': 1294, 'খইয়': 4933, 'ঈমদ': 2250, 'উইঘ': 2285, 'ইযন': 2057, 'কমদ': 4636, 'পটপও': 9582, 'পদদল': 9699, 'নয়নকর': 9402, 'ষকল': 13881, 'বদহজমসহ': 10418, 'কড়সহ': 4908, 'ছসম': 6086, 'জলঘ': 6463, 'জলজপ': 6473, 'অবশই': 245, 'বদয়': 10419, 'করহস': 4758, 'আরমসন': 1210, 'যখচ': 11661, 'ইনগর': 1884, 'ইটখ': 1775, 'টএ': 6725, 'এআরএসএ': 2883, 'কসসম': 4882, 'ছয়উত': 6092, 'য়কগ': 15274, 'বকউত': 10203, 'করণউত': 4684, 'রকরণî': 12155, 'ডঘর': 7256, 'লটনয': 13121, 'ইডরক': 1830, 'নভয়': 9203, 'ইচত': 1718, 'এফএমএ': 3461, 'হজনকই': 14816, 'সঢ': 14263, 'রদলই': 12467, 'ময়সহ': 11607, 'পকন': 9524, 'রসমগ': 12815, 'ফরউল': 10030, 'বটফল': 10336, 'দল৷': 8451, 'দক৷': 8206, 'ণব৷': 7519, 'উইকস': 2283, 'দ৷': 8535, 'জ৷': 6583, 'থলম': 8136, 'ইউএসআইড': 1530, 'সরণক': 14562, 'সননগর': 14338, 'এসএমএমইউয়': 3896, 'ডপর': 7310, 'ইলরঅভ': 2131, 'একলস': 3188, 'খনসহ': 5008, 'ণড': 7467, 'ঋণএসব': 2825, 'রএসব': 12080, 'সকবল': 14194, 'টনসক': 6876, 'বইঠ': 10151, 'আউটলজ': 709, 'ণবয়স': 7518, 'দনঘ': 8270, 'টনখ': 6862, 'মলউত': 11457, 'দরউত': 8360, 'দরগণ': 8368, 'তআ': 7568, 'আটষট': 897, 'গণমন': 5279, 'নৎস': 9355, 'পসমগ': 9903, 'ঠকমহল': 7112, 'মময': 11407, 'ইউআইড': 1480, 'শপর': 13691, 'ণভর': 7523, 'মতউল': 11244, 'তওব': 7598, 'ফলফল': 10090, 'বদদ': 10385, 'আরজত': 1182, 'আতরজ': 911, 'গঠনন': 5225, 'ধওয়': 8551, 'বলবয়দ': 10679, 'ইফন': 1963, 'ইলটসহ': 2108, 'বহই': 10749, 'মরনপণ': 11444, 'ওএনজ': 4068, 'দরকষ': 8364, 'মফলই': 11370, 'ডআরব': 7182, 'হরল': 14973, 'আআআ': 408, 'আটত': 887, 'ছয়শত': 6109, 'চনপদ': 5814, 'অনক': 114, 'ইরনম': 2070, 'রপটট': 12524, 'হতচ': 14854, 'সহউপ': 14644, 'এএএমএলস': 3001, 'খবগ': 5017, 'চলনগ': 5950, 'হধ': 14872, 'জড়বস': 6531, 'ওএর': 4076, 'টপঞ': 6885, 'লঘড়': 13081, 'মগও': 11149, 'দনধর': 8277, 'এফওদ': 3482, 'লয়ব': 13461, 'মশল': 11490, 'পণব': 9623, 'সইসল': 14126, 'আবরণয': 1043, 'ফটকস': 9986, 'গরজ': 5423, 'নওই': 8845, 'খজনকই': 4971, 'বসনগ': 10729, 'ষকঘ': 13857, 'মটরশ': 11217, 'রএদ': 12071, 'রলয়ক': 12746, 'ডনব': 7303, 'আইএফট': 511, 'আরএসফ': 1167, 'কলমদ': 4792, 'উৎসবই': 2772, 'সনদক': 14329, 'একজনইব': 3127, 'ঔৎস': 4290, 'আপনগ': 995, 'লয়পড়': 13460, 'ওতব': 4152, 'রওফ': 12091, 'যপথক': 11783, 'মরমন': 11449, 'য়কদল': 15279, 'উনহল': 2532, 'কইত': 4318, 'এহনই': 3983, 'ন৷গ': 9447, 'রসউইন': 12768, 'কড়ও': 4898, 'ড়ধস': 15194, 'চরণক': 5894, 'ঘঘ': 5567, 'মছড়': 11193, 'ণতও': 7470, 'কইচড': 4315, 'নচল': 8953, 'বলসশ': 10690, 'বঢ়ধ': 10822, 'যনফ': 11772, 'মপট': 11352, 'ইকরণও': 1685, 'ডআইসল': 7176, 'লবসন': 13315, 'ননরওয়': 9105, 'যমজদ': 11844, 'জমদ': 6429, 'èসঠ': 4, 'খড়র': 5109, 'গণউত': 5246, 'নগড়উত': 8939, 'পণত': 9611, 'আইএলড': 546, 'জনরত': 6351, 'ষচক': 13896, 'তফশ': 7772, 'গরভ': 5437, 'একজনভ': 3134, 'তনন': 7735, 'ললম': 13370, 'ওজনক': 4124, 'ধনশক': 8623, 'ছউত': 6019, 'সফড': 14386, 'ঙখ': 5668, 'ঙঘ': 5670, 'টইসল': 6713, 'সজনশ': 14231, 'এসএলপ': 3913, 'নআর': 8765, 'থনম': 8063, 'রমনও': 12678, 'হয়এমন': 15046, 'শকড': 13522, 'ইউমক': 1572, 'তখনছ': 7643, 'পসঙ': 9886, 'ইমসব': 2050, 'ওএমআই': 4072, 'লগণতন': 13067, 'আকবরও': 752, 'ণবঙ': 7507, 'জনয়': 6380, 'রওব': 12092, 'ককসহ': 4376, 'উইনথ': 2307, 'ইউমব': 1573, 'ঞপনচ': 6667, 'ঘষছ': 5658, 'এসএরওপর': 3905, 'ওকথ': 4099, 'ইউএনআরডব': 1504, 'এএইচএলস': 2995, 'বছড': 10265, 'টএই': 6726, 'সমহ': 14511, 'বষ': 10703, 'কয়জনই': 4913, 'নদনদ': 9076, 'থগত': 8028, 'জনগত': 6299, 'ৎট': 15107, 'পয়জ': 9935, 'তপদগ': 7760, 'পণগ': 9607, 'বপদগ': 10496, 'নদগ': 9069, 'রয়ঘ': 12909, 'ইতন': 1842, 'তমওম': 7814, 'রজজন': 12234, 'লপঞ': 13248, 'ইসশ': 2195, 'করখড়': 4675, 'মচউত': 11178, 'শঞব': 13569, 'হরহব': 14978, 'ঊনত': 2811, 'এদহ': 3273, 'টহলদ': 7083, 'আরএমস': 1150, 'আরআইস': 1109, 'এডর': 3250, 'নসবচ': 9331, 'ররমক': 12723, 'টতঘ': 6844, 'কসইঘ': 4851, 'ষয়ঘ': 14074, 'এফএসআইব': 3472, 'একবছর': 3173, 'বনঢ': 10447, 'ঘনভ': 5608, 'পময়': 9797, 'এসএমব': 3902, 'বধৎপয': 10423, 'ঝবধৎপয': 6610, 'চৎড়মৎধস': 5982, 'ঝড়ভ': 6647, 'গবহ': 5375, 'ইধৎ': 1859, 'ঞড়ড়ষ': 6677, 'ইড়ড়শসৎশ': 2207, 'ঞড়ষনধৎ': 6676, 'নএমনট': 8834, 'শননজর': 13651, 'হডআম': 14844, 'আওড': 724, 'লনরতর': 13229, 'দয়ছ': 8522, 'রসও': 12770, 'ভবরঞ': 10954, 'রনগরও': 12488, 'থরট': 8108, 'য়নএর': 15364, 'দলইব': 8408, 'উপশ': 2603, 'রণসবক': 12353, 'আইউব': 459, 'অমলট': 297, 'লসড়ক': 13415, 'করএ': 4670, 'ইটর': 1790, 'আইএল': 537, 'গইয': 5128, 'ণবয': 7512, 'ওজক': 4118, 'কসনক': 4864, 'কথকক': 4506, 'য়এ': 15256, 'ওলভ': 4248, 'থরচ': 8106, 'নগরর': 8933, 'হনত': 14887, 'মজদ': 11197, 'আনখশ': 952, 'কবচক': 4594, 'লখণ': 13050, 'জলচ': 6464, 'ঝবর': 6612, 'ডগআউট': 7250, 'ডগআউটও': 7251, 'দশকব': 8460, 'য়করণক': 15285, 'নগদব': 8918, 'দলচ': 8420, 'আপর': 1004, 'দঅ': 8149, 'রবণশক': 12591, 'এনএলআই': 3350, 'তরএক': 7846, 'কজনদ': 4419, 'টরম': 6998, 'ইলহ': 2148, 'এসআরস': 3825, 'ইএমএমস': 1618, 'অভয়ঙ': 277, 'কশলকর': 4838, 'ভবনই': 10934, 'আইএফআরস': 500, 'খফ': 5014, 'অনমজ': 132, 'পইন': 9474, 'ঙরপ': 5692, 'টভক': 6943, 'ইলসব': 2143, 'ইলসভক': 2145, 'পমক': 9790, 'নখয়র': 8903, 'গসঞ': 5503, 'উজহ': 2419, 'ইউউর': 1491, 'ডলম': 7368, 'ঝবয়স': 6614, 'ইউই': 1487, 'আইএসএসগ': 569, 'মণওয়': 11231, 'এককজন': 3106, 'আমঙ': 1063, 'ইন৷': 1927, 'উপঠ': 2561, 'কপথই': 4577, 'নগরগ': 8926, 'তআরব': 7572, 'এনএনস': 3335, 'এককট': 3107, 'চড়থ': 5988, 'ওআইএইএফ': 4011, 'রহণএ': 12849, 'সময়ভ': 14529, 'থককরণ': 8008, 'এইচভ': 2958, 'বদহজমজন': 10417, 'ফলসহ': 10098, 'শপগ': 13676, 'নয়অনল': 9366, 'শভঙ': 13715, 'এনইইট': 3302, 'ষকদল': 13864, 'ঠধ': 7143, 'ঠবন': 7154, 'তসভ': 7956, 'হসশক': 15024, 'তঅস': 7567, 'ষজয়': 13907, 'জয়জ': 6542, 'মরণপরবর': 11430, 'সদয়ম': 14306, 'দঅস': 8151, 'দকষ': 8201, 'মনকল': 11309, 'আসলর': 1327, 'নয়নগর': 9406, 'দবড়': 8332, 'ভসরল': 11008, 'থকস': 8021, 'সরবব': 14577, 'তবগ': 7780, 'জনসমস': 6375, 'রমআরম': 12628, 'ষআ': 13827, 'দজয়': 8243, 'জয়নত': 6554, 'তনসক': 7747, 'কটশ': 4463, 'আলর': 1258, 'সনদসর': 14335, 'সচন': 14223, 'এসআইদ': 3808, 'গইঞ': 5125, 'কমলএ': 4655, 'ইউয': 1574, 'কসসহ': 4883, 'উএনব': 2361, 'কসহসহ': 4886, 'চরআটজ': 5876, 'এসএমজ': 3899, 'কলও': 4762, 'সইল': 14124, 'ধকলট': 8566, 'ওমন': 4203, 'এককরম': 3112, 'কনডগব': 4549, 'অরচ': 307, 'মধইল': 11297, 'তলধ': 7923, 'ওরসক': 4233, 'নœকরত': 8731, 'পদণ': 9696, 'ণথল': 7475, 'ণবত': 7508, 'ভদণ': 10902, 'জথল': 6243, 'সমরশক': 14503, 'নয়এট': 9375, 'নয়তল': 9395, 'বটল': 10342, 'সহজতরই': 14659, 'যটকব': 11710, 'অলফ': 333, 'চসব': 5977, 'ষয়৷': 14088, 'ডউইচগ': 7194, 'এনত': 3385, 'ইকনফ': 1675, 'ফটও': 9981, 'নতভ': 9056, 'সচলত': 14227, 'জলউডই': 6453, 'থকপ': 8015, 'ইউএসএট': 1535, 'গণনজরদ': 5264, 'এনআইক': 3289, 'আশম': 1275, 'ওনপ': 4168, 'সহমন': 14682, 'ইয়ক': 2209, 'রঙসম': 12202, 'ঙজ': 5673, 'ওছব': 4116, 'দয়প': 8526, 'দসর': 8496, 'তনকল': 7723, 'হসদ': 15020, 'রণঝটপট': 12326, 'ভঅস': 10858, 'তশর': 7940, 'দফরম': 8318, 'রঝটপট': 12265, 'ময়করফ': 11585, 'যএক': 11627, 'বনদ': 10451, 'নঅর': 8744, 'থনশ': 8065, 'আচরণসব': 819, 'হতত': 14856, 'পরমতত': 9832, 'ঢ়তত': 15235, 'ধনতত': 8608, 'জলভর': 6494, 'রইত': 12018, 'ঠসবই': 7165, 'উমস': 2666, 'উএজ': 2357, 'ডকম': 7243, 'পণনব': 9619, 'সআপর': 14105, 'এডমন': 3248, 'ডসসহ': 7406, 'রউলফ': 12052, 'পইউর': 9469, 'ইআশ': 1448, 'নচট': 8947, 'কনল': 4562, 'চয়করণ': 5998, 'বরণউত': 10577, 'কশনস': 4827, 'উঘ': 2391, 'একচক': 3121, 'উড়গ': 2797, 'ঔষধগ': 4288, 'ঔষধউত': 4287, 'নৎর': 9354, 'শগড়সহ': 13558, 'উজভ': 2414, 'গথরসন': 5314, 'একইর': 3095, 'রআমর': 11996, 'ণচঞ': 7457, 'সময়হ': 14535, 'রলয়শ': 12747, 'মতর': 11263, 'পলশ': 9862, 'ষচন': 13897, 'ববট': 10514, 'উভয়য়': 2656, 'ণনরত': 7486, 'উপরস': 2598, 'আরবগ': 1200, 'এরযত': 3706, 'লবণব': 13298, 'কখগঘঙ': 4378, 'নদয়': 9083, 'টলটল': 7015, 'জলন': 6484, 'ধবও': 8637, 'এমএনও': 3577, 'গগদ': 5156, 'জনসএইচব': 6359, 'নওশদ': 8861, 'কঅত': 4292, 'রপরস': 12543, '৷গত': 15517, 'যম৷': 11868, 'সউইটস': 14132, 'তরখ': 7852, 'পটগত': 9573, 'ভয়ম': 11030, 'উএমএফ': 2368, 'টড়': 7086, 'এনথন': 3386, 'ষণপদয': 13940, 'বতব': 10369, 'ওলকচ': 4238, 'ষয়সহ': 14087, 'ইগট': 1699, 'আইএব': 515, 'যপতন': 11781, 'ডমর': 7340, 'মদনহ': 11289, 'লবড': 13287, 'বরসত': 10632, 'টহজ': 7078, 'যমমন': 11857, 'ফরভ': 10047, 'এওড': 3081, 'ইউএম': 1523, 'আফসর': 1027, 'উঅ': 2262, 'ফকর': 9962, 'আইইট': 452, 'আউটর': 706, 'ণভক': 7521, 'শহল': 13807, 'ওআধ': 4017, 'ওজয়': 4133, 'বনচর': 10441, 'থরস': 8118, 'হজন': 14814, 'আগরপ': 799, 'বহনও': 10758, 'এডব': 3245, 'সদউত': 14276, 'অবসরগ': 256, 'গবঙ': 5369, 'খলময়': 5083, 'টবই': 6903, 'এসআরক': 3823, 'এসআরট': 3824, 'আইএইচট': 467, 'গতসহ': 5311, 'উইএফ': 2277, 'জনসয': 6376, 'এআইস': 2876, 'ভড়': 11016, 'পমণ': 9792, 'সআয়ন': 14107, 'হনহন': 14896, 'পনপন': 9742, 'ঋণগত': 2830, 'হয়যদ': 15072, 'নয়জনত': 9391, 'মতসহ': 11268, 'ননফ': 9100, 'শবম': 13707, 'পসসহ': 9911, 'বড়ছ': 10800, 'ওপড়': 4190, 'উএইউর': 2349, 'নয়আপন': 9368, 'নয়অন': 9365, 'শসন': 13780, 'ইএমনট': 1624, 'কআফ': 4307, 'পসসবক': 9910, 'নতন': 9052, 'বলয়ও': 10694, 'রদবদলই': 12462, 'পডসহ': 9601, 'টসপ': 7055, 'এনম': 3396, 'লটসব': 13131, 'করবএকজন': 4720, 'পসবখ': 9899, 'আইএমপ': 534, 'এমএমআইড': 3590, 'নথন': 9065, 'বকপক': 10216, 'মনবন': 11332, 'সনপত': 14340, 'রহয': 12886, 'য়মমত': 15439, 'ইলপল': 2117, 'তএমনট': 7593, 'রপআউট': 12515, 'এনএআইয়': 3315, 'রমম': 12688, 'কইছ': 4317, 'জনজট': 6306, 'আইওয': 601, 'পপসম': 9773, 'ষকউদয়ন': 13847, 'নময': 9224, 'যময়ত': 11867, 'নময়ত': 9230, 'ছলছল': 6080, 'চরণদ': 5897, 'লইছ': 12966, 'ছলন': 6082, 'ডবও': 7319, 'একজনল': 3135, 'লবহ': 13316, 'তভব': 7808, 'লপরশ': 13263, 'জগৎট': 6187, 'টআর': 6703, 'শকঠ': 13521, 'ডসবচ': 7400, 'অরভ': 317, 'উইলভ': 2329, 'উইলব': 2328, 'ভয়সবক': 11033, 'দসহপ': 8499, 'রহএক': 12834, 'রমবহ': 12686, 'ভলফসব': 10995, 'দচর': 8234, 'রআত': 11987, 'ঘরচর': 5632, 'ডসময়': 7403, 'বআজ': 10135, 'ইলপত': 2116, 'বএর': 10196, 'বগল': 10247, 'কদরও': 4519, 'চরখড়': 5887, 'মগতস': 11160, 'অনফ': 126, 'এসএমএইচ': 3889, 'ইলটই': 2099, 'আইএফএফ': 507, 'উইনএইচইস': 2303, 'সটর': 14250, 'জওন': 6140, 'উটআরও': 2424, 'চনশ': 5824, 'হলব': 14998, 'থরউত': 8100, 'ষয়ভক': 14083, 'যএমনট': 11630, 'এনএসপ': 3372, 'ঞরঈষ': 6671, 'জনপদট': 6330, 'সকগণ': 14185, '৶ক': 15494, 'জমহলসহ': 6439, 'উইলকর': 2323, 'জমহলক': 6438, 'রসআইড': 12767, 'জনআস': 6261, 'এফএমড': 3463, 'রটর': 12282, 'এসআরএ': 3814, '৷থ': 15526, '৷দ': 15527, '৷এদ': 15512, 'থগস': 8029, 'জনকও': 6277, 'দরবনস': 8394, 'অপছ': 158, 'এননট': 3389, 'নগড': 8907, 'হরতল': 14960, 'নগতভ': 8913, 'নজয': 8996, 'এফআরইব': 3430, 'আওর': 728, 'খআগ': 4926, 'এফআরব': 3434, 'নজটপ': 8974, 'কটম': 4455, 'উঠলই': 2452, 'গতই': 5295, 'শকখর': 13515, 'রণবজ': 12339, 'ননএট': 9089, 'এমএলএক': 3603, 'মএ': 11095, 'ওএমনট': 4075, 'উš': 2261, 'রসদব': 12789, 'ধশতও': 8707, 'দশড': 8468, 'ইফই': 1948, 'উরই': 2669, 'আরএফআইড': 1139, 'খলগ': 5075, 'জসচ': 6508, 'ষতস': 13974, 'উনন': 2520, 'ঘনল': 5610, 'রয়দ': 12917, 'লরম': 13362, 'রয়ডটকম': 12913, 'শহরভ': 13800, 'খরন': 5064, 'আয়করআগ': 1381, 'কআগ': 4296, 'রমণখ': 12651, 'ধকগ': 8556, 'টউইন': 6716, 'রহচ': 12844, 'বরতম': 10587, 'চনবল': 5817, 'উলফশ': 2703, 'ইমমরট': 2044, 'ঠকগ': 7104, 'ভবনর': 10944, 'রণজন': 12325, 'তবহ': 7802, 'রনসহ': 12511, 'আউ': 691, 'ইলউত': 2087, 'নজরও': 8999, 'নকলট': 8887, 'বটও': 10324, 'এনওয': 3375, 'গণমনস': 5280, 'নগণমনস': 8909, 'খনর': 5006, 'নশনজন': 9292, 'রদগণ': 12455, 'দলধ': 8429, 'উলও': 2689, 'উদমপ': 2500, 'তকট': 7607, 'কশনগত': 4819, 'ষতন': 13969, 'শকচলচ': 13518, 'আইএনএফড': 485, 'আইএমজ': 531, 'হয়ইয়': 15040, 'য়গড়': 15298, 'একজনস': 3136, 'নবমন': 9172, 'বশবর': 10701, 'উইয়': 2345, 'রজননশ': 12252, 'কলয': 4795, 'ধতরল': 8591, 'নজনন': 8986, 'চয়নদ': 6006, 'পসল': 9909, 'থকথক': 8013, 'কনগপ': 4541, 'ষণপরপর': 13942, 'ঘটর': 5584, 'ভবনজ': 10940, 'এনইউয': 3307, 'এফওএসএস': 3481, 'জদণ': 6245, 'মনছব': 11318, 'হআরও': 14733, 'এফএইচড': 3442, 'সহজঘ': 14655, 'আতপ': 908, 'কথক': 4505, 'অয়নব': 402, 'চওয়': 5718, 'চঘণ': 5756, 'টউইক': 6715, 'বছরস': 10287, 'মনড': 11321, 'কবরও': 4600, 'মফলকও': 11372, 'ইনটনক': 1892, 'ইনটন': 1891, 'লকলগ': 13040, 'থএদ': 7998, 'আসরই': 1311, 'ওলশ': 4251, 'এএনএস': 3011, 'রণকর': 12314, 'ষড়ঋত': 14062, 'আলয়': 1263, 'অলয়': 344, 'অপচয়গ': 155, 'বপশ': 10507, 'ইওরপ': 1659, 'এরফ': 3702, 'ইইউয': 1460, 'আজরভ': 862, 'বরফখ': 10600, 'ইডঘ': 1817, 'ণনউত': 7483, 'ইফয': 1970, 'মকউত': 11120, 'রণখ': 12318, 'রনয': 12504, 'ছয়ঘড়': 6096, 'গথরসনর': 5315, 'যআস': 11618, 'য়মরক': 15440, 'আইসফট': 681, 'ইঅন': 1419, 'আরআরআই': 1113, 'ভরদ': 10971, 'এলএএম': 3730, 'লবণপ': 13297, 'কওস': 4360, 'টদরক': 6851, 'ধরনই': 8673, 'থবছরও': 8080, 'বতক': 10357, 'একইঘ': 3088, 'এনআইস': 3293, 'নতমন': 9058, 'হবস': 14917, 'তউহ': 7584, 'লটব': 13124, 'ইনআর': 1864, 'আলমচ': 1250, 'উৎর': 2758, 'ডটজ': 7276, 'ডডট': 7283, 'এলএন': 3731, 'ওইন': 4036, 'আনওয়': 949, 'ঘরসমষ': 5649, 'ভনথ': 10909, 'গণকবর': 5248, 'ইমএইট': 2016, 'রঅন': 11965, 'শনরব': 13659, 'নইম': 8781, 'ইকশর': 1690, 'লনরতদ': 13228, 'ভইস': 10863, 'ৎয': 15130, 'ননপ': 9099, 'এইল': 2981, 'হনঘ': 14884, 'হনসঠ': 14893, 'টনসঠ': 6877, 'সরতর': 14569, 'রমণসহ': 12671, 'নসনভ': 9320, 'দপদ': 8307, 'ওলফ': 4245, 'যটকসহ': 11713, 'যদলট': 11759, 'এফএমএলএন': 3462, 'জনমতব': 6346, 'তমর': 7829, 'করসহ': 4756, 'দছব': 8238, 'গড়ইগ': 5530, 'বছরঅভ': 10268, 'বকছ': 10208, 'রআনউত': 11990, 'মসজদ': 11508, 'মককউই': 11122, 'চসবক': 5978, 'জরণও': 6445, 'আলমস': 1255, 'নহর': 9351, 'এমআইব': 3524, 'এএসএক': 3062, 'সফওয়': 14369, 'দশও': 8454, 'এফর': 3496, 'চধর': 5797, 'দলবদলগ': 8438, 'শপজ': 13678, 'শনদলবদলভ': 13648, 'লফর': 13274, 'য়নরদ': 15395, 'য়নওদ': 15368, 'য়নথ': 15382, 'য়নল': 15396, 'য়নঅ': 15360, 'নউইঙ': 8798, 'য়নওড': 15367, 'ছইল': 6017, 'আতফ': 909, 'ঈদও': 2232, 'উপদলক': 2569, 'উপদলট': 2571, 'উপদলগ': 2570, 'সময়শ': 14531, 'কতন': 4493, 'নজনর': 8990, 'রধস': 12480, 'ইটসও': 1795, 'মসত': 11512, 'মটরগ': 11216, 'ইউএসএসড': 1539, 'উডই': 2457, 'জজয': 6212, 'আরএড': 1132, 'ভয়ঙ': 11024, 'এএসব': 3073, 'থজ': 8035, 'রপড়': 12547, 'ফরমও': 10050, 'যভল': 11830, 'গসহপ': 5516, 'ঘরকন': 5629, 'আটচল': 881, 'সটব': 14249, 'উশনসহ': 2720, 'ডণ': 7285, 'যকভ': 11646, 'টঝ': 6826, 'ফসলই': 10109, 'জতনদ': 6238, 'আয়গ': 1387, 'জজর': 6213, 'উনবব': 2523, 'পসনঅস': 9894, 'ডওল': 7234, 'ড়কথ': 15170, 'খননই': 4998, 'ষবন': 14011, 'ওচণ': 4113, 'রভদ': 12622, 'হয়হ': 15078, 'ফলখ': 10070, 'ফলহ': 10099, 'উথইষ': 2483, 'টরওয': 6980, 'দলউভয়ই': 8410, 'পইড়': 9477, 'জকসহ': 6163, 'ছটক': 6038, 'আরএফক': 1142, 'রপঠন': 12525, 'ইফজ': 1957, 'রপবক': 12535, 'বনঘ': 10437, 'ইলনগ': 2113, 'ফসলউত': 10110, 'উটনগ': 2433, 'ঈসম': 2259, 'আনগ': 953, 'টমসক': 6959, 'ইলসগ': 2140, 'আনপল': 965, 'নউচ': 8801, 'রবড়': 12614, 'এএল': 3047, 'টঅগ': 6681, 'শজন': 13567, 'গনত': 5340, 'ঘগতক': 5566, 'এএসএসআইট': 3067, 'বথ': 10378, 'করবল': 4733, 'লসনবক': 13396, 'তনএসব': 7720, 'নশনও': 9291, 'উআইক': 2266, 'উআইয়': 2269, 'যবরণ': 11817, 'ইউঘ': 1553, 'ডআম': 7181, 'রতঅভ': 12370, 'ণধর': 7481, 'মধল': 11300, 'তরনদ': 7878, 'ইটসগ': 1797, 'চড়ট': 5986, 'মকরম': 11140, 'লএঞ': 12987, 'তযন': 7837, 'নগগ': 8905, 'যবপন': 11814, 'য়টদ': 15313, 'হনট': 14886, 'কডইনক': 4469, 'মরহস': 11455, 'এমনব': 3660, 'ছএব': 6020, 'রকমএক': 12142, 'কটরসহ': 4461, 'এফএইট': 3443, 'যৎও': 11918, 'আভর': 1057, 'উডথর': 2465, 'লসনব': 13395, 'টসবক': 7060, 'ইজপর': 1750, 'ঔড': 4281, 'যজনও': 11695, 'ৎফরক': 15121, 'করণস': 4701, 'থরতম': 8110, 'শতওয': 13592, 'উধমপ': 2511, 'যকট': 11640, 'মফল': 11369, 'রএমনক': 12077, 'ইযখন': 2056, 'আড়ষ': 1370, 'এইগ': 2900, 'ওইরকম': 4040, 'নজল': 9004, 'নঅঞ': 8734, 'ওসময়': 4264, 'লগল': 13073, 'লনলচ': 13232, 'উলভসক': 2708, 'গঠনসগ': 5232, 'রবৎ': 12613, 'রƒণ': 11959, 'ইলঅ': 2081, 'জভবন': 6421, 'বছরনত': 10279, 'রসদন': 12788, 'ইউথ': 1562, 'এনএসএফ': 3365, 'আইনসঙ': 655, 'এএনএসএফ': 3012, 'টরঅন': 6974, 'এইও': 2896, 'উথগ': 2487, 'ইলটভ': 2104, 'ষকদলক': 13865, 'বনরহস': 10476, 'যসন': 11903, 'চকন': 5732, 'এসএসএলকম': 3924, 'পসভ': 9901, 'ড়দলগ': 15191, 'সআ': 14096, 'সএড': 14149, 'সহজএট': 14653, 'গনন': 5342, 'ণআফ': 7429, 'রঅবদ': 11967, 'ওরভ': 4227, 'লথভ': 13172, 'এসএভ': 3882, 'আইনসচ': 656, 'নটরজনক': 9023, 'সমশ': 14506, 'এইপট': 2972, 'আগর': 794, 'টবলত': 6923, 'গভন': 5378, 'ধসহস': 8719, 'কআন': 4297, 'নআন': 8756, 'ণসদস': 7544, 'সমরব': 14502, 'ইনকনট': 1879, 'এসএপ': 3869, 'জনতথ': 6312, 'ষণসবই': 13958, 'য়সল': 15483, 'বসয': 10739, 'যকই': 11637, 'পতনবছরজ': 9638, 'বভয়': 10530, 'খবরগত': 5030, 'সফরব': 14395, 'চনএ': 5800, 'ডহত': 7410, 'শনধ': 13649, 'রনড': 12494, 'দনজ': 8271, 'রতলক': 12414, 'এমএসড': 3622, 'ইসরস': 2192, 'খঞ': 4973, 'দমধ': 8342, 'অতৎসম': 90, 'ঊসব': 2820, 'আমলস': 1091, 'নরই': 9237, 'গফফ': 5359, 'ঘণচক': 5590, 'এডলফ': 3251, 'টমটমসহ': 6949, 'ইনসমন': 1923, 'নভক': 9196, 'বসইট': 10707, 'শবস': 13713, 'মসঙ': 11505, 'ইপধ': 1939, 'সময়সচ': 14533, 'ইরট': 2067, 'লকএসব': 13005, 'ইএসইউ': 1637, 'ইএসইউর': 1638, 'সভবনস': 14462, 'গরকন': 5418, 'জনইল': 6264, 'আইনসহ': 659, 'পড়তল': 9924, 'টময': 6955, 'টতল': 6848, 'নয়আন': 9367, 'উইনম': 2309, 'আইবএম': 665, 'পগত': 9541, 'এএসআইক': 3058, 'ইবই': 1980, 'উজট': 2406, 'জতও': 6232, 'ডসধ': 7391, 'মরণফ': 11431, 'গতচঞ': 5299, 'করমজল': 4742, 'য়নপ': 15385, 'নআসরভ': 8769, 'এইই': 2890, 'ফলড': 10076, 'লইস': 12971, 'ঠঠ': 7134, 'যপশ': 11794, 'ইউআরস': 1486, 'দশণ': 8469, 'আরএসআ': 1156, 'টশনস': 7032, 'অইড': 12, 'ঋণন': 2836, 'টজও': 6810, 'জপছ': 6383, 'ষকবন': 13872, 'ষককন': 13852, 'তরএই': 7845, 'সএমএম': 14155, 'ইএক': 1592, 'চয়হ': 6014, 'নকট': 8871, 'টলফ': 7017, 'জঅন': 6113, 'আরএল': 1152, 'আইইএস': 451, 'ওএইচস': 4062, 'গজরব': 5190, 'মবইন': 11375, 'গণমঞ': 5277, 'ঝলছ': 6632, 'এএমই': 3032, 'লভরস': 13330, 'ওবঙ': 4195, 'দনমঞ': 8286, 'মণসহ': 11241, 'জমসম': 6435, 'অবনম': 235, 'বকহ': 10231, 'কনউদ': 4531, 'জনধর': 6319, 'খনধর': 4996, 'যয়জ': 11937, 'শতজ': 13601, 'ষচ': 13895, 'ধবহ': 8651, 'রমড': 12643, 'আহমদউল': 1346, 'এসআইয়': 3812, 'ইনফর': 1900, 'মতদ': 11253, 'ডরদ': 7346, 'ইলয': 2129, 'অলইনওয়': 324, 'মউলল': 11092, 'এসএমএমইউত': 3894, 'মতলবব': 11267, 'টবলজ': 6921, 'শহরময়': 13803, 'ইয়টট': 2215, 'খনপ': 5002, 'সরই': 14542, 'জনএই': 6270, 'ডউইটজ': 7196, 'নসবর': 9332, 'দবধ': 8325, 'অহধ': 392, 'থঙ': 8031, 'হলমন': 15003, 'লকরণ': 13034, 'ইআইএফ': 1427, 'সদম': 14286, 'কশনসবক': 4829, 'সন৷': 14356, 'ঠক৷': 7117, 'রত৷': 12421, 'ন৷নত': 9451, 'রতই৷': 12374, 'আয়৷': 1416, 'গলকর৷': 5459, '৷আইস': 15499, 'গ৷': 5551, 'ইট৷': 1805, 'য৷দ': 11958, 'ভফল': 10918, 'ভয়উত': 11020, 'ইচউত': 1715, 'টএইড': 6727, 'কৎস': 4892, 'লইক': 12963, 'দনঅব': 8259, 'উপকরণগত': 2547, 'টআপসগ': 6699, 'যরকমও': 11876, 'নআউটট': 8749, 'কতওই': 4480, 'সসবশ': 14637, 'এরচ': 3690, 'মবস': 11390, 'জদর': 6247, 'রজঙ': 12233, 'বতনদ': 10367, 'তঘম': 7655, 'পঋণ': 9484, 'রকলম': 12160, 'রকলগ': 12159, 'এআরএসএমএ': 2884, 'ওএই': 4057, 'নওম': 8857, 'লৎজ': 13429, 'কলসন': 4803, 'এইচইব': 2919, 'ৎসল': 15154, 'কফঅধ': 4586, 'বরগণগ': 10565, 'লগণউত': 13065, 'রণঘ': 12320, 'আচরণগ': 814, 'অভয়অভ': 275, 'ওল৷': 4253, 'টটম': 6832, 'য়৷অস': 15490, 'রণ৷': 12366, 'তই৷': 7579, 'মও৷': 11117, 'মণই': 11228, 'আইএফইএর': 502, 'গনয': 5346, 'ইলমক': 2128, 'উইকর': 2281, 'এসএলএফপ': 3911, 'ধবছর': 8641, 'ডটপ': 7278, 'কশনটপ': 4822, 'নটপ': 9017, 'ইলটসটপ': 2107, 'ইফটস': 1961, 'রটপ': 12280, 'ইলটস': 2106, 'ওটপ': 4137, 'হকরণ': 14791, 'উডফ': 2468, 'ঠছ': 7128, 'ঝড়ঝঞ': 6643, 'যবদল': 11811, 'অসস': 384, 'ষদই': 13980, 'ষতভ': 13971, 'এনএফএলসবখ': 3339, 'কউক': 4333, 'উপনগর': 2576, 'উপরতল': 2596, 'লসনক': 13393, 'লভবন': 13326, 'লপথমন': 13255, 'পয়ত': 9938, 'ট৷': 7092, 'হয়৷আব': 15081, 'হয়৷ব': 15085, '৷হল': 15546, 'ঘরখ': 5630, 'উইদআউট': 2301, 'মহননও': 11547, 'ছয়জনসহ': 6101, 'শকন': 13526, 'গণসঙ': 5287, 'নএড': 8822, 'উআইট': 2267, 'জয়শতভ': 6576, 'ঊম': 2815, 'ইয়শ': 2223, 'নবপর': 9163, 'সনডটকম': 14323, 'টজয': 6823, 'ককবরক': 4371, 'ওইনস': 4037, 'উবই': 2623, 'ৎঅ': 15088, 'মনহরগঞ': 11348, 'এফন': 3491, 'ধরম': 8691, 'গরয': 5446, 'নবচ': 9142, 'এসওএসট': 3939, 'কসবক': 4871, 'আউব': 715, 'ইএপ': 1601, 'তরঅবশ': 7841, 'ফরত': 10041, 'হধন': 14873, 'পচনর': 9553, 'মএতট': 11100, 'উৎসসম': 2793, 'ষমকরণ': 14020, 'তমভ': 7826, 'এমদল': 3647, 'এমগ': 3638, 'আইছ': 615, 'অমত': 282, 'বতউত': 10356, 'জতউত': 6231, 'থউত': 7996, 'নফস': 9130, 'আসগরগ': 1287, 'থপন': 8073, 'ওপরট': 4187, 'মসয়': 11536, 'শসদ': 13778, 'থবছরগ': 8082, 'আজজ': 840, 'আইএফজ': 510, 'ওইসময়': 4044, 'বএক': 10189, 'ভবরপ': 10955, 'টআজ': 6691, 'বরকতর': 10558, 'মসকল': 11502, 'লসনন': 13394, 'লটনন': 13119, 'ডএব': 7222, 'যতথ': 11737, 'যমম': 11856, 'নহতভ': 9349, 'এইক': 2898, 'ননত': 9096, 'শআলজ': 13484, 'ড়কও': 15167, 'আইএসআইসহ': 555, 'তগঙ': 7649, 'উটসম': 2444, 'তলম': 7928, 'লউ': 12973, 'রউ': 12032, 'আমলউ': 1086, 'দউ': 8160, 'বদখত': 10383, 'জএদ': 6135, 'তকবভ': 7618, 'রহরণ': 12891, 'লএদ': 12989, 'শপথআদ': 13683, 'শঈদ': 13490, 'কচলম': 4407, 'জদরজ': 6248, 'দঈদ': 8159, 'গরসভ': 5451, 'কআহ': 4311, 'ইনভলব': 1907, 'নচলচ': 8954, 'জচলচ': 6204, 'চরজ': 5889, 'গচর': 5168, 'আরএসজ': 1164, 'পড়ক': 9918, 'ইএসএসই': 1641, 'শপহ': 13695, 'এওএল': 3077, 'শখট': 13546, 'জকডক': 6153, 'আইআইইউস': 414, 'হলছ': 14987, 'চয়ধ': 6004, 'সফলক': 14405, 'অভস': 272, 'এইরকম': 2980, 'এইখ': 2899, 'এরকমভ': 3685, 'য়কশ': 15286, 'ঘটকও': 5574, 'আইচদ': 614, 'যমসম': 11862, 'লমটক': 13336, 'লমট': 13335, 'একছ': 3122, 'লহঠ': 13421, 'কআমর': 4309, 'উৎসবপ': 2780, 'রতনদ': 12397, 'বউর': 10182, 'জনমতউত': 6344, 'লনউত': 13201, 'দনন': 8278, 'ণপর': 7498, 'ওইপ': 4038, 'সলর': 14621, 'এসছ': 3950, 'ভৎ': 11012, 'বতচ': 10360, 'ননই': 9088, 'কৎ': 4891, 'ডটউইন': 7267, 'নয়এর': 9378, 'হলজ': 14988, 'যমনষ': 11852, 'কসমদ': 4876, 'যয়পত': 11947, 'দরগত': 8369, 'উবয়ড': 2636, 'একড': 3144, 'রতস': 12416, 'লরব': 13361, 'নসনম': 9321, 'কশত': 4812, 'আরওপ': 1172, 'কআপস': 4304, 'নউপর': 8807, 'পনজগত': 9732, 'কআপও': 4299, 'ইডটক': 1819, 'য়ণয': 15331, 'সআপফ': 14104, 'ওজতন': 4120, 'এসআরএফট': 3815, 'টকলশ': 6779, 'ওলম': 4249, 'রথয': 12446, 'জগৎনগর': 6188, 'এফএএর': 3446, 'অগপ': 39, 'হনওয়': 14879, 'ইএসআর': 1635, 'একরকমভ': 3182, 'ভটক': 10892, 'ওবর': 4197, 'ভবব': 10952, 'হয়দরক': 15061, 'এইওএসআইব': 2897, 'ইঋণ': 1585, 'ইকভ': 1679, 'তরতম': 7873, 'রকরদ': 12157, 'অতক': 83, 'রথল': 12447, 'কড়ইতল': 4896, 'শমউত': 13718, 'অবসরউত': 253, 'সমহল': 14514, 'কলদ': 4779, 'অফ৷': 210, 'বনসত': 10482, 'আইডলদ': 626, 'ডনজ': 7300, 'চকপ': 5733, 'ইজউদ': 1732, 'নমঞ': 9210, 'উধম': 2510, 'ফনট': 10010, 'হয়ম': 15070, 'হনসবচ': 14894, 'পএসবই': 9495, 'আরচ': 1180, 'টআরএক': 6704, 'রণউদ': 12308, 'যয়শ': 11953, 'কগতক': 4388, 'তরএসএসস': 7848, 'রকহ': 12165, 'এরগন': 3688, 'মদহ': 11295, 'অপচয়ও': 154, 'ছয়ও': 6093, 'ডটক': 7270, 'এলউদ': 3725, 'কখনক': 4383, 'রএপ': 12073, 'নএপ': 8828, 'দএপ': 8171, 'বএপ': 10193, 'নঅনল': 8740, 'শপডটরব': 13680, 'ডটকমডটব': 7273, 'ইউআইট': 1479, 'ইপপ': 1940, 'জপযজ': 6389, 'দরপলও': 8387, 'ননব': 9101, 'ফলতল': 10078, 'পজগৎ': 9560, 'এলএফএস': 3739, 'ছই': 6016, 'উরইট': 2671, 'সগল': 14214, 'কটজ': 4438, 'কপশ': 4582, 'হটছ': 14828, 'এনএলএফ': 3351, 'রথমবষ': 12442, 'ইনকগন': 1877, 'য়ণস': 15332, 'নসনদ': 9318, 'যদলসহ': 11760, 'মকন': 11129, 'ঈদব': 2237, 'আউটবই': 703, 'রসবক': 12808, 'আইএফপ': 513, 'যগঠন': 11671, 'যআবদ': 11617, 'জগৎউদ': 6185, 'ড়কক': 15168, 'হয়এই': 15043, 'বজয়গ': 10319, 'থময়': 8096, 'আনআইড': 943, 'ইউএফও': 1521, 'রটনর': 12278, 'পশনক': 9871, 'কয়ছর': 4911, 'জনসনগ': 6366, 'ণয়খ': 7552, 'ধকরণগ': 8563, 'পণঘ': 9608, 'রসথ': 12785, 'য়তন৷': 15344, 'বল৷': 10696, 'নট৷': 9028, 'দন৷': 8301, 'ভবন৷যখন': 10949, 'ষয়শ': 14084, 'বইসহ': 10164, 'ওএইসএস': 4063, 'রয়সহ': 12930, 'য়টগঞ': 15312, 'সড়কঢ': 14714, 'সড়কপ': 14716, 'পঈদ': 9479, 'ঝউ': 6585, 'জনকদ': 6280, 'ঝড়স': 6649, 'ধফণ': 8635, 'তফণ': 7770, 'এইচল': 2960, 'রণএ': 12309, 'উওএস': 2378, 'দখলসহ': 8219, 'গদখল': 5319, 'তলগঞ': 7916, 'য়মভ': 15436, 'হকবল': 14787, 'ডহরপ': 7412, 'চয়দ': 6003, 'মউৎসব': 11094, 'লজয়ন': 13103, 'ভয়শ': 11031, 'গনএই': 5332, 'এনএনআইট': 3330, 'আইআরই': 427, 'আইআরইর': 428, 'এআইএমআইএম': 2866, 'ইউআই': 1475, 'পণণক': 9610, 'গলডটকম': 5468, 'খগয': 4957, '৷ওই': 15513, 'সহদ': 14668, 'সডটকম': 14259, 'আলল': 1259, 'পলসহ': 9865, 'ৎফরন': 15122, 'সরলকরণ': 14587, 'এককউত': 3103, 'ণফলক': 7503, 'লকদউত': 13018, 'মহররমপ': 11557, 'লহজপ': 13420, 'ড়বর': 15208, 'কইনস': 4321, 'এইচআইএস': 2904, 'এফডব': 3490, 'জতফ': 6239, 'মনধ': 11326, 'ষকআইড': 13840, 'ভটভট': 10895, 'এনশ': 3399, 'এনএট': 3326, 'এমএসএল': 3618, 'টঅস': 6686, 'ফসন': 10104, 'ওলর': 4250, 'তমশ': 7831, 'রকবর': 12133, 'ইএমপ': 1625, 'পনধর': 9737, 'রণকরণপ': 12316, 'ফরমন': 10054, 'গমশ': 5406, 'চমর': 5866, 'কতড়': 4503, 'খপর': 5012, 'ঘচ': 5568, 'ইরঙ': 2064, 'টএকট': 6730, 'ইটসঅন': 1794, 'উবএকব': 2624, 'বলআর': 10641, 'তলতর': 7921, 'মনএকট': 11306, 'টবলভ': 6929, 'ষণজ': 13928, 'বরযন': 10623, 'বররন': 10624, 'সরতন': 14568, 'কশনট': 4821, 'রজক': 12230, 'এলওর': 3764, 'দহফ': 8509, 'তনইব': 7718, 'ওবল': 4198, 'টআপর': 6697, 'এসএমইগ': 3886, 'আগব': 785, 'পরমজ': 9831, 'শনগর': 13638, 'পটনচ': 9579, 'পসবচ': 9900, 'ইটফ': 1784, 'উইশম': 2338, 'উইশ': 2337, 'টজনপ': 6818, 'গড়ই': 5529, 'ষদশ': 13992, 'দলআদ': 8406, 'ডকট': 7239, 'থলক': 8123, 'কইলজ': 4326, 'এফআইআরভ': 3415, 'কলসক': 4801, 'হমখদ': 14928, 'য়বক': 15415, 'লফম': 13273, 'অলম': 335, 'রদস': 12472, 'দকরণ': 8200, 'ছছড়': 6034, 'রদব': 12460, 'দলবলসহ': 8441, 'উভভ': 2642, 'রনধর': 12497, 'ধনর': 8619, 'নচত': 8948, 'রধরও': 12477, 'মঘরট': 11175, 'রচপ': 12211, 'নবদরদ': 9157, 'রবলই': 12605, 'মলও': 11458, 'যড': 11724, 'কফত': 4587, 'এলদ': 3779, 'এনআরএল': 3295, 'ইপসন': 1946, 'টএয': 6735, 'এআরএস': 2882, 'এডপ': 3244, 'উটভ': 2435, 'গসপ': 5508, 'ইডসম': 1837, 'গসমত': 5511, 'মতধর': 11254, 'আবল': 1044, 'এনএইচড': 3322, 'আবহট': 1051, 'ইআজক': 1433, 'যহহ': 11915, 'কউল': 4343, 'ইউএনআই': 1500, 'ইউএনআইয়': 1503, 'এএইচপ': 2997, 'কদফ': 4513, 'খরভ': 5066, 'মদত': 11278, 'এফআইআরগ': 3414, 'লনড': 13219, 'এমআরট': 3537, 'সনসচ': 14351, 'উভয়ম': 2653, 'আবদন': 1036, 'নকতক': 8874, 'কপটত': 4573, 'পথহ': 9671, 'শয়ক': 13812, 'আরবপ': 1202, 'বলসহ': 10691, 'লবণচর': 13295, 'ইলএন': 2089, 'সঅড': 14091, 'যমদ': 11850, 'উফলসহ': 2619, 'আড়ৎ': 1371, 'আবপ': 1037, 'কচও': 4401, 'টউল': 6723, 'নকব': 8879, 'ইলসডটকম': 2141, 'ণতল': 7474, 'ইডর': 1829, 'ইডরট': 1831, 'এলএসস': 3758, 'উএসইউ': 2374, 'টকএভ': 6748, 'এসওর': 3944, 'য়সঞ': 15475, 'চরদরব': 5906, 'এআইই': 2858, 'কটকট': 4436, 'ইফকন': 1955, 'ঙনয': 5681, 'ওনসহ': 4171, 'জয়ড': 6546, 'আইইউর': 444, 'সমঅধ': 14465, 'টকসময়': 6785, 'এরকমই': 3683, 'এফওয়': 3485, 'ইউএলএ': 1528, 'অশঙ': 347, 'তলর': 7930, 'লআগ': 12951, 'রওর': 12096, 'মহরমই': 11555, 'ণচন': 7458, 'লনওয': 13203, 'হজময': 14820, 'এমএসআইয': 3610, 'আগরক': 797, 'ডনও': 7297, 'যগগন': 11670, 'খছকর': 4966, 'লঠ': 13133, 'টলহইত': 7028, 'ছকর': 6027, 'এনএইচএফ': 3317, 'গখ': 5153, 'আয়র': 1406, 'ধফ': 8634, 'ডটওআরজ': 7269, 'রটম': 12281, 'মসগ': 11504, 'পনত': 9735, 'থবদ': 8084, 'ইজপ': 1749, 'আইএনহ': 496, 'টমহলস': 6968, 'বজনমত': 10307, 'এৎস': 3985, 'ঢ়তর': 15236, 'সফটপ': 14379, 'রগন': 12182, 'চলতম': 5947, 'ডজয়': 7264, 'এমইএও': 3546, 'যরমজ': 11881, 'পরগণ': 9809, 'লয়দল': 13455, 'জদল': 6250, 'পতর': 9643, 'নহব': 9350, 'হরচন': 14946, 'একইরকমভ': 3097, 'ডউদ': 7208, 'রমণর': 12665, 'উটম': 2436, 'রজননতন': 12250, 'এমএসডস': 3623, 'বসদ': 10725, 'ইকই': 1664, 'খতই': 4982, 'আইআইএফএ': 416, 'গতপ': 5303, 'নছড়': 8961, 'ধরর': 8695, 'কটত': 4442, 'ইছহ': 1726, 'আইটপ': 620, 'এফওয': 3484, 'তনধ': 7734, 'ষদঅ': 13977, 'ইজএমইএ': 1733, 'ষরস': 14042, 'যৎগ': 11920, 'বহনসচ': 10772, 'এএফএল': 3023, 'আসওয': 1282, 'যআজক': 11615, 'ইখওয': 1694, 'মবড': 11380, 'মদদক': 11281, 'উটট': 2428, 'এমএমআর': 3591, 'কশই': 4809, 'লয়ভ': 13463, 'মহরতও': 11553, 'নউমর': 8808, 'থবহভ': 8088, 'নশক': 9284, 'তমস': 7832, 'চরবগজ': 5912, 'হএনব': 14761, 'দরএই': 8361, 'খবরসক': 5037, 'বলছন': 10651, 'চদক': 5791, 'চমহলক': 5870, 'ইঅভ': 1421, 'টঅভ': 6684, 'চআস': 5700, 'ছয়জনস': 6100, 'গঅভ': 5118, 'ধজনক': 8579, 'উনর': 2525, 'গলজ': 5465, 'বসনখ': 10728, 'রবণঘ': 12586, 'রবণগ': 12585, 'ইপড': 1936, 'এসআইএসস': 3802, 'ঘরণ': 5636, 'জনধন': 6318, 'ণএ': 7435, 'ৎসকএ': 15138, 'ড়এ': 15163, 'ষকএ': 13848, 'যএলট': 11631, 'কএ': 4345, 'শলএ': 13756, 'কপথগ': 4578, 'এইচআরএম': 2910, 'কনও': 4532, 'কনই': 4530, 'নদন': 9073, 'আপতক': 989, 'শচড়': 13564, 'কইম': 4322, 'এফইজ': 3438, 'ণয়গ': 7553, 'সহজশর': 14665, 'যদলক': 11757, 'টটলক': 6834, 'খলট': 5078, 'রঝর': 12266, 'গঠকসহ': 5209, 'থইথই': 7993, 'কনআগ': 4529, 'লনয়': 13242, 'টনর': 6873, 'তনমহল': 7741, 'লনশ': 13233, 'এইন': 2968, 'কইন': 4319, 'ররঞ': 12715, 'কটনক': 4446, 'ইচট': 1717, 'অচলভ': 57, 'গঠকক': 5204, 'রআউট': 11980, 'লমব': 13341, 'হবসগ': 14918, 'রসউত': 12769, 'ধএট': 8548, 'পরবত': 9826, 'উডওয়': 2460, 'ষতগ': 13966, 'সহবস': 14678, 'বটন': 10335, 'ফপয়': 10015, 'এমএমব': 3597, 'জনখ': 6289, 'জনঘ': 6302, 'ডটস': 7281, 'ইমএশ': 2017, 'জবট': 6403, 'দকই': 8183, 'মইল': 11075, 'মপলশ': 11363, 'অলন': 332, 'কশম': 4835, 'শতদ': 13604, 'এসএসএস': 3925, 'শনসচ': 13666, 'রৎ': 12901, 'বড়চ': 10798, 'যহন': 11914, 'তহন': 7968, 'তহদ': 7967, 'শকহ': 13540, 'শকটট': 13520, 'পদশব': 9714, 'ইআচ': 1431, 'আমদই': 1073, 'ডরব': 7348, 'তঅণ': 7560, 'তশফ': 7938, 'মঅধর': 11039, 'লকশফ': 13043, 'মআয়ন': 11059, 'নইচ': 8776, 'ডআধ': 7179, 'ডঅবসক': 7171, 'গঠনগতভ': 5220, 'ওআইএস': 4012, 'টনউত': 6859, 'অবদমন': 231, 'মঅধ': 11038, 'ষণখ': 13922, 'দহনগ': 8507, 'রবণখ': 12584, 'রকঘ': 12115, 'রকখ': 12112, 'ইরজ': 2066, 'সরবহ': 14579, 'ওধ': 4159, 'রহকর': 12839, 'য়ণগড়': 15325, 'সটও': 14243, 'পতনঊষ': 9634, 'বড়তল': 10807, 'যকণ': 11641, 'জনঅন': 6256, 'বজগ': 10295, 'শসনতন': 13781, 'ইছড': 1724, 'লধনগ': 13189, 'য়এপ': 15261, 'অনশনক': 139, 'ৎচক': 15101, 'রফটক': 12553, 'হলবর': 14999, 'এমএসহ': 3625, 'আয়বর': 1400, 'কঘরসহ': 4397, 'লপথক': 13253, 'জয়ভ': 6563, 'পরশপ': 9842, 'হএনড': 14760, 'ডঐঙ': 7228, 'ঈযড়হহধস': 2252, 'ঘধ': 5596, 'রড়হধষ': 12903, 'টহর': 7079, 'বয়ই': 10824, 'নডর': 9038, 'এইচএমএল': 2933, 'আরকম': 1176, 'মনদ': 11324, 'শউড়ন': 13494, 'যখনতখন': 11665, 'দরতম': 8374, 'ইনআপট': 1863, 'বটযন': 10340, 'বএআর': 10186, 'দএত': 8169, 'টডর': 6840, 'আদহ': 936, 'যসনদ': 11904, 'য়কআজ': 15267, 'কলরবহ': 4798, 'ঘঝর': 5570, 'জলধ': 6482, 'রমচ': 12640, 'গলচ': 5463, 'তছন': 7668, 'তদফ': 7708, 'জনআওয়': 6259, 'জকগ': 6152, 'আরআইসহ': 1110, 'সহনক': 14672, 'জটও': 6219, 'ইইউস': 1462, 'পলওয়': 9852, 'তকপ': 7615, 'আরওআই': 1169, 'বপনক': 10498, 'অবতরণস': 224, 'এএআইব': 2990, 'রজয়স': 12263, 'এআরব': 2887, 'হরই': 14939, 'লকসব': 13046, 'এলএমএস': 3747, 'চদল': 5794, 'এমবর': 3669, 'এআইক': 2869, 'আইএলস': 547, 'আকক': 734, 'রথমজনও': 12435, 'গমথ': 5395, 'বদলএশ': 10404, 'দএশ': 8174, 'ধরণট': 8668, 'যটফর': 11722, 'ৎদন': 15110, 'ড়নজ': 15198, 'যতহ': 11746, 'উটগ': 2427, 'আইএইচএআর': 465, 'ষদসচ': 13994, 'মঅস': 11042, 'নআওয': 8750, 'থকড': 8011, 'থবল': 8086, 'থলয': 8137, '৶র': 15496, 'এএফভ': 3028, 'এমএলআরএস': 3601, 'শএসব': 13503, 'অথইয়': 96, 'অথইক': 95, 'অথইও': 94, 'ওনল': 4170, 'জলউডক': 6454, 'নজনম': 8989, 'বইখ': 10144, 'গফলঘ': 5365, 'উভয়ইখ': 2647, 'বকপ': 10215, 'য়তর': 15350, 'ঋড়ড়': 2852, 'ঋড়ৎবযবধফ': 2851, 'কদলক': 4522, 'পনসরই': 9753, 'নমতক': 9215, 'টসটস': 7048, 'সরভ': 14580, 'রয়পরবর': 12922, 'থউড': 7995, 'হয়৷র': 15086, '৷ভ': 15535, 'ভএম': 10866, 'ল৷ব': 13477, 'ড়সর': 15227, 'ফতখন': 9999, 'ধনকক': 8602, 'লসহএক': 13413, 'এইচইর': 2920, 'ডএফআইড': 7221, 'মরণকর': 11427, 'উনহ': 2531, 'মসড': 11511, 'রতদ': 12393, 'ইজরস': 1756, 'এআইয়': 2878, 'অইগ': 10, 'তকসহ': 7635, 'রণসরঞ': 12354, 'ঞট': 6660, 'নরহর': 9266, 'আইডলক': 625, 'ডকপ': 7242, 'ধইউট': 8542, 'ডইনকগন': 7188, 'ইভভ': 2005, 'ফসজ': 10103, 'কনগ': 4540, 'সকরব': 14199, 'টভর': 6944, 'এএসএলআই': 3065, 'মতখ': 11248, 'ইলটও': 2100, 'দসময়': 8495, 'থসপ': 8143, 'য়মও': 15424, 'নজনএম': 8979, 'চমকম': 5856, 'হররস': 14972, 'এফএএজ': 3445, 'ষতম': 13972, 'সএইচট': 14145, 'এএইচড': 2996, 'এসআইফ': 3810, 'এসগত': 3949, 'উষস': 2722, 'সড়গড়': 14721, 'ষরসম': 14043, 'আনঅ': 941, 'জগৎসব': 6194, 'রমসম': 12701, 'ইউআরএএফ': 1482, 'এলআত': 3715, 'হয়ভ': 15069, 'কছট': 4409, 'কলচ': 4774, 'ধসঢ়': 8720, 'কশনশ': 4826, 'নএমজ': 8831, 'সলধ': 14613, 'টআব': 6702, 'মসনই': 11515, 'ধবত': 8642, 'টরউত': 6978, 'ষএকট': 13833, 'সরগম': 14551, 'রফড': 12554, 'টকলই': 6775, 'ইউএফ': 1518, 'কসনভ': 4867, 'শহরময': 13802, 'পটম': 9592, 'য়নসর': 15403, 'আঢ': 901, 'ওজনয': 4128, 'এমআরড': 3538, 'মণদ': 11236, 'তলই': 7911, 'গহল': 5523, 'এসএজ': 3858, 'শসজ': 13777, 'ঘমল': 5623, 'সহআরও': 14643, 'ফটওয়': 9982, 'উনচল': 2517, 'গত৷': 5312, 'ইভ৷': 2012, 'ইপট': 1935, 'উআন': 2270, 'সনএসব': 14314, 'রসনআশ': 12793, 'ইআমর': 1436, 'ইইসল': 1471, 'ইলএই': 2088, 'তলও': 7912, 'লসবন': 13401, 'চটত': 5780, 'বলসম': 10689, 'নখট': 8897, 'দচন': 8233, 'বসঠ': 10717, 'চসঠ': 5975, 'সরলগরলক': 14589, 'জয়লক': 6572, '৷এত': 15511, 'য়৷ন': 15491, 'নসট': 9312, 'উরভ': 2681, 'নশটট': 9288, 'লআহম': 12961, 'রমদ': 12674, 'গদলট': 5325, 'উফম': 2617, 'ভসত': 11003, 'যলব': 11886, 'লভপ': 13325, 'ৎজপ': 15104, 'ফলসগ': 10096, 'ফরগ': 10037, 'কমমন': 4651, 'রণএত': 12310, 'শয়জ': 13815, 'ড়দহ': 15193, 'অবহনএনট': 265, 'অবহন': 264, 'ডরসহ': 7353, 'চলঙ': 5939, 'ঙরট': 5690, 'এএমএসএ': 3041, 'ণফলই': 7502, 'ষকআদমজ': 13841, 'ইনউদ': 1870, 'টবনগ': 6913, 'পরশট': 9841, 'গলফসন': 5479, 'আইআইজ': 420, 'উইউ': 2274, 'শলসহ': 13768, 'আদবক': 925, 'এসএনএপ': 3863, 'উচগ': 2396, 'যউদ': 11623, 'খকষ': 4951, 'ঘওঈ': 5561, 'ওমরউত': 4206, 'আফকন': 1014, 'আফকনও': 1015, 'অপতথ': 163, 'রকমইম': 12140, 'কপচ': 4569, 'রমস': 12698, 'লনসব': 13238, 'বটদল': 10334, 'হলডরসন': 14991, 'উবয': 2630, 'এনইর': 3312, 'নইউর': 8775, 'নইউ': 8772, 'খডল': 4978, 'হকপর': 14785, 'উজলপ': 2418, 'কউমক': 4341, 'বরণস': 10582, 'উসও': 2725, 'বখতও': 10235, 'পণভ': 9624, 'যঠ': 11723, 'তখনত': 7644, 'জনএ': 6269, 'মসখ': 11503, 'আউটবক': 704, 'বএন': 10192, 'আজমক': 848, 'গরমক': 5440, 'য়তল': 15351, 'ভনর': 10912, 'বনযন': 10471, 'যকনট': 11644, 'ইউড়': 1583, 'খনগর': 4994, 'এনআইএন': 3282, 'এসএমড': 3900, 'নঝর': 9008, 'ফউজ': 9951, 'তঢ': 7686, 'গকথ': 5149, 'ভলপম': 10993, 'রইগ': 12013, 'কছয়': 4412, 'চমকশর': 5857, 'তসইভ': 7945, 'নতখন': 9046, 'খএকট': 4937, 'এনআইব': 3292, 'লতকর': 13147, 'ইউওয়': 1549, 'আহন': 1339, 'ফলনএ': 10084, 'গরবক': 5436, 'উটদ': 2430, 'জহরই': 6525, 'ইউএসআইব': 1531, 'এলআর': 3716, 'হয়বদন': 15066, 'বগডহর': 10239, 'রডওয': 12286, 'মসওয': 11498, 'ডথর': 7289, 'রদবদলতর': 12463, 'শহরই': 13790, 'এলওইউ': 3760, 'এলওইউয়': 3762, 'এলওইউর': 3761, 'বঝত': 10320, 'এনআইইট': 3279, 'মএলস': 11105, 'লকগণ': 13011, 'খলশ': 5084, 'লবনট': 13308, 'শতকসহ': 13598, 'বনমসল': 10469, 'এসএব': 3881, 'রতঅস': 12372, 'জসময়': 6519, 'ওসদ': 4260, 'অগসব': 44, 'মলড': 11465, 'অগমড': 43, 'এসএলইইউজ': 3908, 'উণ': 2476, 'আরবদ': 1201, 'গলয': 5486, 'আইএসআরও': 558, 'এসএলভ': 3914, 'রমওয়': 12634, 'ইথফ': 1848, 'টইচকভ': 6707, 'জনএসব': 6272, 'কআপক': 4300, 'জগৎক': 6186, 'পএকট': 9487, 'টবট': 6909, 'টবটক': 6910, 'টরজ': 6988, 'লছড': 13093, 'জনতল': 6314, 'আইতর': 629, 'ডলসব': 7374, 'জয়হর': 6582, 'এমএসই': 3611, 'যরকমই': 11875, 'য়তভ': 15348, 'শষড়': 13775, 'একফসল': 3170, 'সজলসহ': 14238, 'ঊল': 2817, 'নরপশ': 9256, 'আইএসএনএ': 564, 'এককসহ': 3114, 'ডসই': 7382, 'উলফগ': 2701, 'আসরও': 1312, 'ররফও': 12719, 'আপনঘর': 996, 'তনভর': 7739, 'ধকক': 8555, 'পথবদল': 9662, 'ওএসটপ': 4087, 'নতপ': 9053, 'এসএই': 3851, 'পচট': 9550, 'ৎউৎফ': 15091, 'এমএনএলএফ': 3575, 'য়নসক': 15400, 'কআম': 4308, 'উড়য়': 2804, 'ইডকলক': 1814, 'ইসদ': 2179, 'সউজ': 14136, 'ভনক': 10908, 'দহনই': 8504, 'শনহ': 13672, 'সদলবল': 14300, 'শনজন': 13642, 'খবই': 5016, 'টয়গ': 7088, 'শকম': 13531, 'লপথট': 13254, 'গঅন': 5116, 'লবঙ': 13283, 'দরপলক': 8388, 'শটদ': 13577, 'এফম': 3495, 'ইতক': 1841, 'আরইড': 1124, 'ইসবক': 2187, 'আড়ৎগ': 1372, 'আড়ৎদ': 1373, 'কআপভ': 4303, 'আটকপ': 874, 'উঝ': 2421, 'বদগ': 10384, 'ঠকআজ': 7099, 'শনএকক': 13629, 'য়এশ': 15263, 'টকব': 6764, 'টকসন': 6784, 'টকসক': 6783, 'ছবলদ': 6068, 'জলতরঙ': 6479, 'বনরম': 10475, 'দশতল': 8471, 'ধলপ': 8702, 'তমল': 7830, 'ডমঘ': 7336, 'হয়এট': 15044, 'লগণক': 13066, 'উলত': 2697, 'অউক': 16, 'আলমঘ': 1249, 'কবরব': 4603, 'আজর': 861, 'রহণউত': 12848, 'ভবনউত': 10935, 'রমণউত': 12646, 'ভঅগ': 10857, 'জডল': 6227, 'লআল': 12959, 'রপয': 12536, 'করণচ': 4691, 'এফআরড': 3433, 'ষরণও': 14036, 'হকসময়': 14795, 'উৎসবচলব': 2776, 'তআজক': 7569, 'রআইপ': 11977, 'এলকলক': 3767, 'সএসপ': 14166, 'নসশ': 9342, 'মদসও': 11293, 'বজনও': 10301, 'হয়ওন': 15048, 'বলজয': 10653, 'গনসহ': 5349, 'চআ': 5699, 'য়নগর': 15374, 'চরউজ': 5880, 'য়হত': 15487, 'য়সরক': 15482, 'শপআপ': 13674, 'শপফ': 13690, 'সপআপ': 14358, 'ফগন': 9971, 'রহমতপ': 12883, 'নজটই': 8970, 'গঠনখ': 5217, 'কথকল': 4508, 'অলকনন': 327, 'ইএসএ': 1640, 'ইওস': 1661, 'অভয়ব': 279, 'গহরক': 5521, 'দএদ': 8170, 'জলছ': 6467, 'লন৷': 13243, 'দলতন': 8426, 'ওখন': 4106, 'ইউএইচড': 1494, 'নয়নভ': 9418, 'আíপ': 405, 'শটএট': 13572, 'দপন': 8309, 'কথপ': 4511, 'ঈছ': 2228, 'ঢলঢল': 7425, 'পমত': 9793, 'ধরনব': 8683, 'ওউন': 4051, 'ইচল': 1720, 'দবও': 8321, 'লটবহরক': 13125, 'ধরফ': 8687, 'চলপত': 5955, 'ফয়ছলক': 10128, 'ইটঅপ': 1767, 'অলসন': 340, 'চরসহ': 5928, 'ইউএলইড': 1527, 'উপরই': 2593, 'টমসহ': 6963, 'এমএমইএব': 3593, 'এমএএমএ': 3565, 'পকম': 9528, 'রশতব': 12752, 'ষগহ': 13892, 'অউচ': 17, 'অঞচ': 73, 'এমএমআই': 3589, 'নগরএর': 8924, 'ছনক': 6058, 'মতম': 11261, 'হড': 14843, 'ওউ': 4048, 'রএমন': 12076, 'নদলট': 9080, 'শতপথ': 13606, 'রবয়': 12615, 'লয়ছ': 13450, 'সওল': 14177, 'লসভ': 13403, 'পডগ': 9600, 'র৷ক': 12933, 'ইউএসক': 1542, 'শওক': 13505, 'এমএমড': 3595, 'খননসহ': 5001, 'ফকল': 9963, 'গঘনও': 5164, 'রটনই': 12275, 'জয়ব': 6559, 'নজনদ': 8985, 'উপপত': 2579, 'নসঙ': 9307, 'উওয়': 2382, 'আইআইএম': 417, 'ভসএই': 11002, 'অবসরজ': 257, 'মমআম': 11396, 'ধনআম': 8598, '৷অন': 15497, 'ধরব৷': 8690, 'কশনদ': 4823, 'বটত': 10331, 'ইসকন': 2170, 'ঠঅন': 7094, 'ইডজ': 1818, 'অপন': 167, 'রঊর': 12054, 'পঙত': 9548, 'দনমত': 8287, 'উৎসউত': 2761, 'উৎসঝ': 2767, 'ধঅনল': 8536, 'আচরণসহ': 820, 'শনকক': 13634, 'নওকর': 8846, 'উৎসবশ': 2786, 'তপঞ': 7753, 'উৎসবব': 2781, 'লসবর': 13402, 'যবইভ': 11803, 'এরইমধ': 3678, 'ডআইভ': 7174, 'মঈনসহ': 11083, 'হগওয়': 14801, 'লসট': 13387, 'টলভ': 7019, 'এমআরএনএ': 3534, 'দশকস': 8461, 'পদকগ': 9680, 'গনগন': 5336, 'ষদখ': 13984, 'গণআজ': 5243, 'লনহ': 13241, 'লতত': 13152, 'ঠকসম': 7116, 'বয়ড়': 10853, 'ইফরপ': 1972, 'টকচ': 6752, 'ছলম': 6083, 'একলগ': 3187, 'থরঞ': 8107, 'টসচ': 7045, 'থওয': 8001, 'ইশব': 2158, 'নয়নবন': 9417, 'ফওজ': 9956, 'এসআইআইএস': 3797, 'কমলস': 4661, 'রফও': 12550, 'ভরগ': 10962, 'ভরঘ': 10963, 'ডটশপ': 7280, 'গললন': 5489, 'পবসন': 9784, 'এতবড়': 3264, 'নগব': 8921, 'মযহ': 11415, 'আইএমএস': 529, 'ঋণভ': 2840, 'রসজক': 12779, 'নআসন': 8768, 'কয়ব': 4918, 'হটডগ': 14830, 'ভরতপ': 10970, 'যঅধ': 11611, 'কইও': 4314, 'শতকব': 13596, 'টপড': 6887, 'রগলড়': 12188, 'বউচ': 10170, 'চপলসহ': 5835, 'টগণন': 6792, 'আইএসআরওর': 559, 'আইএসএএস': 562, 'আজমলব': 859, 'লথস': 13173, 'কএভ': 4352, 'যগণ': 11672, 'পগণ': 9540, 'নয়নট': 9409, 'লকএমন': 13004, 'আইসদল': 679, 'রমনস': 12680, 'রধরসহ': 12479, 'ড়কবন': 15172, 'মইর': 11073, 'রজনগ': 12244, 'ধবলগ': 8649, 'রসতত': 12784, 'সহভর': 14679, 'সহছ': 14650, 'এএফডব': 3025, 'ষণবল': 13946, 'আটভ': 892, 'জময়': 6440, 'দতও': 8249, 'পয়গ': 9933, 'শএদ': 13499, 'রচম': 12212, 'লদণ': 13176, 'ইফশ': 1974, 'আবব': 1038, 'পঙক': 9547, 'বগম': 10246, 'উগল': 2389, 'দরবনক': 8392, 'শখই': 13543, 'শখক': 13545, 'আইএনপ': 494, 'লসময়': 13406, 'অউঐ': 15, 'খপরবর': 5013, 'ইমসম': 2052, 'হকসহয': 14798, 'সকই': 14181, 'শকয়': 13541, 'বলএই': 10644, 'চটব': 5782, 'উইসস': 2343, 'এনএলপ': 3353, 'একইসময়': 3100, 'নধল': 9086, 'চলচল': 5941, 'রসয়ন': 12831, 'দলএমনট': 8414, 'ধবধব': 8644, 'ইহর': 2204, 'নয়দ': 9396, 'করতখ': 4706, 'করতঘ': 4707, 'কতসঠ': 4502, 'শনড': 13644, 'দকপ': 8194, 'সরছ': 14554, 'এইচএমজ': 2935, 'ষবল': 14014, 'টকপ': 6761, 'ঢ়স': 15242, 'ইনসর': 1924, 'আইএমইর': 521, 'শখত': 13547, 'গঠকর': 5207, 'ধভৎরপধ': 8654, 'ফঅপ': 9945, 'পঅভ': 9463, 'ণএই': 7436, 'বএট': 10191, 'আপনভ': 1001, 'পটলচ': 9595, 'হএগ': 14759, 'কনত': 4551, 'তরফক': 7883, 'লঅবশ': 12943, 'শএব': 13500, 'ববল': 10519, 'লশদ': 13375, 'বহনম': 10767, 'বহনন': 10765, 'তসবক': 7955, 'পশমবহ': 9876, 'টবলফ': 6926, 'চজনউয়': 5764, 'পড়লরব': 9928, 'য়তনই': 15338, 'শকভর': 13530, 'ড়মন': 15212, 'শবঙ': 13700, 'বএমন': 10195, 'হলফ': 14996, 'সকলই': 14201, 'গরল': 5448, 'টজগত': 6813, 'ইটসম': 1801, 'ররফসহ': 12721, 'রহওয়': 12836, 'ডএন': 7217, 'আলমগঞ': 1248, 'নমফ': 9222, 'দআনজ': 8154, 'সইদ': 14117, '৷ক': 15514, 'দতত': 8250, 'মবব': 11386, 'সহজশ': 14664, 'গলফস': 5478, 'লয়৷': 13475, 'গল৷': 5494, 'চসঙ': 5973, '৷তথ': 15524, 'কদলগ': 4523, 'টসউ': 7037, 'কশনগ': 4818, 'নজটট': 8973, 'অপসরণ': 193, 'রনগরক': 12489, 'ওআরএনএল': 4021, 'কজয়': 4428, 'জননতন': 6322, 'ঞসহ': 6674, 'ইউউইক': 1490, 'এনএএস': 3324, 'ইঢ': 1839, 'যদগ': 11753, 'ধহচ': 8722, 'য়কব': 15281, 'আলফন': 1236, 'পলএনট': 9850, 'ওএসর': 4090, 'ষণমন': 13950, 'বণধ': 10350, 'জনঅপ': 6257, 'ইভর': 2007, 'মনসন': 11346, 'লফন': 13271, 'টসহই': 7075, 'টসসহ': 7072, 'ওয়রবস': 4278, 'এসআরএমআইস': 3817, 'বহগ': 10750, 'উবব': 2629, 'আহড': 1333, 'এফএএস': 3447, 'বদভ': 10389, 'বপল': 10506, 'অলচ': 329, '৷উইল': 15506, 'ন৷ম': 9456, 'শ৷ন': 13825, 'উইলট': 2326, 'যপটই': 11776, 'মনউত': 11304, 'ভউত': 10864, 'নবজন': 9146, 'ইহজন': 2202, 'অমরল': 294, 'পরমহ': 9836, 'রবউত': 12566, 'ধনরত': 8620, 'মণউত': 11229, 'বহজ': 10751, 'পউয়': 9483, 'তকবল': 7619, 'লভট': 13324, 'আইএনট': 491, 'আইএনসহ': 495, 'এসইউত': 3831, 'রদএসব': 12451, 'ইইউসহ': 1463, 'রসরঞ': 12824, 'আভদ': 1055, 'আখখ': 768, 'উথএন': 2485, 'যবসর': 11821, 'খরচসব': 5060, 'ড়ঈদ': 15161, 'লতস': 13161, 'দনসম': 8297, 'লঅতএব': 12939, 'এমএইচপ': 3562, 'ঝজ': 6595, 'বউপস': 10176, 'মঅজ': 11037, 'ঙগ': 5669, 'পকশ': 9532, 'ষণতত': 13934, 'উভয়ও': 2648, 'আমহ': 1094, 'বলবআম': 10673, 'এনএড': 3327, 'আউটক': 696, 'এসআরএল': 3818, 'জওহর': 6143, 'লনটর': 13218, 'আইএইচএস': 466, 'ফওয': 9957, 'সএভ': 14154, 'য়নপর': 15387, 'মবদলরণব': 11384, 'লসঞ': 13386, 'শধরদ': 13622, 'ঈব': 2246, 'উডসহ': 2475, 'লহম': 13425, 'সবলর': 14443, 'টযন': 6972, 'তসফর': 7953, 'এসএইচএস': 3853, 'ঘনসহ': 5612, 'গতয': 5309, 'রএখ': 12067, 'নযদ': 9234, 'অরদ': 312, 'বদলসহ': 10415, 'ইকড়': 1692, 'আসরন': 1317, 'খতগ': 4983, 'রতচন': 12386, 'তদপর': 7707, 'ইচভ': 1719, 'ইইউন': 1456, 'জয়তব': 6549, 'হনচ': 14885, 'রসবই': 12807, 'য়নএসব': 15365, 'ফতথ': 10000, 'এলএফএসএল': 3740, 'জলজউদ': 6470, 'হতলগ': 14867, 'এএসআইএস': 3057, 'ইআরট': 1443, 'ডউইটথ': 7197, 'দসক': 8488, 'টবলখ': 6919, 'আগতর': 782, 'দকন': 8193, 'লটর': 13127, 'নমহ': 9228, 'টবলচ': 6920, 'আইআইস': 424, 'ধরসহ': 8699, 'ইডভ': 1827, 'ররও': 12712, 'খনপদ': 5003, 'বলতল': 10665, 'নঘরগ': 8945, 'রনডন': 12495, 'রয়ণ': 12914, 'পকব': 9526, 'বনসদস': 10483, 'গহরণক': 5522, 'তহরণক': 7972, 'বলতর': 10663, 'করণসম': 4702, 'আহমর': 1355, 'বলকত': 10647, 'ঋতউত': 2846, 'টনশ': 6874, 'টএমস': 6734, 'রও৷': 12105, 'করল৷': 4750, 'আয়রনসহ': 1411, 'বটওয়': 10325, 'নদত': 9072, 'আদমক': 928, 'ধলহ': 8703, 'য়দব': 15356, 'বড়ইক': 10790, 'এভল': 3511, 'উইউব': 2275, 'আজমলই': 856, 'শহরএমন': 13791, 'যভব': 11828, 'কতও': 4479, 'রআল': 12001, 'এমনইগ': 3651, 'মতজ': 11250, 'আরবই': 1197, 'পপঘর': 9762, 'ককস': 4375, 'রয়দক': 12918, 'গড়নও': 5539, 'ধআল': 8540, 'ষকএন': 13849, 'ঈনউদ': 2243, 'থরশ': 8117, 'নইনস': 8779, 'ধএই': 8547, 'এআইএফএফ': 2865, 'এলগর': 3769, 'এরপরইখ': 3699, 'রদম': 12464, 'আইএমইউ': 519, 'এসআইজ': 3805, 'আইনম': 650, 'লরশ': 13364, 'ফরমই': 10049, 'টবক': 6904, 'হগস': 14804, 'বলডনও': 10658, 'ভরসন': 10985, 'হফত': 14906, 'এগন': 3209, 'ঙনও': 5676, 'বনপঞ': 10458, 'ইজসহ': 1760, 'উলজ': 2693, 'দওলত': 8178, 'দহপ': 8508, 'সলপ': 14615, 'এসআইএসআই': 3801, 'আপনজ': 997, 'মগগ': 11150, 'জসর': 6520, 'টসর': 7067, 'এরড': 3693, 'য়রসর': 15463, 'টসইন': 7036, 'ৎজসর': 15106, 'ওলত': 4243, 'নতবদন': 9055, 'এমইএইচ': 3545, '৷পদবঞ': 15531, 'রএখন': 12068, 'টআপওয': 6693, 'এসএসআইড': 3918, 'ককরণ': 4373, 'সনউত': 14313, 'অপরপ': 182, 'আয়তনক': 1395, 'ওআশ': 4024, 'নসপট': 9325, 'সলও': 14607, 'মডস': 11225, 'উসই': 2724, 'ইবল': 1989, 'ধ৷': 8730, 'গরলজ': 5449, 'কয়দ': 4917, 'আশওয়': 1267, 'আজš': 831, 'ঈঅউ': 2226, 'উঐঅ': 2376, 'বচলত': 10261, 'বদশম': 10416, 'বউইন': 10167, 'বঅ': 10134, 'যচলত': 11684, 'আগমনট': 791, 'আরআরএর': 1117, 'আরআরই': 1115, 'ড়লগতক': 15217, 'আইআরএ': 429, 'এফআইভ': 3426, 'নএগ': 8819, 'টএকজন': 6729, 'দনদ': 8276, 'মইয': 11072, 'ণসজন': 7542, 'পরওয': 9805, 'ষওএকট': 13838, 'খএপ': 4938, 'আশল': 1278, 'ঝড়শ': 6648, 'ডমন': 7337, 'শকএমন': 13512, 'ইডও': 1811, 'অফও': 202, 'গএক': 5135, 'হলবশত': 15000, 'এসথ': 3955, 'জনসনও': 6364, 'যয়এই': 11929, 'সময়খ': 14521, 'ডশর': 7379, 'লরওয': 13352, 'ইলসন': 2142, 'নতথ': 9050, 'সকযন': 14197, 'গপদ': 5352, 'এমএনএফএস': 3574, 'অবথ': 228, 'ষৎ': 14059, 'দবরণ': 8329, 'এইচএমস': 2939, 'এইচএনব': 2930, 'এনএমএল': 3347, 'এআইইউড': 2859, 'আহরণস': 1360, 'ভসব': 11005, 'আদমপ': 931, 'নবশক': 9185, 'অলসভ': 343, 'রমণশ': 12668, 'রমণপ': 12658, 'টনগর': 6864, 'একনল': 3162, 'তসগপ': 7947, 'রতপন': 12403, 'যটকপ': 11709, 'মঅয়': 11043, 'তএব': 7591, 'অপহরণস': 197, 'ররউফ': 12711, 'ইডএনই': 1810, 'এইচএড': 2925, 'অগঠনত': 35, 'একপত': 3165, 'লকলই': 13038, 'কশপগ': 4832, 'দতর': 8253, 'মইয়': 11078, 'উপকথ': 2540, 'রবচনগ': 12575, 'জনবলসহ': 6338, 'আইএসজ': 576, 'ফয়ছ': 10126, 'সহজই': 14652, 'লমনক': 13340, 'শবরম': 13711, 'দয়হরণ': 8534, 'ছদও': 6046, 'য়ফরনগর': 15413, 'আরআরএফ': 1116, 'বড়ত': 10806, 'ব৴': 10854, 'জবক': 6401, 'আসনভ': 1303, 'এইচএক': 2924, 'আইইপ': 454, 'সবঘ': 14420, 'টআকস': 6689, 'ধরমব': 8693, 'ছদকথ': 6047, 'পনশ': 9746, 'করবএই': 4719, 'তঅর': 7566, 'টসই': 7035, 'অপচয়স': 156, 'খঅপট': 4924, 'কউটস': 4335, 'থষ': 8140, 'টঘড': 6801, 'পকঅ': 9503, 'খএ': 4935, 'ৎজক': 15103, 'মৎসভ': 11573, 'মৎসভক': 11574, 'বলশয': 10686, 'সমবয': 14490, 'নরটন': 9251, 'ইসনও': 2181, 'নসগ': 9306, 'যজনপদ': 11699, 'গমনগ': 5399, 'নগনক': 8920, 'ওজনহ': 4130, 'আইজলব': 618, 'গএট': 5136, 'ভলন': 10992, 'জমন': 6431, 'আখগ': 769, 'তরসগ': 7904, 'রসসঠ': 12828, 'এফআরট': 3432, 'মআরও': 11057, 'বউবন': 10178, 'হটএয়': 14826, 'দশপদ': 8476, 'দশপ': 8475, 'বনñপ': 10426, 'বনñদ': 10425, 'চরল': 5925, 'ফরদ': 10042, 'ছয়ফ': 6106, 'জগৎর': 6192, 'কঘরগ': 4396, 'ওমরগঞ': 4209, 'নছর': 8959, 'দলম': 8443, 'খশর': 5087, 'ফধৎধ': 10006, 'ষড়হফড়হ': 14066, 'বপয': 10504, 'যড়যড়ৎ': 11926, 'অরপ': 314, 'হএ': 14757, 'ঠথ': 7140, 'টহলও': 7081, 'আয়করয': 1385, 'ইগপ': 1704, 'গঠণ': 5210, 'ডএকক': 7215, 'টফট': 6896, 'শহরসম': 13805, 'রএইড': 12062, 'টঅধ': 6682, 'য়ণগ': 15323, 'এইচখ': 2951, 'পদএমনট': 9675, 'লয়পড': 13459, 'পটচ': 9574, 'চজয়পর': 5771, 'জয়পর': 6558, 'শঅন': 13480, 'শটস': 13580, 'নচয': 8951, 'যএসবই': 11633, 'আরআইয': 1108, 'হরবড': 14966, 'সড়': 14707, 'তঝর': 7680, 'ভদন': 10903, 'মলজ': 11463, 'ঘপ': 5613, 'আইএইড': 468, 'রণয়নই': 12361, 'বটলন': 10343, 'ফকসকন': 9965, 'ডলই': 7357, 'উটরসহ': 2441, 'লয়ইউর': 13442, 'পতনএ': 9635, 'হজসনক': 14824, 'ৎসবট': 15150, 'দষ': 8485, 'নএনট': 8825, 'পএনট': 9491, 'ডএনট': 7219, 'জবসগ': 6417, 'পলগ': 9854, 'কলখ': 4770, 'টরঘ': 6986, 'থনসবই': 8067, 'ইউনসহ': 1565, 'ববলয়': 10521, 'ইলরও': 2132, 'এসএসজ': 3927, 'পণনভ': 9620, 'শডটকম': 13586, 'রণচণ': 12322, 'ভজš': 10882, 'ষণজš': 13929, 'তঘœ': 7653, 'বজš': 10294, 'য়মণ': 15429, 'বরসর': 10634, 'আজভ': 846, 'চরমন': 5918, 'লনওয়': 13204, 'ফলঅল': 10062, 'এলঘ': 3770, 'মচমচ': 11184, 'ওণ': 4147, 'আসরপ': 1318, 'টসবচ': 7061, 'রসনয': 12798, 'আইএসআইএসম': 552, 'লধনসহ': 13193, 'করবক': 4726, 'ওআস': 4025, 'আরকথ': 1175, 'মউপস': 11089, 'ইনএক': 1872, 'এফআর': 3428, 'টরহ': 7006, 'রউপদ': 12045, 'মফফ': 11367, 'হয়বৎপ': 15068, 'এএমএলব': 3038, 'রহকরণ': 12840, 'লঙন': 13083, 'কআপসব': 4305, 'খড়গ': 5104, 'ফভল': 10023, 'আপনন': 1000, 'কমবর': 4647, 'জচন': 6203, 'চইনগর': 5704, 'টকরণসহ': 6772, 'মঘটও': 11170, 'ইইউক': 1454, 'আজগরক': 839, 'তসফ': 7952, 'এসম': 3966, 'কতডল': 4489, 'লসস': 13410, 'রডহ': 12301, 'লউস': 12979, 'এআইসহ': 2877, 'মনদর': 11325, 'ডরর': 7351, 'ৰভ': 15493, 'রহসনম': 12897, 'সময়বন': 14528, 'খকই': 4942, 'ছদশ': 6054, 'ইকরদ': 1686, 'মমও': 11398, 'হটসপ': 14839, 'উলন': 2699, 'মইদ': 11064, 'উঠলব': 2454, 'ইদর': 1853, 'নসজ': 9310, 'শঢ': 13588, 'চনফ': 5815, 'দপতনই': 8306, 'হমও': 14926, 'যএএফপ': 11626, 'লফটক': 13270, 'ড়তই': 15188, 'নএসএসএল': 8839, 'যয়গব': 11935, 'লহপ': 13424, 'এনএসএস': 3367, 'অরর': 318, 'ননসহ': 9108, 'চকগণ': 5725, 'ওরমক': 4229, 'কমনওয': 4638, 'ডআই': 7173, 'ডআইয': 7175, 'য়তনক': 15340, 'খছব': 4967, 'মগণ': 11156, 'নবমণ': 9171, 'থকউত': 8005, 'দয়সবই': 8531, 'দবঞ': 8323, 'রসরউত': 12821, 'নতরণ': 9060, 'ওঅউথ': 4003, 'চরখণ': 5886, 'আইএলওত': 543, 'অসদস': 364, 'য়তনও': 15339, 'হএই': 14758, 'জতকর': 6234, 'খবরঅধ': 5020, 'আরএসট': 1165, 'যজগৎও': 11692, 'পটবয়সব': 9590, 'আনমন': 970, 'আজবপ': 845, 'কশপসহ': 4834, 'এসএডব': 3861, 'উইএন': 2276, 'ইইস': 1470, 'কমঅবলম': 4617, 'অতএব': 82, 'থদক': 8051, 'এসএমএম': 3892, 'এমআইইউআই': 3517, 'নটফই': 9019, 'ডইশ': 7189, 'রতড': 12389, 'ডজহ': 7263, 'নটবর': 9020, 'লফক': 13268, 'মউর': 11090, 'ঔখ': 4279, 'সভবনগ': 14460, 'ডবয়সহ': 7331, 'রদন': 12459, 'আজতক': 841, 'এমঅ': 3514, 'হরব': 14965, 'ছদপট': 6051, 'বইন': 10153, 'দসবক': 8491, 'আরএলএসপ': 1153, 'পথএমনই': 9647, 'র৷প': 12935, 'ণপশ': 7499, 'এসইএসড': 3840, 'বড়ইতল': 10791, 'রজনদ': 12246, 'টজনক': 6816, 'দমল': 8351, 'নটআউট': 9010, 'করবত': 4730, 'হগত': 14802, 'জনঈদ': 6265, 'য়সঙ': 15474, 'ইউএল': 1526, 'পএসব': 9494, 'নঠ': 9029, 'আশয': 1276, 'ওবন': 4196, 'এসশ': 3974, 'এফআইওএ': 3424, 'টমবয়': 6954, 'ফরই': 10028, 'কর৷': 4759, 'বর৷': 10637, 'ৎসই': 15135, 'য়সহক': 15485, 'অতশত': 89, 'টকঠ': 6757, 'রদট': 12456, 'রনহফ': 12513, 'তমণ': 7819, 'ণমণ': 7526, 'সকথ': 14187, 'লকখ': 13009, 'ধঅল': 8537, 'রথসচ': 12448, 'ডওট': 7230, 'শঅজন': 13479, 'ডনসহ': 7306, 'এসওত': 3941, 'আইএনইস': 484, 'ঔষ': 4285, 'রয়র': 12926, 'রওই': 12084, 'লএইচএসস': 12982, 'দরবনসহ': 8395, 'আইএনএসইএড': 489, 'মআফর': 11053, 'ডলটনক': 7362, 'ডলটনও': 7361, 'হইচইয': 14738, 'যখনপ': 11666, 'নইর': 8785, 'মইস': 11077, 'উহর': 2744, 'উরগ': 2675, 'ইমওয়': 2019, 'ইওম': 1656, 'ময়আদ': 11579, 'ভদক': 10901, 'করণমন': 4700, 'ইটনক': 1782, 'দলবদলও': 8436, 'পকস': 9533, 'হরজ': 14947, 'গরত': 5430, 'তউপস': 7582, 'অইঈ': 9, 'গওপর': 5144, 'চয়জ': 6000, 'ঠতন': 7137, 'মদগ': 11277, 'হকট': 14779, 'বঠ': 10346, 'আইগ': 611, 'এআরএক': 2880, 'সআইভ': 14097, 'শআরজ': 13483, 'গরমও': 5439, 'নগম': 8922, 'ওসল': 4266, 'সববর': 14435, 'ঙরঘ': 5689, 'রসদট': 12787, 'জনগণসহ': 6298, 'এইচএনপ': 2929, 'পওন': 9497, 'উজ৷': 2420, 'মপদই': 11358, 'সরলতম': 14592, 'ঠচ': 7126, 'বইর': 10161, 'রসবজন': 12810, 'অজয়ও': 69, 'অজয়ক': 70, 'অমরদ': 291, 'তকঙ': 7606, 'রজপ': 12256, 'এলরয়': 3786, 'এলরয়ক': 3787, 'ননচ': 9093, 'ডপল': 7311, 'ডসঠ': 7388, 'কনকসঠ': 4539, 'উদকসঠ': 2493, 'কলকণ': 4764, 'ঠসঠ': 7164, 'শয়সঠ': 13822, 'শশরফ': 13773, 'হমত': 14930, 'তরফপ': 7885, 'খকসহ': 4954, 'আইএনজ': 490, 'আইএনইট': 483, 'যবইগ': 11800, 'সইসহ': 14127, 'এসএফআইয়': 3873, 'রয়ছ': 12910, 'রঈদ': 12031, 'রআগ': 11984, 'এনএনআরস': 3332, 'এবল': 3507, 'এনআইএসট': 3288, 'ডলশ': 7370, 'ভদই': 10900, 'গচণ': 5167, 'বরবল': 10612, 'যসত': 11901, 'আইএমডব': 533, 'অহর': 395, 'যৎব': 11923, 'কশনল': 4825, 'টঅক': 6680, 'টসট': 7047, 'এফআরএ': 3431, '৷আব': 15503, 'ন৷প': 9452, '৷ছ': 15520, 'গ৷ব': 5552, 'আইএএ': 469, 'আইএএর': 476, 'মএখ': 11097, 'মগণপ': 11157, 'উচক': 2395, 'ইউএইত': 1495, 'অওল': 20, 'এএলড': 3052, 'রহফস': 12876, 'বদলয': 10413, 'ষমক': 14019, 'মবট': 11379, 'সদশম': 14301, 'ঊঢঞজঅ': 2808, 'গটজঅখ': 5198, 'পলদ': 9857, 'এপথ': 3405, 'ওপথ': 4173, 'আলকরণ': 1221, 'মসময়': 11526, 'অইয়': 14, 'সতম': 14268, 'চলকব': 5935, 'আয়তল': 1396, 'ড়লক': 15216, 'আহরণক': 1358, 'ষণমত': 13949, 'আইরনস': 674, 'টলত': 7016, 'বনপথ': 10459, 'ডতব': 7287, 'শনল': 13660, 'দলইস': 8409, 'পকচ': 9510, 'ছতম': 6042, 'খবরপত': 5033, 'নয়নদ': 9411, 'গনম': 5345, 'চরযম': 5924, 'খবরসহ': 5038, 'নসহশ': 9346, 'রআর': 11998, 'ইউএনএফস': 1508, 'আইএনড': 492, 'এওএসআইএস': 3078, 'মণখ': 11233, 'শথ': 13616, 'টমর': 6956, 'দসবল': 8492, 'চলস': 5963, 'নরকসদয়': 9246, 'দয়সফল': 8530, 'ফলসঞ': 10097, 'অপচয়সক': 157, 'ষমসঠ': 14026, 'ভসরক': 11007, 'রবসরল': 12610, 'য়নপদ': 15386, 'বনহ': 10490, 'অহঙ': 391, 'রহঙ': 12843, 'এলএলস': 3752, 'এমআইই': 3516, 'মসআম': 11495, 'আলমএকট': 1243, 'মওই': 11109, 'ফআম': 9947, 'হআব': 14730, 'রআব': 11994, 'ইলআব': 2084, 'নঅত': 8736, 'কফস': 4588, 'এলএর': 3748, 'এএমব': 3044, 'দকণ': 8190, 'ঐওঠ': 3988, 'থকসব': 8022, 'হমঞ': 14929, 'নরকত': 9243, 'নজটজন': 8972, 'লগও': 13058, 'ষদঅভ': 13978, 'করü': 4667, 'ইয়নসহ': 2220, 'ইয়ল': 2222, 'ফয়থ': 10130, 'লসড়কট': 13416, 'ওএফআইড': 4070, 'এইচএমএসআইয়': 2934, 'ধইঞ': 8543, 'রঋণদ': 12057, 'সকনস': 14191, 'লধনদ': 13191, 'টইব': 6711, 'করলএমন': 4748, 'ককথ': 4365, 'টসনদ': 7054, 'ইমনসপ': 2036, 'ঢকঢক': 7421, 'এখনত': 3206, 'রটনস': 12279, 'চগড়উইক': 5752, 'চসন': 5976, 'বনচল': 10442, 'অনএয়': 113, 'আয়তনও': 1394, 'ওনত': 4166, 'বতট': 10362, 'শকব': 13529, 'বআর': 10137, 'ভরসরণ': 10986, 'ভরভর': 10979, 'এআসপ': 2888, 'দহগ': 8501, 'টমহলসহ': 6969, 'আজমগড়৷': 850, 'আজমগড়': 849, 'ই৷অন': 2225, '৷আজমগড়': 15501, 'যশওয়': 11890, 'ইমস৷': 2054, 'সলব': 14617, 'হয়ল': 15074, 'টকরই': 6768, 'এএফএইচএসব': 3020, 'ইউসম': 1580, 'ইফগ': 1956, 'ইউসহ': 1581, 'খরমন': 5068, 'ঘরশ': 5647, 'পকনগর': 9525, 'সআজ': 14098, 'পনআজ': 9722, 'তবসস': 7801, 'ইশপ': 2156, 'আইড়সহ': 688, 'আসলও': 1323, 'যপদপ': 11788, 'এফআরস': 3435, 'ডকক': 7238, 'ইঅল': 1423, 'বতসল': 10377, 'রকজ': 12116, 'থতমত': 8047, 'টরওয়': 6981, 'এসএনএল৷': 3866, 'বদলক': 10406, 'গরঘ': 5422, '৷ঘটন': 15519, '৷মন': 15537, 'শট৷': 13582, 'ম৷এব': 11609, 'ঘটল৷': 5586, 'জখচ': 6165, 'খলই': 5073, 'উৎসবভ': 2783, 'আগমণ': 787, 'মদনগর': 11285, 'বসয়': 10747, 'চটক': 5776, 'ওরজ': 4222, 'থগঞ': 8027, 'থচর': 8033, 'সরলপ': 14593, 'এইচওস': 2948, 'দনগরক': 8269, 'ছঘড': 6031, 'কনরম৷': 4561, 'অসম৷': 382, 'ন৷হ': 9460, 'একইআক': 3085, 'অবগতই': 215, 'রকঠ': 12121, 'আউড়': 722, 'থকগ': 8010, 'এএসক': 3068, 'খরচব': 5058, 'য়ণঞ': 15326, 'মহনগর': 11545, 'লভও': 13322, 'আউশন': 720, 'উফস': 2621, '৷আরট': 15505, 'তকরণব': 7629, 'রবণও': 12582, 'উদও': 2491, 'হজমও': 14819, 'ওসর': 4265, 'দশকপ': 8459, 'নইমন': 8782, 'লনময়': 13225, 'লনসন': 13237, 'ণবস': 7515, 'রগস': 12189, 'পমনস': 9795, 'জসবই': 6516, 'এজএস': 3220, 'যসদ': 11902, 'লশকর': 13374, 'ষদসঠ': 13995, 'লতঘ': 13151, 'লতসঠ': 13162, 'খসঠ': 5090, 'টবলফর': 6927, 'টবলসর': 6937, 'পয়নম': 9940, 'পদকব': 9685, 'পদকশ': 9688, 'গঠকসব': 5208, 'নয়কর': 9382, 'য়কএমন': 15271, 'লনআসল': 13199, 'ডলল': 7369, 'ময়এই': 11580, 'লকমসহ': 13030, 'সরফভ': 14574, 'টসসহপ': 7073, 'সফটচ': 14378, 'জলসম': 6504, 'জঅত': 6112, 'ফরব': 10046, 'এসএআরপ': 3850, 'পদসঙ': 9716, 'নবগড়': 9141, 'ওয়ক': 4276, 'ওঠত': 4142, 'ৎফল': 15123, 'আইশ': 676, 'যয়নই': 11941, 'ষণসমস': 13959, 'চনখ': 5804, 'চনঘ': 5806, 'আহমদঘ': 1350, 'ঘনঘ': 5600, 'উসজ': 2732, 'সয়ম': 14725, 'টএসব': 6736, 'এসএনস': 3868, 'লবণসহ': 13304, 'আইএফএল': 509, 'য়ডটকম': 15317, 'মজফফরপ': 11199, 'কড়ঝক': 4903, 'উরজ': 2676, 'জমও': 6423, 'ইনফয়': 1902, 'পআরট': 9467, 'ষতই': 13964, 'বলডনট': 10660, 'ড়ইপ': 15159, 'ডআগ': 7177, 'বলসন': 10688, 'করণজ': 4692, 'পউড': 9481, 'আজশ': 864, 'এমএনএ': 3573, 'এনএইচথ': 3323, 'এইচএমফ': 2937, 'কবসত': 4607, 'যকব': 11645, 'বড়ঙ': 10797, 'এমএমইএ': 3592, 'শয়নশয': 13820, 'যজনসহ': 11701, 'টকলসহ': 6780, 'একজনন': 3132, 'ণ²': 7427, 'জলবদ': 6489, 'ষৎক': 14060, 'উপরওয়': 2595, 'জয়ঢ': 6547, 'গঠনর': 5230, 'ইহজগত': 2201, 'এরম': 3704, 'এসএনএলড': 3865, 'গণল': 5283, 'বরণই': 10576, 'রনভ': 12502, 'মনল': 11343, 'রআউল': 11981, 'আরএসএ': 1159, 'যপদস': 11790, 'ঠমক': 7159, 'লইল': 12970, 'সইশ': 14125, 'দঘর': 8230, 'এলএফএ': 3737, 'টরভ': 6997, 'ডইউথ': 7186, 'এআইপ': 2873, 'ডএমক': 7225, 'ইষষ': 2162, 'পমফ': 9796, 'দহনও': 8505, 'উইচক': 2288, 'পনচলচ': 9731, 'টসএব': 7038, 'আরএআর': 1128, 'এইচআইএফ': 2903, 'দলদল': 8428, 'য়সন': 15478, 'গঠকউভয়': 5202, 'চমকজ': 5849, 'রবময': 12601, 'য়নজ': 15377, 'উবওয': 2625, 'তকরণঅর': 7625, 'টটস': 6836, 'রদলসহ': 12470, 'রদখল': 12453, 'রঐক': 12082, 'শবল': 13712, 'এতখ': 3256, 'দনল': 8293, 'ইইর': 1468, 'ইইক': 1466, 'খঅভ': 4925, 'গসত': 5506, 'ঘপশ': 5614, 'ষথ': 13975, 'ইএলস': 1632, 'কমএমন': 4620, 'চমকব': 5854, 'ªস': 0, 'টউপর': 6722, 'তরসনজ': 7905, 'আইঅ': 411, 'মএসআরক': 11106, 'ডসপ': 7395, 'হয়ফ': 15064, 'অনসট': 143, 'ঋণধ': 2835, 'এইচআরএক': 2909, 'ষদব': 13989, 'ষদআশর': 13979, 'এরঘ': 3689, 'এরসঠ': 3709, 'এরখ': 3686, 'এরগ': 3687, 'চএসব': 5712, 'শতকত': 13595, 'নগন': 8919, 'পবই': 9776, 'মটকর': 11212, 'ইটউত': 1769, 'আহমদউত': 1345, 'বনগরউত': 10436, 'নউগ': 8800, 'ইশট': 2153, 'জঅর': 6114, 'সডর': 14262, 'ইশম': 2159, 'বগনএই': 10243, 'আইএফএড': 505, 'নশটও': 9287, 'যওগর': 11635, 'তরলট': 7900, 'ইএনএ': 1596, 'অবসল': 262, 'রএগ': 12069, 'টমসস': 6962, 'আরআরপ': 1118, 'আশহ': 1279, 'জনঅরণ': 6258, 'মইজ': 11063, 'ডঅফ': 7170, 'ডসফ': 7397, 'নআফগ': 8761, 'ডআয়': 7184, 'আইএসএর': 566, 'রজনকভ': 12243, 'ওইঅ': 4027, 'যমউত': 11833, 'যমপ': 11854, 'লবপ': 13309, 'হঠন': 14842, 'গনদ': 5341, 'রলর': 12742, 'ভলক': 10989, 'মরট': 11423, 'ডয়নন': 7417, 'উসওয়': 2727, 'গহণ': 5518, 'নমমত': 9223, 'ড়ঘ': 15178, 'সফলর': 14410, 'ষবস': 14015, 'দমসহ': 8353, 'ন৷দ': 9449, 'যটকর': 11711, 'হপত': 14902, 'মনযন': 11341, 'ফলকক': 10067, 'উএলইড': 2371, 'আকনর': 744, 'ফরও': 10032, 'উলখ': 2691, 'খনগ': 4993, 'অসফক': 368, 'অসফ': 367, 'টএভ': 6733, 'ন৷নওয়': 9450, '৷য': 15538, 'হয়৷আইনজ': 15080, 'ন৷আদ': 9444, 'তর৷': 7909, 'হন৷প': 14899, 'ডন৷': 7307, 'আগমনই': 789, 'অসপ': 366, 'রটনপ': 12277, 'ফসলগ': 10113, 'ষকমড': 13875, 'হওল': 14764, 'আউর': 717, 'রউপহ': 12047, 'ইইল': 1469, 'তনদ': 7732, 'আíসমর': 407, 'মহৎজন': 11567, 'আইআইএস': 418, 'ঘনও': 5598, 'টফরহ': 6900, 'য়তউল': 15335, 'উডওয': 2459, 'দশজনক': 8466, 'ৎসবন': 15151, 'উএফএমপ': 2364, 'উৎসবঢ': 2778, 'সইঞ': 14114, 'জঠর': 6225, 'ঊদ': 2809, 'তহয': 7971, 'জনসনদ': 6367, 'পঅ': 9461, 'ষণবর': 13944, 'ডলসক': 7372, 'কইসল': 4331, 'রঋণউত': 12056, 'বছরঘ': 10276, 'সময়উত': 14517, 'ভবর': 10953, 'কটজনক': 4440, 'মশত': 11484, 'ইসও': 2168, 'ইএইচএম': 1588, 'চঅন': 5698, '৷এই': 15508, 'একইজ': 3089, 'যয়নরতদ': 11946, 'সএফ': 14153, 'আইওএসক': 593, 'বয়র': 10840, 'হনৎ': 14897, 'এসইএফ': 3836, 'আপতত': 990, 'সরণম': 14565, 'শনজটম': 13641, 'তএই': 7586, 'দজনন': 8241, 'ইউআরএলট': 1484, 'পনসবখ': 9750, 'সকস': 14205, 'নভজ': 9199, 'ষগণ': 13891, 'দকগণ': 8187, 'পণম': 9625, 'সদড়': 14304, 'খরমনস': 5069, 'নসস': 9343, 'থডস': 8043, 'এরহ': 3710, 'সইনট': 14119, 'ণসঞ': 7543, 'ছনজ': 6060, 'টআউটও': 6688, 'আনয': 971, 'অসমপর': 377, 'গঢ': 5240, 'হয়দ': 15060, 'সএত': 14150, 'ঊষশ': 2819, 'হবসন': 14919, 'রসস': 12827, 'অলআউটও': 323, 'ওঈউ': 4046, 'ঈজঞ': 2229, 'উএনএ': 2359, 'উএনএর': 2360, 'ইনএই': 1871, 'দনকর': 8265, 'হকওয়': 14771, 'চরমঈন': 5916, 'লঅস': 12947, 'খরম': 5067, 'রঙয়': 12203, 'মহলসহ': 11564, 'চলসবই': 5964, 'লনআত': 13197, 'চশক': 5968, 'জবপ': 6409, 'সহজত': 14656, 'সরএই': 14543, 'জনকশ': 6286, 'ভলকভ': 10990, 'এআইআইব': 2856, 'ইরমক': 2075, 'সবধরণ': 14428, 'আসনক': 1299, 'সদনও': 14283, 'আলওয়': 1217, 'এফএসএ': 3473, 'এফএসএর': 3475, 'তখনব': 7645, 'নরহস': 9267, 'এনদক': 3388, 'ইভব': 2004, 'ইইএফ': 1465, 'নভগ': 9197, 'এনআইএইপ': 3281, 'টমপ': 6952, 'ভবস': 10956, 'ওপরক': 4181, 'রআরট': 12000, 'জউয়': 6128, 'এআইএন': 2863, 'ধজয়ই': 8581, 'আইএসআরইউ': 557, 'ভজনকত': 10886, 'সউইথ': 14133, 'শপদ': 13687, 'দরদক': 8376, 'বড়ঝ': 10804, 'অভয়ক': 276, 'সইপ': 14120, 'কমজগত': 4630, 'দরপলই': 8386, 'বসর': 10740, 'আরএএফ': 1130, 'হকন': 14783, 'মগজধ': 11152, 'ধড়ফড়': 8728, 'হয়আশ': 15038, 'রসনর': 12799, 'ধরনকয়': 8678, 'ইউএপ': 1517, 'আইইএম': 449, 'উৎসদ': 2769, 'য়আইস': 15245, 'রইচ': 12014, 'ভবপ': 10950, 'কপল': 4581, 'গড়ম': 5544, 'ণবধর': 7509, 'ণবব': 7511, 'রপসসহ': 12546, 'মমক': 11399, 'ইইফ': 1467, 'লটই': 13109, 'œষ': 7, 'সলফ': 14616, 'শমহ': 13730, 'উমরইসল': 2663, 'ওইএমএস': 4028, 'এনএইচ': 3316, 'আমম': 1081, 'ওএসয': 4089, 'সসমর': 14639, 'হটফ': 14834, 'লঝড়': 13106, 'ঐহ': 4001, 'থরভর': 8115, 'রকজয': 12117, 'পণপর': 9622, 'ফভ': 10022, 'কগল': 4393, 'আরআরআরস': 1114, 'কটময': 4456, 'ষকহ': 13887, 'রমকল': 12636, 'বছরহ': 10290, 'সউইয়': 14134, 'একরত': 3184, 'য়ণম': 15330, 'আইআইএএস': 415, 'আইএলএফএসএল': 539, 'রহপ': 12874, 'য়মনস': 15432, 'হইচ': 14736, 'উঠপ': 2449, 'জপল': 6392, 'রউল': 12051, 'আইএলআরএফ': 538, 'নসবই': 9329, 'ড়নকদ': 15197, 'সদরউদ': 14289, 'পশনসহ': 9873, 'ভরট': 10965, 'ইভসহ': 2011, 'কদমব': 4517, 'এএআই': 2989, 'এএআইয়': 2991, 'গলফট': 5477, 'ঞৎ': 6675, 'রগতভ': 12181, 'ইলসস': 2146, 'আমঝ': 1067, 'তš': 7558, 'আশছ': 1270, 'উএন': 2358, 'ষচর': 13898, 'নভট': 9200, 'রজননহ': 12253, 'ঝযড়ৎ': 6619, 'ধমব': 8659, 'ঝবৎ': 6613, 'রপব': 12534, 'নয়উৎসবম': 9373, 'শপথও': 13684, 'এইউডব': 2893, 'বয়জ': 10832, 'জরহ': 6449, 'ঝলকদ': 6631, 'ওএফস': 4071, 'ইউপস': 1567, 'সতরঞ': 14270, 'ডবলক': 7327, 'আবহওয়': 1048, 'আইএলট': 545, 'যপড়': 11795, 'এমএট': 3569, 'ববইতল': 10510, 'এসআরওট': 3821, 'হপম': 14903, '৷সরক': 15543, '৷ল': 15539, 'রতর৷': 12412, 'ন৷ভ': 9455, 'বদলট': 10411, 'রঙধন': 12199, 'গধৎরমড়ষফ': 5330, 'শনসগ': 13665, 'দশকক': 8456, 'রতকরও': 12380, 'যৎদ': 11922, 'কহর': 4889, 'জয়চ': 6540, 'পথজ': 9656, 'আসরচ': 1315, 'ভরম': 10980, 'বকয়': 10232, 'বছরবছর': 10282, 'ধবচন': 8640, 'যউচ': 11621, 'কজনর': 4421, 'যরকমভ': 11877, 'নয়নকল': 9403, 'নগতম': 8914, 'ওএইচ': 4059, 'খবরএকঘ': 5023, 'কনগরপ': 4543, 'দশই': 8453, 'একইঢ': 3090, 'শসময়': 13785, 'বপনগ': 10499, 'ঢ়ন': 15238, 'পগন': 9542, 'বপনসহ': 10503, 'টহলক': 7082, 'লটভ': 13126, 'লযদ': 13349, 'এগমন': 3211, 'রচট': 12206, 'লদস': 13181, 'ইজয়ম': 1763, 'ন৷র': 9457, '৷সন': 15542, 'গজয': 5188, 'তএকট': 7588, 'এভলফ': 3512, 'রমণছ': 12653, 'এসএলড': 3912, 'এনএনব': 3334, 'এইচআরস': 2914, 'এইচএর': 2940, 'এসএফক': 3876, 'তকধ': 7613, 'ঠবল': 7155, 'ইমসগ': 2049, 'জধন': 6252, 'ণভয': 7522, 'একটন': 3143, 'ঘরসহ': 5650, 'রপথসভ': 12530, 'কজশ': 4427, 'ঘসহক': 5664, 'আনইনভ': 945, 'চপয়': 5836, 'পরউত': 9803, 'সবউত': 14414, 'বউঠ': 10172, 'ধকই': 8553, 'ওটম': 4138, 'ফঅভ': 9946, 'টআগ': 6690, 'রভম': 12624, 'কহল': 4890, 'নফগ': 9125, 'মৎসসম': 11575, 'আলয়গ': 1265, 'আলয়উত': 1264, 'গরণউত': 5426, 'এবজন': 3504, 'পতনহ': 9641, 'সনইয়': 14312, 'উজটন': 2407, 'খলম': 5082, 'এআরএসএস': 2885, 'ডবট': 7321, 'রলও': 12729, 'নয়র': 9433, 'আফল': 1025, 'ধনই': 8599, 'সবজল': 14424, 'ইয়গ': 2210, 'রজননউত': 12248, 'রজননপদ': 12251, 'তটন': 7683, 'তকব': 7617, 'টকফ': 6763, 'এলএমএ': 3746, 'মলছ': 11462, 'গইনট': 5127, 'রসপগ': 12804, 'সরজম': 14556, 'হআমদ': 14732, 'ওতরঙ': 4155, 'তচরক': 7662, 'ধকরণব': 8564, 'ইএভ': 1611, 'সলখ': 14609, 'লগড': 13063, 'এঘর': 3214, 'জনড': 6309, 'অফন': 203, 'এনএসআইয': 3356, 'শগতভ': 13554, 'ওএইউ': 4058, 'হযরতক': 14936, 'খআসল': 4928, 'মআই': 11044, 'সজলত': 14237, 'নইত': 8777, 'অসমন': 376, 'দড়ক': 8514, 'এমএত': 3571, 'দনরব': 8292, 'রমণরব': 12667, 'লনরব': 13230, 'সএমওআর': 14157, 'এইচওয়': 2949, 'নএনওয়': 8824, 'সময়এট': 14518, 'জরফ': 6448, 'রঅয': 11971, 'আচরণসঙ': 818, 'চমস': 5867, 'নখক': 8895, 'একরগ': 3183, 'ওআনন': 4018, 'লহল': 13427, 'লফসহ': 13277, 'হলৎ': 15010, 'ড়নসহ': 15201, 'কখনওই': 4382, 'আইএলওক': 542, 'উইজম': 2291, 'ফরকল': 10036, 'গদখলক': 5320, 'বসও': 10709, 'বচনট': 10255, 'সদভ': 14285, 'গজপ': 5185, 'এআইত': 2872, 'বকফ': 10217, 'বছয়': 10292, 'রবপ': 12598, 'উরখ': 2674, 'নবভ': 9168, 'ভজনট': 10888, 'রএয়': 12081, 'দআইস': 8152, 'চরণয': 5901, 'ণকলক': 7445, 'আলমমহ': 1254, 'রইও': 12012, 'এমইউড': 3543, 'জওহরব': 6144, 'টসরক': 7068, 'উৎসএট': 2762, 'উৎসসরক': 2794, 'যয়র': 11952, 'নয়নবঞ': 9416, 'গসট': 5504, 'রডটন': 12293, 'মইউস': 11061, 'খকসব': 4953, 'চয়গ': 5999, 'জনকয়': 6288, 'বদনখ': 10387, 'ওঅত': 4004, 'চরখ': 5885, 'কনকব': 4537, 'লরহ': 13366, 'রওশনব': 12100, 'পদবণ': 9705, 'চরকদ': 5884, 'এফএসএস': 3476, 'এফএসএসক': 3477, 'হইট': 14741, 'ইফপর': 1965, 'ইটসপথ': 1800, 'গজগমন': 5178, 'ড়ইম': 15160, 'আথওয়': 918, 'শকরণ': 13535, 'সএসডব': 14165, 'রয়ণগঞ': 12915, 'রতসক': 12417, 'যমহ': 11864, 'রথই': 12423, 'লয়আম': 13439, 'মণভ': 11239, 'মফজল': 11365, 'লয়চট': 13449, 'লয়মহ': 13466, 'দয়সহ': 8532, 'নয়নপর': 9414, 'যঅরণক': 11614, 'ষজনই': 13902, 'পকগন': 9509, 'ণচল': 7460, 'উচপ': 2397, 'বণক': 10349, 'এমএসক': 3620, 'য়উভয়': 15255, 'ঘবছর': 5616, 'স৷স': 14729, 'আইএএনএস৷': 474, 'জঢ': 6228, 'ফরআম': 10027, 'টআল': 6705, 'আসফ': 1307, 'য়তও': 15336, 'সলন': 14614, 'এফএফব': 3458, 'এনইউএস': 3304, 'আরখ': 1177, 'সড়কজ': 14712, 'পপভ': 9769, 'অবতলগ': 227, 'রৎগ': 12902, 'ফলনগ': 10086, 'ডএইড': 7212, 'ইটবট': 1787, 'রজনট': 12245, 'রফলন': 12561, 'অপনয়ন': 168, 'বয়সম': 10849, 'পআইস': 9464, 'সউগ': 14135, 'মইফ': 11070, 'আচচ': 807, 'ওগল': 4109, 'নদস': 9082, 'টসজয়': 7046, 'অসহনশ': 387, 'লগসহ': 13075, 'কমঘ': 4626, 'জলবসন': 6491, 'বরকতময়': 10557, 'কলমচর': 4790, 'টআপসহ': 6701, 'বদলও': 10405, 'ররথ': 12716, 'ইআরএর': 1440, 'এএসস': 3074, 'তলবসহ': 7927, 'টমসম': 6961, 'ঠপথন': 7150, 'বয়নস': 10837, 'দলশহ': 8448, 'লসটন': 13388, 'রমউইচক': 12631, 'অপয': 174, 'সউড': 14137, 'রইমপ': 12023, 'লবধ': 13306, 'ভলভক': 10998, 'লবণজ': 13296, 'বরফজ': 10602, 'উপদফতর': 2567, 'উপআইন': 2534, 'ডউডস': 7206, '৷আর': 15504, 'স৷এ': 14728, 'ষক৷': 13888, 'ন৷ব': 9453, 'য়সদ': 15477, 'কখচ': 4379, 'সডম': 14261, 'এইচআরআই': 2907, 'এইচআরআইয়': 2908, 'কএক': 4347, 'গশর': 5496, 'এসএএফএফ': 3855, 'লউক': 12974, 'উমম': 2661, 'গরমমসল': 5444, 'লমর': 13344, 'ইনউইন': 1868, 'পতঞ': 9631, 'আপগত': 983, 'মভরত': 11394, 'নপরশ': 9122, 'পকথনপ': 9521, 'আপরদ': 1005, 'থদন': 8053, 'এমইএনএর': 3549, 'আরএত': 1133, 'ডইসহ': 7190, 'এআইএস': 2867, 'লকমস': 13029, 'রআইস': 11978, 'মশর': 11489, 'থরও': 8101, 'ষণবরগ': 13945, 'এমইএসপ': 3554, 'জনসক': 6360, 'অখন': 33, 'ঔরঙ': 4284, 'গধপজ': 5327, 'সড়ৎ': 14722, 'কগর': 4392, 'রজওয': 12228, 'শকদল': 13525, 'ঞধ': 6664, 'লটনই': 13117, 'অলমস': 336, 'য়আরও': 15248, 'নয়আম': 9370, 'টকপত': 6762, 'শওকতক': 13507, 'রঙগ': 12197, 'দএ': 8166, 'রঋণভ': 12058, 'য়কসম': 15289, 'উপদষ': 2573, 'জয়সলম': 6579, 'লখনউ': 13052, 'গডম': 5238, 'বয়সগ': 10846, 'যতমক': 11743, 'ফসলব': 10116, 'টবলধ': 6924, 'ঘয': 5624, 'পসবক': 9898, 'গসও': 5499, 'টবলসত': 6935, 'ফঝম': 9978, 'উইলয়': 2336, 'বছন': 10266, 'ডময': 7339, 'শয়ম': 13821, 'ঘটনস': 5581, 'উড়নচণ': 2801, 'ইইয়': 1472, 'কঝ': 4429, 'সএসড': 14164, 'এএলএইচ': 3049, 'উবসদ': 2633, 'নটবরল': 9021, 'শপচ': 13677, 'নজফগড়': 8994, 'নআধ': 8755, 'ইজব': 1751, 'মগট': 11154, 'সদরস': 14296, 'ইয়নট': 2219, 'উদয়নসহ': 2508, 'আরএসএম': 1160, 'চলতত': 5946, 'ইঠ': 1806, 'জহরত': 6526, 'লগম': 13071, 'মরবন': 11447, 'ঠকম': 7111, 'গরএই': 5415, 'ইডই': 1808, 'কদশ': 4524, 'যতমসহয': 11744, 'পসময়ট': 9906, 'শইত': 13487, 'ষপত': 14005, 'ইলআজ': 2083, 'নয়ঘ': 9384, 'লদলম': 13180, 'চজয়হ': 5772, 'নএসবও': 8842, 'ইনইক': 1866, 'ডরভ': 7349, 'ডবলট': 7328, 'ওঅভ': 4008, 'অসওয়': 355, 'অমলক': 296, 'ধরনআজ': 8672, 'উৎসবরত': 2785, 'বরফশ': 10606, 'ওঈঞঊ': 4047, 'চনসবক': 5826, 'হকইন': 14769, 'এগল': 3212, 'হলহ': 15009, 'ðম': 6, 'হদণ': 14870, 'রশল': 12760, 'জনরশ': 6353, 'নলজ': 9273, 'মহবপ': 11549, 'সইও': 14111, 'হকজ': 14778, 'টবলম': 6930, 'রথদ': 12429, 'কসনস': 4868, 'ইটতথ': 1780, 'টসময': 7064, 'নছরদ': 8960, 'শশব': 13772, 'ফবর': 10020, 'লধনও': 13187, 'ষমতশ': 14022, 'হয়তব': 15059, 'আয়মন': 1404, 'ওমরদ': 4211, 'এইচইড': 2918, 'নলত': 9277, 'ধয়': 8729, 'হটজ': 14829, 'এডন': 3243, 'সফরজ': 14393, 'ছয়আর': 6091, 'ধনয': 8616, 'এসএমইখ': 3885, 'আইএমএক': 523, 'থধ': 8054, 'গয়হ': 5550, 'সহবতপ': 14677, 'এডমনটন': 3249, 'ইসফ': 2184, 'একশও': 3190, 'ষকসঠ': 13883, 'ড়আম': 15157, 'ঠউত': 7096, 'টবলউত': 6916, 'গজখ': 5175, 'লঅভ': 12944, 'রচলচ': 12216, 'আলচন': 1224, 'এনএইচট': 3321, 'যমখ': 11838, 'যমঘ': 11840, 'রপরবর': 12542, 'নআঞ': 8753, 'দমট': 8339, 'ছউজ': 6018, 'জলঝর': 6475, 'ফবল': 10021, 'উডও': 2458, 'চরবল': 5913, 'নবগর': 9140, 'এপম': 3406, 'নরশ': 9262, 'বয়নযন': 10835, 'ননযন': 9103, 'নসইভ': 9303, 'দমনসহ': 8348, 'ঠঅঞ': 7093, 'জনগণউত': 6293, 'আইইউয়': 446, 'উজউইকসহ': 2403, 'রওচ': 12086, 'আইইউত': 442, 'ধরলসরক': 8697, 'ইএএসট': 1591, 'রমণশক': 12669, 'আহমদপ': 1351, 'পকই': 9504, 'রগড়ছ': 12191, 'এলআরআই': 3717, 'ডবদ': 7324, 'সদগত': 14280, 'বলফ': 10671, 'ববসহ': 10523, 'উইড়': 2344, 'ব৷': 10856, 'নঅনন': 8739}\n"
          ]
        }
      ]
    },
    {
      "cell_type": "code",
      "metadata": {
        "execution": {
          "iopub.status.busy": "2021-10-19T16:59:52.113604Z",
          "iopub.execute_input": "2021-10-19T16:59:52.113832Z",
          "iopub.status.idle": "2021-10-19T16:59:53.189350Z",
          "shell.execute_reply.started": "2021-10-19T16:59:52.113800Z",
          "shell.execute_reply": "2021-10-19T16:59:53.188513Z"
        },
        "trusted": true,
        "colab": {
          "base_uri": "https://localhost:8080/"
        },
        "id": "2AmMUnJ85htY",
        "outputId": "ce20e474-6a49-4305-86ce-3c54f049f148"
      },
      "source": [
        "print(\"Dense representation of bag_of_words:\\n{}\".format(\n",
        "bangla_train_X.toarray()))"
      ],
      "execution_count": 31,
      "outputs": [
        {
          "output_type": "stream",
          "name": "stdout",
          "text": [
            "Dense representation of bag_of_words:\n",
            "[[0 0 0 ... 0 0 0]\n",
            " [0 0 0 ... 0 0 0]\n",
            " [0 0 0 ... 0 0 0]\n",
            " ...\n",
            " [0 0 0 ... 0 0 0]\n",
            " [0 0 0 ... 0 0 0]\n",
            " [0 0 0 ... 0 0 0]]\n"
          ]
        }
      ]
    },
    {
      "cell_type": "code",
      "metadata": {
        "execution": {
          "iopub.status.busy": "2021-10-19T16:59:53.190569Z",
          "iopub.execute_input": "2021-10-19T16:59:53.191029Z",
          "iopub.status.idle": "2021-10-19T16:59:53.194683Z",
          "shell.execute_reply.started": "2021-10-19T16:59:53.190988Z",
          "shell.execute_reply": "2021-10-19T16:59:53.193997Z"
        },
        "trusted": true,
        "id": "4NMmxMMs5htZ"
      },
      "source": [
        "#print(\"Vocabulary size: {}\".format(len(vect.vocabulary_)))\n",
        "#print(\"Vocabulary content:\\n {}\".format(vect.vocabulary_))"
      ],
      "execution_count": 32,
      "outputs": []
    },
    {
      "cell_type": "code",
      "metadata": {
        "execution": {
          "iopub.status.busy": "2021-10-19T16:59:53.195907Z",
          "iopub.execute_input": "2021-10-19T16:59:53.197514Z",
          "iopub.status.idle": "2021-10-19T16:59:53.219837Z",
          "shell.execute_reply.started": "2021-10-19T16:59:53.197473Z",
          "shell.execute_reply": "2021-10-19T16:59:53.219201Z"
        },
        "trusted": true,
        "colab": {
          "base_uri": "https://localhost:8080/"
        },
        "id": "MhKIcUtV5htZ",
        "outputId": "8f859f80-8b3d-42ca-8521-1e859ad706a1"
      },
      "source": [
        "feature_names = vect.get_feature_names()\n",
        "print(\"Number of features: {}\".format(len(feature_names)))\n",
        "print(\"First 20 features:\\n{}\".format(feature_names[:20]))\n",
        "print(\"Features 20010 to 20030:\\n{}\".format(feature_names[10020:10040]))\n",
        "print(\"Every 2000th feature:\\n{}\".format(feature_names[::2000]))"
      ],
      "execution_count": 33,
      "outputs": [
        {
          "output_type": "stream",
          "name": "stdout",
          "text": [
            "Number of features: 15547\n",
            "First 20 features:\n",
            "['ªস', '¾¾¾¾¾¾', '¾¾¾¾¾¾¾', '¾¾¾¾¾¾¾¾¾¾¾¾¾', 'èসঠ', 'íক', 'ðম', 'œষ', 'অঅবহ', 'অইঈ', 'অইগ', 'অইছ', 'অইড', 'অইব', 'অইয়', 'অউঐ', 'অউক', 'অউচ', 'অউটস', 'অউর']\n",
            "Features 20010 to 20030:\n",
            "['ফবর', 'ফবল', 'ফভ', 'ফভল', 'ফম', 'ফয', 'ফর', 'ফরআম', 'ফরই', 'ফরউদ', 'ফরউল', 'ফরএভ', 'ফরও', 'ফরওয', 'ফরওয়', 'ফরক', 'ফরকল', 'ফরগ', 'ফরচ', 'ফরজ']\n",
            "Every 2000th feature:\n",
            "['ªস', 'ইভজ', 'ঐসব', 'চয়জ', 'থও', 'ফতথ', 'রআরট', 'ষন']\n"
          ]
        },
        {
          "output_type": "stream",
          "name": "stderr",
          "text": [
            "/usr/local/lib/python3.7/dist-packages/sklearn/utils/deprecation.py:87: FutureWarning: Function get_feature_names is deprecated; get_feature_names is deprecated in 1.0 and will be removed in 1.2. Please use get_feature_names_out instead.\n",
            "  warnings.warn(msg, category=FutureWarning)\n"
          ]
        }
      ]
    },
    {
      "cell_type": "markdown",
      "metadata": {
        "id": "_keqY4Eo5htZ"
      },
      "source": [
        "**Let's try to train now using logistic regression**"
      ]
    },
    {
      "cell_type": "code",
      "metadata": {
        "execution": {
          "iopub.status.busy": "2021-10-19T16:59:53.220961Z",
          "iopub.execute_input": "2021-10-19T16:59:53.221672Z",
          "iopub.status.idle": "2021-10-19T17:00:08.921435Z",
          "shell.execute_reply.started": "2021-10-19T16:59:53.221635Z",
          "shell.execute_reply": "2021-10-19T17:00:08.920586Z"
        },
        "trusted": true,
        "colab": {
          "base_uri": "https://localhost:8080/"
        },
        "id": "COoFYXVL5htZ",
        "outputId": "d9d0026d-4a80-44f2-f473-6993870a2a96"
      },
      "source": [
        "!pip install scikit-learn  -U\n",
        "!pip install delayed"
      ],
      "execution_count": 34,
      "outputs": [
        {
          "output_type": "stream",
          "name": "stdout",
          "text": [
            "Requirement already satisfied: scikit-learn in /usr/local/lib/python3.7/dist-packages (1.0)\n",
            "Requirement already satisfied: numpy>=1.14.6 in /usr/local/lib/python3.7/dist-packages (from scikit-learn) (1.19.5)\n",
            "Requirement already satisfied: joblib>=0.11 in /usr/local/lib/python3.7/dist-packages (from scikit-learn) (1.0.1)\n",
            "Requirement already satisfied: scipy>=1.1.0 in /usr/local/lib/python3.7/dist-packages (from scikit-learn) (1.4.1)\n",
            "Requirement already satisfied: threadpoolctl>=2.0.0 in /usr/local/lib/python3.7/dist-packages (from scikit-learn) (3.0.0)\n",
            "Requirement already satisfied: delayed in /usr/local/lib/python3.7/dist-packages (0.11.0b1)\n",
            "Requirement already satisfied: redis in /usr/local/lib/python3.7/dist-packages (from delayed) (3.5.3)\n",
            "Requirement already satisfied: hiredis in /usr/local/lib/python3.7/dist-packages (from delayed) (2.0.0)\n"
          ]
        }
      ]
    },
    {
      "cell_type": "code",
      "metadata": {
        "execution": {
          "iopub.status.busy": "2021-10-19T17:00:08.923398Z",
          "iopub.execute_input": "2021-10-19T17:00:08.923673Z",
          "iopub.status.idle": "2021-10-19T17:01:36.008652Z",
          "shell.execute_reply.started": "2021-10-19T17:00:08.923634Z",
          "shell.execute_reply": "2021-10-19T17:01:36.005709Z"
        },
        "trusted": true,
        "colab": {
          "base_uri": "https://localhost:8080/"
        },
        "id": "oxxAI7245htZ",
        "outputId": "293ff73a-10ae-498b-8b01-8c5509beb3eb"
      },
      "source": [
        "#import delayed\n",
        "from sklearn.model_selection import cross_val_score\n",
        "from sklearn.linear_model import LogisticRegression\n",
        "scores = cross_val_score(LogisticRegression(solver='liblinear'), bangla_train_X, bangla_train_y, cv=5)\n",
        "print(\"Mean cross-validation accuracy: {:.2f}\".format(np.mean(scores)))"
      ],
      "execution_count": 35,
      "outputs": [
        {
          "output_type": "stream",
          "name": "stderr",
          "text": [
            "/usr/local/lib/python3.7/dist-packages/sklearn/svm/_base.py:1201: ConvergenceWarning: Liblinear failed to converge, increase the number of iterations.\n",
            "  ConvergenceWarning,\n"
          ]
        },
        {
          "output_type": "stream",
          "name": "stdout",
          "text": [
            "Mean cross-validation accuracy: 0.86\n"
          ]
        }
      ]
    },
    {
      "cell_type": "markdown",
      "metadata": {
        "id": "jsiFJ6gW5htZ"
      },
      "source": [
        "**Now we will tune the regularization parameter 'C' of logistic regression to check if it increases the accuracy.**"
      ]
    },
    {
      "cell_type": "code",
      "metadata": {
        "execution": {
          "iopub.status.busy": "2021-10-19T17:01:36.010197Z",
          "iopub.execute_input": "2021-10-19T17:01:36.010507Z",
          "iopub.status.idle": "2021-10-19T17:09:17.042784Z",
          "shell.execute_reply.started": "2021-10-19T17:01:36.010459Z",
          "shell.execute_reply": "2021-10-19T17:09:17.041778Z"
        },
        "trusted": true,
        "colab": {
          "base_uri": "https://localhost:8080/"
        },
        "id": "Y1R_sUsQ5htb",
        "outputId": "1423da08-01d8-40d3-f1ab-724c635cfa2d"
      },
      "source": [
        "from sklearn.model_selection import GridSearchCV\n",
        "param_grid = {'C': [0.001, 0.01, 0.1, 1, 10, 20]}\n",
        "grid = GridSearchCV(LogisticRegression(solver='liblinear'), param_grid, cv=5)\n",
        "grid.fit(bangla_train_X, bangla_train_y)\n",
        "print(\"Best cross-validation score: {:.2f}\".format(grid.best_score_))\n",
        "print(\"Best parameters: \", grid.best_params_)"
      ],
      "execution_count": 36,
      "outputs": [
        {
          "output_type": "stream",
          "name": "stderr",
          "text": [
            "/usr/local/lib/python3.7/dist-packages/sklearn/svm/_base.py:1201: ConvergenceWarning: Liblinear failed to converge, increase the number of iterations.\n",
            "  ConvergenceWarning,\n",
            "/usr/local/lib/python3.7/dist-packages/sklearn/svm/_base.py:1201: ConvergenceWarning: Liblinear failed to converge, increase the number of iterations.\n",
            "  ConvergenceWarning,\n",
            "/usr/local/lib/python3.7/dist-packages/sklearn/svm/_base.py:1201: ConvergenceWarning: Liblinear failed to converge, increase the number of iterations.\n",
            "  ConvergenceWarning,\n",
            "/usr/local/lib/python3.7/dist-packages/sklearn/svm/_base.py:1201: ConvergenceWarning: Liblinear failed to converge, increase the number of iterations.\n",
            "  ConvergenceWarning,\n",
            "/usr/local/lib/python3.7/dist-packages/sklearn/svm/_base.py:1201: ConvergenceWarning: Liblinear failed to converge, increase the number of iterations.\n",
            "  ConvergenceWarning,\n",
            "/usr/local/lib/python3.7/dist-packages/sklearn/svm/_base.py:1201: ConvergenceWarning: Liblinear failed to converge, increase the number of iterations.\n",
            "  ConvergenceWarning,\n",
            "/usr/local/lib/python3.7/dist-packages/sklearn/svm/_base.py:1201: ConvergenceWarning: Liblinear failed to converge, increase the number of iterations.\n",
            "  ConvergenceWarning,\n",
            "/usr/local/lib/python3.7/dist-packages/sklearn/svm/_base.py:1201: ConvergenceWarning: Liblinear failed to converge, increase the number of iterations.\n",
            "  ConvergenceWarning,\n",
            "/usr/local/lib/python3.7/dist-packages/sklearn/svm/_base.py:1201: ConvergenceWarning: Liblinear failed to converge, increase the number of iterations.\n",
            "  ConvergenceWarning,\n"
          ]
        },
        {
          "output_type": "stream",
          "name": "stdout",
          "text": [
            "Best cross-validation score: 0.87\n",
            "Best parameters:  {'C': 0.1}\n"
          ]
        }
      ]
    },
    {
      "cell_type": "code",
      "metadata": {
        "execution": {
          "iopub.status.busy": "2021-10-19T17:09:17.044164Z",
          "iopub.execute_input": "2021-10-19T17:09:17.044606Z",
          "iopub.status.idle": "2021-10-19T17:09:26.514295Z",
          "shell.execute_reply.started": "2021-10-19T17:09:17.044567Z",
          "shell.execute_reply": "2021-10-19T17:09:26.512758Z"
        },
        "trusted": true,
        "colab": {
          "base_uri": "https://localhost:8080/"
        },
        "id": "DIkL9KtO5htb",
        "outputId": "e0ebd527-2820-4eac-d530-9a7dd7b94a67"
      },
      "source": [
        "#count vectorizer does tokenization and vocabulary building\n",
        "from sklearn.feature_extraction.text import CountVectorizer\n",
        "vect1 = CountVectorizer().fit(bangla_test_x)\n",
        "#built-in transform method transforms the vector into bag-of-words-representation\n",
        "bangla_test_X = vect.transform(bangla_test_x)\n",
        "print(\"X_test:\\n{}\".format(repr(bangla_test_X)))"
      ],
      "execution_count": 37,
      "outputs": [
        {
          "output_type": "stream",
          "name": "stdout",
          "text": [
            "X_test:\n",
            "<20000x15547 sparse matrix of type '<class 'numpy.int64'>'\n",
            "\twith 1454019 stored elements in Compressed Sparse Row format>\n"
          ]
        }
      ]
    },
    {
      "cell_type": "markdown",
      "metadata": {
        "id": "uty6AtMG5htb"
      },
      "source": [
        "**We might get uninformative features still due to choosing wrong tokens. So we will now ue only those tokens which appear on atleast 5 documents, to make sure that they are the correct tokens which is specified by the min_df parameter**"
      ]
    },
    {
      "cell_type": "code",
      "metadata": {
        "execution": {
          "iopub.status.busy": "2021-10-19T17:09:26.515462Z",
          "iopub.execute_input": "2021-10-19T17:09:26.515718Z",
          "iopub.status.idle": "2021-10-19T17:09:35.511072Z",
          "shell.execute_reply.started": "2021-10-19T17:09:26.515670Z",
          "shell.execute_reply": "2021-10-19T17:09:35.510300Z"
        },
        "trusted": true,
        "colab": {
          "base_uri": "https://localhost:8080/"
        },
        "id": "y9t42Aqf5htb",
        "outputId": "815cf924-60c0-4e3a-8b1b-9cdbef3ca78b"
      },
      "source": [
        "vect = CountVectorizer(min_df=5).fit(bangla_train_x)\n",
        "X_train = vect.transform(bangla_train_x)\n",
        "print(\"X_train with min_df: {}\".format(repr(X_train)))"
      ],
      "execution_count": 38,
      "outputs": [
        {
          "output_type": "stream",
          "name": "stdout",
          "text": [
            "X_train with min_df: <20000x5538 sparse matrix of type '<class 'numpy.int64'>'\n",
            "\twith 1441595 stored elements in Compressed Sparse Row format>\n"
          ]
        }
      ]
    },
    {
      "cell_type": "code",
      "metadata": {
        "execution": {
          "iopub.status.busy": "2021-10-19T17:09:35.512289Z",
          "iopub.execute_input": "2021-10-19T17:09:35.512867Z",
          "iopub.status.idle": "2021-10-19T17:09:35.524402Z",
          "shell.execute_reply.started": "2021-10-19T17:09:35.512824Z",
          "shell.execute_reply": "2021-10-19T17:09:35.523641Z"
        },
        "trusted": true,
        "colab": {
          "base_uri": "https://localhost:8080/"
        },
        "id": "z3Xxaa7D5htb",
        "outputId": "ae13b3f0-2e12-4058-a894-85ac86e71483"
      },
      "source": [
        "feature_names = vect.get_feature_names()\n",
        "print(\"First 50 features:\\n{}\".format(feature_names[:50]))\n",
        "print(\"Features 20010 to 20030:\\n{}\".format(feature_names[10010:10030]))\n",
        "print(\"Every 700th feature:\\n{}\".format(feature_names[::700]))"
      ],
      "execution_count": 39,
      "outputs": [
        {
          "output_type": "stream",
          "name": "stdout",
          "text": [
            "First 50 features:\n",
            "['íক', 'অউর', 'অক', 'অকট', 'অকথ', 'অকপট', 'অকর', 'অকল', 'অকস', 'অখ', 'অখণ', 'অগ', 'অগণ', 'অগণত', 'অগত', 'অগভ', 'অগম', 'অঘ', 'অঘটন', 'অঘটনই', 'অঙ', 'অচ', 'অচল', 'অছ', 'অজ', 'অজন', 'অজনপ', 'অজয', 'অজস', 'অজয়', 'অঝ', 'অঞ', 'অট', 'অটল', 'অড', 'অঢ', 'অণ', 'অত', 'অতট', 'অতন', 'অতর', 'অতল', 'অথ', 'অথই', 'অথর', 'অদ', 'অদক', 'অদম', 'অধ', 'অধর']\n",
            "Features 20010 to 20030:\n",
            "[]\n",
            "Every 700th feature:\n",
            "['íক', 'ইডগ', 'এসএসস', 'চসহ', 'তলপ', 'পস', 'যবই', 'শশ']\n"
          ]
        },
        {
          "output_type": "stream",
          "name": "stderr",
          "text": [
            "/usr/local/lib/python3.7/dist-packages/sklearn/utils/deprecation.py:87: FutureWarning: Function get_feature_names is deprecated; get_feature_names is deprecated in 1.0 and will be removed in 1.2. Please use get_feature_names_out instead.\n",
            "  warnings.warn(msg, category=FutureWarning)\n"
          ]
        }
      ]
    },
    {
      "cell_type": "code",
      "metadata": {
        "execution": {
          "iopub.status.busy": "2021-10-19T17:09:35.525673Z",
          "iopub.execute_input": "2021-10-19T17:09:35.526530Z",
          "iopub.status.idle": "2021-10-19T17:12:06.951410Z",
          "shell.execute_reply.started": "2021-10-19T17:09:35.526492Z",
          "shell.execute_reply": "2021-10-19T17:12:06.947385Z"
        },
        "trusted": true,
        "colab": {
          "base_uri": "https://localhost:8080/"
        },
        "id": "X4Pb63lr5htc",
        "outputId": "f020b900-ec7d-432b-bb0d-a0e6b77205cd"
      },
      "source": [
        "grid = GridSearchCV(LogisticRegression(), param_grid, cv=5)\n",
        "grid.fit(X_train, bangla_train_y)\n",
        "print(\"Best cross-validation score: {:.2f}\".format(grid.best_score_))"
      ],
      "execution_count": 40,
      "outputs": [
        {
          "output_type": "stream",
          "name": "stderr",
          "text": [
            "/usr/local/lib/python3.7/dist-packages/sklearn/linear_model/_logistic.py:818: ConvergenceWarning: lbfgs failed to converge (status=1):\n",
            "STOP: TOTAL NO. of ITERATIONS REACHED LIMIT.\n",
            "\n",
            "Increase the number of iterations (max_iter) or scale the data as shown in:\n",
            "    https://scikit-learn.org/stable/modules/preprocessing.html\n",
            "Please also refer to the documentation for alternative solver options:\n",
            "    https://scikit-learn.org/stable/modules/linear_model.html#logistic-regression\n",
            "  extra_warning_msg=_LOGISTIC_SOLVER_CONVERGENCE_MSG,\n",
            "/usr/local/lib/python3.7/dist-packages/sklearn/linear_model/_logistic.py:818: ConvergenceWarning: lbfgs failed to converge (status=1):\n",
            "STOP: TOTAL NO. of ITERATIONS REACHED LIMIT.\n",
            "\n",
            "Increase the number of iterations (max_iter) or scale the data as shown in:\n",
            "    https://scikit-learn.org/stable/modules/preprocessing.html\n",
            "Please also refer to the documentation for alternative solver options:\n",
            "    https://scikit-learn.org/stable/modules/linear_model.html#logistic-regression\n",
            "  extra_warning_msg=_LOGISTIC_SOLVER_CONVERGENCE_MSG,\n",
            "/usr/local/lib/python3.7/dist-packages/sklearn/linear_model/_logistic.py:818: ConvergenceWarning: lbfgs failed to converge (status=1):\n",
            "STOP: TOTAL NO. of ITERATIONS REACHED LIMIT.\n",
            "\n",
            "Increase the number of iterations (max_iter) or scale the data as shown in:\n",
            "    https://scikit-learn.org/stable/modules/preprocessing.html\n",
            "Please also refer to the documentation for alternative solver options:\n",
            "    https://scikit-learn.org/stable/modules/linear_model.html#logistic-regression\n",
            "  extra_warning_msg=_LOGISTIC_SOLVER_CONVERGENCE_MSG,\n",
            "/usr/local/lib/python3.7/dist-packages/sklearn/linear_model/_logistic.py:818: ConvergenceWarning: lbfgs failed to converge (status=1):\n",
            "STOP: TOTAL NO. of ITERATIONS REACHED LIMIT.\n",
            "\n",
            "Increase the number of iterations (max_iter) or scale the data as shown in:\n",
            "    https://scikit-learn.org/stable/modules/preprocessing.html\n",
            "Please also refer to the documentation for alternative solver options:\n",
            "    https://scikit-learn.org/stable/modules/linear_model.html#logistic-regression\n",
            "  extra_warning_msg=_LOGISTIC_SOLVER_CONVERGENCE_MSG,\n",
            "/usr/local/lib/python3.7/dist-packages/sklearn/linear_model/_logistic.py:818: ConvergenceWarning: lbfgs failed to converge (status=1):\n",
            "STOP: TOTAL NO. of ITERATIONS REACHED LIMIT.\n",
            "\n",
            "Increase the number of iterations (max_iter) or scale the data as shown in:\n",
            "    https://scikit-learn.org/stable/modules/preprocessing.html\n",
            "Please also refer to the documentation for alternative solver options:\n",
            "    https://scikit-learn.org/stable/modules/linear_model.html#logistic-regression\n",
            "  extra_warning_msg=_LOGISTIC_SOLVER_CONVERGENCE_MSG,\n",
            "/usr/local/lib/python3.7/dist-packages/sklearn/linear_model/_logistic.py:818: ConvergenceWarning: lbfgs failed to converge (status=1):\n",
            "STOP: TOTAL NO. of ITERATIONS REACHED LIMIT.\n",
            "\n",
            "Increase the number of iterations (max_iter) or scale the data as shown in:\n",
            "    https://scikit-learn.org/stable/modules/preprocessing.html\n",
            "Please also refer to the documentation for alternative solver options:\n",
            "    https://scikit-learn.org/stable/modules/linear_model.html#logistic-regression\n",
            "  extra_warning_msg=_LOGISTIC_SOLVER_CONVERGENCE_MSG,\n",
            "/usr/local/lib/python3.7/dist-packages/sklearn/linear_model/_logistic.py:818: ConvergenceWarning: lbfgs failed to converge (status=1):\n",
            "STOP: TOTAL NO. of ITERATIONS REACHED LIMIT.\n",
            "\n",
            "Increase the number of iterations (max_iter) or scale the data as shown in:\n",
            "    https://scikit-learn.org/stable/modules/preprocessing.html\n",
            "Please also refer to the documentation for alternative solver options:\n",
            "    https://scikit-learn.org/stable/modules/linear_model.html#logistic-regression\n",
            "  extra_warning_msg=_LOGISTIC_SOLVER_CONVERGENCE_MSG,\n",
            "/usr/local/lib/python3.7/dist-packages/sklearn/linear_model/_logistic.py:818: ConvergenceWarning: lbfgs failed to converge (status=1):\n",
            "STOP: TOTAL NO. of ITERATIONS REACHED LIMIT.\n",
            "\n",
            "Increase the number of iterations (max_iter) or scale the data as shown in:\n",
            "    https://scikit-learn.org/stable/modules/preprocessing.html\n",
            "Please also refer to the documentation for alternative solver options:\n",
            "    https://scikit-learn.org/stable/modules/linear_model.html#logistic-regression\n",
            "  extra_warning_msg=_LOGISTIC_SOLVER_CONVERGENCE_MSG,\n",
            "/usr/local/lib/python3.7/dist-packages/sklearn/linear_model/_logistic.py:818: ConvergenceWarning: lbfgs failed to converge (status=1):\n",
            "STOP: TOTAL NO. of ITERATIONS REACHED LIMIT.\n",
            "\n",
            "Increase the number of iterations (max_iter) or scale the data as shown in:\n",
            "    https://scikit-learn.org/stable/modules/preprocessing.html\n",
            "Please also refer to the documentation for alternative solver options:\n",
            "    https://scikit-learn.org/stable/modules/linear_model.html#logistic-regression\n",
            "  extra_warning_msg=_LOGISTIC_SOLVER_CONVERGENCE_MSG,\n",
            "/usr/local/lib/python3.7/dist-packages/sklearn/linear_model/_logistic.py:818: ConvergenceWarning: lbfgs failed to converge (status=1):\n",
            "STOP: TOTAL NO. of ITERATIONS REACHED LIMIT.\n",
            "\n",
            "Increase the number of iterations (max_iter) or scale the data as shown in:\n",
            "    https://scikit-learn.org/stable/modules/preprocessing.html\n",
            "Please also refer to the documentation for alternative solver options:\n",
            "    https://scikit-learn.org/stable/modules/linear_model.html#logistic-regression\n",
            "  extra_warning_msg=_LOGISTIC_SOLVER_CONVERGENCE_MSG,\n",
            "/usr/local/lib/python3.7/dist-packages/sklearn/linear_model/_logistic.py:818: ConvergenceWarning: lbfgs failed to converge (status=1):\n",
            "STOP: TOTAL NO. of ITERATIONS REACHED LIMIT.\n",
            "\n",
            "Increase the number of iterations (max_iter) or scale the data as shown in:\n",
            "    https://scikit-learn.org/stable/modules/preprocessing.html\n",
            "Please also refer to the documentation for alternative solver options:\n",
            "    https://scikit-learn.org/stable/modules/linear_model.html#logistic-regression\n",
            "  extra_warning_msg=_LOGISTIC_SOLVER_CONVERGENCE_MSG,\n",
            "/usr/local/lib/python3.7/dist-packages/sklearn/linear_model/_logistic.py:818: ConvergenceWarning: lbfgs failed to converge (status=1):\n",
            "STOP: TOTAL NO. of ITERATIONS REACHED LIMIT.\n",
            "\n",
            "Increase the number of iterations (max_iter) or scale the data as shown in:\n",
            "    https://scikit-learn.org/stable/modules/preprocessing.html\n",
            "Please also refer to the documentation for alternative solver options:\n",
            "    https://scikit-learn.org/stable/modules/linear_model.html#logistic-regression\n",
            "  extra_warning_msg=_LOGISTIC_SOLVER_CONVERGENCE_MSG,\n",
            "/usr/local/lib/python3.7/dist-packages/sklearn/linear_model/_logistic.py:818: ConvergenceWarning: lbfgs failed to converge (status=1):\n",
            "STOP: TOTAL NO. of ITERATIONS REACHED LIMIT.\n",
            "\n",
            "Increase the number of iterations (max_iter) or scale the data as shown in:\n",
            "    https://scikit-learn.org/stable/modules/preprocessing.html\n",
            "Please also refer to the documentation for alternative solver options:\n",
            "    https://scikit-learn.org/stable/modules/linear_model.html#logistic-regression\n",
            "  extra_warning_msg=_LOGISTIC_SOLVER_CONVERGENCE_MSG,\n",
            "/usr/local/lib/python3.7/dist-packages/sklearn/linear_model/_logistic.py:818: ConvergenceWarning: lbfgs failed to converge (status=1):\n",
            "STOP: TOTAL NO. of ITERATIONS REACHED LIMIT.\n",
            "\n",
            "Increase the number of iterations (max_iter) or scale the data as shown in:\n",
            "    https://scikit-learn.org/stable/modules/preprocessing.html\n",
            "Please also refer to the documentation for alternative solver options:\n",
            "    https://scikit-learn.org/stable/modules/linear_model.html#logistic-regression\n",
            "  extra_warning_msg=_LOGISTIC_SOLVER_CONVERGENCE_MSG,\n",
            "/usr/local/lib/python3.7/dist-packages/sklearn/linear_model/_logistic.py:818: ConvergenceWarning: lbfgs failed to converge (status=1):\n",
            "STOP: TOTAL NO. of ITERATIONS REACHED LIMIT.\n",
            "\n",
            "Increase the number of iterations (max_iter) or scale the data as shown in:\n",
            "    https://scikit-learn.org/stable/modules/preprocessing.html\n",
            "Please also refer to the documentation for alternative solver options:\n",
            "    https://scikit-learn.org/stable/modules/linear_model.html#logistic-regression\n",
            "  extra_warning_msg=_LOGISTIC_SOLVER_CONVERGENCE_MSG,\n",
            "/usr/local/lib/python3.7/dist-packages/sklearn/linear_model/_logistic.py:818: ConvergenceWarning: lbfgs failed to converge (status=1):\n",
            "STOP: TOTAL NO. of ITERATIONS REACHED LIMIT.\n",
            "\n",
            "Increase the number of iterations (max_iter) or scale the data as shown in:\n",
            "    https://scikit-learn.org/stable/modules/preprocessing.html\n",
            "Please also refer to the documentation for alternative solver options:\n",
            "    https://scikit-learn.org/stable/modules/linear_model.html#logistic-regression\n",
            "  extra_warning_msg=_LOGISTIC_SOLVER_CONVERGENCE_MSG,\n",
            "/usr/local/lib/python3.7/dist-packages/sklearn/linear_model/_logistic.py:818: ConvergenceWarning: lbfgs failed to converge (status=1):\n",
            "STOP: TOTAL NO. of ITERATIONS REACHED LIMIT.\n",
            "\n",
            "Increase the number of iterations (max_iter) or scale the data as shown in:\n",
            "    https://scikit-learn.org/stable/modules/preprocessing.html\n",
            "Please also refer to the documentation for alternative solver options:\n",
            "    https://scikit-learn.org/stable/modules/linear_model.html#logistic-regression\n",
            "  extra_warning_msg=_LOGISTIC_SOLVER_CONVERGENCE_MSG,\n",
            "/usr/local/lib/python3.7/dist-packages/sklearn/linear_model/_logistic.py:818: ConvergenceWarning: lbfgs failed to converge (status=1):\n",
            "STOP: TOTAL NO. of ITERATIONS REACHED LIMIT.\n",
            "\n",
            "Increase the number of iterations (max_iter) or scale the data as shown in:\n",
            "    https://scikit-learn.org/stable/modules/preprocessing.html\n",
            "Please also refer to the documentation for alternative solver options:\n",
            "    https://scikit-learn.org/stable/modules/linear_model.html#logistic-regression\n",
            "  extra_warning_msg=_LOGISTIC_SOLVER_CONVERGENCE_MSG,\n",
            "/usr/local/lib/python3.7/dist-packages/sklearn/linear_model/_logistic.py:818: ConvergenceWarning: lbfgs failed to converge (status=1):\n",
            "STOP: TOTAL NO. of ITERATIONS REACHED LIMIT.\n",
            "\n",
            "Increase the number of iterations (max_iter) or scale the data as shown in:\n",
            "    https://scikit-learn.org/stable/modules/preprocessing.html\n",
            "Please also refer to the documentation for alternative solver options:\n",
            "    https://scikit-learn.org/stable/modules/linear_model.html#logistic-regression\n",
            "  extra_warning_msg=_LOGISTIC_SOLVER_CONVERGENCE_MSG,\n",
            "/usr/local/lib/python3.7/dist-packages/sklearn/linear_model/_logistic.py:818: ConvergenceWarning: lbfgs failed to converge (status=1):\n",
            "STOP: TOTAL NO. of ITERATIONS REACHED LIMIT.\n",
            "\n",
            "Increase the number of iterations (max_iter) or scale the data as shown in:\n",
            "    https://scikit-learn.org/stable/modules/preprocessing.html\n",
            "Please also refer to the documentation for alternative solver options:\n",
            "    https://scikit-learn.org/stable/modules/linear_model.html#logistic-regression\n",
            "  extra_warning_msg=_LOGISTIC_SOLVER_CONVERGENCE_MSG,\n",
            "/usr/local/lib/python3.7/dist-packages/sklearn/linear_model/_logistic.py:818: ConvergenceWarning: lbfgs failed to converge (status=1):\n",
            "STOP: TOTAL NO. of ITERATIONS REACHED LIMIT.\n",
            "\n",
            "Increase the number of iterations (max_iter) or scale the data as shown in:\n",
            "    https://scikit-learn.org/stable/modules/preprocessing.html\n",
            "Please also refer to the documentation for alternative solver options:\n",
            "    https://scikit-learn.org/stable/modules/linear_model.html#logistic-regression\n",
            "  extra_warning_msg=_LOGISTIC_SOLVER_CONVERGENCE_MSG,\n",
            "/usr/local/lib/python3.7/dist-packages/sklearn/linear_model/_logistic.py:818: ConvergenceWarning: lbfgs failed to converge (status=1):\n",
            "STOP: TOTAL NO. of ITERATIONS REACHED LIMIT.\n",
            "\n",
            "Increase the number of iterations (max_iter) or scale the data as shown in:\n",
            "    https://scikit-learn.org/stable/modules/preprocessing.html\n",
            "Please also refer to the documentation for alternative solver options:\n",
            "    https://scikit-learn.org/stable/modules/linear_model.html#logistic-regression\n",
            "  extra_warning_msg=_LOGISTIC_SOLVER_CONVERGENCE_MSG,\n",
            "/usr/local/lib/python3.7/dist-packages/sklearn/linear_model/_logistic.py:818: ConvergenceWarning: lbfgs failed to converge (status=1):\n",
            "STOP: TOTAL NO. of ITERATIONS REACHED LIMIT.\n",
            "\n",
            "Increase the number of iterations (max_iter) or scale the data as shown in:\n",
            "    https://scikit-learn.org/stable/modules/preprocessing.html\n",
            "Please also refer to the documentation for alternative solver options:\n",
            "    https://scikit-learn.org/stable/modules/linear_model.html#logistic-regression\n",
            "  extra_warning_msg=_LOGISTIC_SOLVER_CONVERGENCE_MSG,\n",
            "/usr/local/lib/python3.7/dist-packages/sklearn/linear_model/_logistic.py:818: ConvergenceWarning: lbfgs failed to converge (status=1):\n",
            "STOP: TOTAL NO. of ITERATIONS REACHED LIMIT.\n",
            "\n",
            "Increase the number of iterations (max_iter) or scale the data as shown in:\n",
            "    https://scikit-learn.org/stable/modules/preprocessing.html\n",
            "Please also refer to the documentation for alternative solver options:\n",
            "    https://scikit-learn.org/stable/modules/linear_model.html#logistic-regression\n",
            "  extra_warning_msg=_LOGISTIC_SOLVER_CONVERGENCE_MSG,\n",
            "/usr/local/lib/python3.7/dist-packages/sklearn/linear_model/_logistic.py:818: ConvergenceWarning: lbfgs failed to converge (status=1):\n",
            "STOP: TOTAL NO. of ITERATIONS REACHED LIMIT.\n",
            "\n",
            "Increase the number of iterations (max_iter) or scale the data as shown in:\n",
            "    https://scikit-learn.org/stable/modules/preprocessing.html\n",
            "Please also refer to the documentation for alternative solver options:\n",
            "    https://scikit-learn.org/stable/modules/linear_model.html#logistic-regression\n",
            "  extra_warning_msg=_LOGISTIC_SOLVER_CONVERGENCE_MSG,\n"
          ]
        },
        {
          "output_type": "stream",
          "name": "stdout",
          "text": [
            "Best cross-validation score: 0.86\n"
          ]
        },
        {
          "output_type": "stream",
          "name": "stderr",
          "text": [
            "/usr/local/lib/python3.7/dist-packages/sklearn/linear_model/_logistic.py:818: ConvergenceWarning: lbfgs failed to converge (status=1):\n",
            "STOP: TOTAL NO. of ITERATIONS REACHED LIMIT.\n",
            "\n",
            "Increase the number of iterations (max_iter) or scale the data as shown in:\n",
            "    https://scikit-learn.org/stable/modules/preprocessing.html\n",
            "Please also refer to the documentation for alternative solver options:\n",
            "    https://scikit-learn.org/stable/modules/linear_model.html#logistic-regression\n",
            "  extra_warning_msg=_LOGISTIC_SOLVER_CONVERGENCE_MSG,\n"
          ]
        }
      ]
    },
    {
      "cell_type": "markdown",
      "metadata": {
        "id": "_aE29HNl5htc"
      },
      "source": [
        "**Rescaling the data with tf-idf**"
      ]
    },
    {
      "cell_type": "code",
      "metadata": {
        "execution": {
          "iopub.status.busy": "2021-10-19T17:12:06.952516Z",
          "iopub.execute_input": "2021-10-19T17:12:06.952781Z",
          "iopub.status.idle": "2021-10-19T17:16:14.350716Z",
          "shell.execute_reply.started": "2021-10-19T17:12:06.952748Z",
          "shell.execute_reply": "2021-10-19T17:16:14.349839Z"
        },
        "trusted": true,
        "colab": {
          "base_uri": "https://localhost:8080/"
        },
        "id": "q_iXauue5htc",
        "outputId": "ddc935bd-741b-4824-8d19-6ea2e2a0d0e7"
      },
      "source": [
        "from sklearn.feature_extraction.text import TfidfVectorizer\n",
        "from sklearn.pipeline import make_pipeline\n",
        "pipe = make_pipeline(TfidfVectorizer(min_df=5, norm=None),\n",
        "LogisticRegression())\n",
        "param_grid = {'logisticregression__C': [0.001, 0.01, 0.1, 1, 10]}\n",
        "grid = GridSearchCV(pipe, param_grid, cv=5)\n",
        "grid.fit(bangla_train_x, bangla_train_y)\n",
        "print(\"Best cross-validation score: {:.2f}\".format(grid.best_score_))"
      ],
      "execution_count": 41,
      "outputs": [
        {
          "output_type": "stream",
          "name": "stderr",
          "text": [
            "/usr/local/lib/python3.7/dist-packages/sklearn/linear_model/_logistic.py:818: ConvergenceWarning: lbfgs failed to converge (status=1):\n",
            "STOP: TOTAL NO. of ITERATIONS REACHED LIMIT.\n",
            "\n",
            "Increase the number of iterations (max_iter) or scale the data as shown in:\n",
            "    https://scikit-learn.org/stable/modules/preprocessing.html\n",
            "Please also refer to the documentation for alternative solver options:\n",
            "    https://scikit-learn.org/stable/modules/linear_model.html#logistic-regression\n",
            "  extra_warning_msg=_LOGISTIC_SOLVER_CONVERGENCE_MSG,\n",
            "/usr/local/lib/python3.7/dist-packages/sklearn/linear_model/_logistic.py:818: ConvergenceWarning: lbfgs failed to converge (status=1):\n",
            "STOP: TOTAL NO. of ITERATIONS REACHED LIMIT.\n",
            "\n",
            "Increase the number of iterations (max_iter) or scale the data as shown in:\n",
            "    https://scikit-learn.org/stable/modules/preprocessing.html\n",
            "Please also refer to the documentation for alternative solver options:\n",
            "    https://scikit-learn.org/stable/modules/linear_model.html#logistic-regression\n",
            "  extra_warning_msg=_LOGISTIC_SOLVER_CONVERGENCE_MSG,\n",
            "/usr/local/lib/python3.7/dist-packages/sklearn/linear_model/_logistic.py:818: ConvergenceWarning: lbfgs failed to converge (status=1):\n",
            "STOP: TOTAL NO. of ITERATIONS REACHED LIMIT.\n",
            "\n",
            "Increase the number of iterations (max_iter) or scale the data as shown in:\n",
            "    https://scikit-learn.org/stable/modules/preprocessing.html\n",
            "Please also refer to the documentation for alternative solver options:\n",
            "    https://scikit-learn.org/stable/modules/linear_model.html#logistic-regression\n",
            "  extra_warning_msg=_LOGISTIC_SOLVER_CONVERGENCE_MSG,\n",
            "/usr/local/lib/python3.7/dist-packages/sklearn/linear_model/_logistic.py:818: ConvergenceWarning: lbfgs failed to converge (status=1):\n",
            "STOP: TOTAL NO. of ITERATIONS REACHED LIMIT.\n",
            "\n",
            "Increase the number of iterations (max_iter) or scale the data as shown in:\n",
            "    https://scikit-learn.org/stable/modules/preprocessing.html\n",
            "Please also refer to the documentation for alternative solver options:\n",
            "    https://scikit-learn.org/stable/modules/linear_model.html#logistic-regression\n",
            "  extra_warning_msg=_LOGISTIC_SOLVER_CONVERGENCE_MSG,\n",
            "/usr/local/lib/python3.7/dist-packages/sklearn/linear_model/_logistic.py:818: ConvergenceWarning: lbfgs failed to converge (status=1):\n",
            "STOP: TOTAL NO. of ITERATIONS REACHED LIMIT.\n",
            "\n",
            "Increase the number of iterations (max_iter) or scale the data as shown in:\n",
            "    https://scikit-learn.org/stable/modules/preprocessing.html\n",
            "Please also refer to the documentation for alternative solver options:\n",
            "    https://scikit-learn.org/stable/modules/linear_model.html#logistic-regression\n",
            "  extra_warning_msg=_LOGISTIC_SOLVER_CONVERGENCE_MSG,\n",
            "/usr/local/lib/python3.7/dist-packages/sklearn/linear_model/_logistic.py:818: ConvergenceWarning: lbfgs failed to converge (status=1):\n",
            "STOP: TOTAL NO. of ITERATIONS REACHED LIMIT.\n",
            "\n",
            "Increase the number of iterations (max_iter) or scale the data as shown in:\n",
            "    https://scikit-learn.org/stable/modules/preprocessing.html\n",
            "Please also refer to the documentation for alternative solver options:\n",
            "    https://scikit-learn.org/stable/modules/linear_model.html#logistic-regression\n",
            "  extra_warning_msg=_LOGISTIC_SOLVER_CONVERGENCE_MSG,\n",
            "/usr/local/lib/python3.7/dist-packages/sklearn/linear_model/_logistic.py:818: ConvergenceWarning: lbfgs failed to converge (status=1):\n",
            "STOP: TOTAL NO. of ITERATIONS REACHED LIMIT.\n",
            "\n",
            "Increase the number of iterations (max_iter) or scale the data as shown in:\n",
            "    https://scikit-learn.org/stable/modules/preprocessing.html\n",
            "Please also refer to the documentation for alternative solver options:\n",
            "    https://scikit-learn.org/stable/modules/linear_model.html#logistic-regression\n",
            "  extra_warning_msg=_LOGISTIC_SOLVER_CONVERGENCE_MSG,\n",
            "/usr/local/lib/python3.7/dist-packages/sklearn/linear_model/_logistic.py:818: ConvergenceWarning: lbfgs failed to converge (status=1):\n",
            "STOP: TOTAL NO. of ITERATIONS REACHED LIMIT.\n",
            "\n",
            "Increase the number of iterations (max_iter) or scale the data as shown in:\n",
            "    https://scikit-learn.org/stable/modules/preprocessing.html\n",
            "Please also refer to the documentation for alternative solver options:\n",
            "    https://scikit-learn.org/stable/modules/linear_model.html#logistic-regression\n",
            "  extra_warning_msg=_LOGISTIC_SOLVER_CONVERGENCE_MSG,\n",
            "/usr/local/lib/python3.7/dist-packages/sklearn/linear_model/_logistic.py:818: ConvergenceWarning: lbfgs failed to converge (status=1):\n",
            "STOP: TOTAL NO. of ITERATIONS REACHED LIMIT.\n",
            "\n",
            "Increase the number of iterations (max_iter) or scale the data as shown in:\n",
            "    https://scikit-learn.org/stable/modules/preprocessing.html\n",
            "Please also refer to the documentation for alternative solver options:\n",
            "    https://scikit-learn.org/stable/modules/linear_model.html#logistic-regression\n",
            "  extra_warning_msg=_LOGISTIC_SOLVER_CONVERGENCE_MSG,\n",
            "/usr/local/lib/python3.7/dist-packages/sklearn/linear_model/_logistic.py:818: ConvergenceWarning: lbfgs failed to converge (status=1):\n",
            "STOP: TOTAL NO. of ITERATIONS REACHED LIMIT.\n",
            "\n",
            "Increase the number of iterations (max_iter) or scale the data as shown in:\n",
            "    https://scikit-learn.org/stable/modules/preprocessing.html\n",
            "Please also refer to the documentation for alternative solver options:\n",
            "    https://scikit-learn.org/stable/modules/linear_model.html#logistic-regression\n",
            "  extra_warning_msg=_LOGISTIC_SOLVER_CONVERGENCE_MSG,\n",
            "/usr/local/lib/python3.7/dist-packages/sklearn/linear_model/_logistic.py:818: ConvergenceWarning: lbfgs failed to converge (status=1):\n",
            "STOP: TOTAL NO. of ITERATIONS REACHED LIMIT.\n",
            "\n",
            "Increase the number of iterations (max_iter) or scale the data as shown in:\n",
            "    https://scikit-learn.org/stable/modules/preprocessing.html\n",
            "Please also refer to the documentation for alternative solver options:\n",
            "    https://scikit-learn.org/stable/modules/linear_model.html#logistic-regression\n",
            "  extra_warning_msg=_LOGISTIC_SOLVER_CONVERGENCE_MSG,\n",
            "/usr/local/lib/python3.7/dist-packages/sklearn/linear_model/_logistic.py:818: ConvergenceWarning: lbfgs failed to converge (status=1):\n",
            "STOP: TOTAL NO. of ITERATIONS REACHED LIMIT.\n",
            "\n",
            "Increase the number of iterations (max_iter) or scale the data as shown in:\n",
            "    https://scikit-learn.org/stable/modules/preprocessing.html\n",
            "Please also refer to the documentation for alternative solver options:\n",
            "    https://scikit-learn.org/stable/modules/linear_model.html#logistic-regression\n",
            "  extra_warning_msg=_LOGISTIC_SOLVER_CONVERGENCE_MSG,\n",
            "/usr/local/lib/python3.7/dist-packages/sklearn/linear_model/_logistic.py:818: ConvergenceWarning: lbfgs failed to converge (status=1):\n",
            "STOP: TOTAL NO. of ITERATIONS REACHED LIMIT.\n",
            "\n",
            "Increase the number of iterations (max_iter) or scale the data as shown in:\n",
            "    https://scikit-learn.org/stable/modules/preprocessing.html\n",
            "Please also refer to the documentation for alternative solver options:\n",
            "    https://scikit-learn.org/stable/modules/linear_model.html#logistic-regression\n",
            "  extra_warning_msg=_LOGISTIC_SOLVER_CONVERGENCE_MSG,\n",
            "/usr/local/lib/python3.7/dist-packages/sklearn/linear_model/_logistic.py:818: ConvergenceWarning: lbfgs failed to converge (status=1):\n",
            "STOP: TOTAL NO. of ITERATIONS REACHED LIMIT.\n",
            "\n",
            "Increase the number of iterations (max_iter) or scale the data as shown in:\n",
            "    https://scikit-learn.org/stable/modules/preprocessing.html\n",
            "Please also refer to the documentation for alternative solver options:\n",
            "    https://scikit-learn.org/stable/modules/linear_model.html#logistic-regression\n",
            "  extra_warning_msg=_LOGISTIC_SOLVER_CONVERGENCE_MSG,\n",
            "/usr/local/lib/python3.7/dist-packages/sklearn/linear_model/_logistic.py:818: ConvergenceWarning: lbfgs failed to converge (status=1):\n",
            "STOP: TOTAL NO. of ITERATIONS REACHED LIMIT.\n",
            "\n",
            "Increase the number of iterations (max_iter) or scale the data as shown in:\n",
            "    https://scikit-learn.org/stable/modules/preprocessing.html\n",
            "Please also refer to the documentation for alternative solver options:\n",
            "    https://scikit-learn.org/stable/modules/linear_model.html#logistic-regression\n",
            "  extra_warning_msg=_LOGISTIC_SOLVER_CONVERGENCE_MSG,\n",
            "/usr/local/lib/python3.7/dist-packages/sklearn/linear_model/_logistic.py:818: ConvergenceWarning: lbfgs failed to converge (status=1):\n",
            "STOP: TOTAL NO. of ITERATIONS REACHED LIMIT.\n",
            "\n",
            "Increase the number of iterations (max_iter) or scale the data as shown in:\n",
            "    https://scikit-learn.org/stable/modules/preprocessing.html\n",
            "Please also refer to the documentation for alternative solver options:\n",
            "    https://scikit-learn.org/stable/modules/linear_model.html#logistic-regression\n",
            "  extra_warning_msg=_LOGISTIC_SOLVER_CONVERGENCE_MSG,\n",
            "/usr/local/lib/python3.7/dist-packages/sklearn/linear_model/_logistic.py:818: ConvergenceWarning: lbfgs failed to converge (status=1):\n",
            "STOP: TOTAL NO. of ITERATIONS REACHED LIMIT.\n",
            "\n",
            "Increase the number of iterations (max_iter) or scale the data as shown in:\n",
            "    https://scikit-learn.org/stable/modules/preprocessing.html\n",
            "Please also refer to the documentation for alternative solver options:\n",
            "    https://scikit-learn.org/stable/modules/linear_model.html#logistic-regression\n",
            "  extra_warning_msg=_LOGISTIC_SOLVER_CONVERGENCE_MSG,\n",
            "/usr/local/lib/python3.7/dist-packages/sklearn/linear_model/_logistic.py:818: ConvergenceWarning: lbfgs failed to converge (status=1):\n",
            "STOP: TOTAL NO. of ITERATIONS REACHED LIMIT.\n",
            "\n",
            "Increase the number of iterations (max_iter) or scale the data as shown in:\n",
            "    https://scikit-learn.org/stable/modules/preprocessing.html\n",
            "Please also refer to the documentation for alternative solver options:\n",
            "    https://scikit-learn.org/stable/modules/linear_model.html#logistic-regression\n",
            "  extra_warning_msg=_LOGISTIC_SOLVER_CONVERGENCE_MSG,\n",
            "/usr/local/lib/python3.7/dist-packages/sklearn/linear_model/_logistic.py:818: ConvergenceWarning: lbfgs failed to converge (status=1):\n",
            "STOP: TOTAL NO. of ITERATIONS REACHED LIMIT.\n",
            "\n",
            "Increase the number of iterations (max_iter) or scale the data as shown in:\n",
            "    https://scikit-learn.org/stable/modules/preprocessing.html\n",
            "Please also refer to the documentation for alternative solver options:\n",
            "    https://scikit-learn.org/stable/modules/linear_model.html#logistic-regression\n",
            "  extra_warning_msg=_LOGISTIC_SOLVER_CONVERGENCE_MSG,\n",
            "/usr/local/lib/python3.7/dist-packages/sklearn/linear_model/_logistic.py:818: ConvergenceWarning: lbfgs failed to converge (status=1):\n",
            "STOP: TOTAL NO. of ITERATIONS REACHED LIMIT.\n",
            "\n",
            "Increase the number of iterations (max_iter) or scale the data as shown in:\n",
            "    https://scikit-learn.org/stable/modules/preprocessing.html\n",
            "Please also refer to the documentation for alternative solver options:\n",
            "    https://scikit-learn.org/stable/modules/linear_model.html#logistic-regression\n",
            "  extra_warning_msg=_LOGISTIC_SOLVER_CONVERGENCE_MSG,\n",
            "/usr/local/lib/python3.7/dist-packages/sklearn/linear_model/_logistic.py:818: ConvergenceWarning: lbfgs failed to converge (status=1):\n",
            "STOP: TOTAL NO. of ITERATIONS REACHED LIMIT.\n",
            "\n",
            "Increase the number of iterations (max_iter) or scale the data as shown in:\n",
            "    https://scikit-learn.org/stable/modules/preprocessing.html\n",
            "Please also refer to the documentation for alternative solver options:\n",
            "    https://scikit-learn.org/stable/modules/linear_model.html#logistic-regression\n",
            "  extra_warning_msg=_LOGISTIC_SOLVER_CONVERGENCE_MSG,\n",
            "/usr/local/lib/python3.7/dist-packages/sklearn/linear_model/_logistic.py:818: ConvergenceWarning: lbfgs failed to converge (status=1):\n",
            "STOP: TOTAL NO. of ITERATIONS REACHED LIMIT.\n",
            "\n",
            "Increase the number of iterations (max_iter) or scale the data as shown in:\n",
            "    https://scikit-learn.org/stable/modules/preprocessing.html\n",
            "Please also refer to the documentation for alternative solver options:\n",
            "    https://scikit-learn.org/stable/modules/linear_model.html#logistic-regression\n",
            "  extra_warning_msg=_LOGISTIC_SOLVER_CONVERGENCE_MSG,\n",
            "/usr/local/lib/python3.7/dist-packages/sklearn/linear_model/_logistic.py:818: ConvergenceWarning: lbfgs failed to converge (status=1):\n",
            "STOP: TOTAL NO. of ITERATIONS REACHED LIMIT.\n",
            "\n",
            "Increase the number of iterations (max_iter) or scale the data as shown in:\n",
            "    https://scikit-learn.org/stable/modules/preprocessing.html\n",
            "Please also refer to the documentation for alternative solver options:\n",
            "    https://scikit-learn.org/stable/modules/linear_model.html#logistic-regression\n",
            "  extra_warning_msg=_LOGISTIC_SOLVER_CONVERGENCE_MSG,\n",
            "/usr/local/lib/python3.7/dist-packages/sklearn/linear_model/_logistic.py:818: ConvergenceWarning: lbfgs failed to converge (status=1):\n",
            "STOP: TOTAL NO. of ITERATIONS REACHED LIMIT.\n",
            "\n",
            "Increase the number of iterations (max_iter) or scale the data as shown in:\n",
            "    https://scikit-learn.org/stable/modules/preprocessing.html\n",
            "Please also refer to the documentation for alternative solver options:\n",
            "    https://scikit-learn.org/stable/modules/linear_model.html#logistic-regression\n",
            "  extra_warning_msg=_LOGISTIC_SOLVER_CONVERGENCE_MSG,\n",
            "/usr/local/lib/python3.7/dist-packages/sklearn/linear_model/_logistic.py:818: ConvergenceWarning: lbfgs failed to converge (status=1):\n",
            "STOP: TOTAL NO. of ITERATIONS REACHED LIMIT.\n",
            "\n",
            "Increase the number of iterations (max_iter) or scale the data as shown in:\n",
            "    https://scikit-learn.org/stable/modules/preprocessing.html\n",
            "Please also refer to the documentation for alternative solver options:\n",
            "    https://scikit-learn.org/stable/modules/linear_model.html#logistic-regression\n",
            "  extra_warning_msg=_LOGISTIC_SOLVER_CONVERGENCE_MSG,\n"
          ]
        },
        {
          "output_type": "stream",
          "name": "stdout",
          "text": [
            "Best cross-validation score: 0.88\n"
          ]
        },
        {
          "output_type": "stream",
          "name": "stderr",
          "text": [
            "/usr/local/lib/python3.7/dist-packages/sklearn/linear_model/_logistic.py:818: ConvergenceWarning: lbfgs failed to converge (status=1):\n",
            "STOP: TOTAL NO. of ITERATIONS REACHED LIMIT.\n",
            "\n",
            "Increase the number of iterations (max_iter) or scale the data as shown in:\n",
            "    https://scikit-learn.org/stable/modules/preprocessing.html\n",
            "Please also refer to the documentation for alternative solver options:\n",
            "    https://scikit-learn.org/stable/modules/linear_model.html#logistic-regression\n",
            "  extra_warning_msg=_LOGISTIC_SOLVER_CONVERGENCE_MSG,\n"
          ]
        }
      ]
    },
    {
      "cell_type": "markdown",
      "metadata": {
        "id": "vhM-uBEg5htc"
      },
      "source": [
        "**Accuracy slightly improved after applying tf-idf. We need to try more preprocessing to increase the accuracy.Now finding words which are important as found by tf-idf**"
      ]
    },
    {
      "cell_type": "code",
      "metadata": {
        "execution": {
          "iopub.status.busy": "2021-10-19T17:16:14.355089Z",
          "iopub.execute_input": "2021-10-19T17:16:14.355535Z",
          "iopub.status.idle": "2021-10-19T17:16:18.991425Z",
          "shell.execute_reply.started": "2021-10-19T17:16:14.355497Z",
          "shell.execute_reply": "2021-10-19T17:16:18.988601Z"
        },
        "trusted": true,
        "colab": {
          "base_uri": "https://localhost:8080/"
        },
        "id": "845LGcH_5htd",
        "outputId": "414cff95-a986-47ed-98ad-80ed3d4df576"
      },
      "source": [
        "vectorizer = grid.best_estimator_.named_steps[\"tfidfvectorizer\"]\n",
        "# transform the training dataset\n",
        "bangla_train_X = vectorizer.transform(bangla_train_x)\n",
        "# find maximum value for each of the features over the dataset\n",
        "max_value = bangla_train_X.max(axis=0).toarray().ravel()\n",
        "sorted_by_tfidf = max_value.argsort()\n",
        "# get feature names\n",
        "feature_names = np.array(vectorizer.get_feature_names())\n",
        "print(\"Features with lowest tfidf:\\n{}\".format(\n",
        "feature_names[sorted_by_tfidf[:40]]))\n",
        "print(\"Features with highest tfidf: \\n{}\".format(\n",
        "feature_names[sorted_by_tfidf[-40:]]))"
      ],
      "execution_count": 42,
      "outputs": [
        {
          "output_type": "stream",
          "name": "stdout",
          "text": [
            "Features with lowest tfidf:\n",
            "['ওপরও' 'লসহক' 'রমশ' 'ডএইচ' 'ইনসক' 'সসক' 'ওসক' 'ধও' 'কশহর' 'তপক' 'য়নর'\n",
            " 'হতব' 'খরচও' 'ধপর' 'ষকঢ' 'ষকপ' 'তরও' 'এমআর' 'আদত' 'রপরই' 'নএ' 'ষণই' 'হতভ'\n",
            " 'রতও' 'এতক' 'য়নও' 'ডএইচড' 'নগণ' 'একধ' 'নএই' 'উড়ছ' 'তকর' 'য়নসহ' 'এএএম'\n",
            " 'ঢ়ত' 'ধনশ' 'তনও' 'একথ' 'বলজ' 'মমভ']\n",
            "Features with highest tfidf: \n",
            "['এলপ' 'তরম' 'জল' 'ছব' 'আয়কর' 'আপগ' 'গব' 'আত' 'ঝর' 'সবজ' 'এলআরব' 'টফ' 'হম'\n",
            " 'উপসর' 'আইএসও' 'ডম' 'হজরত' 'অতন' 'চলচ' 'আইফ' 'চয়পত' 'বগ' 'কবর' 'এমপ'\n",
            " 'এমব' 'ঈম' 'ণগহ' 'ইকস' 'শব' 'নববর' 'মদ' 'রয়ম' 'লবণ' 'আইওএস' 'মড়' 'ময়দ'\n",
            " 'লঞ' 'কয়ল' 'মসজ' 'বয়ল']\n"
          ]
        },
        {
          "output_type": "stream",
          "name": "stderr",
          "text": [
            "/usr/local/lib/python3.7/dist-packages/sklearn/utils/deprecation.py:87: FutureWarning: Function get_feature_names is deprecated; get_feature_names is deprecated in 1.0 and will be removed in 1.2. Please use get_feature_names_out instead.\n",
            "  warnings.warn(msg, category=FutureWarning)\n"
          ]
        }
      ]
    },
    {
      "cell_type": "code",
      "metadata": {
        "execution": {
          "iopub.status.busy": "2021-10-19T17:16:18.992910Z",
          "iopub.execute_input": "2021-10-19T17:16:18.993187Z",
          "iopub.status.idle": "2021-10-19T17:16:18.999628Z",
          "shell.execute_reply.started": "2021-10-19T17:16:18.993132Z",
          "shell.execute_reply": "2021-10-19T17:16:18.998714Z"
        },
        "trusted": true,
        "colab": {
          "base_uri": "https://localhost:8080/"
        },
        "id": "as171Kam5htd",
        "outputId": "e97729c1-3df2-4263-ac03-6d107e0a8c82"
      },
      "source": [
        "sorted_by_idf = np.argsort(vectorizer.idf_)\n",
        "print(\"Features with lowest idf:\\n{}\".format(\n",
        "feature_names[sorted_by_idf[:100]]))"
      ],
      "execution_count": 43,
      "outputs": [
        {
          "output_type": "stream",
          "name": "stdout",
          "text": [
            "Features with lowest idf:\n",
            "['পর' 'রত' 'অন' 'কর' 'সম' 'রক' 'বর' 'রণ' 'তর' 'মন' 'জন' 'শন' 'বন' 'রব'\n",
            " 'অভ' 'ইন' 'বছর' 'লক' 'ওয়' 'আল' 'কথ' 'উদ' 'পত' 'নত' 'সময়' 'লন' 'পক' 'রথম'\n",
            " 'বল' 'রম' 'ষণ' 'কল' 'রস' 'চন' 'পন' 'সন' 'আন' 'রশ' 'কম' 'যক' 'সর' 'অর'\n",
            " 'উন' 'আর' 'য়ন' 'রধ' 'আস' 'গতক' 'সব' 'সরক' 'অধ' 'সক' 'এক' 'যবস' 'ইল' 'নট'\n",
            " 'আব' 'আগ' 'বব' 'দন' 'পড়' 'লত' 'লয়' 'বস' 'বক' 'দক' 'রদ' 'তব' 'কট' 'হত'\n",
            " 'অস' 'শক' 'উত' 'তথ' 'ষক' 'অবস' 'এল' 'দর' 'ষয়' 'ওপর' 'মত' 'নন' 'ইত' 'ইট'\n",
            " 'রয়' 'একট' 'ঘটন' 'সহ' 'সপ' 'রয' 'রপ' 'রও' 'এস' 'উল' 'সভ' 'দল' 'গত' 'মকর'\n",
            " 'তম' 'চল']\n"
          ]
        }
      ]
    },
    {
      "cell_type": "code",
      "metadata": {
        "execution": {
          "iopub.status.busy": "2021-10-19T17:16:19.001216Z",
          "iopub.execute_input": "2021-10-19T17:16:19.001547Z",
          "iopub.status.idle": "2021-10-19T17:16:19.008045Z",
          "shell.execute_reply.started": "2021-10-19T17:16:19.001512Z",
          "shell.execute_reply": "2021-10-19T17:16:19.007145Z"
        },
        "trusted": true,
        "id": "igBN_JZ75htd"
      },
      "source": [
        "#grid.fit(bangla_train_X, bangla_train_y)\n",
        "#mglearn.tools.visualize_coefficients(\n",
        "#grid.best_estimator_.named_steps[\"logisticregression\"].coef_,\n",
        "#feature_names, n_top_features=40)"
      ],
      "execution_count": 44,
      "outputs": []
    },
    {
      "cell_type": "markdown",
      "metadata": {
        "id": "UgPndEdJ5htd"
      },
      "source": [
        "**n-gram implementation**"
      ]
    },
    {
      "cell_type": "code",
      "metadata": {
        "execution": {
          "iopub.status.busy": "2021-10-19T17:16:19.013862Z",
          "iopub.execute_input": "2021-10-19T17:16:19.014459Z",
          "iopub.status.idle": "2021-10-19T18:29:40.238461Z",
          "shell.execute_reply.started": "2021-10-19T17:16:19.014431Z",
          "shell.execute_reply": "2021-10-19T18:29:40.235317Z"
        },
        "trusted": true,
        "colab": {
          "base_uri": "https://localhost:8080/"
        },
        "id": "_60GhVCn5htd",
        "outputId": "65ae96a7-4f90-47e9-84f9-1f5149099a5c"
      },
      "source": [
        "#finding the best setting of n-grams\n",
        "pipe = make_pipeline(TfidfVectorizer(min_df=5), LogisticRegression())\n",
        "# running the grid search takes a long time because of the\n",
        "# relatively large grid and the inclusion of trigrams\n",
        "param_grid = {\"logisticregression__C\": [0.001, 0.01, 0.1, 1, 10, 100],\n",
        "\"tfidfvectorizer__ngram_range\": [(1, 1), (1, 2), (1, 3),(1, 4),(1, 5)]}\n",
        "grid = GridSearchCV(pipe, param_grid, cv=5)\n",
        "grid.fit(bangla_train_x, bangla_train_y)\n",
        "print(\"Best cross-validation score: {:.2f}\".format(grid.best_score_))\n",
        "print(\"Best parameters:\\n{}\".format(grid.best_params_))"
      ],
      "execution_count": 45,
      "outputs": [
        {
          "output_type": "stream",
          "name": "stderr",
          "text": [
            "/usr/local/lib/python3.7/dist-packages/sklearn/linear_model/_logistic.py:818: ConvergenceWarning: lbfgs failed to converge (status=1):\n",
            "STOP: TOTAL NO. of ITERATIONS REACHED LIMIT.\n",
            "\n",
            "Increase the number of iterations (max_iter) or scale the data as shown in:\n",
            "    https://scikit-learn.org/stable/modules/preprocessing.html\n",
            "Please also refer to the documentation for alternative solver options:\n",
            "    https://scikit-learn.org/stable/modules/linear_model.html#logistic-regression\n",
            "  extra_warning_msg=_LOGISTIC_SOLVER_CONVERGENCE_MSG,\n",
            "/usr/local/lib/python3.7/dist-packages/sklearn/linear_model/_logistic.py:818: ConvergenceWarning: lbfgs failed to converge (status=1):\n",
            "STOP: TOTAL NO. of ITERATIONS REACHED LIMIT.\n",
            "\n",
            "Increase the number of iterations (max_iter) or scale the data as shown in:\n",
            "    https://scikit-learn.org/stable/modules/preprocessing.html\n",
            "Please also refer to the documentation for alternative solver options:\n",
            "    https://scikit-learn.org/stable/modules/linear_model.html#logistic-regression\n",
            "  extra_warning_msg=_LOGISTIC_SOLVER_CONVERGENCE_MSG,\n",
            "/usr/local/lib/python3.7/dist-packages/sklearn/linear_model/_logistic.py:818: ConvergenceWarning: lbfgs failed to converge (status=1):\n",
            "STOP: TOTAL NO. of ITERATIONS REACHED LIMIT.\n",
            "\n",
            "Increase the number of iterations (max_iter) or scale the data as shown in:\n",
            "    https://scikit-learn.org/stable/modules/preprocessing.html\n",
            "Please also refer to the documentation for alternative solver options:\n",
            "    https://scikit-learn.org/stable/modules/linear_model.html#logistic-regression\n",
            "  extra_warning_msg=_LOGISTIC_SOLVER_CONVERGENCE_MSG,\n",
            "/usr/local/lib/python3.7/dist-packages/sklearn/linear_model/_logistic.py:818: ConvergenceWarning: lbfgs failed to converge (status=1):\n",
            "STOP: TOTAL NO. of ITERATIONS REACHED LIMIT.\n",
            "\n",
            "Increase the number of iterations (max_iter) or scale the data as shown in:\n",
            "    https://scikit-learn.org/stable/modules/preprocessing.html\n",
            "Please also refer to the documentation for alternative solver options:\n",
            "    https://scikit-learn.org/stable/modules/linear_model.html#logistic-regression\n",
            "  extra_warning_msg=_LOGISTIC_SOLVER_CONVERGENCE_MSG,\n",
            "/usr/local/lib/python3.7/dist-packages/sklearn/linear_model/_logistic.py:818: ConvergenceWarning: lbfgs failed to converge (status=1):\n",
            "STOP: TOTAL NO. of ITERATIONS REACHED LIMIT.\n",
            "\n",
            "Increase the number of iterations (max_iter) or scale the data as shown in:\n",
            "    https://scikit-learn.org/stable/modules/preprocessing.html\n",
            "Please also refer to the documentation for alternative solver options:\n",
            "    https://scikit-learn.org/stable/modules/linear_model.html#logistic-regression\n",
            "  extra_warning_msg=_LOGISTIC_SOLVER_CONVERGENCE_MSG,\n",
            "/usr/local/lib/python3.7/dist-packages/sklearn/linear_model/_logistic.py:818: ConvergenceWarning: lbfgs failed to converge (status=1):\n",
            "STOP: TOTAL NO. of ITERATIONS REACHED LIMIT.\n",
            "\n",
            "Increase the number of iterations (max_iter) or scale the data as shown in:\n",
            "    https://scikit-learn.org/stable/modules/preprocessing.html\n",
            "Please also refer to the documentation for alternative solver options:\n",
            "    https://scikit-learn.org/stable/modules/linear_model.html#logistic-regression\n",
            "  extra_warning_msg=_LOGISTIC_SOLVER_CONVERGENCE_MSG,\n",
            "/usr/local/lib/python3.7/dist-packages/sklearn/linear_model/_logistic.py:818: ConvergenceWarning: lbfgs failed to converge (status=1):\n",
            "STOP: TOTAL NO. of ITERATIONS REACHED LIMIT.\n",
            "\n",
            "Increase the number of iterations (max_iter) or scale the data as shown in:\n",
            "    https://scikit-learn.org/stable/modules/preprocessing.html\n",
            "Please also refer to the documentation for alternative solver options:\n",
            "    https://scikit-learn.org/stable/modules/linear_model.html#logistic-regression\n",
            "  extra_warning_msg=_LOGISTIC_SOLVER_CONVERGENCE_MSG,\n",
            "/usr/local/lib/python3.7/dist-packages/sklearn/linear_model/_logistic.py:818: ConvergenceWarning: lbfgs failed to converge (status=1):\n",
            "STOP: TOTAL NO. of ITERATIONS REACHED LIMIT.\n",
            "\n",
            "Increase the number of iterations (max_iter) or scale the data as shown in:\n",
            "    https://scikit-learn.org/stable/modules/preprocessing.html\n",
            "Please also refer to the documentation for alternative solver options:\n",
            "    https://scikit-learn.org/stable/modules/linear_model.html#logistic-regression\n",
            "  extra_warning_msg=_LOGISTIC_SOLVER_CONVERGENCE_MSG,\n",
            "/usr/local/lib/python3.7/dist-packages/sklearn/linear_model/_logistic.py:818: ConvergenceWarning: lbfgs failed to converge (status=1):\n",
            "STOP: TOTAL NO. of ITERATIONS REACHED LIMIT.\n",
            "\n",
            "Increase the number of iterations (max_iter) or scale the data as shown in:\n",
            "    https://scikit-learn.org/stable/modules/preprocessing.html\n",
            "Please also refer to the documentation for alternative solver options:\n",
            "    https://scikit-learn.org/stable/modules/linear_model.html#logistic-regression\n",
            "  extra_warning_msg=_LOGISTIC_SOLVER_CONVERGENCE_MSG,\n",
            "/usr/local/lib/python3.7/dist-packages/sklearn/linear_model/_logistic.py:818: ConvergenceWarning: lbfgs failed to converge (status=1):\n",
            "STOP: TOTAL NO. of ITERATIONS REACHED LIMIT.\n",
            "\n",
            "Increase the number of iterations (max_iter) or scale the data as shown in:\n",
            "    https://scikit-learn.org/stable/modules/preprocessing.html\n",
            "Please also refer to the documentation for alternative solver options:\n",
            "    https://scikit-learn.org/stable/modules/linear_model.html#logistic-regression\n",
            "  extra_warning_msg=_LOGISTIC_SOLVER_CONVERGENCE_MSG,\n",
            "/usr/local/lib/python3.7/dist-packages/sklearn/linear_model/_logistic.py:818: ConvergenceWarning: lbfgs failed to converge (status=1):\n",
            "STOP: TOTAL NO. of ITERATIONS REACHED LIMIT.\n",
            "\n",
            "Increase the number of iterations (max_iter) or scale the data as shown in:\n",
            "    https://scikit-learn.org/stable/modules/preprocessing.html\n",
            "Please also refer to the documentation for alternative solver options:\n",
            "    https://scikit-learn.org/stable/modules/linear_model.html#logistic-regression\n",
            "  extra_warning_msg=_LOGISTIC_SOLVER_CONVERGENCE_MSG,\n",
            "/usr/local/lib/python3.7/dist-packages/sklearn/linear_model/_logistic.py:818: ConvergenceWarning: lbfgs failed to converge (status=1):\n",
            "STOP: TOTAL NO. of ITERATIONS REACHED LIMIT.\n",
            "\n",
            "Increase the number of iterations (max_iter) or scale the data as shown in:\n",
            "    https://scikit-learn.org/stable/modules/preprocessing.html\n",
            "Please also refer to the documentation for alternative solver options:\n",
            "    https://scikit-learn.org/stable/modules/linear_model.html#logistic-regression\n",
            "  extra_warning_msg=_LOGISTIC_SOLVER_CONVERGENCE_MSG,\n",
            "/usr/local/lib/python3.7/dist-packages/sklearn/linear_model/_logistic.py:818: ConvergenceWarning: lbfgs failed to converge (status=1):\n",
            "STOP: TOTAL NO. of ITERATIONS REACHED LIMIT.\n",
            "\n",
            "Increase the number of iterations (max_iter) or scale the data as shown in:\n",
            "    https://scikit-learn.org/stable/modules/preprocessing.html\n",
            "Please also refer to the documentation for alternative solver options:\n",
            "    https://scikit-learn.org/stable/modules/linear_model.html#logistic-regression\n",
            "  extra_warning_msg=_LOGISTIC_SOLVER_CONVERGENCE_MSG,\n",
            "/usr/local/lib/python3.7/dist-packages/sklearn/linear_model/_logistic.py:818: ConvergenceWarning: lbfgs failed to converge (status=1):\n",
            "STOP: TOTAL NO. of ITERATIONS REACHED LIMIT.\n",
            "\n",
            "Increase the number of iterations (max_iter) or scale the data as shown in:\n",
            "    https://scikit-learn.org/stable/modules/preprocessing.html\n",
            "Please also refer to the documentation for alternative solver options:\n",
            "    https://scikit-learn.org/stable/modules/linear_model.html#logistic-regression\n",
            "  extra_warning_msg=_LOGISTIC_SOLVER_CONVERGENCE_MSG,\n",
            "/usr/local/lib/python3.7/dist-packages/sklearn/linear_model/_logistic.py:818: ConvergenceWarning: lbfgs failed to converge (status=1):\n",
            "STOP: TOTAL NO. of ITERATIONS REACHED LIMIT.\n",
            "\n",
            "Increase the number of iterations (max_iter) or scale the data as shown in:\n",
            "    https://scikit-learn.org/stable/modules/preprocessing.html\n",
            "Please also refer to the documentation for alternative solver options:\n",
            "    https://scikit-learn.org/stable/modules/linear_model.html#logistic-regression\n",
            "  extra_warning_msg=_LOGISTIC_SOLVER_CONVERGENCE_MSG,\n",
            "/usr/local/lib/python3.7/dist-packages/sklearn/linear_model/_logistic.py:818: ConvergenceWarning: lbfgs failed to converge (status=1):\n",
            "STOP: TOTAL NO. of ITERATIONS REACHED LIMIT.\n",
            "\n",
            "Increase the number of iterations (max_iter) or scale the data as shown in:\n",
            "    https://scikit-learn.org/stable/modules/preprocessing.html\n",
            "Please also refer to the documentation for alternative solver options:\n",
            "    https://scikit-learn.org/stable/modules/linear_model.html#logistic-regression\n",
            "  extra_warning_msg=_LOGISTIC_SOLVER_CONVERGENCE_MSG,\n",
            "/usr/local/lib/python3.7/dist-packages/sklearn/linear_model/_logistic.py:818: ConvergenceWarning: lbfgs failed to converge (status=1):\n",
            "STOP: TOTAL NO. of ITERATIONS REACHED LIMIT.\n",
            "\n",
            "Increase the number of iterations (max_iter) or scale the data as shown in:\n",
            "    https://scikit-learn.org/stable/modules/preprocessing.html\n",
            "Please also refer to the documentation for alternative solver options:\n",
            "    https://scikit-learn.org/stable/modules/linear_model.html#logistic-regression\n",
            "  extra_warning_msg=_LOGISTIC_SOLVER_CONVERGENCE_MSG,\n",
            "/usr/local/lib/python3.7/dist-packages/sklearn/linear_model/_logistic.py:818: ConvergenceWarning: lbfgs failed to converge (status=1):\n",
            "STOP: TOTAL NO. of ITERATIONS REACHED LIMIT.\n",
            "\n",
            "Increase the number of iterations (max_iter) or scale the data as shown in:\n",
            "    https://scikit-learn.org/stable/modules/preprocessing.html\n",
            "Please also refer to the documentation for alternative solver options:\n",
            "    https://scikit-learn.org/stable/modules/linear_model.html#logistic-regression\n",
            "  extra_warning_msg=_LOGISTIC_SOLVER_CONVERGENCE_MSG,\n",
            "/usr/local/lib/python3.7/dist-packages/sklearn/linear_model/_logistic.py:818: ConvergenceWarning: lbfgs failed to converge (status=1):\n",
            "STOP: TOTAL NO. of ITERATIONS REACHED LIMIT.\n",
            "\n",
            "Increase the number of iterations (max_iter) or scale the data as shown in:\n",
            "    https://scikit-learn.org/stable/modules/preprocessing.html\n",
            "Please also refer to the documentation for alternative solver options:\n",
            "    https://scikit-learn.org/stable/modules/linear_model.html#logistic-regression\n",
            "  extra_warning_msg=_LOGISTIC_SOLVER_CONVERGENCE_MSG,\n",
            "/usr/local/lib/python3.7/dist-packages/sklearn/linear_model/_logistic.py:818: ConvergenceWarning: lbfgs failed to converge (status=1):\n",
            "STOP: TOTAL NO. of ITERATIONS REACHED LIMIT.\n",
            "\n",
            "Increase the number of iterations (max_iter) or scale the data as shown in:\n",
            "    https://scikit-learn.org/stable/modules/preprocessing.html\n",
            "Please also refer to the documentation for alternative solver options:\n",
            "    https://scikit-learn.org/stable/modules/linear_model.html#logistic-regression\n",
            "  extra_warning_msg=_LOGISTIC_SOLVER_CONVERGENCE_MSG,\n",
            "/usr/local/lib/python3.7/dist-packages/sklearn/linear_model/_logistic.py:818: ConvergenceWarning: lbfgs failed to converge (status=1):\n",
            "STOP: TOTAL NO. of ITERATIONS REACHED LIMIT.\n",
            "\n",
            "Increase the number of iterations (max_iter) or scale the data as shown in:\n",
            "    https://scikit-learn.org/stable/modules/preprocessing.html\n",
            "Please also refer to the documentation for alternative solver options:\n",
            "    https://scikit-learn.org/stable/modules/linear_model.html#logistic-regression\n",
            "  extra_warning_msg=_LOGISTIC_SOLVER_CONVERGENCE_MSG,\n",
            "/usr/local/lib/python3.7/dist-packages/sklearn/linear_model/_logistic.py:818: ConvergenceWarning: lbfgs failed to converge (status=1):\n",
            "STOP: TOTAL NO. of ITERATIONS REACHED LIMIT.\n",
            "\n",
            "Increase the number of iterations (max_iter) or scale the data as shown in:\n",
            "    https://scikit-learn.org/stable/modules/preprocessing.html\n",
            "Please also refer to the documentation for alternative solver options:\n",
            "    https://scikit-learn.org/stable/modules/linear_model.html#logistic-regression\n",
            "  extra_warning_msg=_LOGISTIC_SOLVER_CONVERGENCE_MSG,\n",
            "/usr/local/lib/python3.7/dist-packages/sklearn/linear_model/_logistic.py:818: ConvergenceWarning: lbfgs failed to converge (status=1):\n",
            "STOP: TOTAL NO. of ITERATIONS REACHED LIMIT.\n",
            "\n",
            "Increase the number of iterations (max_iter) or scale the data as shown in:\n",
            "    https://scikit-learn.org/stable/modules/preprocessing.html\n",
            "Please also refer to the documentation for alternative solver options:\n",
            "    https://scikit-learn.org/stable/modules/linear_model.html#logistic-regression\n",
            "  extra_warning_msg=_LOGISTIC_SOLVER_CONVERGENCE_MSG,\n",
            "/usr/local/lib/python3.7/dist-packages/sklearn/linear_model/_logistic.py:818: ConvergenceWarning: lbfgs failed to converge (status=1):\n",
            "STOP: TOTAL NO. of ITERATIONS REACHED LIMIT.\n",
            "\n",
            "Increase the number of iterations (max_iter) or scale the data as shown in:\n",
            "    https://scikit-learn.org/stable/modules/preprocessing.html\n",
            "Please also refer to the documentation for alternative solver options:\n",
            "    https://scikit-learn.org/stable/modules/linear_model.html#logistic-regression\n",
            "  extra_warning_msg=_LOGISTIC_SOLVER_CONVERGENCE_MSG,\n",
            "/usr/local/lib/python3.7/dist-packages/sklearn/linear_model/_logistic.py:818: ConvergenceWarning: lbfgs failed to converge (status=1):\n",
            "STOP: TOTAL NO. of ITERATIONS REACHED LIMIT.\n",
            "\n",
            "Increase the number of iterations (max_iter) or scale the data as shown in:\n",
            "    https://scikit-learn.org/stable/modules/preprocessing.html\n",
            "Please also refer to the documentation for alternative solver options:\n",
            "    https://scikit-learn.org/stable/modules/linear_model.html#logistic-regression\n",
            "  extra_warning_msg=_LOGISTIC_SOLVER_CONVERGENCE_MSG,\n",
            "/usr/local/lib/python3.7/dist-packages/sklearn/linear_model/_logistic.py:818: ConvergenceWarning: lbfgs failed to converge (status=1):\n",
            "STOP: TOTAL NO. of ITERATIONS REACHED LIMIT.\n",
            "\n",
            "Increase the number of iterations (max_iter) or scale the data as shown in:\n",
            "    https://scikit-learn.org/stable/modules/preprocessing.html\n",
            "Please also refer to the documentation for alternative solver options:\n",
            "    https://scikit-learn.org/stable/modules/linear_model.html#logistic-regression\n",
            "  extra_warning_msg=_LOGISTIC_SOLVER_CONVERGENCE_MSG,\n",
            "/usr/local/lib/python3.7/dist-packages/sklearn/linear_model/_logistic.py:818: ConvergenceWarning: lbfgs failed to converge (status=1):\n",
            "STOP: TOTAL NO. of ITERATIONS REACHED LIMIT.\n",
            "\n",
            "Increase the number of iterations (max_iter) or scale the data as shown in:\n",
            "    https://scikit-learn.org/stable/modules/preprocessing.html\n",
            "Please also refer to the documentation for alternative solver options:\n",
            "    https://scikit-learn.org/stable/modules/linear_model.html#logistic-regression\n",
            "  extra_warning_msg=_LOGISTIC_SOLVER_CONVERGENCE_MSG,\n",
            "/usr/local/lib/python3.7/dist-packages/sklearn/linear_model/_logistic.py:818: ConvergenceWarning: lbfgs failed to converge (status=1):\n",
            "STOP: TOTAL NO. of ITERATIONS REACHED LIMIT.\n",
            "\n",
            "Increase the number of iterations (max_iter) or scale the data as shown in:\n",
            "    https://scikit-learn.org/stable/modules/preprocessing.html\n",
            "Please also refer to the documentation for alternative solver options:\n",
            "    https://scikit-learn.org/stable/modules/linear_model.html#logistic-regression\n",
            "  extra_warning_msg=_LOGISTIC_SOLVER_CONVERGENCE_MSG,\n",
            "/usr/local/lib/python3.7/dist-packages/sklearn/linear_model/_logistic.py:818: ConvergenceWarning: lbfgs failed to converge (status=1):\n",
            "STOP: TOTAL NO. of ITERATIONS REACHED LIMIT.\n",
            "\n",
            "Increase the number of iterations (max_iter) or scale the data as shown in:\n",
            "    https://scikit-learn.org/stable/modules/preprocessing.html\n",
            "Please also refer to the documentation for alternative solver options:\n",
            "    https://scikit-learn.org/stable/modules/linear_model.html#logistic-regression\n",
            "  extra_warning_msg=_LOGISTIC_SOLVER_CONVERGENCE_MSG,\n",
            "/usr/local/lib/python3.7/dist-packages/sklearn/linear_model/_logistic.py:818: ConvergenceWarning: lbfgs failed to converge (status=1):\n",
            "STOP: TOTAL NO. of ITERATIONS REACHED LIMIT.\n",
            "\n",
            "Increase the number of iterations (max_iter) or scale the data as shown in:\n",
            "    https://scikit-learn.org/stable/modules/preprocessing.html\n",
            "Please also refer to the documentation for alternative solver options:\n",
            "    https://scikit-learn.org/stable/modules/linear_model.html#logistic-regression\n",
            "  extra_warning_msg=_LOGISTIC_SOLVER_CONVERGENCE_MSG,\n",
            "/usr/local/lib/python3.7/dist-packages/sklearn/linear_model/_logistic.py:818: ConvergenceWarning: lbfgs failed to converge (status=1):\n",
            "STOP: TOTAL NO. of ITERATIONS REACHED LIMIT.\n",
            "\n",
            "Increase the number of iterations (max_iter) or scale the data as shown in:\n",
            "    https://scikit-learn.org/stable/modules/preprocessing.html\n",
            "Please also refer to the documentation for alternative solver options:\n",
            "    https://scikit-learn.org/stable/modules/linear_model.html#logistic-regression\n",
            "  extra_warning_msg=_LOGISTIC_SOLVER_CONVERGENCE_MSG,\n",
            "/usr/local/lib/python3.7/dist-packages/sklearn/linear_model/_logistic.py:818: ConvergenceWarning: lbfgs failed to converge (status=1):\n",
            "STOP: TOTAL NO. of ITERATIONS REACHED LIMIT.\n",
            "\n",
            "Increase the number of iterations (max_iter) or scale the data as shown in:\n",
            "    https://scikit-learn.org/stable/modules/preprocessing.html\n",
            "Please also refer to the documentation for alternative solver options:\n",
            "    https://scikit-learn.org/stable/modules/linear_model.html#logistic-regression\n",
            "  extra_warning_msg=_LOGISTIC_SOLVER_CONVERGENCE_MSG,\n",
            "/usr/local/lib/python3.7/dist-packages/sklearn/linear_model/_logistic.py:818: ConvergenceWarning: lbfgs failed to converge (status=1):\n",
            "STOP: TOTAL NO. of ITERATIONS REACHED LIMIT.\n",
            "\n",
            "Increase the number of iterations (max_iter) or scale the data as shown in:\n",
            "    https://scikit-learn.org/stable/modules/preprocessing.html\n",
            "Please also refer to the documentation for alternative solver options:\n",
            "    https://scikit-learn.org/stable/modules/linear_model.html#logistic-regression\n",
            "  extra_warning_msg=_LOGISTIC_SOLVER_CONVERGENCE_MSG,\n",
            "/usr/local/lib/python3.7/dist-packages/sklearn/linear_model/_logistic.py:818: ConvergenceWarning: lbfgs failed to converge (status=1):\n",
            "STOP: TOTAL NO. of ITERATIONS REACHED LIMIT.\n",
            "\n",
            "Increase the number of iterations (max_iter) or scale the data as shown in:\n",
            "    https://scikit-learn.org/stable/modules/preprocessing.html\n",
            "Please also refer to the documentation for alternative solver options:\n",
            "    https://scikit-learn.org/stable/modules/linear_model.html#logistic-regression\n",
            "  extra_warning_msg=_LOGISTIC_SOLVER_CONVERGENCE_MSG,\n",
            "/usr/local/lib/python3.7/dist-packages/sklearn/linear_model/_logistic.py:818: ConvergenceWarning: lbfgs failed to converge (status=1):\n",
            "STOP: TOTAL NO. of ITERATIONS REACHED LIMIT.\n",
            "\n",
            "Increase the number of iterations (max_iter) or scale the data as shown in:\n",
            "    https://scikit-learn.org/stable/modules/preprocessing.html\n",
            "Please also refer to the documentation for alternative solver options:\n",
            "    https://scikit-learn.org/stable/modules/linear_model.html#logistic-regression\n",
            "  extra_warning_msg=_LOGISTIC_SOLVER_CONVERGENCE_MSG,\n",
            "/usr/local/lib/python3.7/dist-packages/sklearn/linear_model/_logistic.py:818: ConvergenceWarning: lbfgs failed to converge (status=1):\n",
            "STOP: TOTAL NO. of ITERATIONS REACHED LIMIT.\n",
            "\n",
            "Increase the number of iterations (max_iter) or scale the data as shown in:\n",
            "    https://scikit-learn.org/stable/modules/preprocessing.html\n",
            "Please also refer to the documentation for alternative solver options:\n",
            "    https://scikit-learn.org/stable/modules/linear_model.html#logistic-regression\n",
            "  extra_warning_msg=_LOGISTIC_SOLVER_CONVERGENCE_MSG,\n",
            "/usr/local/lib/python3.7/dist-packages/sklearn/linear_model/_logistic.py:818: ConvergenceWarning: lbfgs failed to converge (status=1):\n",
            "STOP: TOTAL NO. of ITERATIONS REACHED LIMIT.\n",
            "\n",
            "Increase the number of iterations (max_iter) or scale the data as shown in:\n",
            "    https://scikit-learn.org/stable/modules/preprocessing.html\n",
            "Please also refer to the documentation for alternative solver options:\n",
            "    https://scikit-learn.org/stable/modules/linear_model.html#logistic-regression\n",
            "  extra_warning_msg=_LOGISTIC_SOLVER_CONVERGENCE_MSG,\n",
            "/usr/local/lib/python3.7/dist-packages/sklearn/linear_model/_logistic.py:818: ConvergenceWarning: lbfgs failed to converge (status=1):\n",
            "STOP: TOTAL NO. of ITERATIONS REACHED LIMIT.\n",
            "\n",
            "Increase the number of iterations (max_iter) or scale the data as shown in:\n",
            "    https://scikit-learn.org/stable/modules/preprocessing.html\n",
            "Please also refer to the documentation for alternative solver options:\n",
            "    https://scikit-learn.org/stable/modules/linear_model.html#logistic-regression\n",
            "  extra_warning_msg=_LOGISTIC_SOLVER_CONVERGENCE_MSG,\n",
            "/usr/local/lib/python3.7/dist-packages/sklearn/linear_model/_logistic.py:818: ConvergenceWarning: lbfgs failed to converge (status=1):\n",
            "STOP: TOTAL NO. of ITERATIONS REACHED LIMIT.\n",
            "\n",
            "Increase the number of iterations (max_iter) or scale the data as shown in:\n",
            "    https://scikit-learn.org/stable/modules/preprocessing.html\n",
            "Please also refer to the documentation for alternative solver options:\n",
            "    https://scikit-learn.org/stable/modules/linear_model.html#logistic-regression\n",
            "  extra_warning_msg=_LOGISTIC_SOLVER_CONVERGENCE_MSG,\n",
            "/usr/local/lib/python3.7/dist-packages/sklearn/linear_model/_logistic.py:818: ConvergenceWarning: lbfgs failed to converge (status=1):\n",
            "STOP: TOTAL NO. of ITERATIONS REACHED LIMIT.\n",
            "\n",
            "Increase the number of iterations (max_iter) or scale the data as shown in:\n",
            "    https://scikit-learn.org/stable/modules/preprocessing.html\n",
            "Please also refer to the documentation for alternative solver options:\n",
            "    https://scikit-learn.org/stable/modules/linear_model.html#logistic-regression\n",
            "  extra_warning_msg=_LOGISTIC_SOLVER_CONVERGENCE_MSG,\n",
            "/usr/local/lib/python3.7/dist-packages/sklearn/linear_model/_logistic.py:818: ConvergenceWarning: lbfgs failed to converge (status=1):\n",
            "STOP: TOTAL NO. of ITERATIONS REACHED LIMIT.\n",
            "\n",
            "Increase the number of iterations (max_iter) or scale the data as shown in:\n",
            "    https://scikit-learn.org/stable/modules/preprocessing.html\n",
            "Please also refer to the documentation for alternative solver options:\n",
            "    https://scikit-learn.org/stable/modules/linear_model.html#logistic-regression\n",
            "  extra_warning_msg=_LOGISTIC_SOLVER_CONVERGENCE_MSG,\n",
            "/usr/local/lib/python3.7/dist-packages/sklearn/linear_model/_logistic.py:818: ConvergenceWarning: lbfgs failed to converge (status=1):\n",
            "STOP: TOTAL NO. of ITERATIONS REACHED LIMIT.\n",
            "\n",
            "Increase the number of iterations (max_iter) or scale the data as shown in:\n",
            "    https://scikit-learn.org/stable/modules/preprocessing.html\n",
            "Please also refer to the documentation for alternative solver options:\n",
            "    https://scikit-learn.org/stable/modules/linear_model.html#logistic-regression\n",
            "  extra_warning_msg=_LOGISTIC_SOLVER_CONVERGENCE_MSG,\n",
            "/usr/local/lib/python3.7/dist-packages/sklearn/linear_model/_logistic.py:818: ConvergenceWarning: lbfgs failed to converge (status=1):\n",
            "STOP: TOTAL NO. of ITERATIONS REACHED LIMIT.\n",
            "\n",
            "Increase the number of iterations (max_iter) or scale the data as shown in:\n",
            "    https://scikit-learn.org/stable/modules/preprocessing.html\n",
            "Please also refer to the documentation for alternative solver options:\n",
            "    https://scikit-learn.org/stable/modules/linear_model.html#logistic-regression\n",
            "  extra_warning_msg=_LOGISTIC_SOLVER_CONVERGENCE_MSG,\n",
            "/usr/local/lib/python3.7/dist-packages/sklearn/linear_model/_logistic.py:818: ConvergenceWarning: lbfgs failed to converge (status=1):\n",
            "STOP: TOTAL NO. of ITERATIONS REACHED LIMIT.\n",
            "\n",
            "Increase the number of iterations (max_iter) or scale the data as shown in:\n",
            "    https://scikit-learn.org/stable/modules/preprocessing.html\n",
            "Please also refer to the documentation for alternative solver options:\n",
            "    https://scikit-learn.org/stable/modules/linear_model.html#logistic-regression\n",
            "  extra_warning_msg=_LOGISTIC_SOLVER_CONVERGENCE_MSG,\n",
            "/usr/local/lib/python3.7/dist-packages/sklearn/linear_model/_logistic.py:818: ConvergenceWarning: lbfgs failed to converge (status=1):\n",
            "STOP: TOTAL NO. of ITERATIONS REACHED LIMIT.\n",
            "\n",
            "Increase the number of iterations (max_iter) or scale the data as shown in:\n",
            "    https://scikit-learn.org/stable/modules/preprocessing.html\n",
            "Please also refer to the documentation for alternative solver options:\n",
            "    https://scikit-learn.org/stable/modules/linear_model.html#logistic-regression\n",
            "  extra_warning_msg=_LOGISTIC_SOLVER_CONVERGENCE_MSG,\n",
            "/usr/local/lib/python3.7/dist-packages/sklearn/linear_model/_logistic.py:818: ConvergenceWarning: lbfgs failed to converge (status=1):\n",
            "STOP: TOTAL NO. of ITERATIONS REACHED LIMIT.\n",
            "\n",
            "Increase the number of iterations (max_iter) or scale the data as shown in:\n",
            "    https://scikit-learn.org/stable/modules/preprocessing.html\n",
            "Please also refer to the documentation for alternative solver options:\n",
            "    https://scikit-learn.org/stable/modules/linear_model.html#logistic-regression\n",
            "  extra_warning_msg=_LOGISTIC_SOLVER_CONVERGENCE_MSG,\n",
            "/usr/local/lib/python3.7/dist-packages/sklearn/linear_model/_logistic.py:818: ConvergenceWarning: lbfgs failed to converge (status=1):\n",
            "STOP: TOTAL NO. of ITERATIONS REACHED LIMIT.\n",
            "\n",
            "Increase the number of iterations (max_iter) or scale the data as shown in:\n",
            "    https://scikit-learn.org/stable/modules/preprocessing.html\n",
            "Please also refer to the documentation for alternative solver options:\n",
            "    https://scikit-learn.org/stable/modules/linear_model.html#logistic-regression\n",
            "  extra_warning_msg=_LOGISTIC_SOLVER_CONVERGENCE_MSG,\n",
            "/usr/local/lib/python3.7/dist-packages/sklearn/linear_model/_logistic.py:818: ConvergenceWarning: lbfgs failed to converge (status=1):\n",
            "STOP: TOTAL NO. of ITERATIONS REACHED LIMIT.\n",
            "\n",
            "Increase the number of iterations (max_iter) or scale the data as shown in:\n",
            "    https://scikit-learn.org/stable/modules/preprocessing.html\n",
            "Please also refer to the documentation for alternative solver options:\n",
            "    https://scikit-learn.org/stable/modules/linear_model.html#logistic-regression\n",
            "  extra_warning_msg=_LOGISTIC_SOLVER_CONVERGENCE_MSG,\n",
            "/usr/local/lib/python3.7/dist-packages/sklearn/linear_model/_logistic.py:818: ConvergenceWarning: lbfgs failed to converge (status=1):\n",
            "STOP: TOTAL NO. of ITERATIONS REACHED LIMIT.\n",
            "\n",
            "Increase the number of iterations (max_iter) or scale the data as shown in:\n",
            "    https://scikit-learn.org/stable/modules/preprocessing.html\n",
            "Please also refer to the documentation for alternative solver options:\n",
            "    https://scikit-learn.org/stable/modules/linear_model.html#logistic-regression\n",
            "  extra_warning_msg=_LOGISTIC_SOLVER_CONVERGENCE_MSG,\n",
            "/usr/local/lib/python3.7/dist-packages/sklearn/linear_model/_logistic.py:818: ConvergenceWarning: lbfgs failed to converge (status=1):\n",
            "STOP: TOTAL NO. of ITERATIONS REACHED LIMIT.\n",
            "\n",
            "Increase the number of iterations (max_iter) or scale the data as shown in:\n",
            "    https://scikit-learn.org/stable/modules/preprocessing.html\n",
            "Please also refer to the documentation for alternative solver options:\n",
            "    https://scikit-learn.org/stable/modules/linear_model.html#logistic-regression\n",
            "  extra_warning_msg=_LOGISTIC_SOLVER_CONVERGENCE_MSG,\n",
            "/usr/local/lib/python3.7/dist-packages/sklearn/linear_model/_logistic.py:818: ConvergenceWarning: lbfgs failed to converge (status=1):\n",
            "STOP: TOTAL NO. of ITERATIONS REACHED LIMIT.\n",
            "\n",
            "Increase the number of iterations (max_iter) or scale the data as shown in:\n",
            "    https://scikit-learn.org/stable/modules/preprocessing.html\n",
            "Please also refer to the documentation for alternative solver options:\n",
            "    https://scikit-learn.org/stable/modules/linear_model.html#logistic-regression\n",
            "  extra_warning_msg=_LOGISTIC_SOLVER_CONVERGENCE_MSG,\n",
            "/usr/local/lib/python3.7/dist-packages/sklearn/linear_model/_logistic.py:818: ConvergenceWarning: lbfgs failed to converge (status=1):\n",
            "STOP: TOTAL NO. of ITERATIONS REACHED LIMIT.\n",
            "\n",
            "Increase the number of iterations (max_iter) or scale the data as shown in:\n",
            "    https://scikit-learn.org/stable/modules/preprocessing.html\n",
            "Please also refer to the documentation for alternative solver options:\n",
            "    https://scikit-learn.org/stable/modules/linear_model.html#logistic-regression\n",
            "  extra_warning_msg=_LOGISTIC_SOLVER_CONVERGENCE_MSG,\n",
            "/usr/local/lib/python3.7/dist-packages/sklearn/linear_model/_logistic.py:818: ConvergenceWarning: lbfgs failed to converge (status=1):\n",
            "STOP: TOTAL NO. of ITERATIONS REACHED LIMIT.\n",
            "\n",
            "Increase the number of iterations (max_iter) or scale the data as shown in:\n",
            "    https://scikit-learn.org/stable/modules/preprocessing.html\n",
            "Please also refer to the documentation for alternative solver options:\n",
            "    https://scikit-learn.org/stable/modules/linear_model.html#logistic-regression\n",
            "  extra_warning_msg=_LOGISTIC_SOLVER_CONVERGENCE_MSG,\n",
            "/usr/local/lib/python3.7/dist-packages/sklearn/linear_model/_logistic.py:818: ConvergenceWarning: lbfgs failed to converge (status=1):\n",
            "STOP: TOTAL NO. of ITERATIONS REACHED LIMIT.\n",
            "\n",
            "Increase the number of iterations (max_iter) or scale the data as shown in:\n",
            "    https://scikit-learn.org/stable/modules/preprocessing.html\n",
            "Please also refer to the documentation for alternative solver options:\n",
            "    https://scikit-learn.org/stable/modules/linear_model.html#logistic-regression\n",
            "  extra_warning_msg=_LOGISTIC_SOLVER_CONVERGENCE_MSG,\n",
            "/usr/local/lib/python3.7/dist-packages/sklearn/linear_model/_logistic.py:818: ConvergenceWarning: lbfgs failed to converge (status=1):\n",
            "STOP: TOTAL NO. of ITERATIONS REACHED LIMIT.\n",
            "\n",
            "Increase the number of iterations (max_iter) or scale the data as shown in:\n",
            "    https://scikit-learn.org/stable/modules/preprocessing.html\n",
            "Please also refer to the documentation for alternative solver options:\n",
            "    https://scikit-learn.org/stable/modules/linear_model.html#logistic-regression\n",
            "  extra_warning_msg=_LOGISTIC_SOLVER_CONVERGENCE_MSG,\n",
            "/usr/local/lib/python3.7/dist-packages/sklearn/linear_model/_logistic.py:818: ConvergenceWarning: lbfgs failed to converge (status=1):\n",
            "STOP: TOTAL NO. of ITERATIONS REACHED LIMIT.\n",
            "\n",
            "Increase the number of iterations (max_iter) or scale the data as shown in:\n",
            "    https://scikit-learn.org/stable/modules/preprocessing.html\n",
            "Please also refer to the documentation for alternative solver options:\n",
            "    https://scikit-learn.org/stable/modules/linear_model.html#logistic-regression\n",
            "  extra_warning_msg=_LOGISTIC_SOLVER_CONVERGENCE_MSG,\n",
            "/usr/local/lib/python3.7/dist-packages/sklearn/linear_model/_logistic.py:818: ConvergenceWarning: lbfgs failed to converge (status=1):\n",
            "STOP: TOTAL NO. of ITERATIONS REACHED LIMIT.\n",
            "\n",
            "Increase the number of iterations (max_iter) or scale the data as shown in:\n",
            "    https://scikit-learn.org/stable/modules/preprocessing.html\n",
            "Please also refer to the documentation for alternative solver options:\n",
            "    https://scikit-learn.org/stable/modules/linear_model.html#logistic-regression\n",
            "  extra_warning_msg=_LOGISTIC_SOLVER_CONVERGENCE_MSG,\n",
            "/usr/local/lib/python3.7/dist-packages/sklearn/linear_model/_logistic.py:818: ConvergenceWarning: lbfgs failed to converge (status=1):\n",
            "STOP: TOTAL NO. of ITERATIONS REACHED LIMIT.\n",
            "\n",
            "Increase the number of iterations (max_iter) or scale the data as shown in:\n",
            "    https://scikit-learn.org/stable/modules/preprocessing.html\n",
            "Please also refer to the documentation for alternative solver options:\n",
            "    https://scikit-learn.org/stable/modules/linear_model.html#logistic-regression\n",
            "  extra_warning_msg=_LOGISTIC_SOLVER_CONVERGENCE_MSG,\n",
            "/usr/local/lib/python3.7/dist-packages/sklearn/linear_model/_logistic.py:818: ConvergenceWarning: lbfgs failed to converge (status=1):\n",
            "STOP: TOTAL NO. of ITERATIONS REACHED LIMIT.\n",
            "\n",
            "Increase the number of iterations (max_iter) or scale the data as shown in:\n",
            "    https://scikit-learn.org/stable/modules/preprocessing.html\n",
            "Please also refer to the documentation for alternative solver options:\n",
            "    https://scikit-learn.org/stable/modules/linear_model.html#logistic-regression\n",
            "  extra_warning_msg=_LOGISTIC_SOLVER_CONVERGENCE_MSG,\n",
            "/usr/local/lib/python3.7/dist-packages/sklearn/linear_model/_logistic.py:818: ConvergenceWarning: lbfgs failed to converge (status=1):\n",
            "STOP: TOTAL NO. of ITERATIONS REACHED LIMIT.\n",
            "\n",
            "Increase the number of iterations (max_iter) or scale the data as shown in:\n",
            "    https://scikit-learn.org/stable/modules/preprocessing.html\n",
            "Please also refer to the documentation for alternative solver options:\n",
            "    https://scikit-learn.org/stable/modules/linear_model.html#logistic-regression\n",
            "  extra_warning_msg=_LOGISTIC_SOLVER_CONVERGENCE_MSG,\n",
            "/usr/local/lib/python3.7/dist-packages/sklearn/linear_model/_logistic.py:818: ConvergenceWarning: lbfgs failed to converge (status=1):\n",
            "STOP: TOTAL NO. of ITERATIONS REACHED LIMIT.\n",
            "\n",
            "Increase the number of iterations (max_iter) or scale the data as shown in:\n",
            "    https://scikit-learn.org/stable/modules/preprocessing.html\n",
            "Please also refer to the documentation for alternative solver options:\n",
            "    https://scikit-learn.org/stable/modules/linear_model.html#logistic-regression\n",
            "  extra_warning_msg=_LOGISTIC_SOLVER_CONVERGENCE_MSG,\n",
            "/usr/local/lib/python3.7/dist-packages/sklearn/linear_model/_logistic.py:818: ConvergenceWarning: lbfgs failed to converge (status=1):\n",
            "STOP: TOTAL NO. of ITERATIONS REACHED LIMIT.\n",
            "\n",
            "Increase the number of iterations (max_iter) or scale the data as shown in:\n",
            "    https://scikit-learn.org/stable/modules/preprocessing.html\n",
            "Please also refer to the documentation for alternative solver options:\n",
            "    https://scikit-learn.org/stable/modules/linear_model.html#logistic-regression\n",
            "  extra_warning_msg=_LOGISTIC_SOLVER_CONVERGENCE_MSG,\n",
            "/usr/local/lib/python3.7/dist-packages/sklearn/linear_model/_logistic.py:818: ConvergenceWarning: lbfgs failed to converge (status=1):\n",
            "STOP: TOTAL NO. of ITERATIONS REACHED LIMIT.\n",
            "\n",
            "Increase the number of iterations (max_iter) or scale the data as shown in:\n",
            "    https://scikit-learn.org/stable/modules/preprocessing.html\n",
            "Please also refer to the documentation for alternative solver options:\n",
            "    https://scikit-learn.org/stable/modules/linear_model.html#logistic-regression\n",
            "  extra_warning_msg=_LOGISTIC_SOLVER_CONVERGENCE_MSG,\n",
            "/usr/local/lib/python3.7/dist-packages/sklearn/linear_model/_logistic.py:818: ConvergenceWarning: lbfgs failed to converge (status=1):\n",
            "STOP: TOTAL NO. of ITERATIONS REACHED LIMIT.\n",
            "\n",
            "Increase the number of iterations (max_iter) or scale the data as shown in:\n",
            "    https://scikit-learn.org/stable/modules/preprocessing.html\n",
            "Please also refer to the documentation for alternative solver options:\n",
            "    https://scikit-learn.org/stable/modules/linear_model.html#logistic-regression\n",
            "  extra_warning_msg=_LOGISTIC_SOLVER_CONVERGENCE_MSG,\n",
            "/usr/local/lib/python3.7/dist-packages/sklearn/linear_model/_logistic.py:818: ConvergenceWarning: lbfgs failed to converge (status=1):\n",
            "STOP: TOTAL NO. of ITERATIONS REACHED LIMIT.\n",
            "\n",
            "Increase the number of iterations (max_iter) or scale the data as shown in:\n",
            "    https://scikit-learn.org/stable/modules/preprocessing.html\n",
            "Please also refer to the documentation for alternative solver options:\n",
            "    https://scikit-learn.org/stable/modules/linear_model.html#logistic-regression\n",
            "  extra_warning_msg=_LOGISTIC_SOLVER_CONVERGENCE_MSG,\n",
            "/usr/local/lib/python3.7/dist-packages/sklearn/linear_model/_logistic.py:818: ConvergenceWarning: lbfgs failed to converge (status=1):\n",
            "STOP: TOTAL NO. of ITERATIONS REACHED LIMIT.\n",
            "\n",
            "Increase the number of iterations (max_iter) or scale the data as shown in:\n",
            "    https://scikit-learn.org/stable/modules/preprocessing.html\n",
            "Please also refer to the documentation for alternative solver options:\n",
            "    https://scikit-learn.org/stable/modules/linear_model.html#logistic-regression\n",
            "  extra_warning_msg=_LOGISTIC_SOLVER_CONVERGENCE_MSG,\n",
            "/usr/local/lib/python3.7/dist-packages/sklearn/linear_model/_logistic.py:818: ConvergenceWarning: lbfgs failed to converge (status=1):\n",
            "STOP: TOTAL NO. of ITERATIONS REACHED LIMIT.\n",
            "\n",
            "Increase the number of iterations (max_iter) or scale the data as shown in:\n",
            "    https://scikit-learn.org/stable/modules/preprocessing.html\n",
            "Please also refer to the documentation for alternative solver options:\n",
            "    https://scikit-learn.org/stable/modules/linear_model.html#logistic-regression\n",
            "  extra_warning_msg=_LOGISTIC_SOLVER_CONVERGENCE_MSG,\n",
            "/usr/local/lib/python3.7/dist-packages/sklearn/linear_model/_logistic.py:818: ConvergenceWarning: lbfgs failed to converge (status=1):\n",
            "STOP: TOTAL NO. of ITERATIONS REACHED LIMIT.\n",
            "\n",
            "Increase the number of iterations (max_iter) or scale the data as shown in:\n",
            "    https://scikit-learn.org/stable/modules/preprocessing.html\n",
            "Please also refer to the documentation for alternative solver options:\n",
            "    https://scikit-learn.org/stable/modules/linear_model.html#logistic-regression\n",
            "  extra_warning_msg=_LOGISTIC_SOLVER_CONVERGENCE_MSG,\n",
            "/usr/local/lib/python3.7/dist-packages/sklearn/linear_model/_logistic.py:818: ConvergenceWarning: lbfgs failed to converge (status=1):\n",
            "STOP: TOTAL NO. of ITERATIONS REACHED LIMIT.\n",
            "\n",
            "Increase the number of iterations (max_iter) or scale the data as shown in:\n",
            "    https://scikit-learn.org/stable/modules/preprocessing.html\n",
            "Please also refer to the documentation for alternative solver options:\n",
            "    https://scikit-learn.org/stable/modules/linear_model.html#logistic-regression\n",
            "  extra_warning_msg=_LOGISTIC_SOLVER_CONVERGENCE_MSG,\n",
            "/usr/local/lib/python3.7/dist-packages/sklearn/linear_model/_logistic.py:818: ConvergenceWarning: lbfgs failed to converge (status=1):\n",
            "STOP: TOTAL NO. of ITERATIONS REACHED LIMIT.\n",
            "\n",
            "Increase the number of iterations (max_iter) or scale the data as shown in:\n",
            "    https://scikit-learn.org/stable/modules/preprocessing.html\n",
            "Please also refer to the documentation for alternative solver options:\n",
            "    https://scikit-learn.org/stable/modules/linear_model.html#logistic-regression\n",
            "  extra_warning_msg=_LOGISTIC_SOLVER_CONVERGENCE_MSG,\n",
            "/usr/local/lib/python3.7/dist-packages/sklearn/linear_model/_logistic.py:818: ConvergenceWarning: lbfgs failed to converge (status=1):\n",
            "STOP: TOTAL NO. of ITERATIONS REACHED LIMIT.\n",
            "\n",
            "Increase the number of iterations (max_iter) or scale the data as shown in:\n",
            "    https://scikit-learn.org/stable/modules/preprocessing.html\n",
            "Please also refer to the documentation for alternative solver options:\n",
            "    https://scikit-learn.org/stable/modules/linear_model.html#logistic-regression\n",
            "  extra_warning_msg=_LOGISTIC_SOLVER_CONVERGENCE_MSG,\n",
            "/usr/local/lib/python3.7/dist-packages/sklearn/linear_model/_logistic.py:818: ConvergenceWarning: lbfgs failed to converge (status=1):\n",
            "STOP: TOTAL NO. of ITERATIONS REACHED LIMIT.\n",
            "\n",
            "Increase the number of iterations (max_iter) or scale the data as shown in:\n",
            "    https://scikit-learn.org/stable/modules/preprocessing.html\n",
            "Please also refer to the documentation for alternative solver options:\n",
            "    https://scikit-learn.org/stable/modules/linear_model.html#logistic-regression\n",
            "  extra_warning_msg=_LOGISTIC_SOLVER_CONVERGENCE_MSG,\n",
            "/usr/local/lib/python3.7/dist-packages/sklearn/linear_model/_logistic.py:818: ConvergenceWarning: lbfgs failed to converge (status=1):\n",
            "STOP: TOTAL NO. of ITERATIONS REACHED LIMIT.\n",
            "\n",
            "Increase the number of iterations (max_iter) or scale the data as shown in:\n",
            "    https://scikit-learn.org/stable/modules/preprocessing.html\n",
            "Please also refer to the documentation for alternative solver options:\n",
            "    https://scikit-learn.org/stable/modules/linear_model.html#logistic-regression\n",
            "  extra_warning_msg=_LOGISTIC_SOLVER_CONVERGENCE_MSG,\n",
            "/usr/local/lib/python3.7/dist-packages/sklearn/linear_model/_logistic.py:818: ConvergenceWarning: lbfgs failed to converge (status=1):\n",
            "STOP: TOTAL NO. of ITERATIONS REACHED LIMIT.\n",
            "\n",
            "Increase the number of iterations (max_iter) or scale the data as shown in:\n",
            "    https://scikit-learn.org/stable/modules/preprocessing.html\n",
            "Please also refer to the documentation for alternative solver options:\n",
            "    https://scikit-learn.org/stable/modules/linear_model.html#logistic-regression\n",
            "  extra_warning_msg=_LOGISTIC_SOLVER_CONVERGENCE_MSG,\n",
            "/usr/local/lib/python3.7/dist-packages/sklearn/linear_model/_logistic.py:818: ConvergenceWarning: lbfgs failed to converge (status=1):\n",
            "STOP: TOTAL NO. of ITERATIONS REACHED LIMIT.\n",
            "\n",
            "Increase the number of iterations (max_iter) or scale the data as shown in:\n",
            "    https://scikit-learn.org/stable/modules/preprocessing.html\n",
            "Please also refer to the documentation for alternative solver options:\n",
            "    https://scikit-learn.org/stable/modules/linear_model.html#logistic-regression\n",
            "  extra_warning_msg=_LOGISTIC_SOLVER_CONVERGENCE_MSG,\n"
          ]
        },
        {
          "output_type": "stream",
          "name": "stdout",
          "text": [
            "Best cross-validation score: 0.91\n",
            "Best parameters:\n",
            "{'logisticregression__C': 100, 'tfidfvectorizer__ngram_range': (1, 3)}\n"
          ]
        },
        {
          "output_type": "stream",
          "name": "stderr",
          "text": [
            "/usr/local/lib/python3.7/dist-packages/sklearn/linear_model/_logistic.py:818: ConvergenceWarning: lbfgs failed to converge (status=1):\n",
            "STOP: TOTAL NO. of ITERATIONS REACHED LIMIT.\n",
            "\n",
            "Increase the number of iterations (max_iter) or scale the data as shown in:\n",
            "    https://scikit-learn.org/stable/modules/preprocessing.html\n",
            "Please also refer to the documentation for alternative solver options:\n",
            "    https://scikit-learn.org/stable/modules/linear_model.html#logistic-regression\n",
            "  extra_warning_msg=_LOGISTIC_SOLVER_CONVERGENCE_MSG,\n"
          ]
        }
      ]
    },
    {
      "cell_type": "markdown",
      "metadata": {
        "id": "P5h1diWp5hte"
      },
      "source": [
        "**Let's compare with other models such as - MUltinomial Naive Bayes, Decision Tree Classifier, Guassian Naive Bayes, SGD Classifier, etc**"
      ]
    },
    {
      "cell_type": "code",
      "metadata": {
        "execution": {
          "iopub.status.busy": "2021-10-19T18:29:40.239523Z",
          "iopub.execute_input": "2021-10-19T18:29:40.239958Z",
          "iopub.status.idle": "2021-10-19T18:29:40.368103Z",
          "shell.execute_reply.started": "2021-10-19T18:29:40.239919Z",
          "shell.execute_reply": "2021-10-19T18:29:40.367377Z"
        },
        "trusted": true,
        "colab": {
          "base_uri": "https://localhost:8080/"
        },
        "id": "wfF-MUkH5hte",
        "outputId": "bab2f755-14a0-4d44-8b52-df85cb12391f"
      },
      "source": [
        "from sklearn.naive_bayes import MultinomialNB\n",
        "from sklearn.model_selection import cross_val_score\n",
        "scores = cross_val_score(MultinomialNB(), X_train, bangla_train_y, cv=5)\n",
        "print(\"Mean cross-validation accuracy: {:.2f}\".format(np.mean(scores)))"
      ],
      "execution_count": 46,
      "outputs": [
        {
          "output_type": "stream",
          "name": "stdout",
          "text": [
            "Mean cross-validation accuracy: 0.86\n"
          ]
        }
      ]
    },
    {
      "cell_type": "code",
      "metadata": {
        "execution": {
          "iopub.status.busy": "2021-10-19T18:29:40.369252Z",
          "iopub.execute_input": "2021-10-19T18:29:40.369659Z",
          "iopub.status.idle": "2021-10-19T18:30:23.063618Z",
          "shell.execute_reply.started": "2021-10-19T18:29:40.369621Z",
          "shell.execute_reply": "2021-10-19T18:30:23.062032Z"
        },
        "trusted": true,
        "colab": {
          "base_uri": "https://localhost:8080/"
        },
        "id": "CpTQEwPc5hte",
        "outputId": "3ae9fc27-4f0d-455d-c13a-f8464b88a2d2"
      },
      "source": [
        "from sklearn.tree import DecisionTreeClassifier\n",
        "scores = cross_val_score(DecisionTreeClassifier(), X_train, bangla_train_y, cv=5)\n",
        "print(\"Mean cross-validation accuracy: {:.2f}\".format(np.mean(scores)))"
      ],
      "execution_count": 47,
      "outputs": [
        {
          "output_type": "stream",
          "name": "stdout",
          "text": [
            "Mean cross-validation accuracy: 0.65\n"
          ]
        }
      ]
    },
    {
      "cell_type": "code",
      "metadata": {
        "execution": {
          "iopub.status.busy": "2021-10-19T18:30:23.065058Z",
          "iopub.execute_input": "2021-10-19T18:30:23.065344Z",
          "iopub.status.idle": "2021-10-19T18:30:24.782066Z",
          "shell.execute_reply.started": "2021-10-19T18:30:23.065307Z",
          "shell.execute_reply": "2021-10-19T18:30:24.781216Z"
        },
        "trusted": true,
        "id": "DAQEgcqK5htf"
      },
      "source": [
        "from sklearn.naive_bayes import GaussianNB\n",
        "from sklearn.linear_model import SGDClassifier\n",
        "from lightgbm import LGBMClassifier"
      ],
      "execution_count": 48,
      "outputs": []
    },
    {
      "cell_type": "code",
      "metadata": {
        "execution": {
          "iopub.status.busy": "2021-10-19T18:30:24.821096Z",
          "iopub.execute_input": "2021-10-19T18:30:24.821578Z",
          "iopub.status.idle": "2021-10-19T18:30:30.115762Z",
          "shell.execute_reply.started": "2021-10-19T18:30:24.821535Z",
          "shell.execute_reply": "2021-10-19T18:30:30.114909Z"
        },
        "trusted": true,
        "colab": {
          "base_uri": "https://localhost:8080/"
        },
        "id": "kQSPOeDl5htf",
        "outputId": "2be018ae-d299-435b-91ef-00e6cbebe84e"
      },
      "source": [
        "SGD=SGDClassifier()\n",
        "scores = cross_val_score(SGD, X_train, bangla_train_y, cv=5)\n",
        "print(\"Mean cross-validation accuracy: {:.2f}\".format(np.mean(scores)))"
      ],
      "execution_count": 49,
      "outputs": [
        {
          "output_type": "stream",
          "name": "stdout",
          "text": [
            "Mean cross-validation accuracy: 0.85\n"
          ]
        }
      ]
    },
    {
      "cell_type": "code",
      "metadata": {
        "execution": {
          "iopub.status.busy": "2021-10-19T18:30:30.117745Z",
          "iopub.execute_input": "2021-10-19T18:30:30.118006Z",
          "iopub.status.idle": "2021-10-19T18:31:26.810115Z",
          "shell.execute_reply.started": "2021-10-19T18:30:30.117971Z",
          "shell.execute_reply": "2021-10-19T18:31:26.809519Z"
        },
        "trusted": true,
        "colab": {
          "base_uri": "https://localhost:8080/"
        },
        "id": "HWjDm5iy5htf",
        "outputId": "b88e57b6-1af6-4604-a5db-a08770289ff2"
      },
      "source": [
        "lgbm=LGBMClassifier()\n",
        "scores = cross_val_score(lgbm, bangla_train_X, bangla_train_y, cv=5)\n",
        "print(\"Mean cross-validation accuracy: {:.2f}\".format(np.mean(scores)))"
      ],
      "execution_count": 50,
      "outputs": [
        {
          "output_type": "stream",
          "name": "stdout",
          "text": [
            "Mean cross-validation accuracy: 0.88\n"
          ]
        }
      ]
    },
    {
      "cell_type": "markdown",
      "metadata": {
        "id": "WNu_u_cH5htf"
      },
      "source": [
        "> Therefore, we can conclude that so far logistic regression provides the best training accuracy of 91% when the data is preprocessed using tf-idf vectorizer and also n_gram modeliing is used along with cross validation to find the best parameters to produce the highest accuracy. It seems that there is an inconsistency in the dimension of test data for which it is getting difficult to see the test accuracy, but I think it is possible to still get the test accuracy if more time is spent on debugging and analysing the dataset. I will try to work on this dtataset more to find the problem. Also, applying deep learning models might give much better predictions.  "
      ]
    }
  ]
}